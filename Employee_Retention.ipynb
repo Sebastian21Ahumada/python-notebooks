{
 "cells": [
  {
   "cell_type": "markdown",
   "metadata": {},
   "source": [
    "# Employee Retention ML\n",
    "\n",
    "**Author:** Sebastian Ahumada  \n",
    "**Date:** September 2023 \n",
    "\n",
    "**Description:**\n",
    "\n",
    "The objective of this notebook is to create the tables that feed the PowerBI Employee Retention Model, which can be found in the PowerBI section of this GitHub repository. The idea of the project is to segment employees from a test dataset based on certain characteristics, and then calculate for each group which variables are most important when deciding whether to leave the company."
   ]
  },
  {
   "cell_type": "markdown",
   "metadata": {},
   "source": [
    "# Import Libraries"
   ]
  },
  {
   "cell_type": "code",
   "execution_count": 1,
   "metadata": {},
   "outputs": [],
   "source": [
    "import pandas as pd"
   ]
  },
  {
   "cell_type": "markdown",
   "metadata": {},
   "source": [
    "# Read Data"
   ]
  },
  {
   "cell_type": "code",
   "execution_count": 62,
   "metadata": {},
   "outputs": [],
   "source": [
    "ws = 'C:/Users/Sebastian.Ahumada/Desktop/EvS/HR POC/'\n",
    "employee_survey_data = pd.read_csv(ws + \"employee_survey_data.csv\")\n",
    "general_data = pd.read_csv(ws + \"general_data.csv\")\n",
    "in_time = pd.read_csv(ws + \"in_time.csv\")\n",
    "manager_survey_data = pd.read_csv(ws + \"manager_survey_data.csv\")\n",
    "out_time = pd.read_csv(ws + \"out_time.csv\")\n",
    "\n",
    "## Change col names\n",
    "in_time = in_time.rename(columns={'Unnamed: 0':'EmployeeID'})\n",
    "out_time = out_time.rename(columns={'Unnamed: 0':'EmployeeID'})"
   ]
  },
  {
   "cell_type": "code",
   "execution_count": 63,
   "metadata": {},
   "outputs": [
    {
     "data": {
      "text/html": [
       "<div>\n",
       "<style scoped>\n",
       "    .dataframe tbody tr th:only-of-type {\n",
       "        vertical-align: middle;\n",
       "    }\n",
       "\n",
       "    .dataframe tbody tr th {\n",
       "        vertical-align: top;\n",
       "    }\n",
       "\n",
       "    .dataframe thead th {\n",
       "        text-align: right;\n",
       "    }\n",
       "</style>\n",
       "<table border=\"1\" class=\"dataframe\">\n",
       "  <thead>\n",
       "    <tr style=\"text-align: right;\">\n",
       "      <th></th>\n",
       "      <th>Age</th>\n",
       "      <th>Attrition</th>\n",
       "      <th>BusinessTravel</th>\n",
       "      <th>Department</th>\n",
       "      <th>DistanceFromHome</th>\n",
       "      <th>Education</th>\n",
       "      <th>EducationField</th>\n",
       "      <th>EmployeeCount</th>\n",
       "      <th>EmployeeID</th>\n",
       "      <th>Gender</th>\n",
       "      <th>JobLevel</th>\n",
       "      <th>JobRole</th>\n",
       "      <th>MaritalStatus</th>\n",
       "      <th>MonthlyIncome</th>\n",
       "      <th>NumCompaniesWorked</th>\n",
       "      <th>Over18</th>\n",
       "      <th>PercentSalaryHike</th>\n",
       "      <th>StandardHours</th>\n",
       "      <th>StockOptionLevel</th>\n",
       "      <th>TotalWorkingYears</th>\n",
       "      <th>TrainingTimesLastYear</th>\n",
       "      <th>YearsAtCompany</th>\n",
       "      <th>YearsSinceLastPromotion</th>\n",
       "      <th>YearsWithCurrManager</th>\n",
       "    </tr>\n",
       "  </thead>\n",
       "  <tbody>\n",
       "    <tr>\n",
       "      <th>0</th>\n",
       "      <td>51</td>\n",
       "      <td>No</td>\n",
       "      <td>Travel_Rarely</td>\n",
       "      <td>Sales</td>\n",
       "      <td>6</td>\n",
       "      <td>2</td>\n",
       "      <td>Life Sciences</td>\n",
       "      <td>1</td>\n",
       "      <td>1</td>\n",
       "      <td>Female</td>\n",
       "      <td>1</td>\n",
       "      <td>Healthcare Representative</td>\n",
       "      <td>Married</td>\n",
       "      <td>131160</td>\n",
       "      <td>1.0</td>\n",
       "      <td>Y</td>\n",
       "      <td>11</td>\n",
       "      <td>8</td>\n",
       "      <td>0</td>\n",
       "      <td>1.0</td>\n",
       "      <td>6</td>\n",
       "      <td>1</td>\n",
       "      <td>0</td>\n",
       "      <td>0</td>\n",
       "    </tr>\n",
       "    <tr>\n",
       "      <th>1</th>\n",
       "      <td>31</td>\n",
       "      <td>Yes</td>\n",
       "      <td>Travel_Frequently</td>\n",
       "      <td>Research &amp; Development</td>\n",
       "      <td>10</td>\n",
       "      <td>1</td>\n",
       "      <td>Life Sciences</td>\n",
       "      <td>1</td>\n",
       "      <td>2</td>\n",
       "      <td>Female</td>\n",
       "      <td>1</td>\n",
       "      <td>Research Scientist</td>\n",
       "      <td>Single</td>\n",
       "      <td>41890</td>\n",
       "      <td>0.0</td>\n",
       "      <td>Y</td>\n",
       "      <td>23</td>\n",
       "      <td>8</td>\n",
       "      <td>1</td>\n",
       "      <td>6.0</td>\n",
       "      <td>3</td>\n",
       "      <td>5</td>\n",
       "      <td>1</td>\n",
       "      <td>4</td>\n",
       "    </tr>\n",
       "    <tr>\n",
       "      <th>2</th>\n",
       "      <td>32</td>\n",
       "      <td>No</td>\n",
       "      <td>Travel_Frequently</td>\n",
       "      <td>Research &amp; Development</td>\n",
       "      <td>17</td>\n",
       "      <td>4</td>\n",
       "      <td>Other</td>\n",
       "      <td>1</td>\n",
       "      <td>3</td>\n",
       "      <td>Male</td>\n",
       "      <td>4</td>\n",
       "      <td>Sales Executive</td>\n",
       "      <td>Married</td>\n",
       "      <td>193280</td>\n",
       "      <td>1.0</td>\n",
       "      <td>Y</td>\n",
       "      <td>15</td>\n",
       "      <td>8</td>\n",
       "      <td>3</td>\n",
       "      <td>5.0</td>\n",
       "      <td>2</td>\n",
       "      <td>5</td>\n",
       "      <td>0</td>\n",
       "      <td>3</td>\n",
       "    </tr>\n",
       "    <tr>\n",
       "      <th>3</th>\n",
       "      <td>38</td>\n",
       "      <td>No</td>\n",
       "      <td>Non-Travel</td>\n",
       "      <td>Research &amp; Development</td>\n",
       "      <td>2</td>\n",
       "      <td>5</td>\n",
       "      <td>Life Sciences</td>\n",
       "      <td>1</td>\n",
       "      <td>4</td>\n",
       "      <td>Male</td>\n",
       "      <td>3</td>\n",
       "      <td>Human Resources</td>\n",
       "      <td>Married</td>\n",
       "      <td>83210</td>\n",
       "      <td>3.0</td>\n",
       "      <td>Y</td>\n",
       "      <td>11</td>\n",
       "      <td>8</td>\n",
       "      <td>3</td>\n",
       "      <td>13.0</td>\n",
       "      <td>5</td>\n",
       "      <td>8</td>\n",
       "      <td>7</td>\n",
       "      <td>5</td>\n",
       "    </tr>\n",
       "    <tr>\n",
       "      <th>4</th>\n",
       "      <td>32</td>\n",
       "      <td>No</td>\n",
       "      <td>Travel_Rarely</td>\n",
       "      <td>Research &amp; Development</td>\n",
       "      <td>10</td>\n",
       "      <td>1</td>\n",
       "      <td>Medical</td>\n",
       "      <td>1</td>\n",
       "      <td>5</td>\n",
       "      <td>Male</td>\n",
       "      <td>1</td>\n",
       "      <td>Sales Executive</td>\n",
       "      <td>Single</td>\n",
       "      <td>23420</td>\n",
       "      <td>4.0</td>\n",
       "      <td>Y</td>\n",
       "      <td>12</td>\n",
       "      <td>8</td>\n",
       "      <td>2</td>\n",
       "      <td>9.0</td>\n",
       "      <td>2</td>\n",
       "      <td>6</td>\n",
       "      <td>0</td>\n",
       "      <td>4</td>\n",
       "    </tr>\n",
       "  </tbody>\n",
       "</table>\n",
       "</div>"
      ],
      "text/plain": [
       "   Age Attrition     BusinessTravel              Department  DistanceFromHome  \\\n",
       "0   51        No      Travel_Rarely                   Sales                 6   \n",
       "1   31       Yes  Travel_Frequently  Research & Development                10   \n",
       "2   32        No  Travel_Frequently  Research & Development                17   \n",
       "3   38        No         Non-Travel  Research & Development                 2   \n",
       "4   32        No      Travel_Rarely  Research & Development                10   \n",
       "\n",
       "   Education EducationField  EmployeeCount  EmployeeID  Gender  JobLevel  \\\n",
       "0          2  Life Sciences              1           1  Female         1   \n",
       "1          1  Life Sciences              1           2  Female         1   \n",
       "2          4          Other              1           3    Male         4   \n",
       "3          5  Life Sciences              1           4    Male         3   \n",
       "4          1        Medical              1           5    Male         1   \n",
       "\n",
       "                     JobRole MaritalStatus  MonthlyIncome  NumCompaniesWorked  \\\n",
       "0  Healthcare Representative       Married         131160                 1.0   \n",
       "1         Research Scientist        Single          41890                 0.0   \n",
       "2            Sales Executive       Married         193280                 1.0   \n",
       "3            Human Resources       Married          83210                 3.0   \n",
       "4            Sales Executive        Single          23420                 4.0   \n",
       "\n",
       "  Over18  PercentSalaryHike  StandardHours  StockOptionLevel  \\\n",
       "0      Y                 11              8                 0   \n",
       "1      Y                 23              8                 1   \n",
       "2      Y                 15              8                 3   \n",
       "3      Y                 11              8                 3   \n",
       "4      Y                 12              8                 2   \n",
       "\n",
       "   TotalWorkingYears  TrainingTimesLastYear  YearsAtCompany  \\\n",
       "0                1.0                      6               1   \n",
       "1                6.0                      3               5   \n",
       "2                5.0                      2               5   \n",
       "3               13.0                      5               8   \n",
       "4                9.0                      2               6   \n",
       "\n",
       "   YearsSinceLastPromotion  YearsWithCurrManager  \n",
       "0                        0                     0  \n",
       "1                        1                     4  \n",
       "2                        0                     3  \n",
       "3                        7                     5  \n",
       "4                        0                     4  "
      ]
     },
     "execution_count": 63,
     "metadata": {},
     "output_type": "execute_result"
    }
   ],
   "source": [
    "general_data.head()"
   ]
  },
  {
   "cell_type": "markdown",
   "metadata": {},
   "source": [
    "# Create Inputs"
   ]
  },
  {
   "cell_type": "markdown",
   "metadata": {},
   "source": [
    "## Creating Avg Daily working time "
   ]
  },
  {
   "cell_type": "code",
   "execution_count": 64,
   "metadata": {},
   "outputs": [
    {
     "data": {
      "text/html": [
       "<div>\n",
       "<style scoped>\n",
       "    .dataframe tbody tr th:only-of-type {\n",
       "        vertical-align: middle;\n",
       "    }\n",
       "\n",
       "    .dataframe tbody tr th {\n",
       "        vertical-align: top;\n",
       "    }\n",
       "\n",
       "    .dataframe thead th {\n",
       "        text-align: right;\n",
       "    }\n",
       "</style>\n",
       "<table border=\"1\" class=\"dataframe\">\n",
       "  <thead>\n",
       "    <tr style=\"text-align: right;\">\n",
       "      <th></th>\n",
       "      <th>EmployeeID</th>\n",
       "      <th>AvgDailyWorkedTime</th>\n",
       "    </tr>\n",
       "  </thead>\n",
       "  <tbody>\n",
       "    <tr>\n",
       "      <th>0</th>\n",
       "      <td>1</td>\n",
       "      <td>7.373651</td>\n",
       "    </tr>\n",
       "    <tr>\n",
       "      <th>1</th>\n",
       "      <td>2</td>\n",
       "      <td>7.718969</td>\n",
       "    </tr>\n",
       "    <tr>\n",
       "      <th>2</th>\n",
       "      <td>3</td>\n",
       "      <td>7.013240</td>\n",
       "    </tr>\n",
       "    <tr>\n",
       "      <th>3</th>\n",
       "      <td>4</td>\n",
       "      <td>7.193678</td>\n",
       "    </tr>\n",
       "    <tr>\n",
       "      <th>4</th>\n",
       "      <td>5</td>\n",
       "      <td>8.006175</td>\n",
       "    </tr>\n",
       "  </tbody>\n",
       "</table>\n",
       "</div>"
      ],
      "text/plain": [
       "   EmployeeID  AvgDailyWorkedTime\n",
       "0           1            7.373651\n",
       "1           2            7.718969\n",
       "2           3            7.013240\n",
       "3           4            7.193678\n",
       "4           5            8.006175"
      ]
     },
     "execution_count": 64,
     "metadata": {},
     "output_type": "execute_result"
    }
   ],
   "source": [
    "in_time_unpivot = pd.melt(in_time, id_vars=['EmployeeID'], var_name='day', value_name='in_time')\n",
    "out_time_unpivot = pd.melt(out_time, id_vars=['EmployeeID'], var_name='day', value_name='out_time')\n",
    "in_out_time = in_time_unpivot.merge(out_time_unpivot, on=['EmployeeID', 'day'], how='left')\n",
    "in_out_time['in_time'] = pd.to_datetime(in_out_time['in_time'])\n",
    "in_out_time['out_time'] = pd.to_datetime(in_out_time['out_time'])\n",
    "in_out_time['AvgDailyWorkedTime'] = (in_out_time['out_time'] - in_out_time['in_time']).dt.total_seconds() / 3600\n",
    "average_worked_time = pd.DataFrame(in_out_time.groupby('EmployeeID')['AvgDailyWorkedTime'].mean()).reset_index()\n",
    "average_worked_time.head()"
   ]
  },
  {
   "cell_type": "markdown",
   "metadata": {},
   "source": [
    "## Joining tables"
   ]
  },
  {
   "cell_type": "code",
   "execution_count": 65,
   "metadata": {},
   "outputs": [
    {
     "data": {
      "text/html": [
       "<div>\n",
       "<style scoped>\n",
       "    .dataframe tbody tr th:only-of-type {\n",
       "        vertical-align: middle;\n",
       "    }\n",
       "\n",
       "    .dataframe tbody tr th {\n",
       "        vertical-align: top;\n",
       "    }\n",
       "\n",
       "    .dataframe thead th {\n",
       "        text-align: right;\n",
       "    }\n",
       "</style>\n",
       "<table border=\"1\" class=\"dataframe\">\n",
       "  <thead>\n",
       "    <tr style=\"text-align: right;\">\n",
       "      <th></th>\n",
       "      <th>EmployeeID</th>\n",
       "      <th>JobInvolvement</th>\n",
       "      <th>PerformanceRating</th>\n",
       "    </tr>\n",
       "  </thead>\n",
       "  <tbody>\n",
       "    <tr>\n",
       "      <th>0</th>\n",
       "      <td>1</td>\n",
       "      <td>3</td>\n",
       "      <td>3</td>\n",
       "    </tr>\n",
       "    <tr>\n",
       "      <th>1</th>\n",
       "      <td>2</td>\n",
       "      <td>2</td>\n",
       "      <td>4</td>\n",
       "    </tr>\n",
       "    <tr>\n",
       "      <th>2</th>\n",
       "      <td>3</td>\n",
       "      <td>3</td>\n",
       "      <td>3</td>\n",
       "    </tr>\n",
       "    <tr>\n",
       "      <th>3</th>\n",
       "      <td>4</td>\n",
       "      <td>2</td>\n",
       "      <td>3</td>\n",
       "    </tr>\n",
       "    <tr>\n",
       "      <th>4</th>\n",
       "      <td>5</td>\n",
       "      <td>3</td>\n",
       "      <td>3</td>\n",
       "    </tr>\n",
       "  </tbody>\n",
       "</table>\n",
       "</div>"
      ],
      "text/plain": [
       "   EmployeeID  JobInvolvement  PerformanceRating\n",
       "0           1               3                  3\n",
       "1           2               2                  4\n",
       "2           3               3                  3\n",
       "3           4               2                  3\n",
       "4           5               3                  3"
      ]
     },
     "execution_count": 65,
     "metadata": {},
     "output_type": "execute_result"
    }
   ],
   "source": [
    "manager_survey_data.head()"
   ]
  },
  {
   "cell_type": "code",
   "execution_count": 66,
   "metadata": {},
   "outputs": [
    {
     "data": {
      "text/html": [
       "<div>\n",
       "<style scoped>\n",
       "    .dataframe tbody tr th:only-of-type {\n",
       "        vertical-align: middle;\n",
       "    }\n",
       "\n",
       "    .dataframe tbody tr th {\n",
       "        vertical-align: top;\n",
       "    }\n",
       "\n",
       "    .dataframe thead th {\n",
       "        text-align: right;\n",
       "    }\n",
       "</style>\n",
       "<table border=\"1\" class=\"dataframe\">\n",
       "  <thead>\n",
       "    <tr style=\"text-align: right;\">\n",
       "      <th></th>\n",
       "      <th>Age</th>\n",
       "      <th>Attrition</th>\n",
       "      <th>BusinessTravel</th>\n",
       "      <th>Department</th>\n",
       "      <th>DistanceFromHome</th>\n",
       "      <th>Education</th>\n",
       "      <th>EducationField</th>\n",
       "      <th>EmployeeCount</th>\n",
       "      <th>EmployeeID</th>\n",
       "      <th>Gender</th>\n",
       "      <th>JobLevel</th>\n",
       "      <th>JobRole</th>\n",
       "      <th>MaritalStatus</th>\n",
       "      <th>MonthlyIncome</th>\n",
       "      <th>NumCompaniesWorked</th>\n",
       "      <th>Over18</th>\n",
       "      <th>PercentSalaryHike</th>\n",
       "      <th>StandardHours</th>\n",
       "      <th>StockOptionLevel</th>\n",
       "      <th>TotalWorkingYears</th>\n",
       "      <th>TrainingTimesLastYear</th>\n",
       "      <th>YearsAtCompany</th>\n",
       "      <th>YearsSinceLastPromotion</th>\n",
       "      <th>YearsWithCurrManager</th>\n",
       "      <th>AvgDailyWorkedTime</th>\n",
       "      <th>EnvironmentSatisfaction</th>\n",
       "      <th>JobSatisfaction</th>\n",
       "      <th>WorkLifeBalance</th>\n",
       "      <th>JobInvolvement</th>\n",
       "      <th>PerformanceRating</th>\n",
       "    </tr>\n",
       "  </thead>\n",
       "  <tbody>\n",
       "    <tr>\n",
       "      <th>0</th>\n",
       "      <td>51</td>\n",
       "      <td>No</td>\n",
       "      <td>Travel_Rarely</td>\n",
       "      <td>Sales</td>\n",
       "      <td>6</td>\n",
       "      <td>2</td>\n",
       "      <td>Life Sciences</td>\n",
       "      <td>1</td>\n",
       "      <td>1</td>\n",
       "      <td>Female</td>\n",
       "      <td>1</td>\n",
       "      <td>Healthcare Representative</td>\n",
       "      <td>Married</td>\n",
       "      <td>1577.579986</td>\n",
       "      <td>1.0</td>\n",
       "      <td>Y</td>\n",
       "      <td>11</td>\n",
       "      <td>8</td>\n",
       "      <td>0</td>\n",
       "      <td>1.0</td>\n",
       "      <td>6</td>\n",
       "      <td>1</td>\n",
       "      <td>0</td>\n",
       "      <td>0</td>\n",
       "      <td>7.373651</td>\n",
       "      <td>3.0</td>\n",
       "      <td>4.0</td>\n",
       "      <td>2.0</td>\n",
       "      <td>3</td>\n",
       "      <td>3</td>\n",
       "    </tr>\n",
       "    <tr>\n",
       "      <th>1</th>\n",
       "      <td>31</td>\n",
       "      <td>Yes</td>\n",
       "      <td>Travel_Frequently</td>\n",
       "      <td>Research &amp; Development</td>\n",
       "      <td>10</td>\n",
       "      <td>1</td>\n",
       "      <td>Life Sciences</td>\n",
       "      <td>1</td>\n",
       "      <td>2</td>\n",
       "      <td>Female</td>\n",
       "      <td>1</td>\n",
       "      <td>Research Scientist</td>\n",
       "      <td>Single</td>\n",
       "      <td>503.848930</td>\n",
       "      <td>0.0</td>\n",
       "      <td>Y</td>\n",
       "      <td>23</td>\n",
       "      <td>8</td>\n",
       "      <td>1</td>\n",
       "      <td>6.0</td>\n",
       "      <td>3</td>\n",
       "      <td>5</td>\n",
       "      <td>1</td>\n",
       "      <td>4</td>\n",
       "      <td>7.718969</td>\n",
       "      <td>3.0</td>\n",
       "      <td>2.0</td>\n",
       "      <td>4.0</td>\n",
       "      <td>2</td>\n",
       "      <td>4</td>\n",
       "    </tr>\n",
       "    <tr>\n",
       "      <th>2</th>\n",
       "      <td>32</td>\n",
       "      <td>No</td>\n",
       "      <td>Travel_Frequently</td>\n",
       "      <td>Research &amp; Development</td>\n",
       "      <td>17</td>\n",
       "      <td>4</td>\n",
       "      <td>Other</td>\n",
       "      <td>1</td>\n",
       "      <td>3</td>\n",
       "      <td>Male</td>\n",
       "      <td>4</td>\n",
       "      <td>Sales Executive</td>\n",
       "      <td>Married</td>\n",
       "      <td>2324.753428</td>\n",
       "      <td>1.0</td>\n",
       "      <td>Y</td>\n",
       "      <td>15</td>\n",
       "      <td>8</td>\n",
       "      <td>3</td>\n",
       "      <td>5.0</td>\n",
       "      <td>2</td>\n",
       "      <td>5</td>\n",
       "      <td>0</td>\n",
       "      <td>3</td>\n",
       "      <td>7.013240</td>\n",
       "      <td>2.0</td>\n",
       "      <td>2.0</td>\n",
       "      <td>1.0</td>\n",
       "      <td>3</td>\n",
       "      <td>3</td>\n",
       "    </tr>\n",
       "    <tr>\n",
       "      <th>3</th>\n",
       "      <td>38</td>\n",
       "      <td>No</td>\n",
       "      <td>Non-Travel</td>\n",
       "      <td>Research &amp; Development</td>\n",
       "      <td>2</td>\n",
       "      <td>5</td>\n",
       "      <td>Life Sciences</td>\n",
       "      <td>1</td>\n",
       "      <td>4</td>\n",
       "      <td>Male</td>\n",
       "      <td>3</td>\n",
       "      <td>Human Resources</td>\n",
       "      <td>Married</td>\n",
       "      <td>1000.841953</td>\n",
       "      <td>3.0</td>\n",
       "      <td>Y</td>\n",
       "      <td>11</td>\n",
       "      <td>8</td>\n",
       "      <td>3</td>\n",
       "      <td>13.0</td>\n",
       "      <td>5</td>\n",
       "      <td>8</td>\n",
       "      <td>7</td>\n",
       "      <td>5</td>\n",
       "      <td>7.193678</td>\n",
       "      <td>4.0</td>\n",
       "      <td>4.0</td>\n",
       "      <td>3.0</td>\n",
       "      <td>2</td>\n",
       "      <td>3</td>\n",
       "    </tr>\n",
       "    <tr>\n",
       "      <th>4</th>\n",
       "      <td>32</td>\n",
       "      <td>No</td>\n",
       "      <td>Travel_Rarely</td>\n",
       "      <td>Research &amp; Development</td>\n",
       "      <td>10</td>\n",
       "      <td>1</td>\n",
       "      <td>Medical</td>\n",
       "      <td>1</td>\n",
       "      <td>5</td>\n",
       "      <td>Male</td>\n",
       "      <td>1</td>\n",
       "      <td>Sales Executive</td>\n",
       "      <td>Single</td>\n",
       "      <td>281.693529</td>\n",
       "      <td>4.0</td>\n",
       "      <td>Y</td>\n",
       "      <td>12</td>\n",
       "      <td>8</td>\n",
       "      <td>2</td>\n",
       "      <td>9.0</td>\n",
       "      <td>2</td>\n",
       "      <td>6</td>\n",
       "      <td>0</td>\n",
       "      <td>4</td>\n",
       "      <td>8.006175</td>\n",
       "      <td>4.0</td>\n",
       "      <td>1.0</td>\n",
       "      <td>3.0</td>\n",
       "      <td>3</td>\n",
       "      <td>3</td>\n",
       "    </tr>\n",
       "  </tbody>\n",
       "</table>\n",
       "</div>"
      ],
      "text/plain": [
       "   Age Attrition     BusinessTravel              Department  DistanceFromHome  \\\n",
       "0   51        No      Travel_Rarely                   Sales                 6   \n",
       "1   31       Yes  Travel_Frequently  Research & Development                10   \n",
       "2   32        No  Travel_Frequently  Research & Development                17   \n",
       "3   38        No         Non-Travel  Research & Development                 2   \n",
       "4   32        No      Travel_Rarely  Research & Development                10   \n",
       "\n",
       "   Education EducationField  EmployeeCount  EmployeeID  Gender  JobLevel  \\\n",
       "0          2  Life Sciences              1           1  Female         1   \n",
       "1          1  Life Sciences              1           2  Female         1   \n",
       "2          4          Other              1           3    Male         4   \n",
       "3          5  Life Sciences              1           4    Male         3   \n",
       "4          1        Medical              1           5    Male         1   \n",
       "\n",
       "                     JobRole MaritalStatus  MonthlyIncome  NumCompaniesWorked  \\\n",
       "0  Healthcare Representative       Married    1577.579986                 1.0   \n",
       "1         Research Scientist        Single     503.848930                 0.0   \n",
       "2            Sales Executive       Married    2324.753428                 1.0   \n",
       "3            Human Resources       Married    1000.841953                 3.0   \n",
       "4            Sales Executive        Single     281.693529                 4.0   \n",
       "\n",
       "  Over18  PercentSalaryHike  StandardHours  StockOptionLevel  \\\n",
       "0      Y                 11              8                 0   \n",
       "1      Y                 23              8                 1   \n",
       "2      Y                 15              8                 3   \n",
       "3      Y                 11              8                 3   \n",
       "4      Y                 12              8                 2   \n",
       "\n",
       "   TotalWorkingYears  TrainingTimesLastYear  YearsAtCompany  \\\n",
       "0                1.0                      6               1   \n",
       "1                6.0                      3               5   \n",
       "2                5.0                      2               5   \n",
       "3               13.0                      5               8   \n",
       "4                9.0                      2               6   \n",
       "\n",
       "   YearsSinceLastPromotion  YearsWithCurrManager  AvgDailyWorkedTime  \\\n",
       "0                        0                     0            7.373651   \n",
       "1                        1                     4            7.718969   \n",
       "2                        0                     3            7.013240   \n",
       "3                        7                     5            7.193678   \n",
       "4                        0                     4            8.006175   \n",
       "\n",
       "   EnvironmentSatisfaction  JobSatisfaction  WorkLifeBalance  JobInvolvement  \\\n",
       "0                      3.0              4.0              2.0               3   \n",
       "1                      3.0              2.0              4.0               2   \n",
       "2                      2.0              2.0              1.0               3   \n",
       "3                      4.0              4.0              3.0               2   \n",
       "4                      4.0              1.0              3.0               3   \n",
       "\n",
       "   PerformanceRating  \n",
       "0                  3  \n",
       "1                  4  \n",
       "2                  3  \n",
       "3                  3  \n",
       "4                  3  "
      ]
     },
     "execution_count": 66,
     "metadata": {},
     "output_type": "execute_result"
    }
   ],
   "source": [
    "df = general_data.merge(average_worked_time, on=['EmployeeID'], how='left')\n",
    "df = df.merge(employee_survey_data, on=['EmployeeID'], how='left')\n",
    "df = df.merge(manager_survey_data, on=['EmployeeID'], how='left')\n",
    "df['MonthlyIncome'] = df['MonthlyIncome'] / 83.14\n",
    "df.head()"
   ]
  },
  {
   "cell_type": "code",
   "execution_count": 67,
   "metadata": {},
   "outputs": [
    {
     "data": {
      "text/html": [
       "<div>\n",
       "<style scoped>\n",
       "    .dataframe tbody tr th:only-of-type {\n",
       "        vertical-align: middle;\n",
       "    }\n",
       "\n",
       "    .dataframe tbody tr th {\n",
       "        vertical-align: top;\n",
       "    }\n",
       "\n",
       "    .dataframe thead th {\n",
       "        text-align: right;\n",
       "    }\n",
       "</style>\n",
       "<table border=\"1\" class=\"dataframe\">\n",
       "  <thead>\n",
       "    <tr style=\"text-align: right;\">\n",
       "      <th></th>\n",
       "      <th>Age</th>\n",
       "      <th>Attrition</th>\n",
       "      <th>DistanceFromHome</th>\n",
       "      <th>Education</th>\n",
       "      <th>EmployeeCount</th>\n",
       "      <th>EmployeeID</th>\n",
       "      <th>JobLevel</th>\n",
       "      <th>MonthlyIncome</th>\n",
       "      <th>NumCompaniesWorked</th>\n",
       "      <th>PercentSalaryHike</th>\n",
       "      <th>StandardHours</th>\n",
       "      <th>StockOptionLevel</th>\n",
       "      <th>TotalWorkingYears</th>\n",
       "      <th>TrainingTimesLastYear</th>\n",
       "      <th>YearsAtCompany</th>\n",
       "      <th>YearsSinceLastPromotion</th>\n",
       "      <th>YearsWithCurrManager</th>\n",
       "      <th>AvgDailyWorkedTime</th>\n",
       "      <th>EnvironmentSatisfaction</th>\n",
       "      <th>JobSatisfaction</th>\n",
       "      <th>WorkLifeBalance</th>\n",
       "      <th>JobInvolvement</th>\n",
       "      <th>PerformanceRating</th>\n",
       "      <th>BusinessTravel_Non-Travel</th>\n",
       "      <th>BusinessTravel_Travel_Frequently</th>\n",
       "      <th>BusinessTravel_Travel_Rarely</th>\n",
       "      <th>Department_Human Resources</th>\n",
       "      <th>Department_Research &amp; Development</th>\n",
       "      <th>Department_Sales</th>\n",
       "      <th>EducationField_Human Resources</th>\n",
       "      <th>EducationField_Life Sciences</th>\n",
       "      <th>EducationField_Marketing</th>\n",
       "      <th>EducationField_Medical</th>\n",
       "      <th>EducationField_Other</th>\n",
       "      <th>EducationField_Technical Degree</th>\n",
       "      <th>Gender_Female</th>\n",
       "      <th>Gender_Male</th>\n",
       "      <th>JobRole_Healthcare Representative</th>\n",
       "      <th>JobRole_Human Resources</th>\n",
       "      <th>JobRole_Laboratory Technician</th>\n",
       "      <th>JobRole_Manager</th>\n",
       "      <th>JobRole_Manufacturing Director</th>\n",
       "      <th>JobRole_Research Director</th>\n",
       "      <th>JobRole_Research Scientist</th>\n",
       "      <th>JobRole_Sales Executive</th>\n",
       "      <th>JobRole_Sales Representative</th>\n",
       "      <th>MaritalStatus_Divorced</th>\n",
       "      <th>MaritalStatus_Married</th>\n",
       "      <th>MaritalStatus_Single</th>\n",
       "    </tr>\n",
       "  </thead>\n",
       "  <tbody>\n",
       "    <tr>\n",
       "      <th>0</th>\n",
       "      <td>51</td>\n",
       "      <td>0</td>\n",
       "      <td>6</td>\n",
       "      <td>2</td>\n",
       "      <td>1</td>\n",
       "      <td>1</td>\n",
       "      <td>1</td>\n",
       "      <td>1577.579986</td>\n",
       "      <td>1.0</td>\n",
       "      <td>11</td>\n",
       "      <td>8</td>\n",
       "      <td>0</td>\n",
       "      <td>1.0</td>\n",
       "      <td>6</td>\n",
       "      <td>1</td>\n",
       "      <td>0</td>\n",
       "      <td>0</td>\n",
       "      <td>7.373651</td>\n",
       "      <td>3.0</td>\n",
       "      <td>4.0</td>\n",
       "      <td>2.0</td>\n",
       "      <td>3</td>\n",
       "      <td>3</td>\n",
       "      <td>0</td>\n",
       "      <td>0</td>\n",
       "      <td>1</td>\n",
       "      <td>0</td>\n",
       "      <td>0</td>\n",
       "      <td>1</td>\n",
       "      <td>0</td>\n",
       "      <td>1</td>\n",
       "      <td>0</td>\n",
       "      <td>0</td>\n",
       "      <td>0</td>\n",
       "      <td>0</td>\n",
       "      <td>1</td>\n",
       "      <td>0</td>\n",
       "      <td>1</td>\n",
       "      <td>0</td>\n",
       "      <td>0</td>\n",
       "      <td>0</td>\n",
       "      <td>0</td>\n",
       "      <td>0</td>\n",
       "      <td>0</td>\n",
       "      <td>0</td>\n",
       "      <td>0</td>\n",
       "      <td>0</td>\n",
       "      <td>1</td>\n",
       "      <td>0</td>\n",
       "    </tr>\n",
       "    <tr>\n",
       "      <th>1</th>\n",
       "      <td>31</td>\n",
       "      <td>1</td>\n",
       "      <td>10</td>\n",
       "      <td>1</td>\n",
       "      <td>1</td>\n",
       "      <td>2</td>\n",
       "      <td>1</td>\n",
       "      <td>503.848930</td>\n",
       "      <td>0.0</td>\n",
       "      <td>23</td>\n",
       "      <td>8</td>\n",
       "      <td>1</td>\n",
       "      <td>6.0</td>\n",
       "      <td>3</td>\n",
       "      <td>5</td>\n",
       "      <td>1</td>\n",
       "      <td>4</td>\n",
       "      <td>7.718969</td>\n",
       "      <td>3.0</td>\n",
       "      <td>2.0</td>\n",
       "      <td>4.0</td>\n",
       "      <td>2</td>\n",
       "      <td>4</td>\n",
       "      <td>0</td>\n",
       "      <td>1</td>\n",
       "      <td>0</td>\n",
       "      <td>0</td>\n",
       "      <td>1</td>\n",
       "      <td>0</td>\n",
       "      <td>0</td>\n",
       "      <td>1</td>\n",
       "      <td>0</td>\n",
       "      <td>0</td>\n",
       "      <td>0</td>\n",
       "      <td>0</td>\n",
       "      <td>1</td>\n",
       "      <td>0</td>\n",
       "      <td>0</td>\n",
       "      <td>0</td>\n",
       "      <td>0</td>\n",
       "      <td>0</td>\n",
       "      <td>0</td>\n",
       "      <td>0</td>\n",
       "      <td>1</td>\n",
       "      <td>0</td>\n",
       "      <td>0</td>\n",
       "      <td>0</td>\n",
       "      <td>0</td>\n",
       "      <td>1</td>\n",
       "    </tr>\n",
       "    <tr>\n",
       "      <th>2</th>\n",
       "      <td>32</td>\n",
       "      <td>0</td>\n",
       "      <td>17</td>\n",
       "      <td>4</td>\n",
       "      <td>1</td>\n",
       "      <td>3</td>\n",
       "      <td>4</td>\n",
       "      <td>2324.753428</td>\n",
       "      <td>1.0</td>\n",
       "      <td>15</td>\n",
       "      <td>8</td>\n",
       "      <td>3</td>\n",
       "      <td>5.0</td>\n",
       "      <td>2</td>\n",
       "      <td>5</td>\n",
       "      <td>0</td>\n",
       "      <td>3</td>\n",
       "      <td>7.013240</td>\n",
       "      <td>2.0</td>\n",
       "      <td>2.0</td>\n",
       "      <td>1.0</td>\n",
       "      <td>3</td>\n",
       "      <td>3</td>\n",
       "      <td>0</td>\n",
       "      <td>1</td>\n",
       "      <td>0</td>\n",
       "      <td>0</td>\n",
       "      <td>1</td>\n",
       "      <td>0</td>\n",
       "      <td>0</td>\n",
       "      <td>0</td>\n",
       "      <td>0</td>\n",
       "      <td>0</td>\n",
       "      <td>1</td>\n",
       "      <td>0</td>\n",
       "      <td>0</td>\n",
       "      <td>1</td>\n",
       "      <td>0</td>\n",
       "      <td>0</td>\n",
       "      <td>0</td>\n",
       "      <td>0</td>\n",
       "      <td>0</td>\n",
       "      <td>0</td>\n",
       "      <td>0</td>\n",
       "      <td>1</td>\n",
       "      <td>0</td>\n",
       "      <td>0</td>\n",
       "      <td>1</td>\n",
       "      <td>0</td>\n",
       "    </tr>\n",
       "    <tr>\n",
       "      <th>3</th>\n",
       "      <td>38</td>\n",
       "      <td>0</td>\n",
       "      <td>2</td>\n",
       "      <td>5</td>\n",
       "      <td>1</td>\n",
       "      <td>4</td>\n",
       "      <td>3</td>\n",
       "      <td>1000.841953</td>\n",
       "      <td>3.0</td>\n",
       "      <td>11</td>\n",
       "      <td>8</td>\n",
       "      <td>3</td>\n",
       "      <td>13.0</td>\n",
       "      <td>5</td>\n",
       "      <td>8</td>\n",
       "      <td>7</td>\n",
       "      <td>5</td>\n",
       "      <td>7.193678</td>\n",
       "      <td>4.0</td>\n",
       "      <td>4.0</td>\n",
       "      <td>3.0</td>\n",
       "      <td>2</td>\n",
       "      <td>3</td>\n",
       "      <td>1</td>\n",
       "      <td>0</td>\n",
       "      <td>0</td>\n",
       "      <td>0</td>\n",
       "      <td>1</td>\n",
       "      <td>0</td>\n",
       "      <td>0</td>\n",
       "      <td>1</td>\n",
       "      <td>0</td>\n",
       "      <td>0</td>\n",
       "      <td>0</td>\n",
       "      <td>0</td>\n",
       "      <td>0</td>\n",
       "      <td>1</td>\n",
       "      <td>0</td>\n",
       "      <td>1</td>\n",
       "      <td>0</td>\n",
       "      <td>0</td>\n",
       "      <td>0</td>\n",
       "      <td>0</td>\n",
       "      <td>0</td>\n",
       "      <td>0</td>\n",
       "      <td>0</td>\n",
       "      <td>0</td>\n",
       "      <td>1</td>\n",
       "      <td>0</td>\n",
       "    </tr>\n",
       "    <tr>\n",
       "      <th>4</th>\n",
       "      <td>32</td>\n",
       "      <td>0</td>\n",
       "      <td>10</td>\n",
       "      <td>1</td>\n",
       "      <td>1</td>\n",
       "      <td>5</td>\n",
       "      <td>1</td>\n",
       "      <td>281.693529</td>\n",
       "      <td>4.0</td>\n",
       "      <td>12</td>\n",
       "      <td>8</td>\n",
       "      <td>2</td>\n",
       "      <td>9.0</td>\n",
       "      <td>2</td>\n",
       "      <td>6</td>\n",
       "      <td>0</td>\n",
       "      <td>4</td>\n",
       "      <td>8.006175</td>\n",
       "      <td>4.0</td>\n",
       "      <td>1.0</td>\n",
       "      <td>3.0</td>\n",
       "      <td>3</td>\n",
       "      <td>3</td>\n",
       "      <td>0</td>\n",
       "      <td>0</td>\n",
       "      <td>1</td>\n",
       "      <td>0</td>\n",
       "      <td>1</td>\n",
       "      <td>0</td>\n",
       "      <td>0</td>\n",
       "      <td>0</td>\n",
       "      <td>0</td>\n",
       "      <td>1</td>\n",
       "      <td>0</td>\n",
       "      <td>0</td>\n",
       "      <td>0</td>\n",
       "      <td>1</td>\n",
       "      <td>0</td>\n",
       "      <td>0</td>\n",
       "      <td>0</td>\n",
       "      <td>0</td>\n",
       "      <td>0</td>\n",
       "      <td>0</td>\n",
       "      <td>0</td>\n",
       "      <td>1</td>\n",
       "      <td>0</td>\n",
       "      <td>0</td>\n",
       "      <td>0</td>\n",
       "      <td>1</td>\n",
       "    </tr>\n",
       "  </tbody>\n",
       "</table>\n",
       "</div>"
      ],
      "text/plain": [
       "   Age  Attrition  DistanceFromHome  Education  EmployeeCount  EmployeeID  \\\n",
       "0   51          0                 6          2              1           1   \n",
       "1   31          1                10          1              1           2   \n",
       "2   32          0                17          4              1           3   \n",
       "3   38          0                 2          5              1           4   \n",
       "4   32          0                10          1              1           5   \n",
       "\n",
       "   JobLevel  MonthlyIncome  NumCompaniesWorked  PercentSalaryHike  \\\n",
       "0         1    1577.579986                 1.0                 11   \n",
       "1         1     503.848930                 0.0                 23   \n",
       "2         4    2324.753428                 1.0                 15   \n",
       "3         3    1000.841953                 3.0                 11   \n",
       "4         1     281.693529                 4.0                 12   \n",
       "\n",
       "   StandardHours  StockOptionLevel  TotalWorkingYears  TrainingTimesLastYear  \\\n",
       "0              8                 0                1.0                      6   \n",
       "1              8                 1                6.0                      3   \n",
       "2              8                 3                5.0                      2   \n",
       "3              8                 3               13.0                      5   \n",
       "4              8                 2                9.0                      2   \n",
       "\n",
       "   YearsAtCompany  YearsSinceLastPromotion  YearsWithCurrManager  \\\n",
       "0               1                        0                     0   \n",
       "1               5                        1                     4   \n",
       "2               5                        0                     3   \n",
       "3               8                        7                     5   \n",
       "4               6                        0                     4   \n",
       "\n",
       "   AvgDailyWorkedTime  EnvironmentSatisfaction  JobSatisfaction  \\\n",
       "0            7.373651                      3.0              4.0   \n",
       "1            7.718969                      3.0              2.0   \n",
       "2            7.013240                      2.0              2.0   \n",
       "3            7.193678                      4.0              4.0   \n",
       "4            8.006175                      4.0              1.0   \n",
       "\n",
       "   WorkLifeBalance  JobInvolvement  PerformanceRating  \\\n",
       "0              2.0               3                  3   \n",
       "1              4.0               2                  4   \n",
       "2              1.0               3                  3   \n",
       "3              3.0               2                  3   \n",
       "4              3.0               3                  3   \n",
       "\n",
       "   BusinessTravel_Non-Travel  BusinessTravel_Travel_Frequently  \\\n",
       "0                          0                                 0   \n",
       "1                          0                                 1   \n",
       "2                          0                                 1   \n",
       "3                          1                                 0   \n",
       "4                          0                                 0   \n",
       "\n",
       "   BusinessTravel_Travel_Rarely  Department_Human Resources  \\\n",
       "0                             1                           0   \n",
       "1                             0                           0   \n",
       "2                             0                           0   \n",
       "3                             0                           0   \n",
       "4                             1                           0   \n",
       "\n",
       "   Department_Research & Development  Department_Sales  \\\n",
       "0                                  0                 1   \n",
       "1                                  1                 0   \n",
       "2                                  1                 0   \n",
       "3                                  1                 0   \n",
       "4                                  1                 0   \n",
       "\n",
       "   EducationField_Human Resources  EducationField_Life Sciences  \\\n",
       "0                               0                             1   \n",
       "1                               0                             1   \n",
       "2                               0                             0   \n",
       "3                               0                             1   \n",
       "4                               0                             0   \n",
       "\n",
       "   EducationField_Marketing  EducationField_Medical  EducationField_Other  \\\n",
       "0                         0                       0                     0   \n",
       "1                         0                       0                     0   \n",
       "2                         0                       0                     1   \n",
       "3                         0                       0                     0   \n",
       "4                         0                       1                     0   \n",
       "\n",
       "   EducationField_Technical Degree  Gender_Female  Gender_Male  \\\n",
       "0                                0              1            0   \n",
       "1                                0              1            0   \n",
       "2                                0              0            1   \n",
       "3                                0              0            1   \n",
       "4                                0              0            1   \n",
       "\n",
       "   JobRole_Healthcare Representative  JobRole_Human Resources  \\\n",
       "0                                  1                        0   \n",
       "1                                  0                        0   \n",
       "2                                  0                        0   \n",
       "3                                  0                        1   \n",
       "4                                  0                        0   \n",
       "\n",
       "   JobRole_Laboratory Technician  JobRole_Manager  \\\n",
       "0                              0                0   \n",
       "1                              0                0   \n",
       "2                              0                0   \n",
       "3                              0                0   \n",
       "4                              0                0   \n",
       "\n",
       "   JobRole_Manufacturing Director  JobRole_Research Director  \\\n",
       "0                               0                          0   \n",
       "1                               0                          0   \n",
       "2                               0                          0   \n",
       "3                               0                          0   \n",
       "4                               0                          0   \n",
       "\n",
       "   JobRole_Research Scientist  JobRole_Sales Executive  \\\n",
       "0                           0                        0   \n",
       "1                           1                        0   \n",
       "2                           0                        1   \n",
       "3                           0                        0   \n",
       "4                           0                        1   \n",
       "\n",
       "   JobRole_Sales Representative  MaritalStatus_Divorced  \\\n",
       "0                             0                       0   \n",
       "1                             0                       0   \n",
       "2                             0                       0   \n",
       "3                             0                       0   \n",
       "4                             0                       0   \n",
       "\n",
       "   MaritalStatus_Married  MaritalStatus_Single  \n",
       "0                      1                     0  \n",
       "1                      0                     1  \n",
       "2                      1                     0  \n",
       "3                      1                     0  \n",
       "4                      0                     1  "
      ]
     },
     "execution_count": 67,
     "metadata": {},
     "output_type": "execute_result"
    }
   ],
   "source": [
    "df_input = df\n",
    "df_input['Attrition'] = df_input['Attrition'].replace({'Yes': 1, 'No': 0})\n",
    "df_input = df_input.drop('Over18', axis=1)\n",
    "categorical_columns = ['BusinessTravel', 'Department', 'EducationField', 'Gender', 'JobRole', 'MaritalStatus']\n",
    "df_input = pd.get_dummies(df_input, columns=categorical_columns)\n",
    "\n",
    "df_input.head()"
   ]
  },
  {
   "cell_type": "markdown",
   "metadata": {},
   "source": [
    "# Modelling"
   ]
  },
  {
   "cell_type": "code",
   "execution_count": 82,
   "metadata": {},
   "outputs": [],
   "source": [
    "df_input_clustering = df_input[['Age','MonthlyIncome']]"
   ]
  },
  {
   "cell_type": "markdown",
   "metadata": {},
   "source": [
    "## Clustering"
   ]
  },
  {
   "cell_type": "code",
   "execution_count": 83,
   "metadata": {},
   "outputs": [
    {
     "data": {
      "text/html": [
       "<style type=\"text/css\">\n",
       "#T_086b9_row4_col1, #T_086b9_row8_col1 {\n",
       "  background-color: lightgreen;\n",
       "}\n",
       "</style>\n",
       "<table id=\"T_086b9\">\n",
       "  <thead>\n",
       "    <tr>\n",
       "      <th class=\"blank level0\" >&nbsp;</th>\n",
       "      <th id=\"T_086b9_level0_col0\" class=\"col_heading level0 col0\" >Description</th>\n",
       "      <th id=\"T_086b9_level0_col1\" class=\"col_heading level0 col1\" >Value</th>\n",
       "    </tr>\n",
       "  </thead>\n",
       "  <tbody>\n",
       "    <tr>\n",
       "      <th id=\"T_086b9_level0_row0\" class=\"row_heading level0 row0\" >0</th>\n",
       "      <td id=\"T_086b9_row0_col0\" class=\"data row0 col0\" >Session id</td>\n",
       "      <td id=\"T_086b9_row0_col1\" class=\"data row0 col1\" >7335</td>\n",
       "    </tr>\n",
       "    <tr>\n",
       "      <th id=\"T_086b9_level0_row1\" class=\"row_heading level0 row1\" >1</th>\n",
       "      <td id=\"T_086b9_row1_col0\" class=\"data row1 col0\" >Original data shape</td>\n",
       "      <td id=\"T_086b9_row1_col1\" class=\"data row1 col1\" >(4410, 2)</td>\n",
       "    </tr>\n",
       "    <tr>\n",
       "      <th id=\"T_086b9_level0_row2\" class=\"row_heading level0 row2\" >2</th>\n",
       "      <td id=\"T_086b9_row2_col0\" class=\"data row2 col0\" >Transformed data shape</td>\n",
       "      <td id=\"T_086b9_row2_col1\" class=\"data row2 col1\" >(4410, 2)</td>\n",
       "    </tr>\n",
       "    <tr>\n",
       "      <th id=\"T_086b9_level0_row3\" class=\"row_heading level0 row3\" >3</th>\n",
       "      <td id=\"T_086b9_row3_col0\" class=\"data row3 col0\" >Numeric features</td>\n",
       "      <td id=\"T_086b9_row3_col1\" class=\"data row3 col1\" >2</td>\n",
       "    </tr>\n",
       "    <tr>\n",
       "      <th id=\"T_086b9_level0_row4\" class=\"row_heading level0 row4\" >4</th>\n",
       "      <td id=\"T_086b9_row4_col0\" class=\"data row4 col0\" >Preprocess</td>\n",
       "      <td id=\"T_086b9_row4_col1\" class=\"data row4 col1\" >True</td>\n",
       "    </tr>\n",
       "    <tr>\n",
       "      <th id=\"T_086b9_level0_row5\" class=\"row_heading level0 row5\" >5</th>\n",
       "      <td id=\"T_086b9_row5_col0\" class=\"data row5 col0\" >Imputation type</td>\n",
       "      <td id=\"T_086b9_row5_col1\" class=\"data row5 col1\" >simple</td>\n",
       "    </tr>\n",
       "    <tr>\n",
       "      <th id=\"T_086b9_level0_row6\" class=\"row_heading level0 row6\" >6</th>\n",
       "      <td id=\"T_086b9_row6_col0\" class=\"data row6 col0\" >Numeric imputation</td>\n",
       "      <td id=\"T_086b9_row6_col1\" class=\"data row6 col1\" >mean</td>\n",
       "    </tr>\n",
       "    <tr>\n",
       "      <th id=\"T_086b9_level0_row7\" class=\"row_heading level0 row7\" >7</th>\n",
       "      <td id=\"T_086b9_row7_col0\" class=\"data row7 col0\" >Categorical imputation</td>\n",
       "      <td id=\"T_086b9_row7_col1\" class=\"data row7 col1\" >mode</td>\n",
       "    </tr>\n",
       "    <tr>\n",
       "      <th id=\"T_086b9_level0_row8\" class=\"row_heading level0 row8\" >8</th>\n",
       "      <td id=\"T_086b9_row8_col0\" class=\"data row8 col0\" >Normalize</td>\n",
       "      <td id=\"T_086b9_row8_col1\" class=\"data row8 col1\" >True</td>\n",
       "    </tr>\n",
       "    <tr>\n",
       "      <th id=\"T_086b9_level0_row9\" class=\"row_heading level0 row9\" >9</th>\n",
       "      <td id=\"T_086b9_row9_col0\" class=\"data row9 col0\" >Normalize method</td>\n",
       "      <td id=\"T_086b9_row9_col1\" class=\"data row9 col1\" >zscore</td>\n",
       "    </tr>\n",
       "    <tr>\n",
       "      <th id=\"T_086b9_level0_row10\" class=\"row_heading level0 row10\" >10</th>\n",
       "      <td id=\"T_086b9_row10_col0\" class=\"data row10 col0\" >CPU Jobs</td>\n",
       "      <td id=\"T_086b9_row10_col1\" class=\"data row10 col1\" >-1</td>\n",
       "    </tr>\n",
       "    <tr>\n",
       "      <th id=\"T_086b9_level0_row11\" class=\"row_heading level0 row11\" >11</th>\n",
       "      <td id=\"T_086b9_row11_col0\" class=\"data row11 col0\" >Use GPU</td>\n",
       "      <td id=\"T_086b9_row11_col1\" class=\"data row11 col1\" >False</td>\n",
       "    </tr>\n",
       "    <tr>\n",
       "      <th id=\"T_086b9_level0_row12\" class=\"row_heading level0 row12\" >12</th>\n",
       "      <td id=\"T_086b9_row12_col0\" class=\"data row12 col0\" >Log Experiment</td>\n",
       "      <td id=\"T_086b9_row12_col1\" class=\"data row12 col1\" >False</td>\n",
       "    </tr>\n",
       "    <tr>\n",
       "      <th id=\"T_086b9_level0_row13\" class=\"row_heading level0 row13\" >13</th>\n",
       "      <td id=\"T_086b9_row13_col0\" class=\"data row13 col0\" >Experiment Name</td>\n",
       "      <td id=\"T_086b9_row13_col1\" class=\"data row13 col1\" >cluster-default-name</td>\n",
       "    </tr>\n",
       "    <tr>\n",
       "      <th id=\"T_086b9_level0_row14\" class=\"row_heading level0 row14\" >14</th>\n",
       "      <td id=\"T_086b9_row14_col0\" class=\"data row14 col0\" >USI</td>\n",
       "      <td id=\"T_086b9_row14_col1\" class=\"data row14 col1\" >9cb1</td>\n",
       "    </tr>\n",
       "  </tbody>\n",
       "</table>\n"
      ],
      "text/plain": [
       "<pandas.io.formats.style.Styler at 0x1f55bdb16a0>"
      ]
     },
     "metadata": {},
     "output_type": "display_data"
    }
   ],
   "source": [
    "from pycaret.clustering import *\n",
    "s = setup(df_input_clustering, normalize = True)"
   ]
  },
  {
   "cell_type": "code",
   "execution_count": 84,
   "metadata": {},
   "outputs": [
    {
     "data": {
      "text/html": [
       "<div>\n",
       "<style scoped>\n",
       "    .dataframe tbody tr th:only-of-type {\n",
       "        vertical-align: middle;\n",
       "    }\n",
       "\n",
       "    .dataframe tbody tr th {\n",
       "        vertical-align: top;\n",
       "    }\n",
       "\n",
       "    .dataframe thead th {\n",
       "        text-align: right;\n",
       "    }\n",
       "</style>\n",
       "<table border=\"1\" class=\"dataframe\">\n",
       "  <thead>\n",
       "    <tr style=\"text-align: right;\">\n",
       "      <th></th>\n",
       "      <th>Name</th>\n",
       "      <th>Reference</th>\n",
       "    </tr>\n",
       "    <tr>\n",
       "      <th>ID</th>\n",
       "      <th></th>\n",
       "      <th></th>\n",
       "    </tr>\n",
       "  </thead>\n",
       "  <tbody>\n",
       "    <tr>\n",
       "      <th>kmeans</th>\n",
       "      <td>K-Means Clustering</td>\n",
       "      <td>sklearn.cluster._kmeans.KMeans</td>\n",
       "    </tr>\n",
       "    <tr>\n",
       "      <th>ap</th>\n",
       "      <td>Affinity Propagation</td>\n",
       "      <td>sklearn.cluster._affinity_propagation.Affinity...</td>\n",
       "    </tr>\n",
       "    <tr>\n",
       "      <th>meanshift</th>\n",
       "      <td>Mean Shift Clustering</td>\n",
       "      <td>sklearn.cluster._mean_shift.MeanShift</td>\n",
       "    </tr>\n",
       "    <tr>\n",
       "      <th>sc</th>\n",
       "      <td>Spectral Clustering</td>\n",
       "      <td>sklearn.cluster._spectral.SpectralClustering</td>\n",
       "    </tr>\n",
       "    <tr>\n",
       "      <th>hclust</th>\n",
       "      <td>Agglomerative Clustering</td>\n",
       "      <td>sklearn.cluster._agglomerative.AgglomerativeCl...</td>\n",
       "    </tr>\n",
       "    <tr>\n",
       "      <th>dbscan</th>\n",
       "      <td>Density-Based Spatial Clustering</td>\n",
       "      <td>sklearn.cluster._dbscan.DBSCAN</td>\n",
       "    </tr>\n",
       "    <tr>\n",
       "      <th>optics</th>\n",
       "      <td>OPTICS Clustering</td>\n",
       "      <td>sklearn.cluster._optics.OPTICS</td>\n",
       "    </tr>\n",
       "    <tr>\n",
       "      <th>birch</th>\n",
       "      <td>Birch Clustering</td>\n",
       "      <td>sklearn.cluster._birch.Birch</td>\n",
       "    </tr>\n",
       "  </tbody>\n",
       "</table>\n",
       "</div>"
      ],
      "text/plain": [
       "                                       Name  \\\n",
       "ID                                            \n",
       "kmeans                   K-Means Clustering   \n",
       "ap                     Affinity Propagation   \n",
       "meanshift             Mean Shift Clustering   \n",
       "sc                      Spectral Clustering   \n",
       "hclust             Agglomerative Clustering   \n",
       "dbscan     Density-Based Spatial Clustering   \n",
       "optics                    OPTICS Clustering   \n",
       "birch                      Birch Clustering   \n",
       "\n",
       "                                                   Reference  \n",
       "ID                                                            \n",
       "kmeans                        sklearn.cluster._kmeans.KMeans  \n",
       "ap         sklearn.cluster._affinity_propagation.Affinity...  \n",
       "meanshift              sklearn.cluster._mean_shift.MeanShift  \n",
       "sc              sklearn.cluster._spectral.SpectralClustering  \n",
       "hclust     sklearn.cluster._agglomerative.AgglomerativeCl...  \n",
       "dbscan                        sklearn.cluster._dbscan.DBSCAN  \n",
       "optics                        sklearn.cluster._optics.OPTICS  \n",
       "birch                           sklearn.cluster._birch.Birch  "
      ]
     },
     "execution_count": 84,
     "metadata": {},
     "output_type": "execute_result"
    }
   ],
   "source": [
    "models()"
   ]
  },
  {
   "cell_type": "code",
   "execution_count": 85,
   "metadata": {},
   "outputs": [
    {
     "data": {
      "text/html": [],
      "text/plain": [
       "<IPython.core.display.HTML object>"
      ]
     },
     "metadata": {},
     "output_type": "display_data"
    },
    {
     "data": {
      "text/html": [
       "<style type=\"text/css\">\n",
       "</style>\n",
       "<table id=\"T_294c1\">\n",
       "  <thead>\n",
       "    <tr>\n",
       "      <th class=\"blank level0\" >&nbsp;</th>\n",
       "      <th id=\"T_294c1_level0_col0\" class=\"col_heading level0 col0\" >Silhouette</th>\n",
       "      <th id=\"T_294c1_level0_col1\" class=\"col_heading level0 col1\" >Calinski-Harabasz</th>\n",
       "      <th id=\"T_294c1_level0_col2\" class=\"col_heading level0 col2\" >Davies-Bouldin</th>\n",
       "      <th id=\"T_294c1_level0_col3\" class=\"col_heading level0 col3\" >Homogeneity</th>\n",
       "      <th id=\"T_294c1_level0_col4\" class=\"col_heading level0 col4\" >Rand Index</th>\n",
       "      <th id=\"T_294c1_level0_col5\" class=\"col_heading level0 col5\" >Completeness</th>\n",
       "    </tr>\n",
       "  </thead>\n",
       "  <tbody>\n",
       "    <tr>\n",
       "      <th id=\"T_294c1_level0_row0\" class=\"row_heading level0 row0\" >0</th>\n",
       "      <td id=\"T_294c1_row0_col0\" class=\"data row0 col0\" >0.3608</td>\n",
       "      <td id=\"T_294c1_row0_col1\" class=\"data row0 col1\" >3868.6150</td>\n",
       "      <td id=\"T_294c1_row0_col2\" class=\"data row0 col2\" >0.8814</td>\n",
       "      <td id=\"T_294c1_row0_col3\" class=\"data row0 col3\" >0</td>\n",
       "      <td id=\"T_294c1_row0_col4\" class=\"data row0 col4\" >0</td>\n",
       "      <td id=\"T_294c1_row0_col5\" class=\"data row0 col5\" >0</td>\n",
       "    </tr>\n",
       "  </tbody>\n",
       "</table>\n"
      ],
      "text/plain": [
       "<pandas.io.formats.style.Styler at 0x1f50e18ac40>"
      ]
     },
     "metadata": {},
     "output_type": "display_data"
    },
    {
     "data": {
      "text/html": [],
      "text/plain": [
       "<IPython.core.display.HTML object>"
      ]
     },
     "metadata": {},
     "output_type": "display_data"
    }
   ],
   "source": [
    "model = create_model('kmeans')"
   ]
  },
  {
   "cell_type": "code",
   "execution_count": 86,
   "metadata": {},
   "outputs": [
    {
     "data": {
      "text/html": [
       "<div>\n",
       "<style scoped>\n",
       "    .dataframe tbody tr th:only-of-type {\n",
       "        vertical-align: middle;\n",
       "    }\n",
       "\n",
       "    .dataframe tbody tr th {\n",
       "        vertical-align: top;\n",
       "    }\n",
       "\n",
       "    .dataframe thead th {\n",
       "        text-align: right;\n",
       "    }\n",
       "</style>\n",
       "<table border=\"1\" class=\"dataframe\">\n",
       "  <thead>\n",
       "    <tr style=\"text-align: right;\">\n",
       "      <th></th>\n",
       "      <th>Silhouette</th>\n",
       "      <th>Calinski-Harabasz</th>\n",
       "      <th>Davies-Bouldin</th>\n",
       "      <th>Homogeneity</th>\n",
       "      <th>Rand Index</th>\n",
       "      <th>Completeness</th>\n",
       "    </tr>\n",
       "  </thead>\n",
       "  <tbody>\n",
       "    <tr>\n",
       "      <th>0</th>\n",
       "      <td>0.3608</td>\n",
       "      <td>3868.615</td>\n",
       "      <td>0.8814</td>\n",
       "      <td>0</td>\n",
       "      <td>0</td>\n",
       "      <td>0</td>\n",
       "    </tr>\n",
       "  </tbody>\n",
       "</table>\n",
       "</div>"
      ],
      "text/plain": [
       "   Silhouette  Calinski-Harabasz  Davies-Bouldin  Homogeneity  Rand Index  \\\n",
       "0      0.3608           3868.615          0.8814            0           0   \n",
       "\n",
       "   Completeness  \n",
       "0             0  "
      ]
     },
     "execution_count": 86,
     "metadata": {},
     "output_type": "execute_result"
    }
   ],
   "source": [
    "pull()"
   ]
  },
  {
   "cell_type": "code",
   "execution_count": 87,
   "metadata": {},
   "outputs": [
    {
     "data": {
      "text/html": [],
      "text/plain": [
       "<IPython.core.display.HTML object>"
      ]
     },
     "metadata": {},
     "output_type": "display_data"
    },
    {
     "data": {
      "application/vnd.plotly.v1+json": {
       "config": {
        "plotlyServerURL": "https://plot.ly"
       },
       "data": [
        {
         "customdata": [
          [
           39
          ],
          [
           40
          ],
          [
           41
          ],
          [
           34
          ],
          [
           37
          ],
          [
           36
          ],
          [
           36
          ],
          [
           34
          ],
          [
           36
          ],
          [
           35
          ],
          [
           37
          ],
          [
           42
          ],
          [
           43
          ],
          [
           42
          ],
          [
           37
          ],
          [
           34
          ],
          [
           38
          ],
          [
           35
          ],
          [
           41
          ],
          [
           42
          ],
          [
           40
          ],
          [
           34
          ],
          [
           40
          ],
          [
           41
          ],
          [
           39
          ],
          [
           35
          ],
          [
           40
          ],
          [
           36
          ],
          [
           35
          ],
          [
           34
          ],
          [
           40
          ],
          [
           34
          ],
          [
           34
          ],
          [
           39
          ],
          [
           34
          ],
          [
           44
          ],
          [
           35
          ],
          [
           36
          ],
          [
           38
          ],
          [
           38
          ],
          [
           34
          ],
          [
           34
          ],
          [
           38
          ],
          [
           35
          ],
          [
           35
          ],
          [
           38
          ],
          [
           40
          ],
          [
           40
          ],
          [
           33
          ],
          [
           40
          ],
          [
           42
          ],
          [
           33
          ],
          [
           37
          ],
          [
           44
          ],
          [
           33
          ],
          [
           42
          ],
          [
           44
          ],
          [
           34
          ],
          [
           34
          ],
          [
           40
          ],
          [
           35
          ],
          [
           33
          ],
          [
           39
          ],
          [
           35
          ],
          [
           40
          ],
          [
           34
          ],
          [
           34
          ],
          [
           33
          ],
          [
           40
          ],
          [
           39
          ],
          [
           39
          ],
          [
           40
          ],
          [
           39
          ],
          [
           43
          ],
          [
           38
          ],
          [
           38
          ],
          [
           34
          ],
          [
           33
          ],
          [
           42
          ],
          [
           33
          ],
          [
           37
          ],
          [
           33
          ],
          [
           35
          ],
          [
           33
          ],
          [
           44
          ],
          [
           40
          ],
          [
           38
          ],
          [
           41
          ],
          [
           35
          ],
          [
           42
          ],
          [
           37
          ],
          [
           41
          ],
          [
           38
          ],
          [
           36
          ],
          [
           39
          ],
          [
           33
          ],
          [
           36
          ],
          [
           34
          ],
          [
           38
          ],
          [
           40
          ],
          [
           36
          ],
          [
           43
          ],
          [
           34
          ],
          [
           36
          ],
          [
           34
          ],
          [
           42
          ],
          [
           33
          ],
          [
           44
          ],
          [
           33
          ],
          [
           40
          ],
          [
           36
          ],
          [
           34
          ],
          [
           40
          ],
          [
           44
          ],
          [
           34
          ],
          [
           44
          ],
          [
           34
          ],
          [
           35
          ],
          [
           42
          ],
          [
           36
          ],
          [
           34
          ],
          [
           39
          ],
          [
           33
          ],
          [
           44
          ],
          [
           38
          ],
          [
           33
          ],
          [
           41
          ],
          [
           34
          ],
          [
           35
          ],
          [
           40
          ],
          [
           44
          ],
          [
           42
          ],
          [
           35
          ],
          [
           35
          ],
          [
           34
          ],
          [
           35
          ],
          [
           43
          ],
          [
           37
          ],
          [
           42
          ],
          [
           36
          ],
          [
           42
          ],
          [
           35
          ],
          [
           35
          ],
          [
           41
          ],
          [
           34
          ],
          [
           42
          ],
          [
           36
          ],
          [
           39
          ],
          [
           44
          ],
          [
           37
          ],
          [
           38
          ],
          [
           40
          ],
          [
           33
          ],
          [
           35
          ],
          [
           41
          ],
          [
           42
          ],
          [
           38
          ],
          [
           38
          ],
          [
           40
          ],
          [
           34
          ],
          [
           38
          ],
          [
           38
          ],
          [
           42
          ],
          [
           35
          ],
          [
           36
          ],
          [
           38
          ],
          [
           34
          ],
          [
           38
          ],
          [
           35
          ],
          [
           43
          ],
          [
           38
          ],
          [
           39
          ],
          [
           42
          ],
          [
           34
          ],
          [
           36
          ],
          [
           40
          ],
          [
           35
          ],
          [
           44
          ],
          [
           39
          ],
          [
           43
          ],
          [
           33
          ],
          [
           35
          ],
          [
           34
          ],
          [
           33
          ],
          [
           37
          ],
          [
           44
          ],
          [
           35
          ],
          [
           33
          ],
          [
           35
          ],
          [
           35
          ],
          [
           36
          ],
          [
           35
          ],
          [
           33
          ],
          [
           44
          ],
          [
           34
          ],
          [
           40
          ],
          [
           35
          ],
          [
           36
          ],
          [
           39
          ],
          [
           34
          ],
          [
           41
          ],
          [
           42
          ],
          [
           37
          ],
          [
           38
          ],
          [
           36
          ],
          [
           35
          ],
          [
           38
          ],
          [
           36
          ],
          [
           34
          ],
          [
           33
          ],
          [
           39
          ],
          [
           34
          ],
          [
           36
          ],
          [
           40
          ],
          [
           36
          ],
          [
           41
          ],
          [
           43
          ],
          [
           35
          ],
          [
           44
          ],
          [
           34
          ],
          [
           33
          ],
          [
           38
          ],
          [
           38
          ],
          [
           35
          ],
          [
           43
          ],
          [
           36
          ],
          [
           34
          ],
          [
           39
          ],
          [
           36
          ],
          [
           40
          ],
          [
           34
          ],
          [
           40
          ],
          [
           43
          ],
          [
           44
          ],
          [
           36
          ],
          [
           35
          ],
          [
           35
          ],
          [
           39
          ],
          [
           35
          ],
          [
           37
          ],
          [
           38
          ],
          [
           35
          ],
          [
           40
          ],
          [
           44
          ],
          [
           40
          ],
          [
           36
          ],
          [
           33
          ],
          [
           33
          ],
          [
           41
          ],
          [
           41
          ],
          [
           34
          ],
          [
           35
          ],
          [
           38
          ],
          [
           36
          ],
          [
           43
          ],
          [
           43
          ],
          [
           43
          ],
          [
           34
          ],
          [
           37
          ],
          [
           35
          ],
          [
           40
          ],
          [
           34
          ],
          [
           42
          ],
          [
           41
          ],
          [
           39
          ],
          [
           35
          ],
          [
           38
          ],
          [
           38
          ],
          [
           43
          ],
          [
           43
          ],
          [
           34
          ],
          [
           38
          ],
          [
           38
          ],
          [
           37
          ],
          [
           44
          ],
          [
           37
          ],
          [
           35
          ],
          [
           39
          ],
          [
           40
          ],
          [
           42
          ],
          [
           36
          ],
          [
           36
          ],
          [
           41
          ],
          [
           38
          ],
          [
           41
          ],
          [
           36
          ],
          [
           40
          ],
          [
           34
          ],
          [
           38
          ],
          [
           38
          ],
          [
           42
          ],
          [
           35
          ],
          [
           37
          ],
          [
           43
          ],
          [
           34
          ],
          [
           40
          ],
          [
           33
          ],
          [
           41
          ],
          [
           34
          ],
          [
           38
          ],
          [
           33
          ],
          [
           34
          ],
          [
           36
          ],
          [
           43
          ],
          [
           43
          ],
          [
           41
          ],
          [
           36
          ],
          [
           36
          ],
          [
           38
          ],
          [
           41
          ],
          [
           40
          ],
          [
           35
          ],
          [
           40
          ],
          [
           41
          ],
          [
           36
          ],
          [
           41
          ],
          [
           37
          ],
          [
           33
          ],
          [
           38
          ],
          [
           39
          ],
          [
           41
          ],
          [
           36
          ],
          [
           35
          ],
          [
           42
          ],
          [
           37
          ],
          [
           36
          ],
          [
           38
          ],
          [
           37
          ],
          [
           42
          ],
          [
           38
          ],
          [
           35
          ],
          [
           37
          ],
          [
           37
          ],
          [
           36
          ],
          [
           38
          ],
          [
           40
          ],
          [
           37
          ],
          [
           35
          ],
          [
           42
          ],
          [
           33
          ],
          [
           43
          ],
          [
           33
          ],
          [
           37
          ],
          [
           39
          ],
          [
           40
          ],
          [
           33
          ],
          [
           37
          ],
          [
           37
          ],
          [
           42
          ],
          [
           42
          ],
          [
           41
          ],
          [
           34
          ],
          [
           34
          ],
          [
           37
          ],
          [
           41
          ],
          [
           34
          ],
          [
           39
          ],
          [
           36
          ],
          [
           35
          ],
          [
           40
          ],
          [
           35
          ],
          [
           40
          ],
          [
           36
          ],
          [
           38
          ],
          [
           35
          ],
          [
           41
          ],
          [
           34
          ],
          [
           42
          ],
          [
           36
          ],
          [
           39
          ],
          [
           44
          ],
          [
           43
          ],
          [
           38
          ],
          [
           39
          ],
          [
           42
          ],
          [
           40
          ],
          [
           38
          ],
          [
           37
          ],
          [
           38
          ],
          [
           41
          ],
          [
           35
          ],
          [
           33
          ],
          [
           40
          ],
          [
           38
          ],
          [
           37
          ],
          [
           42
          ],
          [
           33
          ],
          [
           38
          ],
          [
           36
          ],
          [
           33
          ],
          [
           35
          ],
          [
           35
          ],
          [
           36
          ],
          [
           36
          ],
          [
           35
          ],
          [
           35
          ],
          [
           36
          ],
          [
           35
          ],
          [
           38
          ],
          [
           34
          ],
          [
           40
          ],
          [
           37
          ],
          [
           34
          ],
          [
           37
          ],
          [
           36
          ],
          [
           44
          ],
          [
           37
          ],
          [
           35
          ],
          [
           38
          ],
          [
           36
          ],
          [
           34
          ],
          [
           34
          ],
          [
           42
          ],
          [
           35
          ],
          [
           44
          ],
          [
           44
          ],
          [
           39
          ],
          [
           43
          ],
          [
           33
          ],
          [
           35
          ],
          [
           34
          ],
          [
           33
          ],
          [
           38
          ],
          [
           43
          ],
          [
           39
          ],
          [
           34
          ],
          [
           38
          ],
          [
           42
          ],
          [
           40
          ],
          [
           36
          ],
          [
           42
          ],
          [
           35
          ],
          [
           36
          ],
          [
           33
          ],
          [
           42
          ],
          [
           34
          ],
          [
           40
          ],
          [
           35
          ],
          [
           38
          ],
          [
           37
          ],
          [
           34
          ],
          [
           34
          ],
          [
           37
          ],
          [
           34
          ],
          [
           39
          ],
          [
           38
          ],
          [
           40
          ],
          [
           41
          ],
          [
           43
          ],
          [
           36
          ],
          [
           42
          ],
          [
           34
          ],
          [
           40
          ],
          [
           35
          ],
          [
           34
          ],
          [
           33
          ],
          [
           38
          ],
          [
           34
          ],
          [
           44
          ],
          [
           33
          ],
          [
           33
          ],
          [
           36
          ],
          [
           38
          ],
          [
           36
          ],
          [
           40
          ],
          [
           36
          ],
          [
           42
          ],
          [
           33
          ],
          [
           38
          ],
          [
           39
          ],
          [
           40
          ],
          [
           36
          ],
          [
           33
          ],
          [
           33
          ],
          [
           37
          ],
          [
           33
          ],
          [
           34
          ],
          [
           41
          ],
          [
           35
          ],
          [
           36
          ],
          [
           37
          ],
          [
           42
          ],
          [
           36
          ],
          [
           35
          ],
          [
           39
          ],
          [
           35
          ],
          [
           43
          ],
          [
           37
          ],
          [
           39
          ],
          [
           33
          ],
          [
           43
          ],
          [
           36
          ],
          [
           37
          ],
          [
           35
          ],
          [
           36
          ],
          [
           34
          ],
          [
           39
          ],
          [
           37
          ],
          [
           43
          ],
          [
           43
          ],
          [
           34
          ],
          [
           40
          ],
          [
           43
          ],
          [
           37
          ],
          [
           40
          ],
          [
           34
          ],
          [
           36
          ],
          [
           35
          ],
          [
           40
          ],
          [
           41
          ],
          [
           37
          ],
          [
           33
          ],
          [
           40
          ],
          [
           39
          ],
          [
           33
          ],
          [
           43
          ],
          [
           43
          ],
          [
           40
          ],
          [
           38
          ],
          [
           41
          ],
          [
           35
          ],
          [
           42
          ],
          [
           42
          ],
          [
           37
          ],
          [
           42
          ],
          [
           36
          ],
          [
           36
          ],
          [
           41
          ],
          [
           42
          ],
          [
           38
          ],
          [
           40
          ],
          [
           37
          ],
          [
           41
          ],
          [
           37
          ],
          [
           37
          ],
          [
           35
          ],
          [
           37
          ],
          [
           34
          ],
          [
           42
          ],
          [
           38
          ],
          [
           43
          ],
          [
           44
          ],
          [
           34
          ],
          [
           44
          ],
          [
           33
          ],
          [
           43
          ],
          [
           37
          ],
          [
           35
          ],
          [
           40
          ],
          [
           35
          ],
          [
           34
          ],
          [
           33
          ],
          [
           33
          ],
          [
           35
          ],
          [
           34
          ],
          [
           41
          ],
          [
           42
          ],
          [
           41
          ],
          [
           35
          ],
          [
           40
          ],
          [
           39
          ],
          [
           42
          ],
          [
           33
          ],
          [
           36
          ],
          [
           35
          ],
          [
           36
          ],
          [
           37
          ],
          [
           38
          ],
          [
           38
          ],
          [
           35
          ],
          [
           43
          ],
          [
           36
          ],
          [
           34
          ],
          [
           39
          ],
          [
           36
          ],
          [
           40
          ],
          [
           44
          ],
          [
           40
          ],
          [
           35
          ],
          [
           38
          ],
          [
           37
          ],
          [
           35
          ],
          [
           40
          ],
          [
           39
          ],
          [
           38
          ],
          [
           38
          ],
          [
           36
          ],
          [
           35
          ],
          [
           39
          ],
          [
           36
          ],
          [
           33
          ],
          [
           42
          ],
          [
           34
          ],
          [
           40
          ],
          [
           43
          ],
          [
           44
          ],
          [
           36
          ],
          [
           35
          ],
          [
           35
          ],
          [
           34
          ],
          [
           34
          ],
          [
           35
          ],
          [
           38
          ],
          [
           35
          ],
          [
           34
          ],
          [
           41
          ],
          [
           41
          ],
          [
           43
          ],
          [
           39
          ],
          [
           38
          ],
          [
           35
          ],
          [
           42
          ],
          [
           40
          ],
          [
           39
          ],
          [
           35
          ],
          [
           37
          ],
          [
           44
          ],
          [
           36
          ],
          [
           37
          ],
          [
           43
          ],
          [
           41
          ],
          [
           36
          ],
          [
           40
          ],
          [
           35
          ],
          [
           36
          ],
          [
           44
          ],
          [
           33
          ],
          [
           38
          ],
          [
           38
          ],
          [
           43
          ],
          [
           43
          ],
          [
           34
          ],
          [
           38
          ],
          [
           33
          ],
          [
           34
          ],
          [
           38
          ],
          [
           35
          ],
          [
           37
          ],
          [
           42
          ],
          [
           43
          ],
          [
           39
          ],
          [
           37
          ],
          [
           34
          ],
          [
           38
          ],
          [
           35
          ],
          [
           34
          ],
          [
           40
          ],
          [
           34
          ],
          [
           35
          ],
          [
           36
          ],
          [
           40
          ],
          [
           34
          ],
          [
           35
          ],
          [
           41
          ],
          [
           44
          ],
          [
           34
          ],
          [
           35
          ],
          [
           42
          ],
          [
           36
          ],
          [
           39
          ],
          [
           35
          ],
          [
           39
          ],
          [
           39
          ],
          [
           41
          ],
          [
           42
          ],
          [
           40
          ],
          [
           34
          ],
          [
           40
          ],
          [
           40
          ],
          [
           36
          ],
          [
           34
          ],
          [
           36
          ],
          [
           39
          ],
          [
           35
          ],
          [
           40
          ],
          [
           34
          ],
          [
           34
          ],
          [
           37
          ],
          [
           33
          ],
          [
           33
          ],
          [
           40
          ],
          [
           33
          ],
          [
           40
          ],
          [
           40
          ],
          [
           38
          ],
          [
           35
          ],
          [
           42
          ],
          [
           36
          ],
          [
           33
          ],
          [
           34
          ],
          [
           36
          ],
          [
           37
          ],
          [
           34
          ],
          [
           41
          ],
          [
           40
          ],
          [
           39
          ],
          [
           35
          ],
          [
           34
          ],
          [
           44
          ],
          [
           44
          ],
          [
           33
          ],
          [
           42
          ],
          [
           44
          ],
          [
           34
          ],
          [
           40
          ],
          [
           43
          ],
          [
           42
          ],
          [
           43
          ],
          [
           40
          ],
          [
           35
          ],
          [
           40
          ],
          [
           41
          ],
          [
           41
          ],
          [
           38
          ],
          [
           36
          ],
          [
           41
          ],
          [
           43
          ],
          [
           43
          ],
          [
           36
          ],
          [
           34
          ],
          [
           37
          ],
          [
           34
          ],
          [
           34
          ],
          [
           37
          ],
          [
           34
          ],
          [
           35
          ],
          [
           33
          ],
          [
           35
          ],
          [
           35
          ],
          [
           36
          ],
          [
           36
          ],
          [
           41
          ],
          [
           35
          ],
          [
           37
          ],
          [
           35
          ],
          [
           38
          ],
          [
           34
          ],
          [
           40
          ],
          [
           37
          ],
          [
           36
          ],
          [
           36
          ],
          [
           33
          ],
          [
           38
          ],
          [
           38
          ],
          [
           37
          ],
          [
           35
          ],
          [
           42
          ],
          [
           33
          ],
          [
           43
          ],
          [
           37
          ],
          [
           33
          ],
          [
           41
          ],
          [
           40
          ],
          [
           33
          ],
          [
           37
          ],
          [
           37
          ],
          [
           42
          ],
          [
           39
          ],
          [
           44
          ],
          [
           33
          ],
          [
           41
          ],
          [
           34
          ],
          [
           41
          ],
          [
           33
          ],
          [
           40
          ],
          [
           34
          ],
          [
           43
          ],
          [
           36
          ],
          [
           37
          ],
          [
           42
          ],
          [
           38
          ],
          [
           38
          ],
          [
           34
          ],
          [
           40
          ],
          [
           36
          ],
          [
           35
          ],
          [
           34
          ],
          [
           35
          ],
          [
           34
          ],
          [
           40
          ],
          [
           33
          ],
          [
           35
          ],
          [
           41
          ],
          [
           42
          ],
          [
           38
          ],
          [
           38
          ],
          [
           40
          ],
          [
           42
          ],
          [
           39
          ],
          [
           38
          ],
          [
           43
          ],
          [
           35
          ],
          [
           38
          ],
          [
           34
          ],
          [
           34
          ],
          [
           36
          ],
          [
           34
          ],
          [
           37
          ],
          [
           35
          ],
          [
           40
          ],
          [
           34
          ],
          [
           36
          ],
          [
           38
          ],
          [
           41
          ],
          [
           33
          ],
          [
           34
          ],
          [
           38
          ],
          [
           38
          ],
          [
           42
          ],
          [
           35
          ],
          [
           34
          ],
          [
           37
          ],
          [
           44
          ],
          [
           39
          ],
          [
           36
          ],
          [
           35
          ],
          [
           38
          ],
          [
           36
          ],
          [
           34
          ],
          [
           34
          ],
          [
           38
          ],
          [
           42
          ],
          [
           33
          ],
          [
           44
          ],
          [
           39
          ],
          [
           43
          ],
          [
           33
          ],
          [
           35
          ],
          [
           44
          ],
          [
           37
          ],
          [
           33
          ],
          [
           41
          ],
          [
           36
          ],
          [
           42
          ],
          [
           34
          ],
          [
           41
          ],
          [
           35
          ],
          [
           38
          ],
          [
           37
          ],
          [
           36
          ],
          [
           35
          ],
          [
           40
          ],
          [
           35
          ],
          [
           36
          ],
          [
           39
          ],
          [
           34
          ],
          [
           40
          ],
          [
           34
          ],
          [
           44
          ],
          [
           34
          ],
          [
           34
          ],
          [
           36
          ],
          [
           35
          ],
          [
           40
          ],
          [
           41
          ],
          [
           37
          ],
          [
           33
          ],
          [
           40
          ],
          [
           36
          ],
          [
           36
          ],
          [
           42
          ],
          [
           37
          ],
          [
           42
          ],
          [
           42
          ],
          [
           41
          ],
          [
           35
          ],
          [
           38
          ],
          [
           42
          ],
          [
           35
          ],
          [
           36
          ],
          [
           41
          ],
          [
           39
          ],
          [
           36
          ],
          [
           40
          ],
          [
           38
          ],
          [
           39
          ],
          [
           39
          ],
          [
           33
          ],
          [
           43
          ],
          [
           43
          ],
          [
           40
          ],
          [
           43
          ],
          [
           37
          ],
          [
           43
          ],
          [
           40
          ],
          [
           35
          ],
          [
           40
          ],
          [
           39
          ],
          [
           42
          ],
          [
           33
          ],
          [
           40
          ],
          [
           41
          ],
          [
           41
          ],
          [
           34
          ],
          [
           37
          ],
          [
           41
          ],
          [
           37
          ],
          [
           37
          ],
          [
           35
          ],
          [
           35
          ],
          [
           37
          ],
          [
           36
          ],
          [
           34
          ],
          [
           34
          ],
          [
           43
          ],
          [
           43
          ],
          [
           37
          ],
          [
           39
          ],
          [
           41
          ],
          [
           42
          ],
          [
           42
          ],
          [
           40
          ],
          [
           35
          ],
          [
           34
          ],
          [
           33
          ],
          [
           33
          ],
          [
           35
          ],
          [
           38
          ],
          [
           37
          ],
          [
           36
          ],
          [
           37
          ],
          [
           34
          ],
          [
           40
          ],
          [
           33
          ],
          [
           41
          ],
          [
           34
          ],
          [
           38
          ],
          [
           33
          ],
          [
           36
          ],
          [
           41
          ],
          [
           40
          ],
          [
           35
          ],
          [
           40
          ],
          [
           41
          ],
          [
           41
          ],
          [
           38
          ],
          [
           36
          ],
          [
           41
          ],
          [
           35
          ],
          [
           38
          ],
          [
           34
          ],
          [
           40
          ],
          [
           37
          ],
          [
           34
          ],
          [
           43
          ],
          [
           37
          ],
          [
           34
          ],
          [
           37
          ],
          [
           34
          ],
          [
           36
          ],
          [
           43
          ],
          [
           43
          ],
          [
           34
          ],
          [
           37
          ],
          [
           35
          ],
          [
           42
          ],
          [
           40
          ],
          [
           33
          ],
          [
           37
          ],
          [
           37
          ],
          [
           42
          ],
          [
           42
          ],
          [
           41
          ],
          [
           40
          ],
          [
           36
          ],
          [
           37
          ],
          [
           37
          ],
          [
           35
          ],
          [
           38
          ],
          [
           42
          ],
          [
           38
          ],
          [
           38
          ],
          [
           39
          ],
          [
           43
          ],
          [
           38
          ],
          [
           38
          ],
          [
           34
          ],
          [
           40
          ],
          [
           36
          ],
          [
           41
          ],
          [
           33
          ],
          [
           36
          ],
          [
           37
          ],
          [
           38
          ],
          [
           37
          ],
          [
           35
          ],
          [
           42
          ],
          [
           33
          ],
          [
           33
          ],
          [
           35
          ],
          [
           42
          ],
          [
           38
          ],
          [
           37
          ],
          [
           33
          ],
          [
           35
          ],
          [
           33
          ],
          [
           44
          ],
          [
           40
          ],
          [
           38
          ],
          [
           41
          ],
          [
           43
          ],
          [
           36
          ],
          [
           40
          ],
          [
           38
          ],
          [
           34
          ],
          [
           36
          ],
          [
           34
          ],
          [
           33
          ],
          [
           36
          ],
          [
           39
          ],
          [
           40
          ],
          [
           36
          ],
          [
           33
          ],
          [
           33
          ],
          [
           38
          ],
          [
           33
          ],
          [
           35
          ],
          [
           39
          ],
          [
           35
          ],
          [
           42
          ],
          [
           37
          ],
          [
           41
          ],
          [
           38
          ],
          [
           41
          ],
          [
           42
          ],
          [
           33
          ],
          [
           34
          ],
          [
           35
          ],
          [
           34
          ],
          [
           35
          ],
          [
           43
          ],
          [
           37
          ],
          [
           44
          ],
          [
           35
          ],
          [
           44
          ],
          [
           40
          ],
          [
           33
          ],
          [
           44
          ],
          [
           33
          ],
          [
           40
          ],
          [
           36
          ],
          [
           33
          ],
          [
           38
          ],
          [
           42
          ],
          [
           40
          ],
          [
           38
          ],
          [
           38
          ],
          [
           43
          ],
          [
           39
          ],
          [
           40
          ],
          [
           39
          ],
          [
           42
          ],
          [
           36
          ],
          [
           42
          ],
          [
           38
          ],
          [
           33
          ],
          [
           41
          ],
          [
           34
          ],
          [
           35
          ],
          [
           34
          ],
          [
           43
          ],
          [
           37
          ],
          [
           36
          ],
          [
           42
          ],
          [
           34
          ],
          [
           40
          ],
          [
           35
          ],
          [
           38
          ],
          [
           37
          ],
          [
           34
          ],
          [
           34
          ],
          [
           33
          ],
          [
           34
          ],
          [
           35
          ],
          [
           40
          ],
          [
           34
          ],
          [
           42
          ],
          [
           38
          ],
          [
           36
          ],
          [
           41
          ],
          [
           43
          ],
          [
           44
          ],
          [
           34
          ],
          [
           44
          ],
          [
           33
          ],
          [
           34
          ],
          [
           33
          ],
          [
           37
          ],
          [
           33
          ],
          [
           37
          ],
          [
           34
          ],
          [
           39
          ],
          [
           38
          ],
          [
           40
          ],
          [
           36
          ],
          [
           36
          ],
          [
           35
          ],
          [
           42
          ],
          [
           37
          ],
          [
           39
          ],
          [
           33
          ],
          [
           43
          ],
          [
           36
          ],
          [
           41
          ],
          [
           43
          ],
          [
           39
          ],
          [
           42
          ],
          [
           33
          ],
          [
           36
          ],
          [
           38
          ],
          [
           36
          ],
          [
           40
          ],
          [
           34
          ],
          [
           33
          ],
          [
           37
          ],
          [
           35
          ],
          [
           36
          ],
          [
           40
          ],
          [
           42
          ],
          [
           38
          ],
          [
           34
          ],
          [
           43
          ],
          [
           35
          ],
          [
           34
          ],
          [
           33
          ],
          [
           35
          ],
          [
           36
          ],
          [
           37
          ],
          [
           42
          ],
          [
           36
          ],
          [
           44
          ],
          [
           38
          ],
          [
           40
          ],
          [
           40
          ],
          [
           35
          ],
          [
           37
          ],
          [
           35
          ],
          [
           35
          ],
          [
           38
          ],
          [
           43
          ],
          [
           41
          ],
          [
           36
          ],
          [
           34
          ],
          [
           39
          ],
          [
           38
          ],
          [
           35
          ],
          [
           40
          ],
          [
           35
          ],
          [
           34
          ],
          [
           39
          ],
          [
           43
          ],
          [
           38
          ],
          [
           38
          ],
          [
           43
          ],
          [
           42
          ],
          [
           34
          ],
          [
           40
          ],
          [
           36
          ],
          [
           40
          ],
          [
           38
          ],
          [
           40
          ],
          [
           38
          ],
          [
           38
          ],
          [
           38
          ],
          [
           36
          ],
          [
           34
          ],
          [
           38
          ],
          [
           39
          ],
          [
           41
          ],
          [
           38
          ],
          [
           33
          ],
          [
           41
          ],
          [
           41
          ],
          [
           44
          ],
          [
           33
          ],
          [
           38
          ],
          [
           34
          ],
          [
           42
          ],
          [
           42
          ],
          [
           36
          ],
          [
           34
          ],
          [
           42
          ],
          [
           34
          ],
          [
           40
          ],
          [
           40
          ],
          [
           34
          ],
          [
           42
          ],
          [
           33
          ],
          [
           41
          ],
          [
           33
          ],
          [
           35
          ],
          [
           37
          ],
          [
           36
          ],
          [
           33
          ],
          [
           43
          ],
          [
           41
          ],
          [
           41
          ],
          [
           36
          ],
          [
           40
          ],
          [
           42
          ],
          [
           40
          ],
          [
           33
          ],
          [
           40
          ],
          [
           33
          ],
          [
           34
          ],
          [
           42
          ],
          [
           39
          ],
          [
           34
          ],
          [
           38
          ],
          [
           34
          ],
          [
           35
          ],
          [
           37
          ],
          [
           41
          ],
          [
           33
          ],
          [
           33
          ],
          [
           37
          ],
          [
           35
          ],
          [
           35
          ],
          [
           43
          ],
          [
           33
          ],
          [
           35
          ],
          [
           43
          ],
          [
           42
          ],
          [
           38
          ],
          [
           37
          ],
          [
           38
          ],
          [
           36
          ],
          [
           35
          ],
          [
           34
          ],
          [
           43
          ],
          [
           37
          ],
          [
           35
          ],
          [
           33
          ],
          [
           39
          ],
          [
           35
          ],
          [
           39
          ],
          [
           34
          ],
          [
           35
          ],
          [
           34
          ],
          [
           37
          ],
          [
           40
          ],
          [
           34
          ],
          [
           35
          ],
          [
           33
          ],
          [
           33
          ],
          [
           39
          ],
          [
           42
          ],
          [
           40
          ],
          [
           39
          ],
          [
           35
          ],
          [
           34
          ],
          [
           43
          ],
          [
           35
          ],
          [
           40
          ],
          [
           43
          ],
          [
           35
          ],
          [
           38
          ],
          [
           34
          ],
          [
           35
          ],
          [
           35
          ],
          [
           40
          ],
          [
           39
          ],
          [
           40
          ],
          [
           35
          ],
          [
           42
          ],
          [
           40
          ],
          [
           38
          ],
          [
           41
          ],
          [
           34
          ],
          [
           42
          ],
          [
           36
          ],
          [
           38
          ],
          [
           35
          ],
          [
           42
          ],
          [
           33
          ],
          [
           40
          ],
          [
           33
          ],
          [
           36
          ],
          [
           33
          ],
          [
           34
          ],
          [
           40
          ],
          [
           34
          ],
          [
           37
          ],
          [
           44
          ],
          [
           44
          ],
          [
           33
          ],
          [
           40
          ],
          [
           37
          ],
          [
           43
          ],
          [
           44
          ],
          [
           43
          ],
          [
           36
          ],
          [
           34
          ],
          [
           40
          ],
          [
           39
          ],
          [
           34
          ],
          [
           37
          ],
          [
           34
          ],
          [
           35
          ],
          [
           34
          ],
          [
           38
          ],
          [
           40
          ],
          [
           39
          ],
          [
           43
          ],
          [
           34
          ],
          [
           34
          ],
          [
           36
          ],
          [
           34
          ],
          [
           36
          ],
          [
           37
          ],
          [
           35
          ],
          [
           40
          ],
          [
           36
          ],
          [
           42
          ],
          [
           34
          ],
          [
           43
          ],
          [
           33
          ],
          [
           34
          ],
          [
           35
          ],
          [
           42
          ],
          [
           43
          ],
          [
           35
          ],
          [
           40
          ],
          [
           40
          ],
          [
           34
          ],
          [
           35
          ],
          [
           37
          ],
          [
           36
          ],
          [
           38
          ],
          [
           35
          ],
          [
           36
          ],
          [
           36
          ],
          [
           34
          ],
          [
           36
          ],
          [
           39
          ],
          [
           35
          ],
          [
           42
          ],
          [
           35
          ],
          [
           42
          ],
          [
           42
          ],
          [
           36
          ],
          [
           35
          ],
          [
           37
          ],
          [
           39
          ],
          [
           38
          ],
          [
           40
          ],
          [
           44
          ],
          [
           36
          ],
          [
           36
          ],
          [
           42
          ],
          [
           44
          ],
          [
           40
          ],
          [
           33
          ],
          [
           34
          ],
          [
           35
          ],
          [
           44
          ],
          [
           40
          ],
          [
           40
          ],
          [
           35
          ],
          [
           40
          ],
          [
           43
          ],
          [
           33
          ],
          [
           44
          ],
          [
           41
          ],
          [
           36
          ],
          [
           42
          ],
          [
           41
          ],
          [
           44
          ],
          [
           43
          ],
          [
           38
          ],
          [
           39
          ],
          [
           44
          ],
          [
           44
          ],
          [
           43
          ],
          [
           36
          ],
          [
           44
          ],
          [
           36
          ],
          [
           40
          ],
          [
           43
          ],
          [
           35
          ],
          [
           42
          ],
          [
           41
          ],
          [
           34
          ],
          [
           38
          ],
          [
           35
          ],
          [
           34
          ],
          [
           41
          ],
          [
           37
          ],
          [
           37
          ],
          [
           38
          ],
          [
           34
          ],
          [
           33
          ],
          [
           42
          ],
          [
           37
          ],
          [
           36
          ],
          [
           33
          ],
          [
           41
          ],
          [
           37
          ],
          [
           34
          ],
          [
           33
          ],
          [
           42
          ],
          [
           37
          ],
          [
           34
          ],
          [
           38
          ],
          [
           42
          ],
          [
           33
          ],
          [
           40
          ],
          [
           42
          ],
          [
           33
          ],
          [
           39
          ],
          [
           36
          ],
          [
           38
          ],
          [
           35
          ],
          [
           41
          ],
          [
           39
          ],
          [
           42
          ],
          [
           35
          ],
          [
           34
          ],
          [
           41
          ],
          [
           36
          ],
          [
           40
          ],
          [
           44
          ],
          [
           37
          ],
          [
           44
          ],
          [
           38
          ],
          [
           35
          ],
          [
           36
          ],
          [
           36
          ],
          [
           38
          ],
          [
           34
          ],
          [
           34
          ],
          [
           37
          ],
          [
           37
          ],
          [
           34
          ],
          [
           36
          ],
          [
           41
          ],
          [
           42
          ],
          [
           37
          ],
          [
           38
          ],
          [
           36
          ],
          [
           34
          ],
          [
           33
          ],
          [
           43
          ],
          [
           34
          ],
          [
           35
          ],
          [
           38
          ],
          [
           37
          ],
          [
           44
          ],
          [
           39
          ],
          [
           37
          ],
          [
           35
          ],
          [
           34
          ],
          [
           33
          ],
          [
           33
          ],
          [
           41
          ],
          [
           37
          ],
          [
           35
          ],
          [
           36
          ],
          [
           42
          ],
          [
           42
          ],
          [
           34
          ],
          [
           40
          ],
          [
           40
          ],
          [
           39
          ],
          [
           33
          ],
          [
           36
          ],
          [
           35
          ],
          [
           38
          ],
          [
           38
          ],
          [
           39
          ],
          [
           43
          ],
          [
           36
          ],
          [
           36
          ],
          [
           40
          ],
          [
           43
          ],
          [
           38
          ],
          [
           37
          ],
          [
           39
          ],
          [
           39
          ],
          [
           40
          ],
          [
           43
          ],
          [
           42
          ],
          [
           36
          ],
          [
           34
          ],
          [
           34
          ],
          [
           38
          ],
          [
           39
          ],
          [
           41
          ],
          [
           33
          ],
          [
           34
          ],
          [
           36
          ],
          [
           34
          ],
          [
           37
          ],
          [
           36
          ],
          [
           37
          ],
          [
           34
          ],
          [
           41
          ],
          [
           33
          ],
          [
           35
          ],
          [
           40
          ],
          [
           36
          ],
          [
           40
          ],
          [
           36
          ],
          [
           36
          ],
          [
           34
          ],
          [
           37
          ],
          [
           43
          ],
          [
           44
          ],
          [
           33
          ],
          [
           35
          ],
          [
           37
          ],
          [
           38
          ],
          [
           38
          ],
          [
           33
          ],
          [
           39
          ]
         ],
         "hovertemplate": "Cluster=Cluster 0<br>PCA1=%{x}<br>PCA2=%{y}<br>Feature=%{customdata[0]}<extra></extra>",
         "legendgroup": "Cluster 0",
         "marker": {
          "color": "#636efa",
          "opacity": 0.5,
          "symbol": "circle"
         },
         "mode": "markers",
         "name": "Cluster 0",
         "showlegend": true,
         "textposition": "top center",
         "type": "scattergl",
         "x": [
          -0.55559206,
          -0.56285715,
          -0.46855664,
          -0.25784004,
          0.15697654,
          0.0556145,
          -0.37889412,
          -0.3470856,
          -0.10785204,
          0.09473158,
          0.039334722,
          -0.9731328,
          -0.2664337,
          -1.0097926,
          -0.17085806,
          0.36297235,
          0.0852563,
          0.1929918,
          -0.8760212,
          -1.0571197,
          -0.5712709,
          -0.3511422,
          0.20219046,
          -0.45713806,
          -0.47956812,
          0.1704551,
          -0.7122007,
          -0.71303904,
          0.39191625,
          0.5446185,
          -0.52754956,
          -0.06657818,
          0.57857394,
          -0.61989695,
          -0.34588364,
          -1.1765211,
          -0.47980532,
          -0.5483705,
          -0.6429813,
          -0.43368998,
          0.2388699,
          -0.44354284,
          -0.32295936,
          -0.44765288,
          -0.48596534,
          -0.27848682,
          -0.7945349,
          -0.42928934,
          -0.2376538,
          -0.23502254,
          -0.89500535,
          -0.033771377,
          -0.67913693,
          -0.7394583,
          -0.26755264,
          -0.45929486,
          -0.8665656,
          0.28259122,
          0.19409692,
          -0.74209946,
          -0.4444977,
          0.25845522,
          -0.36027348,
          0.12357861,
          -0.49780104,
          -0.32725325,
          -0.12051611,
          -0.111748524,
          -0.31600457,
          -0.71169657,
          -0.31745374,
          -0.8827287,
          -0.12288639,
          0.009716542,
          -0.060781866,
          -0.34880158,
          -0.3455832,
          0.025274925,
          -0.46380222,
          -0.23690261,
          0.09026778,
          0.26040837,
          0.09112568,
          -0.074788235,
          -1.2065699,
          -0.48367804,
          -0.10645634,
          -0.50281256,
          0.035084307,
          -1.0135486,
          -0.3090835,
          -0.41702262,
          -0.71089196,
          -0.08185965,
          -0.709443,
          -0.4929201,
          -0.055116046,
          0.21242684,
          -0.6554516,
          -0.84636945,
          -0.23270568,
          -0.68802124,
          0.69366145,
          -0.38685703,
          -0.35144275,
          -1.0393908,
          -0.3581503,
          -1.139711,
          -0.037677724,
          -0.6472949,
          -0.1967971,
          -0.33882213,
          -0.5356628,
          -0.88459504,
          0.57662064,
          -0.8177359,
          -0.3900557,
          0.6479338,
          -0.4014505,
          -0.49608517,
          0.37484163,
          -0.8360995,
          0.24192823,
          -0.8401225,
          -0.48702696,
          0.068395235,
          -0.91057754,
          -0.37863714,
          -0.36201322,
          -0.07395988,
          -0.840423,
          -1.0267702,
          0.030576993,
          0.15422861,
          -0.103688695,
          -0.48882,
          -0.76810175,
          0.005229103,
          -0.9142368,
          -0.55558217,
          -0.76699656,
          0.28419054,
          -0.46838674,
          -0.6795007,
          0.18568324,
          0.1320695,
          0.013996675,
          -0.428034,
          -1.1327997,
          -0.16725221,
          -0.75551474,
          -0.45332855,
          -0.43116933,
          0.35856187,
          -0.9340157,
          0.13357195,
          -0.5091129,
          -0.024723023,
          -0.6827527,
          -0.35625052,
          -0.3926731,
          -0.38576183,
          -1.0136989,
          -0.0152477445,
          -0.47910753,
          -0.47380537,
          -0.04524334,
          -0.70398074,
          -0.09442689,
          -0.08118169,
          0.20860744,
          0.3424223,
          -0.44592306,
          -0.24897562,
          -0.46228006,
          0.19137284,
          -0.3429321,
          -0.80992323,
          -0.58594155,
          -1.2560976,
          -0.23615137,
          0.0380892,
          0.54446834,
          -0.0161927,
          -0.67282665,
          -1.2901062,
          -0.09217319,
          -0.19543496,
          0.15588127,
          0.13169183,
          0.3875057,
          -0.25143287,
          -0.48946443,
          -1.1726146,
          0.5208798,
          -0.6776444,
          0.37208384,
          -0.7013199,
          -0.41977057,
          -0.5611847,
          -0.9772863,
          -0.37080055,
          -0.1344988,
          -0.43504217,
          0.47735223,
          -0.33316615,
          -0.50114995,
          -0.081258714,
          -0.33867192,
          -0.15937617,
          -0.82002324,
          -0.36226037,
          -0.5273362,
          -0.8662018,
          -0.28844652,
          -0.8688094,
          -1.1139659,
          -0.52127296,
          -0.7986549,
          -0.42356035,
          0.2861002,
          -0.47185218,
          -0.6921114,
          -0.005932582,
          -1.0836164,
          -0.7475953,
          -0.12742741,
          -0.7345339,
          -0.58518046,
          -0.66938084,
          -0.41124025,
          -0.17372257,
          -0.74466354,
          -1.1464721,
          0.104894884,
          -0.50399476,
          -0.45832026,
          -0.046411738,
          0.34729344,
          0.20099829,
          -0.29726753,
          -0.47935456,
          -0.854032,
          -1.0062934,
          -0.36393273,
          -0.3982757,
          -0.28317806,
          -0.026860043,
          -0.7522192,
          -0.9147844,
          0.05211539,
          -0.024863437,
          -0.08767574,
          -0.5614418,
          -1.1082566,
          -0.9066277,
          -0.3388518,
          -0.41484612,
          -0.68078965,
          -0.54876775,
          -0.18859679,
          -0.19593912,
          -0.688118,
          -0.2975778,
          -0.3632784,
          -0.17856409,
          -0.612782,
          -0.682646,
          -0.29738417,
          -0.42854807,
          0.41811222,
          -0.57942766,
          0.041835453,
          -0.48847604,
          -1.0976424,
          -0.5768201,
          -0.5420068,
          -0.745652,
          -0.8337489,
          -0.5115801,
          -0.14586401,
          -0.6023084,
          -0.5803389,
          -0.5780754,
          -0.25851414,
          -0.55918807,
          -0.53881794,
          -0.30381504,
          0.11861069,
          -0.319654,
          -0.1862997,
          -0.48626584,
          -0.54286474,
          -1.1428128,
          -0.5413524,
          -0.16275465,
          -0.17650414,
          -0.48929045,
          0.055871475,
          0.0036732694,
          -0.3066163,
          -0.018048998,
          -0.5013438,
          -1.0857198,
          -0.96507305,
          -0.5101745,
          -0.43718916,
          0.106397375,
          -0.30282655,
          -0.42979345,
          -0.39788815,
          -0.26315197,
          -0.41967365,
          -0.26467422,
          -0.07840402,
          -0.09895397,
          -0.28594577,
          -0.17815681,
          -0.08797622,
          -0.82152575,
          -0.9352177,
          0.14050297,
          -0.053710494,
          -0.9259559,
          -0.7554614,
          -0.09342849,
          -0.39207208,
          -0.57651955,
          -0.028993227,
          -0.028178658,
          -0.46177593,
          -0.3628712,
          -0.17972255,
          -0.39812544,
          0.18982686,
          -0.39368126,
          0.48285794,
          -0.5057976,
          -0.8524861,
          0.39953527,
          -1.0069914,
          0.10009692,
          -0.19594897,
          0.08835804,
          -0.806855,
          -0.2576364,
          -0.5239338,
          -0.38180208,
          -0.46425298,
          -1.0097926,
          -0.49725345,
          0.010046816,
          0.08501905,
          0.040987395,
          -0.9772863,
          -0.5611847,
          -0.41977057,
          -0.7013199,
          0.37208384,
          -0.6776444,
          -0.3429321,
          0.19137284,
          -0.46228006,
          -0.47380537,
          -0.46838674,
          -0.6795007,
          0.18568324,
          0.1320695,
          0.013996675,
          -0.428034,
          -1.1327997,
          -0.08118169,
          0.20860744,
          0.3424223,
          -0.44592306,
          -0.6827527,
          -0.024723023,
          -0.1344988,
          -0.5091129,
          -0.9340157,
          0.35856187,
          -0.43116933,
          -0.45332855,
          -0.75551474,
          -0.16725221,
          0.13357195,
          -0.15937617,
          -0.43504217,
          0.47735223,
          -0.19543496,
          0.15588127,
          0.13169183,
          0.3875057,
          -0.6023084,
          -0.21447265,
          -0.09217319,
          -0.2564444,
          -0.21672627,
          -0.69526654,
          0.13249648,
          -0.30218202,
          -0.15898874,
          -0.11991516,
          -0.20060655,
          0.38329887,
          -1.2901062,
          -0.67282665,
          -0.33316615,
          -0.50114995,
          -0.081258714,
          -0.33867192,
          0.5208798,
          -0.37080055,
          -0.25143287,
          -1.1726146,
          -0.80992323,
          -0.58594155,
          -1.2560976,
          -0.23615137,
          0.0380892,
          0.54446834,
          -0.0161927,
          -0.10119774,
          -1.0810621,
          -0.82798624,
          -0.39786845,
          -0.71389693,
          -0.27404273,
          -0.87897265,
          -0.49683642,
          -0.6687364,
          -0.43262836,
          -0.2744738,
          0.21353194,
          0.01337591,
          -0.038632616,
          -0.22856201,
          -0.5764128,
          -0.70458174,
          -0.055620123,
          0.17276217,
          -0.07378988,
          -0.47390226,
          -0.34453145,
          -0.20326748,
          -0.41250545,
          -0.44506505,
          -0.20187175,
          -0.52620727,
          -0.28168553,
          -0.6173526,
          0.00043112374,
          -0.903763,
          -0.05235826,
          0.11236367,
          -0.24186067,
          0.3848448,
          -0.40162456,
          -1.1394105,
          -0.30496353,
          0.2153348,
          0.28413722,
          0.26014152,
          -0.53950596,
          -0.6246079,
          -0.57015604,
          -0.47762477,
          -0.002370145,
          0.44929993,
          -0.78621817,
          -0.23186737,
          -0.16960277,
          -0.1505117,
          -0.34628093,
          -0.52137977,
          -0.31172463,
          0.5812784,
          -0.89344954,
          0.58708453,
          0.3995253,
          -0.34333938,
          -1.0263195,
          -0.3151902,
          -0.3563039,
          -0.13175088,
          -0.27366915,
          -0.65646976,
          -0.04224832,
          -0.11552439,
          -0.10002938,
          -0.714915,
          0.36767337,
          -0.44745916,
          -0.51706606,
          -0.016803576,
          0.057824705,
          -0.6769901,
          -0.6812404,
          -0.84998536,
          -0.8843915,
          0.10229723,
          -0.81752247,
          -0.7538285,
          -0.31584457,
          -0.56435966,
          0.093282536,
          0.54871863,
          -0.076397434,
          0.08109289,
          -0.87046206,
          -0.6608071,
          0.16229834,
          -0.45092463,
          -0.49414185,
          0.04615895,
          -0.86365765,
          -0.47091717,
          -0.45903784,
          -0.07129897,
          -0.8746689,
          -0.4458499,
          -1.2061628,
          -1.0356346,
          -0.16154289,
          -1.0496074,
          -0.54010695,
          -0.18868388,
          -0.46825618,
          -0.943835,
          -0.32310963,
          -0.69206786,
          -0.35295504,
          -0.8928486,
          -0.67823553,
          -0.39036605,
          -0.45306173,
          -0.66952133,
          0.036189426,
          -0.97268206,
          -0.75776845,
          -0.933822,
          -1.2318112,
          -0.39892015,
          -0.9223065,
          0.013105077,
          -1.0444024,
          0.5020893,
          0.60316074,
          -0.75426924,
          -0.01584876,
          -0.38419607,
          0.3376343,
          0.32621568,
          -0.40603507,
          -0.4500034,
          -0.8914964,
          -0.9228007,
          0.2001839,
          -0.38244653,
          -0.8289411,
          0.36330646,
          -0.5602595,
          -0.35920206,
          -0.30076668,
          -0.21447265,
          -0.2564444,
          -0.20060655,
          -0.47185218,
          -0.6921114,
          -0.005932582,
          -1.0836164,
          -0.7475953,
          -0.12742741,
          -0.7345339,
          -0.58518046,
          -0.66938084,
          -1.0062934,
          -0.854032,
          -0.47935456,
          -0.29726753,
          0.20099829,
          0.34729344,
          -0.36393273,
          -0.046411738,
          -0.43368998,
          -0.6429813,
          -0.5483705,
          -0.47980532,
          -0.8360995,
          -0.55558217,
          0.2861002,
          -0.76699656,
          -0.41124025,
          -0.17372257,
          -0.74466354,
          -1.1464721,
          0.104894884,
          -0.50399476,
          0.28419054,
          0.2388699,
          -0.42356035,
          -0.52127296,
          -0.08767574,
          -0.024863437,
          0.05211539,
          -0.9147844,
          -0.7522192,
          -1.1082566,
          -0.3632784,
          0.041835453,
          -0.17856409,
          -0.5115801,
          -0.8337489,
          -0.745652,
          -0.5420068,
          -0.5768201,
          -1.0976424,
          -0.14586401,
          -0.48847604,
          -1.1139659,
          -0.8688094,
          -0.28844652,
          -0.8662018,
          -0.45832026,
          -0.3982757,
          -0.7986549,
          -0.28317806,
          -0.612782,
          -0.682646,
          -0.29738417,
          -0.42854807,
          0.41811222,
          -0.57942766,
          -0.026860043,
          -0.44354284,
          -0.32295936,
          -0.44765288,
          0.039334722,
          -0.9731328,
          -0.2664337,
          -0.55559206,
          -0.17085806,
          0.36297235,
          0.0852563,
          0.1929918,
          -0.06657818,
          -0.52754956,
          0.5446185,
          0.39191625,
          -0.71303904,
          -0.7122007,
          0.57857394,
          0.1704551,
          -0.45713806,
          -0.8177359,
          -0.3900557,
          0.6479338,
          -0.4014505,
          -0.49608517,
          -0.31745374,
          0.09473158,
          -0.71169657,
          -0.61989695,
          -0.8760212,
          -1.0571197,
          -0.5712709,
          -0.3511422,
          0.20219046,
          -0.31600457,
          -0.10785204,
          -0.3470856,
          -0.37889412,
          -0.36027348,
          0.12357861,
          -0.49780104,
          -0.32725325,
          -0.12051611,
          -0.67913693,
          0.25845522,
          -0.033771377,
          -0.23502254,
          -0.2376538,
          -0.42928934,
          -0.7945349,
          -0.27848682,
          -0.48596534,
          -0.89500535,
          -0.5614418,
          -0.111748524,
          0.19409692,
          0.0556145,
          0.15697654,
          -0.25784004,
          -0.46855664,
          -0.56285715,
          -0.47956812,
          -0.4444977,
          -0.34588364,
          -1.1765211,
          -0.7394583,
          -0.26755264,
          -0.45929486,
          -0.8665656,
          0.28259122,
          -0.74209946,
          -0.9066277,
          -0.688118,
          -0.3388518,
          -0.41967365,
          -0.26315197,
          -0.39788815,
          -0.42979345,
          -0.09895397,
          -0.30282655,
          -0.43718916,
          -0.5101745,
          -0.96507305,
          -1.0857198,
          -0.5013438,
          -0.018048998,
          -0.28594577,
          0.010046816,
          0.08501905,
          0.040987395,
          -0.11991516,
          -0.09217319,
          -0.19543496,
          0.15588127,
          0.13169183,
          0.3875057,
          -0.6023084,
          -0.26467422,
          -0.21447265,
          -0.20060655,
          -0.21672627,
          -0.69526654,
          0.13249648,
          -0.30218202,
          -0.15898874,
          -0.2564444,
          -0.07840402,
          -0.3066163,
          0.0036732694,
          -0.08797622,
          0.48285794,
          -0.5057976,
          -0.8524861,
          0.39953527,
          -1.0069914,
          -0.19594897,
          0.10009692,
          -0.49725345,
          -0.806855,
          -0.2576364,
          -0.5239338,
          -0.38180208,
          -0.46425298,
          0.08835804,
          -1.2901062,
          -0.17815681,
          -0.25851414,
          0.055871475,
          -0.48929045,
          -0.17650414,
          -0.16275465,
          -0.5413524,
          -1.1428128,
          0.106397375,
          -0.54286474,
          -0.1862997,
          -0.319654,
          0.11861069,
          -0.30381504,
          -0.53881794,
          -0.55918807,
          -0.48626584,
          0.57662064,
          -0.25143287,
          0.54446834,
          -0.45332855,
          -0.43116933,
          0.35856187,
          -0.9340157,
          0.13357195,
          -0.5091129,
          -0.024723023,
          -0.6827527,
          -0.44592306,
          0.3424223,
          0.20860744,
          -0.08118169,
          -0.09442689,
          -0.70398074,
          -0.24897562,
          -0.04524334,
          -0.47910753,
          -0.41484612,
          -0.68078965,
          -0.54876775,
          -0.18859679,
          -0.19593912,
          -0.5273362,
          -0.75551474,
          -0.2975778,
          -0.48946443,
          -0.35625052,
          -0.3926731,
          -0.38576183,
          -1.0136989,
          -0.0152477445,
          -0.36226037,
          -0.16725221,
          -1.1327997,
          -0.428034,
          0.47735223,
          -0.33316615,
          -0.50114995,
          -0.081258714,
          -0.33867192,
          0.5208798,
          -0.43504217,
          -0.37080055,
          -0.0161927,
          -0.80992323,
          -0.58594155,
          -1.2560976,
          -0.23615137,
          0.0380892,
          -1.1726146,
          -0.67282665,
          -0.15937617,
          -0.9772863,
          0.013996675,
          0.1320695,
          0.18568324,
          -0.6795007,
          -0.46838674,
          -0.47380537,
          -0.1344988,
          -0.46228006,
          -0.3429321,
          -0.6776444,
          0.37208384,
          -0.7013199,
          -0.41977057,
          -0.5611847,
          0.19137284,
          0.37484163,
          -0.88459504,
          -0.33882213,
          0.093282536,
          0.54871863,
          -0.076397434,
          0.08109289,
          -0.87046206,
          -0.6608071,
          0.16229834,
          -0.45092463,
          -0.18868388,
          -0.54010695,
          -1.0496074,
          -0.16154289,
          -1.0356346,
          -1.2061628,
          -0.46825618,
          -0.4458499,
          -0.07129897,
          -0.9259559,
          -0.053710494,
          0.14050297,
          -0.9352177,
          -0.82152575,
          0.38329887,
          -0.56435966,
          -0.10119774,
          -0.82798624,
          -0.49414185,
          0.04615895,
          -0.86365765,
          -0.47091717,
          -0.45903784,
          -1.0810621,
          -0.31584457,
          -0.7538285,
          -0.81752247,
          -0.38244653,
          -0.8289411,
          0.36330646,
          -0.5602595,
          -0.35920206,
          -0.75426924,
          0.2001839,
          -0.8914964,
          0.036189426,
          -0.35295504,
          -0.8928486,
          -0.67823553,
          -0.39036605,
          -0.45306173,
          0.60316074,
          -0.7554614,
          -0.30076668,
          -0.4500034,
          0.10229723,
          -0.8843915,
          -0.84998536,
          -0.6812404,
          -0.6769901,
          -0.8746689,
          -0.9228007,
          -0.943835,
          -0.69206786,
          -0.01584876,
          -0.38419607,
          0.3376343,
          0.32621568,
          -0.40603507,
          -0.32310963,
          -0.66952133,
          -0.09342849,
          -0.57651955,
          -0.5413524,
          -0.16275465,
          -0.17650414,
          -0.48929045,
          0.055871475,
          0.0036732694,
          -0.3066163,
          -0.07840402,
          -0.26467422,
          -0.41967365,
          -0.26315197,
          -0.39788815,
          -0.42979345,
          -0.09895397,
          -0.30282655,
          -0.43718916,
          -0.5101745,
          -0.21672627,
          -0.69526654,
          0.13249648,
          -0.30218202,
          -0.15898874,
          -0.11991516,
          -1.1428128,
          0.040987395,
          0.010046816,
          -0.28594577,
          -0.018048998,
          -0.5013438,
          -1.0857198,
          -0.96507305,
          0.08501905,
          -0.54286474,
          -0.48626584,
          -0.1862997,
          -0.806855,
          -0.2576364,
          -0.5239338,
          -0.38180208,
          -0.46425298,
          -1.0097926,
          -0.49725345,
          -0.39368126,
          -0.39812544,
          -0.17972255,
          -0.3628712,
          -0.46177593,
          -0.028178658,
          -0.028993227,
          0.18982686,
          -0.39207208,
          0.08835804,
          -1.0069914,
          -0.319654,
          0.11861069,
          -0.30381504,
          -0.53881794,
          -0.55918807,
          -0.25851414,
          0.10009692,
          0.106397375,
          -0.19594897,
          -0.08797622,
          0.48285794,
          -0.5057976,
          -0.8524861,
          0.39953527,
          -0.17815681,
          -0.09442689,
          -0.97268206,
          -0.75776845,
          0.09026778,
          0.26040837,
          0.09112568,
          -0.074788235,
          -1.2065699,
          -0.48367804,
          -0.10645634,
          -0.50281256,
          -0.68802124,
          -0.23270568,
          -0.84636945,
          -0.6554516,
          0.21242684,
          -0.055116046,
          0.69366145,
          -0.4929201,
          -0.08185965,
          -0.78621817,
          -0.23186737,
          -0.16960277,
          -0.1505117,
          -0.34628093,
          -0.5780754,
          -0.23690261,
          -0.51706606,
          -0.82002324,
          0.035084307,
          -1.0135486,
          -0.3090835,
          -0.41702262,
          -0.71089196,
          -0.5803389,
          -0.46380222,
          0.025274925,
          -0.3455832,
          0.15422861,
          -0.103688695,
          -0.48882,
          -0.76810175,
          0.005229103,
          -0.8401225,
          0.030576993,
          -0.840423,
          -0.5356628,
          -0.3581503,
          -1.139711,
          -0.037677724,
          -0.6472949,
          -0.1967971,
          0.24192823,
          0.44929993,
          -0.9142368,
          -0.07395988,
          -0.34880158,
          -0.060781866,
          0.009716542,
          -0.12288639,
          -0.8827287,
          -0.709443,
          -1.0267702,
          -0.38685703,
          -1.0393908,
          -0.48702696,
          0.068395235,
          -0.91057754,
          -0.37863714,
          -0.36201322,
          -0.35144275,
          -1.0444024,
          -0.52137977,
          -0.57015604,
          0.01337591,
          -0.038632616,
          -0.22856201,
          -0.5764128,
          -0.70458174,
          -0.055620123,
          0.17276217,
          -0.07378988,
          -0.24186067,
          0.11236367,
          -0.05235826,
          -0.903763,
          0.00043112374,
          -0.6173526,
          0.3848448,
          -0.28168553,
          -0.20187175,
          -0.933822,
          -1.2318112,
          -0.39892015,
          -0.9223065,
          0.013105077,
          0.057824705,
          0.21353194,
          0.5020893,
          -0.31172463,
          -0.47390226,
          -0.34453145,
          -0.20326748,
          -0.41250545,
          -0.44506505,
          -0.016803576,
          -0.2744738,
          -0.43262836,
          -0.6687364,
          -0.04224832,
          -0.11552439,
          -0.10002938,
          -0.714915,
          0.36767337,
          -0.89344954,
          -0.65646976,
          -0.13175088,
          -0.47762477,
          0.2153348,
          0.28413722,
          0.26014152,
          -0.53950596,
          -0.6246079,
          0.5812784,
          -0.002370145,
          -0.44745916,
          -0.3563039,
          -0.49683642,
          -0.87897265,
          -0.27404273,
          -0.71389693,
          -0.39786845,
          -0.52620727,
          -0.27366915,
          -0.40162456,
          -0.30496353,
          0.58708453,
          0.3995253,
          -0.34333938,
          -1.0263195,
          -0.3151902,
          -1.1394105,
          -0.70398074,
          -0.39368126,
          -0.23186737,
          -0.4458499,
          -0.34333938,
          -0.44765288,
          -0.01584876,
          -0.682646,
          -0.29738417,
          -0.45713806,
          -0.38685703,
          -0.38419607,
          -0.709443,
          -0.07129897,
          0.1704551,
          0.20219046,
          -0.48596534,
          0.57857394,
          -0.12288639,
          0.009716542,
          -0.060781866,
          -0.27848682,
          -0.42854807,
          -1.0263195,
          0.41811222,
          -0.7122007,
          -0.71303904,
          -0.45903784,
          -0.57942766,
          -0.8827287,
          -0.41250545,
          -0.32295936,
          -0.612782,
          -0.5483705,
          -0.37863714,
          -0.6429813,
          -0.61989695,
          -0.91057754,
          -0.43368998,
          0.068395235,
          -0.20187175,
          -0.8760212,
          -1.1394105,
          -0.30496353,
          -0.48702696,
          -0.3511422,
          -1.0356346,
          -1.0393908,
          0.3995253,
          0.2388699,
          -1.0571197,
          -0.44354284,
          -0.44506505,
          -0.5712709,
          -0.35144275,
          -1.2061628,
          -0.28317806,
          -0.46825618,
          -0.026860043,
          0.58708453,
          -0.16154289,
          -0.3151902,
          0.3376343,
          -1.1082566,
          -0.7522192,
          -0.9147844,
          -0.30076668,
          -0.42928934,
          -0.46380222,
          -0.52754956,
          -0.2376538,
          -0.23502254,
          -0.23690261,
          -0.06657818,
          -0.89500535,
          -0.3632784,
          0.05211539,
          0.0852563,
          0.36297235,
          -0.024863437,
          0.09026778,
          0.2001839,
          -0.033771377,
          0.26040837,
          -0.44745916,
          0.09112568,
          -0.38244653,
          -1.0810621,
          -0.074788235,
          0.1929918,
          -0.47091717,
          -0.9228007,
          0.041835453,
          -0.48847604,
          -0.34880158,
          -0.14586401,
          0.39191625,
          -0.33882213,
          -0.86365765,
          -0.5768201,
          -0.5420068,
          0.32621568,
          -0.20326748,
          -0.3563039,
          -0.745652,
          -0.4500034,
          -0.27366915,
          0.5446185,
          -0.47390226,
          -0.8337489,
          -0.3455832,
          -0.40603507,
          0.025274925,
          0.04615895,
          -0.49414185,
          -0.5115801,
          -0.7945349,
          -0.82798624,
          -0.17856409,
          -0.34453145,
          -0.65646976,
          -0.36201322,
          -0.31600457,
          -1.0836164,
          -0.005932582,
          -0.6921114,
          -0.3900557,
          0.34729344,
          -0.5764128,
          -0.36393273,
          -0.046411738,
          -0.56435966,
          0.6479338,
          -0.4014505,
          -0.22856201,
          -0.70458174,
          -0.8746689,
          -0.038632616,
          0.01337591,
          -0.49608517,
          -0.47185218,
          -0.50399476,
          -0.943835,
          0.2861002,
          -0.6472949,
          -0.037677724,
          0.104894884,
          0.21353194,
          0.00043112374,
          -0.903763,
          0.093282536,
          0.20099829,
          -0.8177359,
          -0.88459504,
          -0.24186067,
          -0.66938084,
          -0.6812404,
          -0.84998536,
          -1.0062934,
          -0.8843915,
          -0.58518046,
          -0.07378988,
          -0.854032,
          -0.7345339,
          0.10229723,
          -0.055620123,
          0.11236367,
          -0.05235826,
          0.37484163,
          -0.29726753,
          -0.81752247,
          -0.6769901,
          -0.7538285,
          0.57662064,
          -0.12742741,
          -0.1967971,
          0.17276217,
          -0.7475953,
          -0.31584457,
          -0.47935456,
          -0.07395988,
          -0.2744738,
          -0.6687364,
          -0.39786845,
          -0.52620727,
          0.16229834,
          -0.41124025,
          0.28419054,
          -0.76699656,
          -0.76810175,
          -0.48882,
          -0.45092463,
          -0.8662018,
          -0.103688695,
          -0.45832026,
          -0.6608071,
          -0.55558217,
          0.3848448,
          0.15422861,
          -0.3982757,
          -0.54010695,
          -0.40162456,
          -0.28168553,
          -0.8360995,
          0.030576993,
          -0.9142368,
          -0.47980532,
          -1.0267702,
          -1.0496074,
          -0.18868388,
          -0.43262836,
          0.005229103,
          -0.71169657,
          -0.32310963,
          -0.69206786,
          -1.1464721,
          0.54871863,
          -0.49683642,
          -0.6173526,
          -1.139711,
          -0.87897265,
          -0.3581503,
          -0.42356035,
          -0.076397434,
          -0.7986549,
          -0.17372257,
          -0.5356628,
          -0.52127296,
          0.08109289,
          -1.1139659,
          0.24192823,
          -0.840423,
          -0.8688094,
          -0.28844652,
          -0.27404273,
          -0.87046206,
          -0.8401225,
          -0.74466354,
          -0.71389693,
          -0.31745374,
          -1.2065699,
          -1.0976424,
          -1.0444024,
          -0.53950596,
          -0.7394583,
          0.14050297,
          -0.75426924,
          -0.3388518,
          -0.053710494,
          -0.47762477,
          -0.8914964,
          0.5812784,
          -0.71089196,
          -0.4444977,
          0.19409692,
          -0.41702262,
          -0.3090835,
          -0.17972255,
          -0.75776845,
          0.057824705,
          0.2153348,
          -0.9259559,
          -0.7554614,
          -0.08185965,
          -0.4929201,
          -0.89344954,
          0.5020893,
          -0.25784004,
          -0.1505117,
          -0.97268206,
          0.039334722,
          0.69366145,
          -0.38576183,
          -0.028993227,
          -0.34628093,
          -0.6246079,
          -0.688118,
          -0.111748524,
          -0.78621817,
          -0.39812544,
          -0.3926731,
          0.09473158,
          -0.9352177,
          -0.13175088,
          -0.9731328,
          0.60316074,
          -0.35625052,
          -0.5803389,
          -0.37889412,
          -0.18859679,
          -0.9223065,
          -0.67823553,
          -0.8665656,
          -0.39207208,
          -0.51706606,
          -0.09342849,
          -0.10785204,
          -0.028178658,
          -0.39892015,
          -0.19593912,
          -0.57651955,
          -0.39036605,
          -0.36226037,
          -0.5273362,
          -0.2975778,
          -0.45929486,
          -0.3628712,
          0.26014152,
          0.28413722,
          0.28259122,
          -0.26755264,
          -0.933822,
          0.036189426,
          -0.46177593,
          -0.5780754,
          0.15697654,
          -1.2318112,
          -0.82002324,
          -0.35295504,
          0.035084307,
          -0.41484612,
          0.013105077,
          -0.48946443,
          -0.8928486,
          -0.68078965,
          -0.54876775,
          0.0556145,
          -1.0135486,
          -1.0136989,
          -0.3470856,
          -0.56285715,
          -0.74209946,
          -0.11552439,
          -0.10002938,
          -0.47910753,
          0.12357861,
          -0.08767574,
          0.18982686,
          -0.55559206,
          -0.9066277,
          -0.5614418,
          0.38329887,
          -0.84636945,
          -0.714915,
          -0.10119774,
          -0.52137977,
          -0.47956812,
          0.36330646,
          -0.49780104,
          -0.68802124,
          -0.5602595,
          -0.16960277,
          -0.24897562,
          -0.32725325,
          -0.6554516,
          -0.36027348,
          -0.46855664,
          -0.31172463,
          -0.04524334,
          -0.016803576,
          -0.12051611,
          -0.17085806,
          -0.23270568,
          -0.67913693,
          -0.34588364,
          -0.50281256,
          -0.35920206,
          -0.0152477445,
          -0.8289411,
          -0.055116046,
          -0.48367804,
          -0.57015604,
          0.36767337,
          0.21242684,
          -0.04224832,
          -0.2664337,
          -1.1765211,
          -0.002370145,
          -0.45306173,
          -0.66952133,
          0.44929993,
          -0.10645634,
          0.25845522,
          -0.82152575
         ],
         "xaxis": "x",
         "y": [
          -0.2340758,
          -0.08648179,
          0.16267791,
          -0.710619,
          0.1687755,
          -0.08744577,
          -0.52195495,
          -0.7998646,
          -0.25091252,
          -0.20318775,
          0.051133532,
          -0.1870397,
          0.6745195,
          -0.22369954,
          -0.15905951,
          -0.08980582,
          0.25191426,
          -0.10492741,
          -0.24478711,
          -0.27102676,
          -0.09489555,
          -0.8039212,
          0.67856675,
          0.17409651,
          -0.15805171,
          -0.12746413,
          -0.23582552,
          -0.8561002,
          0.093997285,
          0.0918406,
          -0.051174164,
          -0.51935685,
          0.12579606,
          -0.29838073,
          -0.79866266,
          -0.08070994,
          -0.77772534,
          -0.69143146,
          -0.47632417,
          -0.26703265,
          -0.21390839,
          -0.89632195,
          -0.1563019,
          -0.74557287,
          -0.7838854,
          -0.111829326,
          -0.31815985,
          0.04708617,
          -0.8452918,
          0.24135321,
          -0.10891217,
          -0.6414091,
          -0.6673391,
          0.35635328,
          -0.8751907,
          0.32679886,
          0.22924586,
          -0.17018703,
          -0.25868142,
          -0.2657243,
          -0.7424177,
          -0.34918216,
          -0.038756955,
          -0.17434068,
          -0.021425625,
          -0.7800323,
          -0.5732949,
          -0.71938634,
          0.16037108,
          -0.39018053,
          0.0040628584,
          -0.40635377,
          0.19863044,
          0.95067006,
          0.105875924,
          -0.18214415,
          -0.7983622,
          -0.5823627,
          0.3222915,
          -0.8445406,
          0.10206665,
          -0.34722903,
          -0.20679365,
          -0.68242604,
          -0.11075898,
          -0.0073025986,
          0.06020139,
          0.12842199,
          -0.26283512,
          -0.22745566,
          -0.2972851,
          0.21421199,
          -0.544235,
          -0.2249201,
          -0.38792688,
          -1.1005584,
          -0.19817646,
          -0.24035148,
          -0.48879454,
          -0.36999446,
          -0.37576634,
          0.25293142,
          0.24088377,
          -0.52991784,
          -0.8042218,
          -0.25329778,
          -0.9657884,
          -0.043899905,
          -0.64531547,
          -0.1709196,
          -0.3398577,
          -0.7916011,
          -0.059287403,
          0.21121642,
          0.12384278,
          0.2780756,
          -0.8428348,
          0.3500151,
          0.3846433,
          -0.6391461,
          -0.077936485,
          -0.5145835,
          -0.36570916,
          0.25568897,
          -0.3203697,
          -0.5392424,
          -0.27934352,
          -0.8314162,
          -0.65993315,
          0.40241608,
          0.2553885,
          -0.24067722,
          -0.26734242,
          -0.14369066,
          -0.5564674,
          -0.78674,
          0.17285076,
          0.017027874,
          -0.12814362,
          -0.6986432,
          0.019096756,
          -0.013728551,
          -0.7663068,
          -0.048266355,
          -0.26709512,
          0.91816396,
          -0.12906367,
          -0.10651757,
          -0.03698861,
          -0.15545367,
          -0.5888578,
          0.023046933,
          -1.0388075,
          0.060642846,
          -0.30278176,
          0.91966635,
          -0.3424557,
          0.1419348,
          -0.20637749,
          -0.8090295,
          -0.22601572,
          -0.21910444,
          -0.22760591,
          -0.3131672,
          -0.6221685,
          -0.3071481,
          -0.498022,
          -0.5373238,
          -0.39234647,
          0.8597717,
          0.37526557,
          0.6639397,
          0.34017068,
          -0.7017545,
          -0.60534096,
          0.6677491,
          -0.640852,
          0.28588825,
          -0.26442534,
          -0.31514555,
          -0.8437894,
          -0.2598302,
          0.09169041,
          -0.62383044,
          -0.6610288,
          -0.19429536,
          -0.39009276,
          -0.8030729,
          -0.14203797,
          -0.16622745,
          0.24444585,
          -0.54935265,
          -1.0971026,
          -0.07680362,
          0.06810187,
          -0.20126913,
          0.07416485,
          -0.8443811,
          -0.098254114,
          -1.013964,
          -0.34605238,
          0.41529328,
          -0.122700214,
          -0.26838484,
          0.3342925,
          -0.631086,
          -0.3344927,
          -0.22431915,
          -0.7914509,
          -0.7670141,
          -0.4985073,
          -0.8150394,
          -0.6703971,
          -0.38982683,
          -0.4315072,
          -0.23757537,
          -0.17301373,
          -0.819193,
          0.29715666,
          -0.8763395,
          -0.3215371,
          -0.3051949,
          -0.52545434,
          -0.30385205,
          -0.14266421,
          -0.8906566,
          -0.5802062,
          -0.41301787,
          -0.72824156,
          -0.19300564,
          -0.86401933,
          0.30265325,
          0.19628905,
          -0.050660998,
          -0.038165335,
          -0.8019148,
          -0.75624025,
          0.2751052,
          0.04937443,
          0.21279731,
          -0.13061002,
          -0.7772746,
          -0.37765703,
          0.08951784,
          0.11244286,
          -0.5413365,
          -0.89081615,
          -0.63449776,
          -0.12098501,
          -0.28355038,
          -0.4006631,
          -0.3227829,
          0.078982,
          -0.7045028,
          -0.16730438,
          0.03432467,
          0.60210127,
          -0.8676252,
          -0.66899174,
          -0.84668785,
          0.28777903,
          -0.64871794,
          0.09797542,
          0.333657,
          -0.04176186,
          -0.47648376,
          -0.44612488,
          -0.5159889,
          0.643569,
          0.5124049,
          -0.034665853,
          -0.41277048,
          0.20849338,
          -0.4766779,
          -0.0018312559,
          -0.56502205,
          -0.8399269,
          -0.42413592,
          -0.3573739,
          0.2745135,
          -0.28892455,
          -0.7453695,
          0.050895523,
          -0.4114183,
          0.3727207,
          -0.7022491,
          -0.06244256,
          -0.756594,
          0.2852687,
          -0.15299653,
          0.5997944,
          -0.7841859,
          -0.5310666,
          -0.20186077,
          -0.9941317,
          0.3136212,
          -0.784142,
          0.14194408,
          -0.39690706,
          0.17033114,
          -0.9142544,
          -0.4708276,
          -0.64440477,
          -0.14476764,
          -0.02412071,
          0.12105999,
          -0.58025,
          -0.036662847,
          -0.13616906,
          0.20144115,
          0.07848739,
          -0.56107175,
          0.056701876,
          0.3665606,
          -0.22146446,
          0.53228104,
          -0.27414736,
          -0.78579473,
          0.078681536,
          -0.5000098,
          -0.3039837,
          -0.0025571955,
          -0.35163,
          -0.13986273,
          -0.7436636,
          -0.23648895,
          -0.22541471,
          -0.5647215,
          0.757101,
          0.13847917,
          -0.7596959,
          -0.35107288,
          -0.167924,
          -0.5411863,
          0.35648498,
          0.08269432,
          0.49465728,
          -0.80371773,
          -0.06639282,
          -0.20810193,
          -0.06603915,
          -0.50754064,
          -0.18415046,
          0.40987512,
          -0.33047995,
          -0.8652744,
          -0.51213574,
          -0.3700038,
          0.32184073,
          -0.22369954,
          0.13398105,
          -0.44273174,
          -0.36775944,
          0.05278621,
          -0.34605238,
          -1.013964,
          -0.098254114,
          -0.8443811,
          0.07416485,
          -0.20126913,
          -0.640852,
          0.6677491,
          -0.60534096,
          -0.3071481,
          -0.7663068,
          -0.048266355,
          -0.26709512,
          0.91816396,
          -0.12906367,
          -0.10651757,
          -0.03698861,
          0.8597717,
          0.37526557,
          0.6639397,
          0.34017068,
          -0.20637749,
          0.1419348,
          -0.122700214,
          -0.3424557,
          -0.30278176,
          0.060642846,
          -1.0388075,
          0.023046933,
          -0.5888578,
          -0.15545367,
          0.91966635,
          -0.7670141,
          -0.26838484,
          0.3342925,
          -0.8030729,
          -0.14203797,
          -0.16622745,
          0.24444585,
          -0.7453695,
          -0.5123924,
          -0.39009276,
          -0.39950505,
          -0.514646,
          -0.5286095,
          -0.32028195,
          0.17419365,
          -0.14719017,
          -0.5726939,
          -0.18880802,
          0.24023901,
          -0.19429536,
          -0.6610288,
          -0.631086,
          -0.3344927,
          -0.22431915,
          -0.7914509,
          0.06810187,
          0.41529328,
          -0.54935265,
          -0.07680362,
          0.28588825,
          -0.26442534,
          -0.31514555,
          -0.8437894,
          -0.2598302,
          0.09169041,
          -0.62383044,
          0.06546,
          -0.14010997,
          -0.50647026,
          -0.85064757,
          -0.54723996,
          0.5120512,
          -0.4025977,
          -0.6398974,
          0.11735706,
          -0.7305483,
          -0.41753447,
          -0.3941055,
          0.7994702,
          -0.49141127,
          0.24781375,
          -0.874333,
          -0.53792477,
          -0.043821428,
          -0.28001618,
          -0.52656853,
          -0.46210408,
          -0.7973105,
          0.11824924,
          -0.24584807,
          0.031310443,
          0.42936313,
          0.41474557,
          -0.42474625,
          0.16874091,
          -0.4523475,
          -0.42738807,
          -0.35027778,
          -0.3404148,
          -0.8494987,
          0.5515031,
          -0.8544037,
          -0.043599363,
          -0.9126016,
          -0.3923026,
          0.1410772,
          0.42679968,
          -0.682567,
          -0.14823261,
          -0.713217,
          0.3084689,
          -0.6100078,
          0.6159584,
          -0.46470213,
          0.24450839,
          -0.31266332,
          -0.7581496,
          -0.95391905,
          -0.5095817,
          -0.9193627,
          0.12850054,
          -0.26221552,
          0.2891658,
          0.25646546,
          -0.33154106,
          -0.24022648,
          -0.4582509,
          -0.6542238,
          0.18976593,
          -0.57158893,
          0.28448293,
          -0.03044961,
          0.20599246,
          -0.7076672,
          0.22603758,
          0.22461349,
          -0.43566096,
          -0.8149861,
          -0.15986395,
          -0.39495382,
          -0.3554739,
          -0.6694425,
          0.09096709,
          0.056560915,
          -0.35048124,
          -0.34114742,
          0.18712406,
          -0.30404618,
          -0.08798427,
          -0.35949594,
          0.40565896,
          -0.374317,
          0.557469,
          -0.239228,
          -0.64900917,
          -0.44533914,
          0.025450865,
          -0.17262547,
          -0.5614787,
          0.077294804,
          0.47003573,
          0.017337624,
          0.095358804,
          -0.24343488,
          -0.74376994,
          -0.42007005,
          -0.2495417,
          -0.14974433,
          -0.26351446,
          -0.683168,
          -0.33174446,
          0.1629784,
          -0.1577419,
          -0.15645218,
          -0.21569267,
          -0.34115672,
          -0.26161456,
          -0.66643757,
          -0.37856779,
          -0.75098175,
          -0.65772337,
          -0.4165891,
          -0.18658896,
          -0.59111154,
          0.007130311,
          -0.13600025,
          -0.85169923,
          0.1735049,
          -0.5945326,
          -0.10345019,
          0.51388866,
          0.305242,
          -0.27789414,
          -0.31376824,
          -0.83697516,
          -0.270003,
          -0.28142157,
          -0.70395505,
          -0.90278256,
          -0.2602624,
          -0.13670756,
          0.8314193,
          -0.68036646,
          -0.35256606,
          0.68482393,
          0.2258341,
          -0.96684015,
          -0.44382736,
          -0.5123924,
          -0.39950505,
          -0.18880802,
          -0.3051949,
          -0.52545434,
          -0.30385205,
          -0.14266421,
          -0.8906566,
          -0.5802062,
          -0.41301787,
          -0.72824156,
          -0.19300564,
          0.08951784,
          -0.37765703,
          -0.7772746,
          -0.13061002,
          0.21279731,
          0.04937443,
          0.11244286,
          0.2751052,
          -0.26703265,
          -0.47632417,
          -0.69143146,
          -0.77772534,
          -0.5145835,
          -0.6986432,
          -0.3215371,
          0.019096756,
          -0.86401933,
          0.30265325,
          0.19628905,
          -0.050660998,
          -0.038165335,
          -0.8019148,
          -0.013728551,
          -0.21390839,
          -0.8763395,
          -0.819193,
          0.078982,
          -0.3227829,
          -0.4006631,
          -0.28355038,
          -0.12098501,
          -0.16730438,
          -0.04176186,
          0.20849338,
          -0.47648376,
          0.2745135,
          -0.3573739,
          -0.42413592,
          -0.8399269,
          -0.56502205,
          -0.0018312559,
          -0.28892455,
          -0.4766779,
          -0.17301373,
          -0.23757537,
          -0.4315072,
          -0.38982683,
          -0.75624025,
          -0.5413365,
          0.29715666,
          -0.89081615,
          -0.44612488,
          -0.5159889,
          0.643569,
          0.5124049,
          -0.034665853,
          -0.41277048,
          -0.63449776,
          -0.89632195,
          -0.1563019,
          -0.74557287,
          0.051133532,
          -0.1870397,
          0.6745195,
          -0.2340758,
          -0.15905951,
          -0.08980582,
          0.25191426,
          -0.10492741,
          -0.51935685,
          -0.051174164,
          0.0918406,
          0.093997285,
          -0.8561002,
          -0.23582552,
          0.12579606,
          -0.12746413,
          0.17409651,
          0.2780756,
          -0.8428348,
          0.3500151,
          0.3846433,
          -0.6391461,
          0.0040628584,
          -0.20318775,
          -0.39018053,
          -0.29838073,
          -0.24478711,
          -0.27102676,
          -0.09489555,
          -0.8039212,
          0.67856675,
          0.16037108,
          -0.25091252,
          -0.7998646,
          -0.52195495,
          -0.038756955,
          -0.17434068,
          -0.021425625,
          -0.7800323,
          -0.5732949,
          -0.6673391,
          -0.34918216,
          -0.6414091,
          0.24135321,
          -0.8452918,
          0.04708617,
          -0.31815985,
          -0.111829326,
          -0.7838854,
          -0.10891217,
          -0.7045028,
          -0.71938634,
          -0.25868142,
          -0.08744577,
          0.1687755,
          -0.710619,
          0.16267791,
          -0.08648179,
          -0.15805171,
          -0.7424177,
          -0.79866266,
          -0.08070994,
          0.35635328,
          -0.8751907,
          0.32679886,
          0.22924586,
          -0.17018703,
          -0.2657243,
          0.03432467,
          0.09797542,
          0.60210127,
          0.056701876,
          -0.56107175,
          0.07848739,
          0.20144115,
          0.53228104,
          -0.13616906,
          -0.58025,
          0.12105999,
          -0.02412071,
          -0.14476764,
          -0.64440477,
          -0.4708276,
          -0.27414736,
          -0.44273174,
          -0.36775944,
          0.05278621,
          -0.5726939,
          -0.39009276,
          -0.8030729,
          -0.14203797,
          -0.16622745,
          0.24444585,
          -0.7453695,
          0.3665606,
          -0.5123924,
          -0.18880802,
          -0.514646,
          -0.5286095,
          -0.32028195,
          0.17419365,
          -0.14719017,
          -0.39950505,
          -0.22146446,
          -0.9142544,
          0.17033114,
          0.078681536,
          0.49465728,
          -0.80371773,
          -0.06639282,
          -0.20810193,
          -0.06603915,
          -0.18415046,
          -0.50754064,
          0.13398105,
          -0.33047995,
          -0.8652744,
          -0.51213574,
          -0.3700038,
          0.32184073,
          0.40987512,
          -0.19429536,
          -0.78579473,
          0.3727207,
          -0.39690706,
          0.14194408,
          -0.784142,
          0.3136212,
          -0.9941317,
          -0.20186077,
          -0.036662847,
          -0.5310666,
          0.5997944,
          -0.15299653,
          0.2852687,
          -0.756594,
          -0.06244256,
          -0.7022491,
          -0.7841859,
          0.12384278,
          -0.54935265,
          0.09169041,
          0.023046933,
          -1.0388075,
          0.060642846,
          -0.30278176,
          0.91966635,
          -0.3424557,
          0.1419348,
          -0.20637749,
          0.34017068,
          0.6639397,
          0.37526557,
          0.8597717,
          -0.39234647,
          -0.5373238,
          -0.7017545,
          -0.498022,
          -0.6221685,
          -0.8676252,
          -0.66899174,
          -0.84668785,
          0.28777903,
          -0.64871794,
          -0.6703971,
          -0.5888578,
          0.333657,
          -1.0971026,
          -0.8090295,
          -0.22601572,
          -0.21910444,
          -0.22760591,
          -0.3131672,
          -0.8150394,
          -0.15545367,
          -0.03698861,
          -0.10651757,
          0.3342925,
          -0.631086,
          -0.3344927,
          -0.22431915,
          -0.7914509,
          0.06810187,
          -0.26838484,
          0.41529328,
          -0.62383044,
          0.28588825,
          -0.26442534,
          -0.31514555,
          -0.8437894,
          -0.2598302,
          -0.07680362,
          -0.6610288,
          -0.7670141,
          -0.34605238,
          -0.12906367,
          0.91816396,
          -0.26709512,
          -0.048266355,
          -0.7663068,
          -0.3071481,
          -0.122700214,
          -0.60534096,
          -0.640852,
          -0.20126913,
          0.07416485,
          -0.8443811,
          -0.098254114,
          -1.013964,
          0.6677491,
          -0.077936485,
          0.21121642,
          -0.7916011,
          -0.35949594,
          0.40565896,
          -0.374317,
          0.557469,
          -0.239228,
          -0.64900917,
          -0.44533914,
          0.025450865,
          -0.33174446,
          -0.683168,
          -0.26351446,
          -0.14974433,
          -0.2495417,
          -0.42007005,
          0.1629784,
          -0.74376994,
          0.095358804,
          -0.13986273,
          -0.35163,
          -0.0025571955,
          -0.3039837,
          -0.5000098,
          0.24023901,
          -0.08798427,
          0.06546,
          -0.50647026,
          -0.17262547,
          -0.5614787,
          0.077294804,
          0.47003573,
          0.017337624,
          -0.14010997,
          -0.30404618,
          0.18712406,
          -0.34114742,
          -0.68036646,
          -0.35256606,
          0.68482393,
          0.2258341,
          -0.96684015,
          -0.27789414,
          0.8314193,
          -0.2602624,
          -0.4165891,
          -0.34115672,
          -0.26161456,
          -0.66643757,
          -0.37856779,
          -0.75098175,
          0.305242,
          -0.7436636,
          -0.44382736,
          -0.90278256,
          -0.35048124,
          0.056560915,
          0.09096709,
          -0.6694425,
          -0.3554739,
          -0.24343488,
          -0.13670756,
          -0.1577419,
          -0.21569267,
          -0.31376824,
          -0.83697516,
          -0.270003,
          -0.28142157,
          -0.70395505,
          -0.15645218,
          -0.65772337,
          -0.23648895,
          -0.5647215,
          -0.9941317,
          0.3136212,
          -0.784142,
          0.14194408,
          -0.39690706,
          0.17033114,
          -0.9142544,
          -0.22146446,
          0.3665606,
          0.056701876,
          -0.56107175,
          0.07848739,
          0.20144115,
          0.53228104,
          -0.13616906,
          -0.58025,
          0.12105999,
          -0.514646,
          -0.5286095,
          -0.32028195,
          0.17419365,
          -0.14719017,
          -0.5726939,
          -0.20186077,
          0.05278621,
          -0.44273174,
          -0.27414736,
          -0.4708276,
          -0.64440477,
          -0.14476764,
          -0.02412071,
          -0.36775944,
          -0.5310666,
          -0.7841859,
          0.5997944,
          -0.33047995,
          -0.8652744,
          -0.51213574,
          -0.3700038,
          0.32184073,
          -0.22369954,
          0.13398105,
          0.08269432,
          -0.5411863,
          -0.167924,
          -0.35107288,
          -0.7596959,
          0.13847917,
          0.757101,
          0.35648498,
          -0.22541471,
          0.40987512,
          -0.06603915,
          -0.15299653,
          0.2852687,
          -0.756594,
          -0.06244256,
          -0.7022491,
          0.3727207,
          -0.50754064,
          -0.036662847,
          -0.18415046,
          0.078681536,
          0.49465728,
          -0.80371773,
          -0.06639282,
          -0.20810193,
          -0.78579473,
          -0.39234647,
          -0.18658896,
          -0.59111154,
          0.10206665,
          -0.34722903,
          -0.20679365,
          -0.68242604,
          -0.11075898,
          -0.0073025986,
          0.06020139,
          0.12842199,
          0.25293142,
          -0.37576634,
          -0.36999446,
          -0.48879454,
          -0.24035148,
          -0.19817646,
          0.24088377,
          -1.1005584,
          -0.2249201,
          -0.46470213,
          0.24450839,
          -0.31266332,
          -0.7581496,
          -0.95391905,
          -0.4114183,
          -0.8445406,
          -0.8149861,
          -0.4985073,
          -0.26283512,
          -0.22745566,
          -0.2972851,
          0.21421199,
          -0.544235,
          0.050895523,
          0.3222915,
          -0.5823627,
          -0.7983622,
          -0.14369066,
          -0.5564674,
          -0.78674,
          0.17285076,
          0.017027874,
          0.25568897,
          -0.26734242,
          0.2553885,
          -0.059287403,
          -0.9657884,
          -0.043899905,
          -0.64531547,
          -0.1709196,
          -0.3398577,
          -0.36570916,
          0.6159584,
          -0.12814362,
          0.40241608,
          -0.18214415,
          0.105875924,
          0.95067006,
          0.19863044,
          -0.40635377,
          -0.38792688,
          -0.24067722,
          -0.52991784,
          -0.25329778,
          -0.3203697,
          -0.5392424,
          -0.27934352,
          -0.8314162,
          -0.65993315,
          -0.8042218,
          -0.10345019,
          -0.5095817,
          -0.713217,
          0.7994702,
          -0.49141127,
          0.24781375,
          -0.874333,
          -0.53792477,
          -0.043821428,
          -0.28001618,
          -0.52656853,
          -0.8494987,
          -0.3404148,
          -0.35027778,
          -0.42738807,
          -0.4523475,
          0.16874091,
          0.5515031,
          -0.42474625,
          0.42936313,
          0.007130311,
          -0.13600025,
          -0.85169923,
          0.1735049,
          -0.5945326,
          -0.39495382,
          -0.3941055,
          0.51388866,
          -0.9193627,
          -0.46210408,
          -0.7973105,
          0.11824924,
          -0.24584807,
          0.031310443,
          -0.15986395,
          -0.41753447,
          -0.7305483,
          0.11735706,
          -0.03044961,
          0.20599246,
          -0.7076672,
          0.22603758,
          0.22461349,
          -0.26221552,
          0.28448293,
          0.18976593,
          0.3084689,
          -0.3923026,
          0.1410772,
          0.42679968,
          -0.682567,
          -0.14823261,
          0.12850054,
          -0.6100078,
          -0.43566096,
          -0.6542238,
          -0.6398974,
          -0.4025977,
          0.5120512,
          -0.54723996,
          -0.85064757,
          0.41474557,
          -0.57158893,
          -0.8544037,
          -0.9126016,
          0.2891658,
          0.25646546,
          -0.33154106,
          -0.24022648,
          -0.4582509,
          -0.043599363,
          -0.5373238,
          0.08269432,
          0.24450839,
          -0.74376994,
          -0.33154106,
          -0.74557287,
          -0.31376824,
          -0.5159889,
          0.643569,
          0.17409651,
          -0.52991784,
          -0.83697516,
          -0.38792688,
          0.095358804,
          -0.12746413,
          0.67856675,
          -0.7838854,
          0.12579606,
          0.19863044,
          0.95067006,
          0.105875924,
          -0.111829326,
          0.5124049,
          -0.24022648,
          -0.034665853,
          -0.23582552,
          -0.8561002,
          0.017337624,
          -0.41277048,
          -0.40635377,
          -0.24584807,
          -0.1563019,
          -0.44612488,
          -0.69143146,
          -0.8314162,
          -0.47632417,
          -0.29838073,
          -0.27934352,
          -0.26703265,
          -0.5392424,
          0.42936313,
          -0.24478711,
          -0.043599363,
          -0.9126016,
          -0.3203697,
          -0.8039212,
          -0.2495417,
          -0.25329778,
          0.25646546,
          -0.21390839,
          -0.27102676,
          -0.89632195,
          0.031310443,
          -0.09489555,
          -0.8042218,
          -0.42007005,
          -0.89081615,
          0.1629784,
          -0.63449776,
          0.2891658,
          -0.14974433,
          -0.4582509,
          -0.270003,
          -0.16730438,
          -0.12098501,
          -0.28355038,
          -0.44382736,
          0.04708617,
          0.3222915,
          -0.051174164,
          -0.8452918,
          0.24135321,
          -0.8445406,
          -0.51935685,
          -0.10891217,
          -0.04176186,
          -0.4006631,
          0.25191426,
          -0.08980582,
          -0.3227829,
          0.10206665,
          0.8314193,
          -0.6414091,
          -0.34722903,
          -0.43566096,
          -0.20679365,
          -0.68036646,
          -0.14010997,
          -0.68242604,
          -0.10492741,
          0.47003573,
          -0.13670756,
          0.20849338,
          -0.4766779,
          -0.18214415,
          -0.28892455,
          0.093997285,
          -0.7916011,
          0.077294804,
          -0.56502205,
          -0.8399269,
          -0.28142157,
          0.11824924,
          -0.6542238,
          -0.42413592,
          -0.90278256,
          -0.57158893,
          0.0918406,
          -0.46210408,
          -0.3573739,
          -0.7983622,
          -0.70395505,
          -0.5823627,
          -0.5614787,
          -0.17262547,
          0.2745135,
          -0.31815985,
          -0.50647026,
          -0.47648376,
          -0.7973105,
          0.28448293,
          -0.65993315,
          0.16037108,
          -0.14266421,
          -0.30385205,
          -0.52545434,
          -0.8428348,
          0.04937443,
          -0.874333,
          0.11244286,
          0.2751052,
          -0.08798427,
          0.3500151,
          0.3846433,
          0.24781375,
          -0.53792477,
          -0.24343488,
          -0.49141127,
          0.7994702,
          -0.6391461,
          -0.3051949,
          -0.8019148,
          -0.1577419,
          -0.3215371,
          -0.1709196,
          -0.64531547,
          -0.038165335,
          -0.3941055,
          -0.4523475,
          -0.42738807,
          -0.35949594,
          0.21279731,
          0.2780756,
          0.21121642,
          -0.8494987,
          -0.19300564,
          -0.6694425,
          0.09096709,
          0.08951784,
          0.056560915,
          -0.72824156,
          -0.52656853,
          -0.37765703,
          -0.41301787,
          -0.35048124,
          -0.043821428,
          -0.3404148,
          -0.35027778,
          -0.077936485,
          -0.13061002,
          -0.34114742,
          -0.3554739,
          0.18712406,
          0.12384278,
          -0.5802062,
          -0.3398577,
          -0.28001618,
          -0.8906566,
          -0.30404618,
          -0.7772746,
          0.40241608,
          -0.41753447,
          0.11735706,
          -0.85064757,
          0.41474557,
          -0.44533914,
          -0.86401933,
          -0.013728551,
          0.019096756,
          0.17285076,
          -0.78674,
          0.025450865,
          -0.38982683,
          -0.5564674,
          -0.75624025,
          -0.64900917,
          -0.6986432,
          0.5515031,
          -0.14369066,
          -0.5413365,
          -0.683168,
          -0.8544037,
          -0.42474625,
          -0.5145835,
          -0.26734242,
          -0.12814362,
          -0.77772534,
          -0.24067722,
          -0.26351446,
          -0.33174446,
          -0.7305483,
          0.017027874,
          -0.39018053,
          -0.15645218,
          -0.21569267,
          -0.050660998,
          0.40565896,
          -0.6398974,
          0.16874091,
          -0.043899905,
          -0.4025977,
          -0.9657884,
          -0.8763395,
          -0.374317,
          0.29715666,
          0.30265325,
          -0.059287403,
          -0.819193,
          0.557469,
          -0.17301373,
          -0.36570916,
          0.2553885,
          -0.23757537,
          -0.4315072,
          0.5120512,
          -0.239228,
          0.25568897,
          0.19628905,
          -0.54723996,
          0.0040628584,
          -0.11075898,
          -0.0018312559,
          -0.10345019,
          -0.682567,
          0.35635328,
          -0.0025571955,
          -0.27789414,
          0.60210127,
          -0.35163,
          0.3084689,
          -0.2602624,
          0.12850054,
          -0.544235,
          -0.7424177,
          -0.25868142,
          0.21421199,
          -0.2972851,
          -0.167924,
          -0.59111154,
          -0.39495382,
          -0.3923026,
          -0.13986273,
          -0.7436636,
          -0.2249201,
          -1.1005584,
          -0.26221552,
          0.51388866,
          -0.710619,
          -0.7581496,
          -0.18658896,
          0.051133532,
          0.24088377,
          -0.21910444,
          0.757101,
          -0.95391905,
          -0.14823261,
          0.09797542,
          -0.71938634,
          -0.46470213,
          -0.5411863,
          -0.22601572,
          -0.20318775,
          -0.3039837,
          0.18976593,
          -0.1870397,
          0.305242,
          -0.8090295,
          0.050895523,
          -0.52195495,
          0.28777903,
          0.1735049,
          -0.66643757,
          0.22924586,
          -0.22541471,
          -0.8149861,
          -0.23648895,
          -0.25091252,
          0.13847917,
          -0.85169923,
          -0.64871794,
          -0.5647215,
          -0.37856779,
          -0.8150394,
          -0.6703971,
          0.333657,
          0.32679886,
          -0.35107288,
          0.42679968,
          0.1410772,
          -0.17018703,
          -0.8751907,
          0.007130311,
          -0.4165891,
          -0.7596959,
          -0.4114183,
          0.1687755,
          -0.13600025,
          -0.4985073,
          -0.34115672,
          -0.26283512,
          -0.8676252,
          -0.5945326,
          -1.0971026,
          -0.26161456,
          -0.66899174,
          -0.84668785,
          -0.08744577,
          -0.22745566,
          -0.22760591,
          -0.7998646,
          -0.08648179,
          -0.2657243,
          0.20599246,
          -0.7076672,
          -0.6221685,
          -0.17434068,
          0.078982,
          0.35648498,
          -0.2340758,
          0.03432467,
          -0.7045028,
          0.24023901,
          -0.36999446,
          0.22603758,
          0.06546,
          -0.5095817,
          -0.15805171,
          0.68482393,
          -0.021425625,
          0.25293142,
          0.2258341,
          -0.31266332,
          -0.7017545,
          -0.7800323,
          -0.48879454,
          -0.038756955,
          0.16267791,
          -0.9193627,
          -0.498022,
          -0.15986395,
          -0.5732949,
          -0.15905951,
          -0.37576634,
          -0.6673391,
          -0.79866266,
          0.12842199,
          -0.96684015,
          -0.3131672,
          -0.35256606,
          -0.19817646,
          -0.0073025986,
          -0.713217,
          0.22461349,
          -0.24035148,
          -0.03044961,
          0.6745195,
          -0.08070994,
          -0.6100078,
          -0.75098175,
          -0.65772337,
          0.6159584,
          0.06020139,
          -0.34918216,
          -0.5000098
         ],
         "yaxis": "y"
        },
        {
         "customdata": [
          [
           29
          ],
          [
           31
          ],
          [
           32
          ],
          [
           31
          ],
          [
           25
          ],
          [
           26
          ],
          [
           30
          ],
          [
           28
          ],
          [
           31
          ],
          [
           33
          ],
          [
           30
          ],
          [
           24
          ],
          [
           21
          ],
          [
           30
          ],
          [
           19
          ],
          [
           28
          ],
          [
           30
          ],
          [
           28
          ],
          [
           18
          ],
          [
           25
          ],
          [
           32
          ],
          [
           27
          ],
          [
           24
          ],
          [
           24
          ],
          [
           32
          ],
          [
           29
          ],
          [
           28
          ],
          [
           27
          ],
          [
           31
          ],
          [
           26
          ],
          [
           30
          ],
          [
           24
          ],
          [
           20
          ],
          [
           31
          ],
          [
           27
          ],
          [
           23
          ],
          [
           29
          ],
          [
           28
          ],
          [
           32
          ],
          [
           23
          ],
          [
           23
          ],
          [
           20
          ],
          [
           29
          ],
          [
           30
          ],
          [
           32
          ],
          [
           29
          ],
          [
           28
          ],
          [
           24
          ],
          [
           32
          ],
          [
           33
          ],
          [
           28
          ],
          [
           28
          ],
          [
           28
          ],
          [
           29
          ],
          [
           24
          ],
          [
           24
          ],
          [
           25
          ],
          [
           32
          ],
          [
           30
          ],
          [
           31
          ],
          [
           21
          ],
          [
           20
          ],
          [
           29
          ],
          [
           22
          ],
          [
           27
          ],
          [
           28
          ],
          [
           29
          ],
          [
           22
          ],
          [
           30
          ],
          [
           30
          ],
          [
           31
          ],
          [
           25
          ],
          [
           30
          ],
          [
           32
          ],
          [
           23
          ],
          [
           31
          ],
          [
           27
          ],
          [
           30
          ],
          [
           26
          ],
          [
           24
          ],
          [
           30
          ],
          [
           31
          ],
          [
           29
          ],
          [
           31
          ],
          [
           21
          ],
          [
           27
          ],
          [
           24
          ],
          [
           18
          ],
          [
           30
          ],
          [
           27
          ],
          [
           29
          ],
          [
           29
          ],
          [
           30
          ],
          [
           30
          ],
          [
           25
          ],
          [
           27
          ],
          [
           32
          ],
          [
           26
          ],
          [
           26
          ],
          [
           29
          ],
          [
           27
          ],
          [
           26
          ],
          [
           27
          ],
          [
           29
          ],
          [
           30
          ],
          [
           31
          ],
          [
           27
          ],
          [
           32
          ],
          [
           30
          ],
          [
           33
          ],
          [
           32
          ],
          [
           18
          ],
          [
           25
          ],
          [
           29
          ],
          [
           30
          ],
          [
           26
          ],
          [
           30
          ],
          [
           32
          ],
          [
           31
          ],
          [
           22
          ],
          [
           28
          ],
          [
           25
          ],
          [
           30
          ],
          [
           28
          ],
          [
           31
          ],
          [
           31
          ],
          [
           26
          ],
          [
           25
          ],
          [
           23
          ],
          [
           29
          ],
          [
           31
          ],
          [
           27
          ],
          [
           28
          ],
          [
           33
          ],
          [
           32
          ],
          [
           24
          ],
          [
           27
          ],
          [
           20
          ],
          [
           31
          ],
          [
           28
          ],
          [
           27
          ],
          [
           23
          ],
          [
           29
          ],
          [
           18
          ],
          [
           31
          ],
          [
           27
          ],
          [
           23
          ],
          [
           31
          ],
          [
           24
          ],
          [
           29
          ],
          [
           28
          ],
          [
           29
          ],
          [
           25
          ],
          [
           30
          ],
          [
           33
          ],
          [
           29
          ],
          [
           24
          ],
          [
           29
          ],
          [
           24
          ],
          [
           27
          ],
          [
           30
          ],
          [
           28
          ],
          [
           32
          ],
          [
           25
          ],
          [
           31
          ],
          [
           33
          ],
          [
           25
          ],
          [
           26
          ],
          [
           32
          ],
          [
           26
          ],
          [
           30
          ],
          [
           31
          ],
          [
           31
          ],
          [
           31
          ],
          [
           32
          ],
          [
           29
          ],
          [
           29
          ],
          [
           31
          ],
          [
           29
          ],
          [
           29
          ],
          [
           28
          ],
          [
           29
          ],
          [
           32
          ],
          [
           28
          ],
          [
           20
          ],
          [
           19
          ],
          [
           27
          ],
          [
           26
          ],
          [
           32
          ],
          [
           25
          ],
          [
           25
          ],
          [
           31
          ],
          [
           30
          ],
          [
           25
          ],
          [
           23
          ],
          [
           31
          ],
          [
           20
          ],
          [
           26
          ],
          [
           30
          ],
          [
           31
          ],
          [
           31
          ],
          [
           27
          ],
          [
           19
          ],
          [
           32
          ],
          [
           23
          ],
          [
           30
          ],
          [
           28
          ],
          [
           18
          ],
          [
           24
          ],
          [
           30
          ],
          [
           28
          ],
          [
           31
          ],
          [
           27
          ],
          [
           28
          ],
          [
           32
          ],
          [
           25
          ],
          [
           31
          ],
          [
           31
          ],
          [
           32
          ],
          [
           29
          ],
          [
           27
          ],
          [
           27
          ],
          [
           31
          ],
          [
           25
          ],
          [
           30
          ],
          [
           29
          ],
          [
           31
          ],
          [
           30
          ],
          [
           24
          ],
          [
           27
          ],
          [
           26
          ],
          [
           24
          ],
          [
           21
          ],
          [
           30
          ],
          [
           31
          ],
          [
           27
          ],
          [
           28
          ],
          [
           29
          ],
          [
           33
          ],
          [
           28
          ],
          [
           31
          ],
          [
           28
          ],
          [
           29
          ],
          [
           20
          ],
          [
           31
          ],
          [
           32
          ],
          [
           23
          ],
          [
           32
          ],
          [
           32
          ],
          [
           27
          ],
          [
           29
          ],
          [
           30
          ],
          [
           28
          ],
          [
           29
          ],
          [
           29
          ],
          [
           20
          ],
          [
           25
          ],
          [
           31
          ],
          [
           21
          ],
          [
           32
          ],
          [
           28
          ],
          [
           26
          ],
          [
           29
          ],
          [
           21
          ],
          [
           29
          ],
          [
           28
          ],
          [
           25
          ],
          [
           29
          ],
          [
           27
          ],
          [
           29
          ],
          [
           27
          ],
          [
           24
          ],
          [
           26
          ],
          [
           32
          ],
          [
           21
          ],
          [
           32
          ],
          [
           28
          ],
          [
           31
          ],
          [
           29
          ],
          [
           28
          ],
          [
           27
          ],
          [
           32
          ],
          [
           28
          ],
          [
           31
          ],
          [
           26
          ],
          [
           25
          ],
          [
           29
          ],
          [
           29
          ],
          [
           30
          ],
          [
           26
          ],
          [
           30
          ],
          [
           32
          ],
          [
           30
          ],
          [
           32
          ],
          [
           28
          ],
          [
           27
          ],
          [
           27
          ],
          [
           28
          ],
          [
           28
          ],
          [
           29
          ],
          [
           32
          ],
          [
           25
          ],
          [
           26
          ],
          [
           27
          ],
          [
           32
          ],
          [
           30
          ],
          [
           30
          ],
          [
           32
          ],
          [
           30
          ],
          [
           32
          ],
          [
           30
          ],
          [
           25
          ],
          [
           27
          ],
          [
           26
          ],
          [
           19
          ],
          [
           31
          ],
          [
           27
          ],
          [
           30
          ],
          [
           32
          ],
          [
           26
          ],
          [
           29
          ],
          [
           27
          ],
          [
           27
          ],
          [
           30
          ],
          [
           28
          ],
          [
           23
          ],
          [
           27
          ],
          [
           24
          ],
          [
           29
          ],
          [
           28
          ],
          [
           33
          ],
          [
           29
          ],
          [
           31
          ],
          [
           25
          ],
          [
           29
          ],
          [
           28
          ],
          [
           26
          ],
          [
           30
          ],
          [
           25
          ],
          [
           28
          ],
          [
           31
          ],
          [
           26
          ],
          [
           27
          ],
          [
           20
          ],
          [
           26
          ],
          [
           30
          ],
          [
           22
          ],
          [
           26
          ],
          [
           30
          ],
          [
           24
          ],
          [
           31
          ],
          [
           30
          ],
          [
           24
          ],
          [
           28
          ],
          [
           27
          ],
          [
           29
          ],
          [
           21
          ],
          [
           31
          ],
          [
           26
          ],
          [
           24
          ],
          [
           24
          ],
          [
           32
          ],
          [
           32
          ],
          [
           18
          ],
          [
           25
          ],
          [
           31
          ],
          [
           30
          ],
          [
           30
          ],
          [
           19
          ],
          [
           29
          ],
          [
           30
          ],
          [
           30
          ],
          [
           26
          ],
          [
           31
          ],
          [
           22
          ],
          [
           24
          ],
          [
           30
          ],
          [
           31
          ],
          [
           31
          ],
          [
           26
          ],
          [
           25
          ],
          [
           29
          ],
          [
           30
          ],
          [
           31
          ],
          [
           29
          ],
          [
           31
          ],
          [
           31
          ],
          [
           21
          ],
          [
           18
          ],
          [
           24
          ],
          [
           30
          ],
          [
           28
          ],
          [
           32
          ],
          [
           31
          ],
          [
           27
          ],
          [
           32
          ],
          [
           27
          ],
          [
           32
          ],
          [
           30
          ],
          [
           31
          ],
          [
           26
          ],
          [
           31
          ],
          [
           29
          ],
          [
           32
          ],
          [
           31
          ],
          [
           28
          ],
          [
           18
          ],
          [
           33
          ],
          [
           27
          ],
          [
           18
          ],
          [
           20
          ],
          [
           31
          ],
          [
           23
          ],
          [
           21
          ],
          [
           27
          ],
          [
           30
          ],
          [
           30
          ],
          [
           26
          ],
          [
           30
          ],
          [
           20
          ],
          [
           32
          ],
          [
           29
          ],
          [
           31
          ],
          [
           27
          ],
          [
           22
          ],
          [
           23
          ],
          [
           25
          ],
          [
           29
          ],
          [
           31
          ],
          [
           20
          ],
          [
           32
          ],
          [
           27
          ],
          [
           30
          ],
          [
           29
          ],
          [
           29
          ],
          [
           31
          ],
          [
           27
          ],
          [
           31
          ],
          [
           32
          ],
          [
           26
          ],
          [
           32
          ],
          [
           31
          ],
          [
           33
          ],
          [
           32
          ],
          [
           26
          ],
          [
           28
          ],
          [
           29
          ],
          [
           31
          ],
          [
           32
          ],
          [
           31
          ],
          [
           27
          ],
          [
           29
          ],
          [
           26
          ],
          [
           25
          ],
          [
           30
          ],
          [
           24
          ],
          [
           31
          ],
          [
           28
          ],
          [
           20
          ],
          [
           27
          ],
          [
           32
          ],
          [
           29
          ],
          [
           25
          ],
          [
           30
          ],
          [
           30
          ],
          [
           29
          ],
          [
           31
          ],
          [
           18
          ],
          [
           23
          ],
          [
           21
          ],
          [
           28
          ],
          [
           30
          ],
          [
           25
          ],
          [
           20
          ],
          [
           32
          ],
          [
           22
          ],
          [
           24
          ],
          [
           32
          ],
          [
           22
          ],
          [
           27
          ],
          [
           30
          ],
          [
           20
          ],
          [
           30
          ],
          [
           28
          ],
          [
           25
          ],
          [
           27
          ],
          [
           21
          ],
          [
           28
          ],
          [
           26
          ],
          [
           26
          ],
          [
           29
          ],
          [
           27
          ],
          [
           29
          ],
          [
           27
          ],
          [
           21
          ],
          [
           32
          ],
          [
           29
          ],
          [
           29
          ],
          [
           28
          ],
          [
           31
          ],
          [
           28
          ],
          [
           32
          ],
          [
           29
          ],
          [
           27
          ],
          [
           29
          ],
          [
           29
          ],
          [
           29
          ],
          [
           31
          ],
          [
           29
          ],
          [
           26
          ],
          [
           27
          ],
          [
           30
          ],
          [
           28
          ],
          [
           30
          ],
          [
           23
          ],
          [
           27
          ],
          [
           19
          ],
          [
           28
          ],
          [
           29
          ],
          [
           28
          ],
          [
           29
          ],
          [
           30
          ],
          [
           26
          ],
          [
           28
          ],
          [
           31
          ],
          [
           31
          ],
          [
           25
          ],
          [
           26
          ],
          [
           27
          ],
          [
           26
          ],
          [
           28
          ],
          [
           29
          ],
          [
           26
          ],
          [
           29
          ],
          [
           22
          ],
          [
           28
          ],
          [
           30
          ],
          [
           32
          ],
          [
           27
          ],
          [
           31
          ],
          [
           29
          ],
          [
           30
          ],
          [
           31
          ],
          [
           32
          ],
          [
           30
          ],
          [
           32
          ],
          [
           23
          ],
          [
           29
          ],
          [
           24
          ],
          [
           28
          ],
          [
           30
          ],
          [
           20
          ],
          [
           30
          ],
          [
           21
          ],
          [
           32
          ],
          [
           31
          ],
          [
           29
          ],
          [
           32
          ],
          [
           31
          ],
          [
           28
          ],
          [
           28
          ],
          [
           32
          ],
          [
           20
          ],
          [
           31
          ],
          [
           32
          ],
          [
           29
          ],
          [
           22
          ],
          [
           19
          ],
          [
           28
          ],
          [
           26
          ],
          [
           31
          ],
          [
           22
          ],
          [
           25
          ],
          [
           30
          ],
          [
           28
          ],
          [
           22
          ],
          [
           28
          ],
          [
           24
          ],
          [
           32
          ],
          [
           25
          ],
          [
           25
          ],
          [
           25
          ],
          [
           32
          ],
          [
           21
          ],
          [
           29
          ],
          [
           29
          ],
          [
           27
          ],
          [
           32
          ],
          [
           28
          ],
          [
           22
          ],
          [
           32
          ],
          [
           29
          ],
          [
           28
          ],
          [
           31
          ],
          [
           29
          ],
          [
           27
          ],
          [
           32
          ],
          [
           27
          ],
          [
           32
          ],
          [
           30
          ],
          [
           29
          ],
          [
           31
          ],
          [
           26
          ],
          [
           29
          ],
          [
           29
          ],
          [
           29
          ],
          [
           20
          ],
          [
           29
          ],
          [
           22
          ],
          [
           24
          ],
          [
           30
          ],
          [
           32
          ],
          [
           20
          ],
          [
           28
          ],
          [
           18
          ],
          [
           26
          ],
          [
           31
          ],
          [
           28
          ],
          [
           31
          ],
          [
           27
          ],
          [
           32
          ],
          [
           27
          ],
          [
           25
          ],
          [
           30
          ],
          [
           27
          ],
          [
           26
          ],
          [
           27
          ],
          [
           29
          ],
          [
           26
          ],
          [
           24
          ],
          [
           30
          ],
          [
           26
          ],
          [
           24
          ],
          [
           28
          ],
          [
           30
          ],
          [
           31
          ],
          [
           23
          ],
          [
           28
          ],
          [
           25
          ],
          [
           33
          ],
          [
           31
          ],
          [
           28
          ],
          [
           31
          ],
          [
           32
          ],
          [
           30
          ],
          [
           27
          ],
          [
           23
          ],
          [
           30
          ],
          [
           29
          ],
          [
           25
          ],
          [
           30
          ],
          [
           28
          ],
          [
           18
          ],
          [
           26
          ],
          [
           23
          ],
          [
           30
          ],
          [
           19
          ],
          [
           24
          ],
          [
           31
          ],
          [
           32
          ],
          [
           26
          ],
          [
           30
          ],
          [
           24
          ],
          [
           31
          ],
          [
           26
          ],
          [
           23
          ],
          [
           29
          ],
          [
           32
          ],
          [
           31
          ],
          [
           32
          ],
          [
           22
          ],
          [
           32
          ],
          [
           26
          ],
          [
           31
          ],
          [
           29
          ],
          [
           27
          ],
          [
           30
          ],
          [
           30
          ],
          [
           32
          ],
          [
           29
          ],
          [
           25
          ],
          [
           26
          ],
          [
           26
          ],
          [
           30
          ],
          [
           24
          ],
          [
           25
          ],
          [
           31
          ],
          [
           32
          ],
          [
           21
          ],
          [
           28
          ],
          [
           28
          ],
          [
           22
          ],
          [
           21
          ],
          [
           29
          ],
          [
           19
          ],
          [
           21
          ],
          [
           31
          ],
          [
           23
          ],
          [
           32
          ],
          [
           24
          ],
          [
           27
          ],
          [
           30
          ],
          [
           22
          ],
          [
           30
          ],
          [
           30
          ],
          [
           31
          ],
          [
           29
          ],
          [
           21
          ],
          [
           25
          ],
          [
           31
          ],
          [
           30
          ],
          [
           31
          ],
          [
           32
          ],
          [
           24
          ],
          [
           22
          ],
          [
           31
          ],
          [
           28
          ],
          [
           32
          ],
          [
           24
          ],
          [
           31
          ],
          [
           26
          ],
          [
           24
          ],
          [
           25
          ],
          [
           29
          ],
          [
           30
          ],
          [
           31
          ],
          [
           29
          ],
          [
           32
          ],
          [
           24
          ],
          [
           31
          ],
          [
           28
          ],
          [
           27
          ],
          [
           29
          ],
          [
           26
          ],
          [
           29
          ],
          [
           25
          ],
          [
           27
          ],
          [
           26
          ],
          [
           27
          ],
          [
           20
          ],
          [
           27
          ],
          [
           27
          ],
          [
           33
          ],
          [
           29
          ],
          [
           23
          ],
          [
           20
          ],
          [
           28
          ],
          [
           22
          ],
          [
           29
          ],
          [
           27
          ],
          [
           32
          ],
          [
           23
          ],
          [
           27
          ],
          [
           29
          ],
          [
           25
          ],
          [
           29
          ],
          [
           28
          ],
          [
           30
          ],
          [
           27
          ],
          [
           31
          ],
          [
           30
          ],
          [
           28
          ],
          [
           28
          ],
          [
           27
          ],
          [
           27
          ],
          [
           30
          ],
          [
           29
          ],
          [
           30
          ],
          [
           26
          ],
          [
           30
          ],
          [
           24
          ],
          [
           27
          ],
          [
           32
          ],
          [
           31
          ],
          [
           30
          ],
          [
           24
          ],
          [
           32
          ],
          [
           32
          ],
          [
           32
          ],
          [
           30
          ],
          [
           22
          ],
          [
           26
          ],
          [
           28
          ],
          [
           31
          ],
          [
           26
          ],
          [
           26
          ],
          [
           20
          ],
          [
           18
          ],
          [
           27
          ],
          [
           29
          ],
          [
           24
          ],
          [
           24
          ],
          [
           32
          ],
          [
           32
          ],
          [
           29
          ],
          [
           32
          ],
          [
           21
          ],
          [
           27
          ],
          [
           26
          ],
          [
           18
          ],
          [
           31
          ],
          [
           28
          ],
          [
           20
          ],
          [
           29
          ],
          [
           27
          ],
          [
           29
          ],
          [
           31
          ],
          [
           30
          ],
          [
           29
          ],
          [
           30
          ],
          [
           29
          ],
          [
           29
          ],
          [
           20
          ],
          [
           26
          ],
          [
           29
          ],
          [
           29
          ],
          [
           27
          ],
          [
           31
          ],
          [
           33
          ],
          [
           28
          ],
          [
           26
          ],
          [
           27
          ],
          [
           26
          ],
          [
           30
          ],
          [
           30
          ],
          [
           25
          ],
          [
           30
          ],
          [
           27
          ],
          [
           30
          ],
          [
           32
          ],
          [
           28
          ],
          [
           29
          ],
          [
           29
          ],
          [
           31
          ],
          [
           31
          ],
          [
           24
          ],
          [
           32
          ],
          [
           27
          ],
          [
           31
          ],
          [
           30
          ],
          [
           29
          ],
          [
           25
          ],
          [
           29
          ],
          [
           29
          ],
          [
           31
          ],
          [
           29
          ],
          [
           21
          ],
          [
           31
          ],
          [
           25
          ],
          [
           22
          ],
          [
           30
          ],
          [
           32
          ],
          [
           32
          ],
          [
           32
          ],
          [
           29
          ],
          [
           24
          ],
          [
           27
          ],
          [
           26
          ],
          [
           30
          ],
          [
           27
          ],
          [
           19
          ],
          [
           27
          ],
          [
           32
          ],
          [
           31
          ],
          [
           30
          ],
          [
           26
          ],
          [
           30
          ],
          [
           30
          ],
          [
           27
          ],
          [
           23
          ],
          [
           30
          ],
          [
           28
          ],
          [
           30
          ],
          [
           29
          ],
          [
           32
          ],
          [
           24
          ],
          [
           28
          ],
          [
           20
          ],
          [
           32
          ],
          [
           29
          ],
          [
           30
          ],
          [
           28
          ],
          [
           32
          ],
          [
           25
          ],
          [
           27
          ],
          [
           30
          ],
          [
           32
          ],
          [
           32
          ],
          [
           31
          ],
          [
           30
          ],
          [
           26
          ],
          [
           31
          ],
          [
           30
          ],
          [
           32
          ],
          [
           31
          ],
          [
           27
          ],
          [
           31
          ],
          [
           32
          ],
          [
           32
          ],
          [
           21
          ],
          [
           28
          ],
          [
           31
          ],
          [
           26
          ],
          [
           30
          ],
          [
           32
          ],
          [
           30
          ],
          [
           29
          ],
          [
           24
          ],
          [
           30
          ],
          [
           31
          ],
          [
           29
          ],
          [
           31
          ],
          [
           28
          ],
          [
           32
          ],
          [
           31
          ],
          [
           27
          ],
          [
           32
          ],
          [
           27
          ],
          [
           29
          ],
          [
           24
          ],
          [
           30
          ],
          [
           29
          ],
          [
           32
          ],
          [
           30
          ],
          [
           30
          ],
          [
           31
          ],
          [
           26
          ],
          [
           30
          ],
          [
           32
          ],
          [
           32
          ],
          [
           29
          ],
          [
           23
          ],
          [
           29
          ],
          [
           25
          ],
          [
           31
          ],
          [
           23
          ],
          [
           25
          ],
          [
           29
          ],
          [
           31
          ],
          [
           32
          ],
          [
           27
          ],
          [
           30
          ],
          [
           32
          ],
          [
           29
          ],
          [
           27
          ],
          [
           32
          ],
          [
           30
          ],
          [
           29
          ],
          [
           29
          ],
          [
           32
          ],
          [
           31
          ],
          [
           26
          ],
          [
           29
          ],
          [
           26
          ],
          [
           31
          ],
          [
           31
          ],
          [
           31
          ],
          [
           19
          ],
          [
           28
          ],
          [
           28
          ],
          [
           29
          ],
          [
           32
          ],
          [
           22
          ],
          [
           22
          ],
          [
           21
          ],
          [
           27
          ],
          [
           29
          ],
          [
           28
          ],
          [
           31
          ],
          [
           26
          ],
          [
           31
          ],
          [
           29
          ],
          [
           30
          ],
          [
           29
          ],
          [
           32
          ],
          [
           29
          ],
          [
           26
          ],
          [
           30
          ],
          [
           28
          ],
          [
           24
          ],
          [
           18
          ],
          [
           18
          ],
          [
           23
          ],
          [
           31
          ],
          [
           27
          ],
          [
           32
          ],
          [
           31
          ],
          [
           28
          ],
          [
           24
          ],
          [
           27
          ],
          [
           22
          ],
          [
           32
          ],
          [
           28
          ],
          [
           29
          ],
          [
           27
          ],
          [
           26
          ],
          [
           28
          ],
          [
           29
          ],
          [
           29
          ],
          [
           32
          ],
          [
           32
          ],
          [
           18
          ],
          [
           31
          ],
          [
           32
          ],
          [
           28
          ],
          [
           23
          ],
          [
           26
          ],
          [
           25
          ],
          [
           32
          ],
          [
           28
          ],
          [
           32
          ],
          [
           21
          ],
          [
           31
          ],
          [
           31
          ],
          [
           22
          ],
          [
           28
          ],
          [
           18
          ],
          [
           28
          ],
          [
           32
          ],
          [
           29
          ],
          [
           28
          ],
          [
           28
          ],
          [
           29
          ],
          [
           27
          ],
          [
           30
          ],
          [
           31
          ],
          [
           28
          ],
          [
           31
          ],
          [
           29
          ],
          [
           28
          ],
          [
           28
          ],
          [
           31
          ],
          [
           31
          ],
          [
           28
          ],
          [
           29
          ],
          [
           29
          ],
          [
           32
          ],
          [
           32
          ],
          [
           28
          ],
          [
           21
          ],
          [
           29
          ],
          [
           33
          ],
          [
           30
          ],
          [
           20
          ],
          [
           32
          ],
          [
           22
          ],
          [
           23
          ],
          [
           20
          ],
          [
           30
          ],
          [
           32
          ],
          [
           26
          ],
          [
           18
          ],
          [
           29
          ],
          [
           31
          ],
          [
           31
          ],
          [
           29
          ],
          [
           27
          ],
          [
           25
          ],
          [
           29
          ],
          [
           26
          ],
          [
           28
          ],
          [
           21
          ],
          [
           21
          ],
          [
           20
          ],
          [
           29
          ],
          [
           24
          ],
          [
           27
          ],
          [
           29
          ],
          [
           22
          ],
          [
           23
          ],
          [
           28
          ],
          [
           26
          ],
          [
           20
          ],
          [
           24
          ],
          [
           32
          ],
          [
           28
          ],
          [
           30
          ],
          [
           27
          ],
          [
           29
          ],
          [
           24
          ],
          [
           26
          ],
          [
           25
          ],
          [
           19
          ],
          [
           29
          ],
          [
           26
          ],
          [
           29
          ],
          [
           24
          ],
          [
           29
          ],
          [
           29
          ],
          [
           29
          ],
          [
           24
          ],
          [
           24
          ],
          [
           31
          ],
          [
           31
          ],
          [
           31
          ],
          [
           31
          ],
          [
           29
          ],
          [
           27
          ],
          [
           19
          ],
          [
           21
          ],
          [
           31
          ],
          [
           27
          ],
          [
           32
          ],
          [
           32
          ],
          [
           25
          ],
          [
           32
          ],
          [
           28
          ],
          [
           29
          ],
          [
           30
          ],
          [
           30
          ],
          [
           28
          ],
          [
           31
          ],
          [
           32
          ],
          [
           31
          ],
          [
           25
          ],
          [
           28
          ],
          [
           23
          ],
          [
           29
          ],
          [
           31
          ],
          [
           27
          ],
          [
           32
          ],
          [
           27
          ],
          [
           29
          ],
          [
           29
          ],
          [
           20
          ],
          [
           28
          ],
          [
           23
          ],
          [
           32
          ],
          [
           29
          ],
          [
           26
          ],
          [
           32
          ],
          [
           29
          ],
          [
           29
          ],
          [
           24
          ],
          [
           30
          ],
          [
           28
          ],
          [
           24
          ],
          [
           24
          ],
          [
           18
          ],
          [
           31
          ],
          [
           30
          ],
          [
           31
          ],
          [
           22
          ],
          [
           26
          ],
          [
           29
          ],
          [
           33
          ],
          [
           30
          ],
          [
           25
          ],
          [
           25
          ],
          [
           30
          ],
          [
           32
          ],
          [
           30
          ],
          [
           30
          ],
          [
           24
          ],
          [
           32
          ],
          [
           20
          ],
          [
           30
          ],
          [
           32
          ],
          [
           24
          ],
          [
           26
          ],
          [
           28
          ],
          [
           30
          ],
          [
           25
          ],
          [
           30
          ],
          [
           31
          ],
          [
           31
          ],
          [
           28
          ],
          [
           29
          ],
          [
           21
          ],
          [
           26
          ],
          [
           27
          ],
          [
           32
          ],
          [
           22
          ],
          [
           26
          ],
          [
           30
          ],
          [
           32
          ],
          [
           32
          ],
          [
           30
          ],
          [
           28
          ],
          [
           27
          ],
          [
           26
          ],
          [
           24
          ],
          [
           31
          ],
          [
           28
          ],
          [
           27
          ],
          [
           28
          ],
          [
           22
          ],
          [
           24
          ],
          [
           30
          ],
          [
           19
          ],
          [
           29
          ],
          [
           31
          ],
          [
           29
          ],
          [
           29
          ],
          [
           31
          ],
          [
           32
          ],
          [
           27
          ],
          [
           31
          ],
          [
           28
          ],
          [
           32
          ],
          [
           25
          ],
          [
           32
          ],
          [
           22
          ],
          [
           26
          ],
          [
           25
          ],
          [
           28
          ],
          [
           22
          ],
          [
           30
          ],
          [
           33
          ],
          [
           28
          ],
          [
           30
          ],
          [
           32
          ],
          [
           31
          ],
          [
           28
          ],
          [
           27
          ],
          [
           26
          ],
          [
           26
          ],
          [
           26
          ],
          [
           31
          ],
          [
           30
          ],
          [
           27
          ],
          [
           29
          ],
          [
           30
          ],
          [
           31
          ],
          [
           27
          ],
          [
           29
          ],
          [
           25
          ],
          [
           22
          ],
          [
           32
          ],
          [
           26
          ],
          [
           32
          ],
          [
           30
          ],
          [
           24
          ],
          [
           31
          ],
          [
           30
          ],
          [
           30
          ],
          [
           29
          ],
          [
           25
          ],
          [
           27
          ],
          [
           28
          ],
          [
           28
          ],
          [
           23
          ],
          [
           24
          ],
          [
           30
          ],
          [
           26
          ],
          [
           33
          ],
          [
           30
          ],
          [
           19
          ],
          [
           18
          ],
          [
           29
          ],
          [
           27
          ],
          [
           29
          ],
          [
           29
          ],
          [
           29
          ],
          [
           29
          ],
          [
           30
          ],
          [
           27
          ],
          [
           31
          ],
          [
           30
          ],
          [
           29
          ],
          [
           32
          ],
          [
           25
          ],
          [
           32
          ],
          [
           26
          ],
          [
           26
          ],
          [
           29
          ],
          [
           31
          ],
          [
           20
          ],
          [
           31
          ],
          [
           23
          ],
          [
           26
          ],
          [
           32
          ],
          [
           30
          ],
          [
           24
          ],
          [
           29
          ],
          [
           32
          ],
          [
           26
          ],
          [
           32
          ],
          [
           32
          ],
          [
           26
          ],
          [
           30
          ],
          [
           24
          ],
          [
           32
          ],
          [
           29
          ],
          [
           30
          ],
          [
           24
          ],
          [
           24
          ],
          [
           30
          ],
          [
           33
          ],
          [
           27
          ],
          [
           32
          ],
          [
           29
          ],
          [
           30
          ],
          [
           28
          ],
          [
           32
          ],
          [
           28
          ],
          [
           30
          ],
          [
           20
          ],
          [
           27
          ],
          [
           21
          ],
          [
           23
          ],
          [
           23
          ],
          [
           31
          ],
          [
           30
          ],
          [
           30
          ],
          [
           27
          ],
          [
           31
          ],
          [
           29
          ],
          [
           27
          ],
          [
           29
          ],
          [
           27
          ],
          [
           26
          ],
          [
           29
          ],
          [
           29
          ]
         ],
         "hovertemplate": "Cluster=Cluster 1<br>PCA1=%{x}<br>PCA2=%{y}<br>Feature=%{customdata[0]}<extra></extra>",
         "legendgroup": "Cluster 1",
         "marker": {
          "color": "#EF553B",
          "opacity": 0.5,
          "symbol": "circle"
         },
         "mode": "markers",
         "name": "Cluster 1",
         "showlegend": true,
         "textposition": "top center",
         "type": "scattergl",
         "x": [
          0.07011116,
          0.11928474,
          0.846868,
          0.4101591,
          0.49040955,
          1.4743108,
          0.8695115,
          -0.029748475,
          0.29236704,
          0.6478902,
          0.2231574,
          0.32519346,
          1.5669782,
          0.015969569,
          2.1471808,
          0.5671749,
          0.34170076,
          0.06715952,
          2.1356657,
          1.0706558,
          0.7350856,
          0.43140668,
          0.4572588,
          0.18170941,
          0.04020249,
          1.2400692,
          0.019381614,
          0.78778785,
          0.27854452,
          0.8571043,
          -0.058401663,
          0.23639856,
          1.5972309,
          0.22686017,
          0.13587482,
          1.231675,
          0.24304315,
          0.6053372,
          -0.04588791,
          0.38324142,
          0.7352655,
          1.594226,
          0.47682437,
          1.1283836,
          0.71735674,
          -0.030252535,
          0.05559066,
          0.6749638,
          0.07836472,
          0.5624008,
          0.34451187,
          0.43000123,
          0.55184996,
          0.30269042,
          0.7989159,
          1.173627,
          0.2534732,
          0.20442027,
          0.07711934,
          -0.10037343,
          0.6752742,
          0.6778818,
          0.07612092,
          0.92492795,
          0.23548724,
          0.033504687,
          0.83380646,
          0.577261,
          0.281753,
          -0.064411506,
          -0.13192487,
          1.5887005,
          -0.12601194,
          0.72982717,
          1.6519104,
          0.17592707,
          0.48955145,
          0.99872214,
          0.89211136,
          0.70095617,
          -0.109334774,
          0.64694524,
          -0.026346168,
          0.5489855,
          1.0577979,
          0.7971031,
          0.41068286,
          0.89689535,
          -0.11895044,
          0.52020144,
          0.19105835,
          -0.0063635404,
          -0.09340876,
          1.0947288,
          1.4630958,
          0.355533,
          0.16595756,
          0.66569215,
          0.66569215,
          -0.0023069684,
          0.52020144,
          0.3636997,
          0.34847155,
          0.26107252,
          -0.064411506,
          0.5489855,
          0.34847155,
          -0.13934033,
          -0.11895044,
          0.6893579,
          -0.23820154,
          0.89689535,
          0.27916512,
          0.5746339,
          0.015969569,
          0.6882289,
          -0.12225582,
          0.11352207,
          -0.13192487,
          1.6366385,
          0.07647473,
          0.3218347,
          0.17342633,
          0.5671749,
          0.11928474,
          0.4582375,
          0.828708,
          0.2534732,
          1.6864666,
          0.65982276,
          -0.10037343,
          0.48955145,
          0.05559066,
          0.6478902,
          0.0657441,
          0.37762892,
          0.69178134,
          1.2591797,
          0.29236704,
          0.09841045,
          0.52020144,
          0.84269077,
          -0.015828963,
          0.89689535,
          0.22686017,
          0.48955145,
          1.2485025,
          0.29236704,
          0.39941445,
          0.6129464,
          0.6053372,
          0.30269042,
          0.27916512,
          -0.020990716,
          0.47495824,
          0.31816563,
          1.173627,
          0.24304315,
          0.7989159,
          0.12100064,
          1.0947288,
          -0.029748475,
          -0.14910625,
          0.2534732,
          0.22686017,
          0.6478902,
          0.3218347,
          0.828708,
          0.846868,
          0.828708,
          0.17342633,
          0.9810901,
          0.06669901,
          -0.10037343,
          0.15589118,
          1.1314418,
          0.27354288,
          -0.14048883,
          0.6254167,
          0.35843125,
          0.025691954,
          0.65982276,
          -0.14174424,
          0.5671749,
          0.89573693,
          1.8868062,
          0.303398,
          1.5034583,
          -0.18366255,
          0.3621004,
          0.27916512,
          0.4582375,
          0.92194706,
          0.3218347,
          0.84764874,
          0.11928474,
          1.0510904,
          0.66569215,
          0.32847914,
          -0.13192487,
          -0.05905603,
          0.34847155,
          2.1471808,
          0.20442027,
          0.38324142,
          0.32847914,
          0.033504687,
          0.8606864,
          0.6749638,
          -0.12601194,
          0.40521076,
          0.4101591,
          0.45950252,
          0.019381614,
          0.20442027,
          0.49040955,
          -0.05905603,
          0.025081161,
          0.04020249,
          0.07011116,
          0.78778785,
          0.44117266,
          0.5489855,
          1.5887005,
          0.015969569,
          0.261974,
          -0.05905603,
          0.32847914,
          0.6749638,
          0.21370171,
          0.89211136,
          0.8481963,
          1.0577979,
          0.42628872,
          0.4101591,
          0.78778785,
          0.55184996,
          0.65982276,
          0.7879186,
          0.5031705,
          0.4018956,
          0.38658047,
          1.2400692,
          1.745072,
          -0.15220794,
          -0.2789179,
          0.7352655,
          -0.22497995,
          0.69091356,
          0.23548724,
          0.07612092,
          0.34170076,
          0.06370389,
          -0.03596188,
          0.38292122,
          0.8538186,
          1.0706558,
          0.92549944,
          1.1236053,
          -0.18396305,
          0.5009169,
          0.29473713,
          0.6390889,
          1.8184885,
          0.16822115,
          0.49670997,
          1.4630958,
          0.6129464,
          0.12100064,
          0.6150498,
          0.10056727,
          0.39941445,
          1.4384022,
          0.44526303,
          0.8889226,
          -0.13934033,
          0.1033686,
          -0.2112542,
          0.10872414,
          0.5873078,
          0.44117266,
          -0.24391076,
          0.025691954,
          0.11102129,
          0.5931238,
          0.5024292,
          0.039010428,
          0.38442364,
          -0.010924258,
          0.5722397,
          0.39473727,
          0.09248771,
          -0.21811213,
          0.8386045,
          0.53021467,
          0.20949486,
          0.29408282,
          0.16106267,
          0.04913016,
          0.51829195,
          -0.27035394,
          0.3602974,
          0.17288855,
          0.1989777,
          0.07280564,
          0.15043885,
          1.1074995,
          0.56951565,
          0.42598826,
          0.027431626,
          1.1268811,
          0.40732408,
          0.5027731,
          0.8985719,
          1.0398751,
          -0.1759467,
          0.77035946,
          0.52514994,
          -0.07338277,
          0.26138282,
          -0.1298649,
          0.45259124,
          1.2915595,
          -0.061857328,
          0.83431053,
          0.7860483,
          0.39023957,
          1.254008,
          1.2366133,
          0.66753864,
          0.6247526,
          0.15514985,
          -0.10848666,
          1.1884478,
          0.5253535,
          0.19531853,
          1.0850259,
          0.38091472,
          0.29343837,
          1.1618446,
          0.18539259,
          0.2734024,
          0.31496686,
          0.74008316,
          0.233287,
          -0.27129886,
          0.6278936,
          0.99713266,
          0.45573676,
          0.45891148,
          -0.18976918,
          0.16005452,
          0.4646208,
          0.14333373,
          0.14699294,
          0.63818747,
          1.0632068,
          -0.087602586,
          0.209398,
          0.5355364,
          0.2087535,
          -0.10027664,
          -0.03537075,
          1.0092787,
          1.2432874,
          0.284404,
          0.2877628,
          0.32998165,
          1.5592722,
          -0.09455739,
          0.5257509,
          -0.08334239,
          0.23478939,
          0.33638883,
          0.74718815,
          1.5895052,
          -0.07943603,
          -0.1287697,
          0.4044498,
          0.76921093,
          0.34587383,
          0.4072609,
          0.37190002,
          -0.081292294,
          0.04562118,
          0.14873274,
          0.45853803,
          0.6860918,
          0.9735204,
          0.61246186,
          0.18965285,
          0.56627345,
          -0.22437896,
          -0.35594025,
          0.22046277,
          -0.19583245,
          0.37761903,
          -0.14174424,
          0.42628872,
          -0.09706801,
          0.6882289,
          0.9701222,
          0.26107252,
          -0.18922165,
          -0.07723572,
          0.41227233,
          1.0609629,
          0.6893579,
          0.69178134,
          0.83905107,
          1.2591797,
          0.9409748,
          1.2485025,
          1.5669782,
          0.26628748,
          0.5844967,
          0.4011978,
          0.6427046,
          0.36739266,
          1.2944872,
          0.26767346,
          0.49830934,
          0.45297897,
          0.12280349,
          0.915763,
          0.91225415,
          0.42880914,
          0.23417872,
          0.6990802,
          0.6778818,
          -0.23684931,
          0.45138928,
          0.38647377,
          0.025187897,
          -0.0168807,
          -0.098720744,
          0.13587482,
          -0.13492975,
          -0.13934033,
          0.6015375,
          0.44526303,
          0.16285583,
          0.6247526,
          0.16595756,
          0.5931238,
          0.49670997,
          1.2366133,
          0.5474831,
          0.09939899,
          -0.17249103,
          0.37791952,
          -0.048582383,
          0.18130219,
          0.3621004,
          0.92194706,
          1.254008,
          0.06264244,
          0.9125882,
          0.8538186,
          1.3285198,
          0.33708668,
          0.15514985,
          1.2233047,
          0.2593665,
          0.281753,
          0.086638086,
          0.45853803,
          0.9735204,
          1.0294452,
          1.2606287,
          0.06715952,
          0.4011978,
          0.36465448,
          1.2944872,
          0.36232778,
          0.915763,
          0.4572588,
          0.20997936,
          0.55923164,
          0.26628748,
          -0.058401663,
          1.5972309,
          0.17342633,
          0.19531853,
          0.5626775,
          0.303398,
          1.1236053,
          0.5009169,
          0.5722397,
          0.29473713,
          0.42078292,
          0.355533,
          0.03886018,
          0.4736255,
          0.6480798,
          -0.18396305,
          0.6254167,
          -0.031454433,
          1.0610303,
          0.2716332,
          1.1194755,
          0.054325517,
          0.25476226,
          0.10792926,
          0.35843125,
          0.044569485,
          0.065153055,
          -0.19262381,
          0.6191064,
          0.32448572,
          0.5422875,
          -0.21811213,
          0.73274493,
          0.3027873,
          0.7860483,
          1.2915595,
          1.8868062,
          0.83431053,
          0.06845843,
          -0.11809253,
          1.1314418,
          -0.061857328,
          1.1278458,
          0.66753864,
          0.9810901,
          0.06669901,
          1.1884478,
          1.0850259,
          0.5682799,
          0.8922616,
          0.16106267,
          1.2143772,
          0.26138282,
          0.43220162,
          0.71623766,
          0.7434124,
          0.018523702,
          0.27097884,
          0.31496686,
          -0.1759467,
          0.5253535,
          0.94884086,
          0.2716332,
          -0.13423197,
          0.5194406,
          -0.18396305,
          1.068509,
          0.6390889,
          0.6377031,
          1.1194755,
          0.018523702,
          1.745072,
          -0.09596294,
          1.8184885,
          -0.13934033,
          -0.19803266,
          0.044569485,
          0.86384565,
          0.12544475,
          0.06370389,
          0.06956349,
          -0.28612962,
          1.8244014,
          0.09254115,
          -0.13423197,
          0.43220162,
          0.8791032,
          1.2119058,
          0.08954607,
          0.73555607,
          -0.19668043,
          0.34408092,
          0.29343837,
          -0.018136,
          0.73274493,
          0.34408092,
          0.08954607,
          0.5355364,
          0.07280564,
          0.3602974,
          1.2763413,
          1.1837903,
          0.8386045,
          0.6480798,
          0.3638401,
          0.6191064,
          0.10056727,
          -0.24090597,
          0.04913016,
          1.8088194,
          0.5229397,
          0.1842974,
          1.2308072,
          0.0788689,
          -0.043924775,
          0.29408282,
          -0.06992715,
          0.45244098,
          0.07836472,
          0.5257509,
          -0.030252535,
          -0.1287697,
          1.2627658,
          0.04562118,
          0.7713046,
          0.28015363,
          1.594226,
          0.83380646,
          0.577261,
          1.4329498,
          0.16005452,
          -0.03537075,
          0.74008316,
          0.5031705,
          2.1356657,
          0.58831596,
          0.27854452,
          0.098711,
          -0.098720744,
          0.1989777,
          -0.23684931,
          0.43140668,
          0.42880914,
          -0.13547744,
          0.26794016,
          0.22998159,
          0.48233977,
          -0.026346168,
          0.209398,
          0.7400198,
          0.35552335,
          0.17288855,
          0.41068286,
          0.34451187,
          0.07711934,
          0.4582375,
          0.38324142,
          0.09841045,
          0.40732408,
          0.7879186,
          0.16285583,
          0.14333373,
          -0.17249103,
          0.846868,
          0.5194406,
          0.14699294,
          1.068509,
          0.32998165,
          -0.09455739,
          1.2233047,
          -0.08334239,
          1.0610303,
          1.0609629,
          0.23478939,
          1.231675,
          0.2593665,
          1.5592722,
          1.5895052,
          0.284404,
          0.09939899,
          0.76921093,
          0.45573676,
          0.45891148,
          0.4044498,
          0.18130219,
          0.84764874,
          -0.048582383,
          0.33708668,
          0.5474831,
          -0.18396305,
          0.74718815,
          -0.18366255,
          1.5034583,
          0.33638883,
          -0.031454433,
          0.37791952,
          1.1268811,
          0.2877628,
          0.027431626,
          0.4072609,
          0.5626775,
          0.6015375,
          0.99713266,
          0.45573676,
          0.45891148,
          0.36465448,
          -0.07723572,
          0.7350856,
          1.2606287,
          0.14333373,
          0.06956349,
          0.8791032,
          0.6860918,
          0.63818747,
          1.2119058,
          1.0632068,
          -0.087602586,
          1.0294452,
          -0.28612962,
          0.23639856,
          0.14699294,
          0.94884086,
          0.6278936,
          -0.27129886,
          -0.07943603,
          0.4018956,
          0.63818747,
          1.0632068,
          0.34587383,
          -0.087602586,
          0.37190002,
          0.14873274,
          0.36232778,
          0.18170941,
          0.55923164,
          -0.18976918,
          0.41227233,
          0.20997936,
          0.32519346,
          0.09254115,
          1.4743108,
          0.6377031,
          1.2432874,
          0.086638086,
          -0.09596294,
          -0.081292294,
          0.261974,
          -0.13934033,
          0.39941445,
          -0.18976918,
          0.53021467,
          0.12100064,
          0.6129464,
          0.8922616,
          1.2143772,
          1.4630958,
          0.5682799,
          0.58831596,
          0.5422875,
          1.2591797,
          0.69178134,
          0.20949486,
          0.6893579,
          0.26107252,
          1.2485025,
          0.89573693,
          0.098711,
          0.71623766,
          0.07612092,
          0.23548724,
          -0.18396305,
          0.7352655,
          0.4736255,
          0.03886018,
          1.2432874,
          1.2400692,
          0.7434124,
          0.34170076,
          0.5422875,
          -0.13492975,
          0.3027873,
          0.025691954,
          0.7434124,
          0.21370171,
          0.44117266,
          0.3027873,
          0.42078292,
          0.42598826,
          0.6882289,
          0.42628872,
          0.5355364,
          0.4736255,
          0.15589118,
          -0.19803266,
          1.1074995,
          0.4646208,
          -0.10027664,
          0.56951565,
          0.86384565,
          -0.27129886,
          0.6278936,
          0.233287,
          0.9125882,
          0.06264244,
          0.2734024,
          0.99713266,
          1.0510904,
          1.0092787,
          1.3285198,
          0.42078292,
          0.2087535,
          0.61246186,
          -0.14174424,
          -0.24090597,
          0.51829195,
          -0.27035394,
          1.5669782,
          0.13587482,
          1.1278458,
          0.83905107,
          0.12544475,
          -0.11809253,
          0.6778818,
          0.27354288,
          0.12280349,
          0.03886018,
          0.45297897,
          0.15043885,
          0.3638401,
          0.5844967,
          0.06845843,
          -0.031454433,
          1.8244014,
          0.73555607,
          -0.03596188,
          0.38292122,
          0.48233977,
          0.92549944,
          0.5624008,
          0.43000123,
          0.22998159,
          0.26794016,
          0.6015375,
          -0.13547744,
          -0.010924258,
          1.1837903,
          0.39473727,
          0.77035946,
          0.52514994,
          -0.07338277,
          0.098711,
          -0.1298649,
          0.38442364,
          0.9409748,
          -0.19262381,
          0.7400198,
          -0.24391076,
          0.45138928,
          0.11102129,
          0.38647377,
          0.065153055,
          0.5024292,
          0.039010428,
          0.16822115,
          0.09254115,
          0.025187897,
          0.6752742,
          -0.15220794,
          1.2763413,
          0.92492795,
          0.35552335,
          -0.2789179,
          -0.22497995,
          0.69091356,
          -0.0168807,
          1.4329498,
          0.45259124,
          0.58831596,
          0.38091472,
          0.37761903,
          1.0398751,
          0.5027731,
          0.09248771,
          -0.19803266,
          0.15043885,
          0.32448572,
          1.1074995,
          -0.09596294,
          0.20949486,
          1.068509,
          0.5194406,
          0.38658047,
          0.94884086,
          0.51829195,
          -0.27035394,
          0.6377031,
          0.53021467,
          1.8244014,
          0.86384565,
          0.3638401,
          0.18965285,
          0.56627345,
          -0.22437896,
          0.40732408,
          0.39023957,
          1.1268811,
          0.027431626,
          -0.28612962,
          0.12544475,
          0.2231574,
          0.8571043,
          -0.09706801,
          0.42598826,
          0.56951565,
          -0.35594025,
          0.22046277,
          -0.10848666,
          -0.19583245,
          -0.24090597,
          0.6860918,
          0.5873078,
          -0.2112542,
          0.6427046,
          0.36739266,
          0.26767346,
          0.99872214,
          0.28015363,
          0.70095617,
          -0.109334774,
          0.64694524,
          -0.0168807,
          0.9409748,
          0.56627345,
          -0.22437896,
          -0.35594025,
          0.22046277,
          -0.19583245,
          0.37761903,
          0.7713046,
          0.5355364,
          0.18965285,
          0.25476226,
          0.054325517,
          -0.018136,
          0.8695115,
          -0.19668043,
          0.6427046,
          0.36739266,
          0.26767346,
          0.72982717,
          0.49830934,
          1.6519104,
          0.025187897,
          1.1837903,
          0.17592707,
          0.91225415,
          1.2763413,
          0.23417872,
          0.6990802,
          -0.04588791,
          0.45138928,
          0.38647377,
          0.27097884,
          0.10872414,
          0.7971031,
          -0.18922165,
          1.1283836,
          0.23417872,
          0.6150498,
          0.71735674,
          0.6990802,
          0.73555607,
          -0.043924775,
          1.4384022,
          -0.19668043,
          0.0788689,
          0.9701222,
          1.2119058,
          0.1033686,
          1.2308072,
          0.1842974,
          0.5229397,
          1.8088194,
          0.8791032,
          0.8889226,
          0.10792926,
          0.47682437,
          1.1618446,
          -0.09706801,
          1.2627658,
          0.9701222,
          0.49830934,
          -0.018136,
          0.19105835,
          -0.18922165,
          -0.0063635404,
          0.8985719,
          -0.09340876,
          0.41227233,
          0.5355364,
          1.0609629,
          0.83905107,
          0.91225415,
          0.18539259,
          0.45244098,
          -0.06992715,
          -0.07723572,
          1.0610303,
          0.8481963,
          0.26628748,
          0.55923164,
          -0.2789179,
          0.73274493,
          0.43220162,
          0.45950252,
          0.76921093,
          0.40521076,
          0.10872414,
          0.4072609,
          0.20997936,
          0.69091356,
          0.8606864,
          -0.2112542,
          0.36232778,
          0.16106267,
          0.84269077,
          1.0850259,
          1.1884478,
          -0.22497995,
          0.66753864,
          0.0657441,
          0.6480798,
          0.27854452,
          0.4018956,
          1.6366385,
          -0.029748475,
          2.1356657,
          0.5031705,
          0.11352207,
          0.6191064,
          0.5873078,
          0.9125882,
          0.044569485,
          1.3285198,
          -0.12225582,
          0.025081161,
          1.1194755,
          0.2716332,
          0.24304315,
          0.09841045,
          0.6053372,
          -0.14048883,
          0.4044498,
          0.83431053,
          0.27354288,
          0.086638086,
          -0.14910625,
          0.15589118,
          0.1033686,
          0.8889226,
          0.31816563,
          0.47495824,
          0.2877628,
          1.0510904,
          0.27097884,
          0.915763,
          0.84764874,
          1.2944872,
          0.4011978,
          -0.18366255,
          1.5034583,
          0.9735204,
          0.38442364,
          0.33638883,
          0.92549944,
          0.38292122,
          1.2915595,
          0.36465448,
          -0.015828963,
          0.5722397,
          0.5009169,
          1.1236053,
          1.2606287,
          0.8538186,
          -0.03596188,
          0.8481963,
          0.21370171,
          0.261974,
          0.74718815,
          1.0294452,
          0.49670997,
          0.5931238,
          0.89573693,
          0.37762892,
          0.44526303,
          0.07647473,
          -0.010924258,
          0.43140668,
          -0.026346168,
          0.61246186,
          0.89211136,
          1.5887005,
          2.1471808,
          -0.015828963,
          0.18130219,
          0.35843125,
          0.2087535,
          -0.048582383,
          0.6254167,
          0.16822115,
          0.5355364,
          0.37762892,
          0.16285583,
          -0.17249103,
          0.06669901,
          0.9810901,
          1.1314418,
          0.355533,
          1.8868062,
          1.0577979,
          -0.14048883,
          0.12280349,
          0.0657441,
          0.04020249,
          0.49040955,
          0.33708668,
          0.019381614,
          0.07011116,
          -0.12601194,
          0.5844967,
          0.033504687,
          0.45297897,
          0.09939899,
          0.5474831,
          0.5024292,
          0.55184996,
          0.84269077,
          0.039010428,
          0.1110188,
          0.37791952,
          -0.14910625,
          0.303398,
          0.31816563,
          0.5746339,
          1.594226,
          0.05559066,
          1.6864666,
          -0.24391076,
          -0.030252535,
          0.2734024,
          0.07836472,
          0.83380646,
          0.30269042,
          1.173627,
          0.07711934,
          0.34451187,
          0.41068286,
          0.7989159,
          1.0092787,
          -0.081292294,
          1.0947288,
          -0.15220794,
          0.577261,
          0.233287,
          -0.0023069684,
          0.47495824,
          0.92194706,
          0.3621004,
          1.2233047,
          -0.064411506,
          0.16595756,
          0.2593665,
          -0.020990716,
          0.4646208,
          -0.10027664,
          1.5972309,
          -0.058401663,
          -0.23820154,
          0.4572588,
          0.3636997,
          0.06715952,
          -0.11895044,
          0.5626775,
          0.281753,
          0.06264244,
          0.45853803,
          0.06956349,
          0.06845843,
          0.6752742,
          0.23478939,
          0.5682799,
          -0.13423197,
          0.92492795,
          0.8922616,
          0.018523702,
          -0.13934033,
          0.11352207,
          -0.12225582,
          1.1618446,
          0.1989777,
          0.17288855,
          1.5895052,
          -0.10848666,
          0.04913016,
          0.29408282,
          0.08954607,
          0.34408092,
          1.4329498,
          -0.08334239,
          1.5592722,
          0.5253535,
          -0.1759467,
          -0.09455739,
          -0.043924775,
          0.0788689,
          0.8386045,
          0.39023957,
          0.025081161,
          1.2308072,
          0.5229397,
          0.3602974,
          0.07280564,
          1.8088194,
          0.8985719,
          0.29343837,
          0.07647473,
          1.6366385,
          0.39473727,
          0.5624008,
          0.43000123,
          -0.07943603,
          0.09248771,
          -0.13492975,
          0.38658047,
          0.48233977,
          0.32448572,
          0.22998159,
          0.26138282,
          -0.19262381,
          -0.061857328,
          0.26794016,
          0.065153055,
          -0.13547744,
          0.14873274,
          0.10792926,
          0.25476226,
          1.0706558,
          0.71623766,
          0.054325517,
          0.29473713,
          0.71735674,
          0.37190002,
          1.254008,
          0.18539259,
          -0.21811213,
          0.35552335,
          1.2143772,
          0.34587383,
          0.45950252,
          0.19531853,
          0.40521076,
          0.7860483,
          0.7400198,
          0.2231574,
          0.8571043,
          0.6247526,
          0.38091472,
          1.0398751,
          0.8606864,
          1.2366133,
          0.5027731,
          0.15514985,
          0.6150498,
          0.1842974,
          0.47682437,
          0.52514994,
          0.31496686,
          -0.098720744,
          -0.020990716,
          0.04562118,
          -0.23684931,
          0.42880914,
          -0.04588791,
          0.209398,
          1.1278458,
          -0.1298649,
          0.17592707,
          0.74008316,
          -0.1287697,
          1.6519104,
          0.3636997,
          -0.03537075,
          1.1283836,
          0.32519346,
          0.28015363,
          -0.23820154,
          1.4743108,
          0.7350856,
          0.72982717,
          1.2627658,
          0.8695115,
          0.23639856,
          -0.07338277,
          0.7713046,
          0.99872214,
          0.70095617,
          0.18170941,
          -0.109334774,
          0.7879186,
          0.77035946,
          -0.18396305,
          0.6390889,
          0.32998165,
          0.06370389,
          -0.06992715,
          -0.11809253,
          0.16005452,
          1.745072,
          0.45244098,
          1.8184885,
          1.231675,
          1.6864666,
          0.284404,
          0.5257509,
          -0.09340876,
          0.45259124,
          0.64694524,
          -0.0023069684,
          0.10056727,
          0.5746339,
          0.7971031,
          1.4384022,
          0.19105835,
          -0.0063635404
         ],
         "xaxis": "x",
         "y": [
          -1.1569629,
          -0.79807097,
          0.084372275,
          -0.50719625,
          -1.3561002,
          -0.2173386,
          -0.20270245,
          -1.4116815,
          -0.62498844,
          0.040253323,
          -0.8490573,
          -1.6761755,
          -0.8989666,
          -1.0562454,
          -0.62848127,
          -0.81475747,
          -0.7305138,
          -1.3147736,
          -0.7948561,
          -0.7758533,
          -0.027410235,
          -1.1053848,
          -1.5441101,
          -1.8196597,
          -0.7222942,
          0.012996523,
          -1.3625515,
          -0.7490032,
          -0.63881105,
          -0.8345459,
          -1.1306167,
          -1.7649705,
          -1.0235729,
          -0.69049543,
          -1.400917,
          -0.9245521,
          -0.9840306,
          -0.7765952,
          -0.8083847,
          -1.7729867,
          -1.4209622,
          -1.0265778,
          -0.75024915,
          0.056170136,
          -0.04513907,
          -1.2573267,
          -1.3263423,
          -1.3264048,
          -0.6841319,
          -0.04523619,
          -1.0374207,
          -0.9519313,
          -0.8300825,
          -0.9243833,
          -1.2024525,
          -0.82774097,
          -1.5930369,
          -0.5580762,
          -0.99509555,
          -1.0177294,
          -1.7906718,
          -1.9429233,
          -1.150953,
          -1.3861586,
          -1.3013045,
          -1.3484284,
          -0.39326653,
          -1.7338259,
          -0.7904616,
          -1.1366266,
          -1.0492809,
          -0.25780788,
          -1.1982272,
          -0.032668713,
          -0.5043162,
          -0.74142855,
          -1.0472399,
          -0.07349161,
          -0.79953873,
          -1.3004123,
          -1.1815499,
          -0.27040985,
          -1.2534202,
          -0.3683697,
          -1.4081476,
          -0.7396879,
          -1.590686,
          -2.0336275,
          -1.1911656,
          -1.0165899,
          -1.0360154,
          -1.2334375,
          -1.1656239,
          0.022515181,
          -0.38341278,
          -1.1812586,
          -0.596539,
          -1.0259582,
          -1.0259582,
          -1.229381,
          -1.0165899,
          -1.3279511,
          -1.18832,
          -0.9660013,
          -1.1366266,
          -0.3683697,
          -1.18832,
          -0.9018372,
          -1.1911656,
          0.081721045,
          -1.0006986,
          -2.0336275,
          -1.5673449,
          -0.6524395,
          -1.0562454,
          -1.0034214,
          -1.1944709,
          -0.6489745,
          -1.0492809,
          -0.67444706,
          -1.3054583,
          -1.5246753,
          -0.89878845,
          -0.81475747,
          -0.79807097,
          -0.4591178,
          -0.86294216,
          -1.5930369,
          -0.46975997,
          -0.5672505,
          -1.0177294,
          -1.0472399,
          -1.3263423,
          0.040253323,
          -0.69675255,
          -1.6237401,
          -0.8450098,
          -1.3616246,
          -0.62498844,
          -1.2835225,
          -1.0165899,
          -1.3135369,
          -1.242903,
          -2.0336275,
          -0.69049543,
          -1.0472399,
          -0.9077246,
          -0.62498844,
          -1.6019546,
          -0.6141269,
          -0.7765952,
          -0.9243833,
          -1.5673449,
          -1.0932057,
          -0.13267887,
          -0.90890807,
          -0.82774097,
          -0.9840306,
          -1.2024525,
          -1.4157913,
          0.022515181,
          -1.4116815,
          -0.91160315,
          -1.5930369,
          -0.69049543,
          0.040253323,
          -1.5246753,
          -0.86294216,
          0.084372275,
          -0.86294216,
          -0.89878845,
          0.06373552,
          -0.85065675,
          -1.0177294,
          -0.60660535,
          -0.09563083,
          -0.9535309,
          -1.0578449,
          -0.6016566,
          -0.86864233,
          -1.3562411,
          -0.5672505,
          -0.9042412,
          -0.81475747,
          -1.7250677,
          -0.8888562,
          -1.2333935,
          -0.18819113,
          -0.9461595,
          -1.4844096,
          -1.5673449,
          -0.4591178,
          -0.15026683,
          -1.5246753,
          -1.3085788,
          -0.79807097,
          -1.5697142,
          -1.0259582,
          -0.74373543,
          -1.0492809,
          -0.97641194,
          -1.18832,
          -0.62848127,
          -0.5580762,
          -1.7729867,
          -0.74373543,
          -1.3484284,
          -2.0698369,
          -1.3264048,
          -1.1982272,
          -0.9767218,
          -0.50719625,
          -1.077289,
          -1.3625515,
          -0.5580762,
          -1.3561002,
          -0.97641194,
          -0.8922746,
          -0.7222942,
          -1.1569629,
          -0.7490032,
          -1.0956187,
          -0.3683697,
          -0.25780788,
          -1.0562454,
          -0.9650997,
          -0.97641194,
          -0.74373543,
          -1.3264048,
          -1.32309,
          -0.79953873,
          -1.153172,
          -1.4081476,
          -0.64592576,
          -0.50719625,
          -0.7490032,
          -0.8300825,
          -0.5672505,
          0.18028194,
          -0.87876195,
          -0.5154597,
          -0.99535215,
          0.012996523,
          -0.8757316,
          -1.0695639,
          -1.041415,
          -1.4209622,
          -0.98747694,
          -0.071582325,
          -1.3013045,
          -1.150953,
          -0.7305138,
          -1.3182292,
          -1.263036,
          -0.84415233,
          -1.7669861,
          -0.7758533,
          0.008144732,
          -1.3423401,
          -0.94646,
          -0.88101554,
          -1.3969136,
          -0.5879843,
          -0.64745605,
          -1.0588527,
          -0.8852225,
          -0.38341278,
          -0.6141269,
          -1.4157913,
          -0.61202353,
          -1.4362246,
          -1.6019546,
          -0.2532472,
          -0.31723315,
          -1.577023,
          -0.9018372,
          -1.2785645,
          -1.1286104,
          -1.1183499,
          -0.79462457,
          -1.0956187,
          -1.0064079,
          -1.3562411,
          -0.80633444,
          -1.0985267,
          -1.3440806,
          -1.1880636,
          -0.84265,
          -1.0831393,
          -1.1194109,
          -0.67747724,
          -0.6700089,
          -1.2903274,
          0.07610878,
          -0.8517177,
          -1.3272969,
          -1.2427088,
          -1.2208703,
          -1.3328029,
          -0.7087814,
          -1.032851,
          -1.4862125,
          -1.5187624,
          -1.337814,
          -0.689691,
          -0.921776,
          0.03528591,
          -0.1929804,
          -0.6462262,
          -0.7350651,
          0.054667518,
          -1.4391859,
          -1.0340183,
          -0.7930782,
          -1.7357883,
          -1.0933027,
          -0.76643157,
          -0.5470644,
          -0.8358796,
          -1.430268,
          -1.3569391,
          -1.0842001,
          -0.24523091,
          -1.1340724,
          -0.5476215,
          -1.3701793,
          -1.1465518,
          -0.74735975,
          0.009540807,
          -0.7143936,
          0.017115628,
          -1.0719241,
          -1.0258425,
          -0.658061,
          -0.70171994,
          -1.1866144,
          -0.60662395,
          -0.6912998,
          -1.5530716,
          -0.220087,
          -0.73196304,
          -1.4182485,
          -1.2218246,
          -1.8807217,
          -1.4583639,
          -1.3435142,
          -1.6831932,
          -0.6945173,
          -0.61647767,
          -1.5424573,
          -1.1071253,
          -0.9121603,
          -1.536748,
          -1.2385992,
          -1.3897988,
          -0.58888584,
          -1.4027387,
          -1.0049585,
          -1.4822528,
          -1.4658324,
          -1.7926157,
          -0.8627735,
          -0.79786754,
          -1.9212443,
          -0.6032215,
          -0.6329515,
          -0.78445184,
          -0.7422329,
          -1.2163906,
          -1.3216316,
          -0.54646343,
          -1.1555575,
          -1.4568615,
          -0.5809666,
          -1.5638986,
          -0.41186228,
          -1.151651,
          -1.0461258,
          -0.5129056,
          -0.9224393,
          -1.5006361,
          -0.8198127,
          -0.7003145,
          -0.9986483,
          -1.1814529,
          -0.76862293,
          -0.45881724,
          -1.779854,
          -1.9570026,
          -1.3889067,
          -0.8825619,
          -0.8156589,
          -0.986876,
          -1.2732965,
          -1.316329,
          -0.95832944,
          -1.1591724,
          -0.9042412,
          -0.64592576,
          -1.014424,
          -1.0034214,
          0.052767605,
          -0.9660013,
          -0.9517186,
          -0.9945917,
          -0.9696602,
          -1.86956,
          0.081721045,
          -0.8450098,
          -2.0914721,
          -1.3616246,
          0.02362006,
          -0.9077246,
          -0.8989666,
          -1.2705042,
          -0.4877176,
          -0.6710167,
          -1.0489458,
          -0.7048219,
          -1.326317,
          -0.49482295,
          -0.7287641,
          -0.46437633,
          -1.4139884,
          -1.3953235,
          -1.2439734,
          -1.4177006,
          -0.992895,
          -0.21827476,
          -1.9429233,
          -0.9993464,
          -1.0854021,
          -0.6857407,
          -1.2018862,
          -1.2439548,
          -1.0160768,
          -1.400917,
          -1.0522858,
          -0.9018372,
          -1.090113,
          -0.31723315,
          -0.7544998,
          0.017115628,
          -0.596539,
          -1.0985267,
          -0.8852225,
          0.009540807,
          -0.3698721,
          -0.6630976,
          -1.0898471,
          -1.1588719,
          -1.2756565,
          -1.5103487,
          -1.4844096,
          -0.15026683,
          -0.74735975,
          -0.8547133,
          -0.46934372,
          -1.7669861,
          -0.20827062,
          -0.42540967,
          -1.0719241,
          -0.6232042,
          -0.81284815,
          -0.7904616,
          -1.1404358,
          -0.45881724,
          -1.9570026,
          -1.1267822,
          -1.2053165,
          -1.3147736,
          -0.6710167,
          -1.4818555,
          -1.326317,
          -0.4001685,
          -1.3953235,
          -1.5441101,
          -0.5525171,
          -1.7518554,
          -1.2705042,
          -1.1306167,
          -1.0235729,
          -0.89878845,
          -1.1866144,
          -1.2838322,
          -1.2333935,
          -1.3423401,
          -0.88101554,
          -1.1194109,
          -1.3969136,
          -0.80629057,
          -1.1812586,
          -1.1882138,
          -1.0631659,
          -1.8178661,
          -0.94646,
          -0.6016566,
          -1.2585285,
          -0.32090142,
          -0.64572227,
          -0.26245618,
          -0.7081711,
          -0.9723115,
          -1.4288626,
          -0.86864233,
          -1.1825045,
          -1.1619209,
          -1.1099799,
          -0.6079669,
          -1.367165,
          -0.99450386,
          -1.2903274,
          -0.6491872,
          -0.7694273,
          -1.3701793,
          -0.24523091,
          -0.8888562,
          -0.5476215,
          -1.1586156,
          -1.5000259,
          -0.09563083,
          -1.1340724,
          -0.56380403,
          -0.7143936,
          0.06373552,
          -0.85065675,
          -0.658061,
          -0.60662395,
          -0.96851134,
          -0.79938847,
          -1.2208703,
          -0.012695482,
          -1.430268,
          -0.7948719,
          -1.5948491,
          -0.6385198,
          -1.0536913,
          -0.49151757,
          -1.2218246,
          -1.0933027,
          -0.70171994,
          -0.123373,
          -0.64572227,
          -0.8967289,
          -0.5527737,
          -0.94646,
          -1.0877184,
          -0.5879843,
          -1.3636656,
          -0.26245618,
          -1.0536913,
          -0.8757316,
          -1.168178,
          -0.64745605,
          -0.9018372,
          -1.1153888,
          -1.1825045,
          0.101349995,
          -0.7919109,
          -1.3182292,
          -1.3123695,
          -1.0486267,
          -0.7964021,
          -0.8248146,
          -0.8967289,
          -0.7948719,
          -1.4319834,
          -1.5637575,
          -1.2923869,
          -0.9560942,
          -1.1140366,
          -1.9670063,
          -1.5530716,
          -1.090351,
          -0.6491872,
          -1.9670063,
          -1.2923869,
          -1.4658324,
          -0.689691,
          -1.4862125,
          -0.5701675,
          -0.6627186,
          0.07610878,
          -1.8178661,
          -0.8632335,
          -0.6079669,
          -1.4362246,
          -1.003403,
          -1.3328029,
          -0.502266,
          -0.2395564,
          -1.0427765,
          -0.1511244,
          -0.83848685,
          -1.2709988,
          -1.2427088,
          -0.832424,
          -1.0843505,
          -0.6841319,
          -0.54646343,
          -1.2573267,
          -1.0461258,
          -0.42888385,
          -1.1814529,
          -0.45576853,
          -0.94692004,
          -1.0265778,
          -0.39326653,
          -1.7338259,
          -0.56841785,
          -0.9121603,
          -0.79786754,
          -1.8807217,
          -0.87876195,
          -0.7948561,
          -1.1033345,
          -0.63881105,
          -1.283222,
          -1.0160768,
          -1.337814,
          -0.9993464,
          -1.1053848,
          -1.4177006,
          -1.2076926,
          -1.2688515,
          -1.4616693,
          -1.0544516,
          -1.2534202,
          -1.4822528,
          -1.2613487,
          -0.7166912,
          -1.5187624,
          -1.590686,
          -1.0374207,
          -0.99509555,
          -0.4591178,
          -1.7729867,
          -1.2835225,
          -1.4391859,
          0.18028194,
          -0.7544998,
          -1.2385992,
          -1.0898471,
          0.084372275,
          -0.5527737,
          -1.3897988,
          -1.0877184,
          -0.7422329,
          -1.3216316,
          -0.6232042,
          -1.1555575,
          -0.32090142,
          -1.86956,
          -1.4568615,
          -0.9245521,
          -0.81284815,
          -1.2163906,
          -0.41186228,
          -0.6329515,
          -0.6630976,
          -0.9224393,
          -0.61647767,
          -1.5424573,
          -0.5129056,
          -1.5103487,
          -1.3085788,
          -1.2756565,
          -0.42540967,
          -0.3698721,
          -0.94646,
          -1.5638986,
          -0.9461595,
          -0.18819113,
          -0.5809666,
          -1.2585285,
          -1.1588719,
          0.054667518,
          -0.78445184,
          -0.7350651,
          -0.8198127,
          -1.2838322,
          -1.090113,
          -0.6945173,
          -0.61647767,
          -1.5424573,
          -1.4818555,
          -0.9945917,
          -0.027410235,
          -1.2053165,
          -1.2385992,
          -1.3123695,
          -1.4319834,
          -1.779854,
          -0.58888584,
          -1.5637575,
          -1.4027387,
          -1.0049585,
          -1.1267822,
          -1.0486267,
          -1.7649705,
          -1.3897988,
          -0.123373,
          -1.6831932,
          -1.3435142,
          -1.151651,
          -0.5154597,
          -0.58888584,
          -1.4027387,
          -1.5006361,
          -1.0049585,
          -0.7003145,
          -0.76862293,
          -0.4001685,
          -1.8196597,
          -1.7518554,
          -1.1071253,
          -0.9696602,
          -0.5525171,
          -1.6761755,
          -0.8248146,
          -0.2173386,
          -1.3636656,
          -0.6032215,
          -1.1404358,
          -1.168178,
          -0.9986483,
          -0.9650997,
          -0.9018372,
          -1.6019546,
          -1.1071253,
          -0.8517177,
          -1.4157913,
          -0.6141269,
          -0.79938847,
          -0.012695482,
          -0.38341278,
          -0.96851134,
          -1.1033345,
          -0.99450386,
          -1.3616246,
          -0.8450098,
          -1.3272969,
          0.081721045,
          -0.9660013,
          -0.9077246,
          -1.7250677,
          -1.283222,
          -1.5948491,
          -1.150953,
          -1.3013045,
          -0.94646,
          -1.4209622,
          -1.0631659,
          -1.1882138,
          -0.6032215,
          0.012996523,
          -0.6385198,
          -0.7305138,
          -0.99450386,
          -1.0522858,
          -0.7694273,
          -1.3562411,
          -0.6385198,
          -1.32309,
          -1.0956187,
          -0.7694273,
          -0.80629057,
          -0.6462262,
          -1.0034214,
          -0.64592576,
          -1.4658324,
          -1.0631659,
          -0.60660535,
          -1.1153888,
          0.03528591,
          -1.536748,
          -0.8627735,
          -0.1929804,
          0.101349995,
          -1.3435142,
          -1.6831932,
          -1.4583639,
          -0.46934372,
          -0.8547133,
          -1.4182485,
          -0.6945173,
          -1.5697142,
          -1.9212443,
          -0.20827062,
          -0.80629057,
          -1.7926157,
          -1.3889067,
          -0.9042412,
          -1.003403,
          -0.7087814,
          -1.032851,
          -0.8989666,
          -1.400917,
          -0.56380403,
          -2.0914721,
          -0.7919109,
          -1.5000259,
          -1.9429233,
          -0.9535309,
          -1.4139884,
          -1.1882138,
          -0.46437633,
          -0.921776,
          -0.8632335,
          -0.4877176,
          -1.1586156,
          -1.2585285,
          -0.7964021,
          -0.9560942,
          -1.263036,
          -0.84415233,
          -1.0544516,
          0.008144732,
          -0.04523619,
          -0.9519313,
          -1.4616693,
          -1.2688515,
          -1.090113,
          -1.2076926,
          -1.0831393,
          -0.6627186,
          -0.67747724,
          -0.76643157,
          -0.5470644,
          -0.8358796,
          -1.283222,
          -1.3569391,
          -0.84265,
          0.02362006,
          -1.1099799,
          -1.2613487,
          -1.0064079,
          -1.0854021,
          -0.80633444,
          -0.6857407,
          -1.1619209,
          -1.3440806,
          -1.1880636,
          -1.0588527,
          -0.8248146,
          -1.2018862,
          -1.7906718,
          -1.0695639,
          -0.5701675,
          -1.3861586,
          -0.7166912,
          -1.041415,
          -0.98747694,
          -0.071582325,
          -1.2439548,
          -0.56841785,
          -1.0842001,
          -1.1033345,
          -0.6912998,
          -1.1591724,
          -1.7357883,
          -1.0340183,
          -0.6700089,
          -1.1153888,
          -0.921776,
          -1.367165,
          0.03528591,
          -1.168178,
          -1.3272969,
          -1.0877184,
          -0.5527737,
          -0.99535215,
          -0.123373,
          -0.7087814,
          -1.032851,
          -1.3636656,
          -0.8517177,
          -0.7964021,
          0.101349995,
          -0.8632335,
          -0.8825619,
          -0.8156589,
          -0.986876,
          -1.4391859,
          -1.1465518,
          0.054667518,
          -0.7350651,
          -1.0486267,
          -0.7919109,
          -0.8490573,
          -0.8345459,
          -1.014424,
          -0.6462262,
          -0.1929804,
          -1.2732965,
          -1.316329,
          -1.0258425,
          -0.95832944,
          -1.003403,
          -1.779854,
          -0.79462457,
          -1.1286104,
          -1.0489458,
          -0.7048219,
          -0.49482295,
          -0.07349161,
          -0.94692004,
          -1.3004123,
          -1.1815499,
          -0.27040985,
          -1.2439548,
          0.02362006,
          -0.8156589,
          -0.986876,
          -1.2732965,
          -1.316329,
          -0.95832944,
          -1.1591724,
          -0.45576853,
          -1.4658324,
          -0.8825619,
          -0.9723115,
          -0.7081711,
          -1.090351,
          -0.20270245,
          -1.1140366,
          -1.0489458,
          -0.7048219,
          -0.49482295,
          -0.032668713,
          -0.7287641,
          -0.5043162,
          -1.2018862,
          -0.6627186,
          -0.74142855,
          -1.2439734,
          -0.5701675,
          -0.992895,
          -0.21827476,
          -0.8083847,
          -1.0854021,
          -0.6857407,
          -0.49151757,
          -1.1183499,
          -0.7396879,
          -0.9517186,
          0.056170136,
          -0.992895,
          -0.61202353,
          -0.04513907,
          -0.21827476,
          -0.9560942,
          -1.2709988,
          -0.2532472,
          -1.1140366,
          -0.83848685,
          0.052767605,
          -1.5637575,
          -1.2785645,
          -0.1511244,
          -1.0427765,
          -0.2395564,
          -0.502266,
          -1.4319834,
          -1.577023,
          -1.4288626,
          -0.75024915,
          -0.220087,
          -1.014424,
          -0.42888385,
          0.052767605,
          -0.7287641,
          -1.090351,
          -1.0360154,
          -0.9517186,
          -1.2334375,
          -0.7930782,
          -1.1656239,
          -0.9696602,
          -1.4658324,
          -1.86956,
          -2.0914721,
          -1.2439734,
          -0.73196304,
          -1.0843505,
          -0.832424,
          -0.9945917,
          -0.32090142,
          -1.153172,
          -1.2705042,
          -1.7518554,
          -1.041415,
          -0.6491872,
          -0.7948719,
          -1.077289,
          -0.9224393,
          -0.9767218,
          -1.1183499,
          -0.8198127,
          -0.5525171,
          -0.071582295,
          -2.0698369,
          -1.1286104,
          -0.4001685,
          -1.2208703,
          -1.3135369,
          -0.60662395,
          -0.658061,
          -0.98747694,
          -0.7143936,
          -0.69675255,
          -1.8178661,
          -0.63881105,
          -0.5154597,
          -0.67444706,
          -1.4116815,
          -0.7948561,
          -0.87876195,
          -0.6489745,
          -0.6079669,
          -0.79462457,
          -0.46934372,
          -1.1825045,
          -0.20827062,
          -1.1944709,
          -0.8922746,
          -0.26245618,
          -0.64572227,
          -0.9840306,
          -1.2835225,
          -0.7765952,
          -1.0578449,
          -0.5129056,
          -0.5476215,
          -0.9535309,
          -1.1404358,
          -0.91160315,
          -0.60660535,
          -1.2785645,
          -1.577023,
          -0.90890807,
          -0.13267887,
          -0.78445184,
          -1.5697142,
          -0.49151757,
          -1.3953235,
          -1.3085788,
          -1.326317,
          -0.6710167,
          -0.9461595,
          -0.18819113,
          -1.9570026,
          -0.84265,
          -0.5809666,
          0.008144732,
          -0.84415233,
          -0.24523091,
          -1.4818555,
          -1.242903,
          -1.1194109,
          -0.88101554,
          -1.3423401,
          -1.2053165,
          -1.7669861,
          -1.263036,
          -1.153172,
          -1.32309,
          -0.9650997,
          -1.5638986,
          -1.1267822,
          -0.8852225,
          -1.0985267,
          -1.7250677,
          -1.6237401,
          -0.31723315,
          -1.3054583,
          -1.0831393,
          -1.1053848,
          -1.2534202,
          -1.3889067,
          -0.79953873,
          -0.25780788,
          -0.62848127,
          -1.242903,
          -1.5103487,
          -0.86864233,
          -1.7926157,
          -1.2756565,
          -0.6016566,
          -1.0588527,
          -1.4658324,
          -1.6237401,
          -0.7544998,
          -1.0898471,
          -0.85065675,
          0.06373552,
          -0.09563083,
          -1.1812586,
          -0.8888562,
          -1.4081476,
          -1.0578449,
          -1.4139884,
          -0.69675255,
          -0.7222942,
          -1.3561002,
          -0.42540967,
          -1.3625515,
          -1.1569629,
          -1.1982272,
          -0.4877176,
          -1.3484284,
          -0.46437633,
          -0.6630976,
          -0.3698721,
          -1.3440806,
          -0.8300825,
          -1.3135369,
          -1.1880636,
          -0.8063369,
          -1.1588719,
          -0.91160315,
          -1.2333935,
          -0.90890807,
          -0.6524395,
          -1.0265778,
          -1.3263423,
          -0.46975997,
          -1.0064079,
          -1.2573267,
          -1.4182485,
          -0.6841319,
          -0.39326653,
          -0.9243833,
          -0.82774097,
          -0.99509555,
          -1.0374207,
          -1.590686,
          -1.2024525,
          -1.9212443,
          -0.9986483,
          0.022515181,
          -1.0695639,
          -1.7338259,
          -1.4583639,
          -1.229381,
          -0.13267887,
          -0.15026683,
          -1.4844096,
          -0.6232042,
          -1.1366266,
          -0.596539,
          -0.81284815,
          -1.0932057,
          -1.536748,
          -0.8627735,
          -1.0235729,
          -1.1306167,
          -1.0006986,
          -1.5441101,
          -1.3279511,
          -1.3147736,
          -1.1911656,
          -1.2838322,
          -0.7904616,
          -0.8547133,
          -0.45881724,
          -1.3123695,
          -1.1586156,
          -1.7906718,
          -1.4568615,
          -0.96851134,
          -0.8967289,
          -1.3861586,
          -0.79938847,
          -1.0536913,
          -0.9018372,
          -0.6489745,
          -1.1944709,
          -0.220087,
          -1.337814,
          -1.5187624,
          -0.41186228,
          -1.0258425,
          -1.3328029,
          -1.2427088,
          -1.2923869,
          -1.9670063,
          -0.56841785,
          -1.1555575,
          -1.2163906,
          -0.70171994,
          -1.0933027,
          -1.3216316,
          -1.2709988,
          -0.83848685,
          0.07610878,
          -1.1465518,
          -0.8922746,
          -0.1511244,
          -0.2395564,
          -1.4862125,
          -0.689691,
          -0.502266,
          -0.7930782,
          -1.5530716,
          -1.3054583,
          -0.67444706,
          -0.67747724,
          -0.04523619,
          -0.9519313,
          -1.151651,
          -0.6700089,
          -1.0522858,
          -0.99535215,
          -1.0544516,
          -1.367165,
          -1.4616693,
          -1.430268,
          -1.1099799,
          -1.1340724,
          -1.2688515,
          -1.1619209,
          -1.2076926,
          -0.76862293,
          -1.4288626,
          -0.9723115,
          -0.7758533,
          -1.5948491,
          -0.7081711,
          -1.3969136,
          -0.04513907,
          -0.7003145,
          -0.74735975,
          -0.73196304,
          -1.2903274,
          -0.7166912,
          -0.012695482,
          -1.5006361,
          -1.077289,
          -1.1866144,
          -0.9767218,
          -1.3701793,
          -1.2613487,
          -0.8490573,
          -0.8345459,
          0.017115628,
          -0.6912998,
          -1.7357883,
          -2.0698369,
          0.009540807,
          -1.0340183,
          -1.0719241,
          -0.61202353,
          -1.0427765,
          -0.75024915,
          -0.5470644,
          -1.2218246,
          -1.0160768,
          -1.0932057,
          -1.1814529,
          -0.9993464,
          -1.4177006,
          -0.8083847,
          -1.4822528,
          -0.56380403,
          -1.3569391,
          -0.74142855,
          -1.8807217,
          -1.0461258,
          -0.5043162,
          -1.3279511,
          -0.79786754,
          0.056170136,
          -1.6761755,
          -0.94692004,
          -1.0006986,
          -0.2173386,
          -0.027410235,
          -0.032668713,
          -0.42888385,
          -0.20270245,
          -1.7649705,
          -0.8358796,
          -0.45576853,
          -0.07349161,
          -1.3004123,
          -1.8196597,
          -1.1815499,
          0.18028194,
          -0.76643157,
          -0.94646,
          -0.5879843,
          -0.7422329,
          -1.3182292,
          -0.832424,
          -1.5000259,
          -0.9121603,
          -0.8757316,
          -1.0843505,
          -0.64745605,
          -0.9245521,
          -0.46975997,
          -0.6329515,
          -0.54646343,
          -1.1656239,
          -1.0842001,
          -0.27040985,
          -1.229381,
          -1.4362246,
          -0.6524395,
          -0.7396879,
          -0.2532472,
          -1.0360154,
          -1.2334375
         ],
         "yaxis": "y"
        },
        {
         "customdata": [
          [
           38
          ],
          [
           32
          ],
          [
           59
          ],
          [
           35
          ],
          [
           44
          ],
          [
           26
          ],
          [
           22
          ],
          [
           27
          ],
          [
           33
          ],
          [
           27
          ],
          [
           27
          ],
          [
           31
          ],
          [
           29
          ],
          [
           35
          ],
          [
           41
          ],
          [
           30
          ],
          [
           41
          ],
          [
           38
          ],
          [
           51
          ],
          [
           25
          ],
          [
           26
          ],
          [
           28
          ],
          [
           39
          ],
          [
           36
          ],
          [
           34
          ],
          [
           35
          ],
          [
           43
          ],
          [
           38
          ],
          [
           19
          ],
          [
           32
          ],
          [
           38
          ],
          [
           39
          ],
          [
           54
          ],
          [
           35
          ],
          [
           26
          ],
          [
           31
          ],
          [
           40
          ],
          [
           22
          ],
          [
           36
          ],
          [
           25
          ],
          [
           46
          ],
          [
           40
          ],
          [
           23
          ],
          [
           39
          ],
          [
           35
          ],
          [
           29
          ],
          [
           32
          ],
          [
           19
          ],
          [
           38
          ],
          [
           35
          ],
          [
           22
          ],
          [
           44
          ],
          [
           34
          ],
          [
           22
          ],
          [
           34
          ],
          [
           31
          ],
          [
           19
          ],
          [
           31
          ],
          [
           22
          ],
          [
           24
          ],
          [
           32
          ],
          [
           36
          ],
          [
           44
          ],
          [
           42
          ],
          [
           35
          ],
          [
           31
          ],
          [
           34
          ],
          [
           43
          ],
          [
           48
          ],
          [
           33
          ],
          [
           40
          ],
          [
           39
          ],
          [
           42
          ],
          [
           59
          ],
          [
           43
          ],
          [
           30
          ],
          [
           51
          ],
          [
           47
          ],
          [
           41
          ],
          [
           31
          ],
          [
           47
          ],
          [
           29
          ],
          [
           32
          ],
          [
           36
          ],
          [
           37
          ],
          [
           41
          ],
          [
           50
          ],
          [
           32
          ],
          [
           33
          ],
          [
           45
          ],
          [
           26
          ],
          [
           18
          ],
          [
           40
          ],
          [
           40
          ],
          [
           40
          ],
          [
           19
          ],
          [
           45
          ],
          [
           39
          ],
          [
           28
          ],
          [
           46
          ],
          [
           42
          ],
          [
           37
          ],
          [
           42
          ],
          [
           43
          ],
          [
           41
          ],
          [
           34
          ],
          [
           31
          ],
          [
           35
          ],
          [
           36
          ],
          [
           29
          ],
          [
           34
          ],
          [
           46
          ],
          [
           41
          ],
          [
           34
          ],
          [
           32
          ],
          [
           34
          ],
          [
           38
          ],
          [
           35
          ],
          [
           31
          ],
          [
           25
          ],
          [
           22
          ],
          [
           38
          ],
          [
           45
          ],
          [
           30
          ],
          [
           28
          ],
          [
           36
          ],
          [
           40
          ],
          [
           35
          ],
          [
           29
          ],
          [
           34
          ],
          [
           26
          ],
          [
           25
          ],
          [
           42
          ],
          [
           34
          ],
          [
           31
          ],
          [
           44
          ],
          [
           46
          ],
          [
           29
          ],
          [
           44
          ],
          [
           29
          ],
          [
           28
          ],
          [
           45
          ],
          [
           27
          ],
          [
           35
          ],
          [
           32
          ],
          [
           31
          ],
          [
           36
          ],
          [
           41
          ],
          [
           47
          ],
          [
           31
          ],
          [
           33
          ],
          [
           36
          ],
          [
           38
          ],
          [
           36
          ],
          [
           25
          ],
          [
           27
          ],
          [
           27
          ],
          [
           35
          ],
          [
           37
          ],
          [
           39
          ],
          [
           35
          ],
          [
           28
          ],
          [
           47
          ],
          [
           21
          ],
          [
           39
          ],
          [
           51
          ],
          [
           41
          ],
          [
           39
          ],
          [
           34
          ],
          [
           38
          ],
          [
           34
          ],
          [
           38
          ],
          [
           46
          ],
          [
           38
          ],
          [
           42
          ],
          [
           35
          ],
          [
           30
          ],
          [
           27
          ],
          [
           22
          ],
          [
           28
          ],
          [
           31
          ],
          [
           39
          ],
          [
           25
          ],
          [
           50
          ],
          [
           34
          ],
          [
           31
          ],
          [
           50
          ],
          [
           40
          ],
          [
           41
          ],
          [
           21
          ],
          [
           19
          ],
          [
           31
          ],
          [
           36
          ],
          [
           41
          ],
          [
           57
          ],
          [
           35
          ],
          [
           36
          ],
          [
           35
          ],
          [
           29
          ],
          [
           24
          ],
          [
           37
          ],
          [
           33
          ],
          [
           39
          ],
          [
           46
          ],
          [
           35
          ],
          [
           35
          ],
          [
           36
          ],
          [
           32
          ],
          [
           59
          ],
          [
           38
          ],
          [
           42
          ],
          [
           37
          ],
          [
           49
          ],
          [
           31
          ],
          [
           24
          ],
          [
           49
          ],
          [
           35
          ],
          [
           41
          ],
          [
           25
          ],
          [
           27
          ],
          [
           36
          ],
          [
           35
          ],
          [
           45
          ],
          [
           32
          ],
          [
           21
          ],
          [
           38
          ],
          [
           42
          ],
          [
           35
          ],
          [
           33
          ],
          [
           56
          ],
          [
           28
          ],
          [
           27
          ],
          [
           39
          ],
          [
           34
          ],
          [
           34
          ],
          [
           42
          ],
          [
           27
          ],
          [
           31
          ],
          [
           50
          ],
          [
           31
          ],
          [
           39
          ],
          [
           45
          ],
          [
           44
          ],
          [
           29
          ],
          [
           48
          ],
          [
           36
          ],
          [
           36
          ],
          [
           31
          ],
          [
           36
          ],
          [
           35
          ],
          [
           23
          ],
          [
           39
          ],
          [
           37
          ],
          [
           42
          ],
          [
           35
          ],
          [
           37
          ],
          [
           30
          ],
          [
           39
          ],
          [
           32
          ],
          [
           41
          ],
          [
           35
          ],
          [
           50
          ],
          [
           46
          ],
          [
           24
          ],
          [
           35
          ],
          [
           33
          ],
          [
           30
          ],
          [
           26
          ],
          [
           32
          ],
          [
           32
          ],
          [
           23
          ],
          [
           59
          ],
          [
           33
          ],
          [
           26
          ],
          [
           39
          ],
          [
           28
          ],
          [
           31
          ],
          [
           37
          ],
          [
           26
          ],
          [
           36
          ],
          [
           51
          ],
          [
           40
          ],
          [
           31
          ],
          [
           51
          ],
          [
           34
          ],
          [
           28
          ],
          [
           36
          ],
          [
           56
          ],
          [
           39
          ],
          [
           25
          ],
          [
           32
          ],
          [
           29
          ],
          [
           41
          ],
          [
           32
          ],
          [
           35
          ],
          [
           42
          ],
          [
           51
          ],
          [
           33
          ],
          [
           34
          ],
          [
           39
          ],
          [
           31
          ],
          [
           28
          ],
          [
           34
          ],
          [
           33
          ],
          [
           36
          ],
          [
           31
          ],
          [
           27
          ],
          [
           39
          ],
          [
           31
          ],
          [
           32
          ],
          [
           34
          ],
          [
           38
          ],
          [
           27
          ],
          [
           39
          ],
          [
           31
          ],
          [
           32
          ],
          [
           50
          ],
          [
           41
          ],
          [
           42
          ],
          [
           51
          ],
          [
           46
          ],
          [
           39
          ],
          [
           32
          ],
          [
           38
          ],
          [
           26
          ],
          [
           31
          ],
          [
           39
          ],
          [
           28
          ],
          [
           36
          ],
          [
           31
          ],
          [
           37
          ],
          [
           48
          ],
          [
           26
          ],
          [
           25
          ],
          [
           36
          ],
          [
           43
          ],
          [
           48
          ],
          [
           44
          ],
          [
           42
          ],
          [
           23
          ],
          [
           42
          ],
          [
           31
          ],
          [
           47
          ],
          [
           24
          ],
          [
           50
          ],
          [
           59
          ],
          [
           39
          ],
          [
           31
          ],
          [
           45
          ],
          [
           27
          ],
          [
           39
          ],
          [
           40
          ],
          [
           19
          ],
          [
           42
          ],
          [
           46
          ],
          [
           33
          ],
          [
           19
          ],
          [
           40
          ],
          [
           34
          ],
          [
           30
          ],
          [
           34
          ],
          [
           40
          ],
          [
           21
          ],
          [
           26
          ],
          [
           38
          ],
          [
           32
          ],
          [
           30
          ],
          [
           35
          ],
          [
           36
          ],
          [
           41
          ],
          [
           48
          ],
          [
           37
          ],
          [
           40
          ],
          [
           50
          ],
          [
           45
          ],
          [
           59
          ],
          [
           28
          ],
          [
           23
          ],
          [
           40
          ],
          [
           36
          ],
          [
           42
          ],
          [
           45
          ],
          [
           33
          ],
          [
           46
          ],
          [
           36
          ],
          [
           35
          ],
          [
           40
          ],
          [
           32
          ],
          [
           39
          ],
          [
           35
          ],
          [
           51
          ],
          [
           22
          ],
          [
           38
          ],
          [
           21
          ],
          [
           36
          ],
          [
           34
          ],
          [
           37
          ],
          [
           41
          ],
          [
           41
          ],
          [
           36
          ],
          [
           46
          ],
          [
           35
          ],
          [
           43
          ],
          [
           50
          ],
          [
           32
          ],
          [
           43
          ],
          [
           18
          ],
          [
           33
          ],
          [
           35
          ],
          [
           34
          ],
          [
           34
          ],
          [
           39
          ],
          [
           21
          ],
          [
           47
          ],
          [
           27
          ],
          [
           40
          ],
          [
           37
          ],
          [
           39
          ],
          [
           47
          ],
          [
           37
          ],
          [
           22
          ],
          [
           31
          ],
          [
           30
          ],
          [
           35
          ],
          [
           29
          ],
          [
           34
          ],
          [
           27
          ],
          [
           25
          ],
          [
           42
          ],
          [
           45
          ],
          [
           35
          ],
          [
           50
          ],
          [
           38
          ],
          [
           36
          ],
          [
           28
          ],
          [
           34
          ],
          [
           44
          ],
          [
           35
          ],
          [
           28
          ],
          [
           34
          ],
          [
           25
          ],
          [
           33
          ],
          [
           45
          ],
          [
           26
          ],
          [
           35
          ],
          [
           36
          ],
          [
           39
          ],
          [
           51
          ],
          [
           30
          ],
          [
           38
          ],
          [
           41
          ],
          [
           46
          ],
          [
           31
          ],
          [
           44
          ],
          [
           29
          ],
          [
           47
          ],
          [
           41
          ],
          [
           36
          ],
          [
           36
          ],
          [
           28
          ],
          [
           38
          ],
          [
           32
          ],
          [
           38
          ],
          [
           36
          ],
          [
           29
          ],
          [
           36
          ],
          [
           36
          ],
          [
           28
          ],
          [
           33
          ],
          [
           51
          ],
          [
           21
          ],
          [
           31
          ],
          [
           43
          ],
          [
           42
          ],
          [
           33
          ],
          [
           35
          ],
          [
           41
          ],
          [
           43
          ],
          [
           34
          ],
          [
           39
          ],
          [
           31
          ],
          [
           37
          ],
          [
           40
          ],
          [
           59
          ],
          [
           45
          ],
          [
           29
          ],
          [
           39
          ],
          [
           27
          ],
          [
           34
          ],
          [
           37
          ],
          [
           27
          ],
          [
           31
          ],
          [
           40
          ],
          [
           33
          ],
          [
           39
          ],
          [
           40
          ],
          [
           34
          ],
          [
           31
          ],
          [
           57
          ],
          [
           39
          ],
          [
           25
          ],
          [
           31
          ],
          [
           29
          ],
          [
           29
          ],
          [
           47
          ],
          [
           27
          ],
          [
           32
          ],
          [
           41
          ],
          [
           36
          ],
          [
           47
          ],
          [
           38
          ],
          [
           42
          ],
          [
           37
          ],
          [
           36
          ],
          [
           34
          ],
          [
           25
          ],
          [
           37
          ],
          [
           41
          ],
          [
           29
          ],
          [
           47
          ],
          [
           31
          ],
          [
           31
          ],
          [
           41
          ],
          [
           41
          ],
          [
           27
          ],
          [
           44
          ],
          [
           31
          ],
          [
           40
          ],
          [
           31
          ],
          [
           31
          ],
          [
           35
          ],
          [
           50
          ],
          [
           59
          ],
          [
           39
          ],
          [
           34
          ],
          [
           22
          ],
          [
           56
          ],
          [
           42
          ],
          [
           41
          ],
          [
           36
          ],
          [
           31
          ],
          [
           36
          ],
          [
           37
          ],
          [
           28
          ],
          [
           30
          ],
          [
           26
          ],
          [
           51
          ],
          [
           37
          ],
          [
           34
          ],
          [
           24
          ],
          [
           31
          ],
          [
           36
          ],
          [
           31
          ],
          [
           37
          ],
          [
           51
          ],
          [
           38
          ],
          [
           46
          ],
          [
           30
          ],
          [
           35
          ],
          [
           39
          ],
          [
           35
          ],
          [
           37
          ],
          [
           36
          ],
          [
           36
          ],
          [
           29
          ],
          [
           38
          ],
          [
           39
          ],
          [
           35
          ],
          [
           30
          ],
          [
           44
          ],
          [
           40
          ],
          [
           50
          ],
          [
           39
          ],
          [
           59
          ],
          [
           59
          ],
          [
           45
          ],
          [
           46
          ],
          [
           46
          ],
          [
           22
          ],
          [
           51
          ],
          [
           36
          ],
          [
           32
          ],
          [
           26
          ],
          [
           42
          ],
          [
           26
          ],
          [
           37
          ],
          [
           26
          ],
          [
           45
          ],
          [
           31
          ],
          [
           39
          ],
          [
           27
          ],
          [
           31
          ],
          [
           29
          ],
          [
           31
          ],
          [
           39
          ],
          [
           45
          ],
          [
           50
          ],
          [
           33
          ],
          [
           39
          ],
          [
           59
          ],
          [
           35
          ],
          [
           27
          ],
          [
           36
          ],
          [
           50
          ],
          [
           31
          ],
          [
           42
          ],
          [
           28
          ],
          [
           41
          ],
          [
           36
          ],
          [
           32
          ],
          [
           35
          ],
          [
           21
          ],
          [
           25
          ],
          [
           57
          ],
          [
           48
          ],
          [
           40
          ],
          [
           41
          ],
          [
           19
          ],
          [
           39
          ],
          [
           26
          ],
          [
           34
          ],
          [
           44
          ],
          [
           35
          ],
          [
           21
          ],
          [
           31
          ],
          [
           35
          ],
          [
           30
          ],
          [
           30
          ],
          [
           26
          ],
          [
           26
          ],
          [
           37
          ],
          [
           35
          ],
          [
           35
          ],
          [
           51
          ],
          [
           46
          ],
          [
           36
          ],
          [
           39
          ],
          [
           23
          ],
          [
           34
          ],
          [
           40
          ],
          [
           32
          ],
          [
           35
          ],
          [
           35
          ],
          [
           44
          ],
          [
           19
          ],
          [
           18
          ],
          [
           22
          ],
          [
           33
          ],
          [
           54
          ],
          [
           36
          ],
          [
           33
          ],
          [
           41
          ],
          [
           28
          ],
          [
           51
          ],
          [
           30
          ],
          [
           33
          ],
          [
           42
          ],
          [
           24
          ],
          [
           28
          ],
          [
           25
          ],
          [
           27
          ],
          [
           47
          ],
          [
           38
          ],
          [
           46
          ],
          [
           59
          ],
          [
           35
          ],
          [
           22
          ],
          [
           36
          ],
          [
           30
          ],
          [
           35
          ],
          [
           34
          ],
          [
           33
          ],
          [
           46
          ],
          [
           24
          ],
          [
           35
          ],
          [
           42
          ],
          [
           35
          ],
          [
           34
          ],
          [
           36
          ],
          [
           32
          ],
          [
           29
          ],
          [
           41
          ],
          [
           42
          ],
          [
           45
          ],
          [
           36
          ],
          [
           27
          ],
          [
           39
          ],
          [
           19
          ],
          [
           24
          ],
          [
           46
          ],
          [
           33
          ],
          [
           38
          ],
          [
           44
          ],
          [
           34
          ],
          [
           54
          ],
          [
           41
          ],
          [
           22
          ],
          [
           26
          ],
          [
           44
          ],
          [
           27
          ],
          [
           29
          ],
          [
           33
          ],
          [
           32
          ],
          [
           32
          ],
          [
           30
          ],
          [
           40
          ],
          [
           42
          ],
          [
           50
          ],
          [
           42
          ],
          [
           35
          ],
          [
           46
          ],
          [
           22
          ],
          [
           34
          ],
          [
           26
          ],
          [
           35
          ],
          [
           39
          ],
          [
           19
          ],
          [
           49
          ],
          [
           38
          ],
          [
           32
          ],
          [
           37
          ],
          [
           45
          ],
          [
           45
          ],
          [
           19
          ],
          [
           28
          ],
          [
           46
          ]
         ],
         "hovertemplate": "Cluster=Cluster 2<br>PCA1=%{x}<br>PCA2=%{y}<br>Feature=%{customdata[0]}<extra></extra>",
         "legendgroup": "Cluster 2",
         "marker": {
          "color": "#00cc96",
          "opacity": 0.5,
          "symbol": "circle"
         },
         "mode": "markers",
         "name": "Cluster 2",
         "showlegend": true,
         "textposition": "top center",
         "type": "scattergl",
         "x": [
          1.5844008,
          1.4571633,
          0.2934269,
          0.81530666,
          1.4177593,
          2.2407105,
          2.055071,
          1.8896848,
          1.0162909,
          1.781358,
          2.7266998,
          1.3123802,
          2.184509,
          0.76587605,
          0.24570803,
          2.1772437,
          1.6396813,
          1.2574677,
          0.79507107,
          2.815,
          1.6708312,
          1.7559134,
          1.8157248,
          1.7338514,
          0.7890671,
          1.9875182,
          0.58816,
          1.6698905,
          2.6948237,
          2.2354324,
          1.1566534,
          0.9464074,
          0.64752054,
          0.80704314,
          2.316434,
          2.3283372,
          1.6742909,
          3.0828972,
          0.8419969,
          1.9691211,
          0.63081974,
          1.2944716,
          2.704527,
          0.81013507,
          1.2265271,
          2.521509,
          2.308151,
          2.8243353,
          0.55447143,
          1.1939241,
          2.1220803,
          0.5038192,
          2.1097207,
          2.1721117,
          1.7153276,
          2.346517,
          2.8105123,
          1.4686351,
          3.1150494,
          2.7071776,
          0.93205696,
          1.7780231,
          0.5038192,
          0.22972882,
          1.2167612,
          2.0185318,
          1.9034345,
          1.0818651,
          0.15413575,
          1.7583511,
          0.35964727,
          0.51129776,
          1.2539489,
          -0.19306657,
          1.4825683,
          2.3957002,
          0.66751295,
          0.2815969,
          0.32969514,
          1.9991504,
          1.1916307,
          2.5267673,
          1.4571633,
          1.5926211,
          0.8055842,
          0.24570803,
          0.324557,
          0.94663054,
          0.9524369,
          0.95900804,
          2.0227053,
          3.2836878,
          1.7004337,
          1.7811153,
          0.3283963,
          3.2950525,
          0.38266838,
          0.9464074,
          1.510413,
          0.8075079,
          1.1909963,
          1.0841385,
          0.61405545,
          0.58816,
          1.6470433,
          1.3143237,
          1.4528595,
          1.8824972,
          0.88767135,
          2.5559149,
          2.1980648,
          0.44136083,
          0.53568107,
          1.2775137,
          2.2354324,
          1.901181,
          1.9212505,
          1.2125543,
          2.0141747,
          2.9299378,
          3.1150494,
          1.2574677,
          1.166647,
          2.2520661,
          2.364105,
          1.2392447,
          1.3016833,
          0.81004804,
          1.3046743,
          2.140972,
          1.6708312,
          2.815,
          0.23528785,
          0.7890671,
          2.3283372,
          1.0531148,
          0.3974893,
          1.5608422,
          0.09184746,
          1.279283,
          2.1639788,
          0.17593105,
          1.781358,
          1.1939241,
          2.287267,
          2.413376,
          2.095341,
          0.76961243,
          0.99270624,
          1.3960668,
          0.9793307,
          0.8096942,
          0.55101585,
          0.6552423,
          2.045596,
          2.7089708,
          1.8602366,
          1.7860397,
          1.6379416,
          0.84454125,
          1.9875182,
          1.3905176,
          0.47421095,
          2.82498,
          0.43602493,
          0.1587834,
          1.5831892,
          0.4561578,
          0.80063593,
          1.1566534,
          0.79868275,
          1.6698905,
          1.1870267,
          1.003103,
          1.6346699,
          1.6948408,
          2.138631,
          2.2586865,
          2.055071,
          1.7559134,
          1.6950544,
          1.8221854,
          2.940004,
          0.61392915,
          0.8709507,
          1.3123802,
          0.53444934,
          1.6742909,
          1.6396813,
          2.94157,
          2.8243353,
          2.346517,
          1.0847929,
          0.34802487,
          0.34732133,
          0.8028363,
          0.6864933,
          0.76587605,
          2.521509,
          2.8365388,
          1.0225382,
          2.2403367,
          1.8167765,
          0.789779,
          0.6930073,
          1.6948408,
          1.259678,
          1.9855751,
          -0.19141372,
          1.3928386,
          1.6346699,
          1.4257958,
          0.9475262,
          1.1709998,
          2.8365388,
          0.9475262,
          0.8028363,
          0.2412008,
          2.940004,
          2.318935,
          1.6497142,
          0.74439096,
          0.97793895,
          1.8979821,
          2.3228612,
          1.003103,
          1.3126947,
          1.2265271,
          2.2469478,
          0.527819,
          2.5368874,
          1.8312396,
          1.6904205,
          0.79868275,
          0.97867644,
          0.2872727,
          2.7266998,
          2.2180576,
          0.4132018,
          1.9041955,
          0.441584,
          0.2762948,
          1.2862949,
          2.184509,
          1.1311789,
          0.8419969,
          1.7657033,
          1.0407374,
          1.0763792,
          0.7488983,
          2.704527,
          0.4025204,
          1.5199993,
          1.3741449,
          0.81530666,
          1.0214864,
          2.308558,
          0.8757921,
          1.4618207,
          1.2422833,
          1.1464466,
          0.038190108,
          1.181618,
          1.8039047,
          0.9742657,
          1.4341224,
          2.435365,
          2.5107007,
          2.2874174,
          1.9855751,
          2.9838326,
          0.117940426,
          1.8629214,
          1.9008565,
          1.2683823,
          2.2865787,
          2.19522,
          1.5814495,
          1.9668139,
          2.0447083,
          0.8285756,
          1.7471597,
          2.19522,
          -0.09633314,
          1.9034345,
          2.5368874,
          0.8419969,
          0.527819,
          0.441584,
          1.9691211,
          2.2874174,
          2.184509,
          0.53568107,
          2.308151,
          1.2167612,
          0.22972882,
          -0.09633265,
          0.9524369,
          2.1980648,
          0.81013507,
          2.19522,
          2.2865787,
          2.1097207,
          1.8629214,
          1.7780231,
          1.4528595,
          2.7266998,
          0.84454125,
          2.413376,
          0.94663054,
          0.79868275,
          0.55101585,
          1.8312396,
          1.6904205,
          2.2180576,
          2.287267,
          0.038190108,
          1.5831892,
          1.3126947,
          0.1587834,
          1.1870267,
          0.43602493,
          2.2354324,
          1.6698905,
          2.2407105,
          2.0185318,
          0.4025204,
          1.3905176,
          1.0763792,
          1.0407374,
          1.6379416,
          0.15413575,
          2.316434,
          2.9299378,
          1.7657033,
          1.0818651,
          1.1311789,
          1.2862949,
          1.2539489,
          2.704527,
          1.3741449,
          1.9041955,
          0.47421095,
          2.7071776,
          0.324557,
          0.2934269,
          1.8221854,
          1.6950544,
          0.38266838,
          2.2586865,
          0.4561578,
          0.3283963,
          3.2950525,
          0.23528785,
          0.63081974,
          1.7583511,
          2.8105123,
          1.3016833,
          0.80063593,
          2.138631,
          0.8709507,
          1.7004337,
          2.3228612,
          2.0227053,
          1.5844008,
          1.8979821,
          2.1772437,
          0.74439096,
          1.6497142,
          0.2412008,
          0.15413575,
          1.5199993,
          1.7811153,
          0.61392915,
          0.95900804,
          -0.19306657,
          2.364105,
          2.9838326,
          1.7471597,
          1.5926211,
          1.1909963,
          1.166647,
          1.4341224,
          0.44136083,
          0.88767135,
          1.1464466,
          1.2944716,
          1.4618207,
          0.8757921,
          1.8824972,
          0.66751295,
          2.1220803,
          0.55447143,
          2.82498,
          0.6864933,
          1.2775137,
          1.0841385,
          0.34802487,
          1.6470433,
          1.0847929,
          0.8075079,
          0.80704314,
          1.4825683,
          0.53444934,
          1.9855751,
          1.0818651,
          3.2836878,
          2.2403367,
          1.1939241,
          0.80063593,
          2.140972,
          0.4561578,
          2.82498,
          0.47421095,
          1.8602366,
          1.3016833,
          0.8055842,
          0.84454125,
          0.2815969,
          1.6379416,
          3.1150494,
          2.413376,
          2.3957002,
          1.7860397,
          2.5559149,
          1.3143237,
          2.7089708,
          2.045596,
          0.61405545,
          1.166647,
          1.9875182,
          0.324557,
          1.1566534,
          0.6552423,
          2.364105,
          1.901181,
          1.0531148,
          1.2125543,
          1.3905176,
          0.7890671,
          2.815,
          0.9793307,
          0.17593105,
          1.6708312,
          0.81004804,
          1.2392447,
          0.43602493,
          0.1587834,
          2.2520661,
          1.2574677,
          1.5831892,
          0.3974893,
          1.3960668,
          0.09184746,
          1.279283,
          0.99270624,
          0.76961243,
          0.8096942,
          2.095341,
          2.1639788,
          1.9212505,
          2.287267,
          0.55101585,
          0.6552423,
          1.5608422,
          0.8096942,
          1.5926211,
          1.510413,
          0.9793307,
          0.66751295,
          2.94157,
          2.0185318,
          1.4825683,
          1.2539489,
          0.9524369,
          1.7860397,
          0.53568107,
          0.58816,
          2.1980648,
          0.51129776,
          1.4528595,
          1.0225382,
          0.35964727,
          -0.19306657,
          0.97793895,
          1.3046743,
          0.9464074,
          2.318935,
          1.2775137,
          1.0841385,
          1.8602366,
          2.0141747,
          0.3283963,
          1.7583511,
          1.8167765,
          1.7811153,
          1.9034345,
          1.4686351,
          0.34732133,
          0.51129776,
          2.045596,
          1.3960668,
          1.3046743,
          2.5267673,
          0.99270624,
          1.781358,
          1.4571633,
          0.76961243,
          2.095341,
          1.1916307,
          1.9212505,
          0.2872727,
          1.0214864,
          2.0447083,
          1.901181,
          2.9299378,
          0.8055842,
          0.24570803,
          2.5267673,
          1.1916307,
          1.9991504,
          1.9991504,
          0.32969514,
          0.32969514,
          2.7089708,
          0.5038192,
          2.0141747,
          0.35964727,
          1.1709998,
          2.3283372,
          0.74439096,
          0.4132018,
          0.2934269,
          0.4025204,
          0.97867644,
          2.055071,
          0.527819,
          0.23528785,
          0.2412008,
          1.0763792,
          1.0407374,
          1.6497142,
          1.4257958,
          1.7559134,
          2.308558,
          1.9668139,
          0.8285756,
          1.5814495,
          2.1097207,
          1.8039047,
          1.3123802,
          1.7657033,
          1.1709998,
          1.4257958,
          0.8285756,
          1.3928386,
          0.789779,
          2.2520661,
          0.6930073,
          1.6904205,
          0.7488983,
          1.0214864,
          1.259678,
          2.0447083,
          1.279283,
          0.55447143,
          0.81013507,
          0.81530666,
          2.308558,
          0.09184746,
          1.2944716,
          0.038190108,
          0.441584,
          0.117940426,
          -0.19141372,
          0.2762948,
          1.181618,
          0.3974893,
          2.1220803,
          -0.09633265,
          0.6864933,
          2.308151,
          2.2407105,
          1.3741449,
          1.9008565,
          1.0225382,
          1.9008565,
          0.97793895,
          1.9041955,
          1.2683823,
          2.2586865,
          2.2180576,
          2.521509,
          1.4686351,
          1.8221854,
          0.17593105,
          0.61392915,
          2.2403367,
          1.8167765,
          0.117940426,
          1.2265271,
          2.318935,
          1.0847929,
          0.53444934,
          1.6950544,
          0.2872727,
          2.5368874,
          0.34802487,
          1.2392447,
          1.8979821,
          0.76587605,
          2.3228612,
          1.9691211,
          0.34732133,
          1.1311789,
          1.6742909,
          1.6396813,
          2.8243353,
          1.2683823,
          1.9668139,
          0.8709507,
          1.2862949,
          0.9742657,
          2.94157,
          2.346517,
          0.81004804,
          2.138631,
          2.435365,
          2.5107007,
          2.316434,
          1.5814495,
          1.6948408,
          0.80704314,
          0.79507107,
          0.44136083,
          0.88767135,
          1.8157248,
          2.9838326,
          1.3143237,
          1.7471597,
          0.93205696,
          0.9742657,
          1.8824972,
          1.4177593,
          2.6948237,
          3.2836878,
          3.0828972,
          1.4341224,
          0.64752054,
          1.7338514,
          1.0162909,
          1.6470433,
          2.1639788,
          0.79507107,
          2.435365,
          1.0162909,
          0.61405545,
          2.7071776,
          2.2865787,
          2.940004,
          1.8896848,
          0.2815969,
          1.3928386,
          1.181618,
          -0.19141372,
          0.8028363,
          2.1721117,
          1.259678,
          2.3957002,
          0.6930073,
          1.7153276,
          1.8629214,
          0.789779,
          1.8039047,
          1.2167612,
          0.22972882,
          0.7488983,
          2.140972,
          1.7780231,
          0.94663054,
          2.5559149,
          1.2422833,
          1.1909963,
          0.95900804,
          1.7338514,
          1.8312396,
          0.8757921,
          3.2950525,
          2.8365388,
          1.1870267,
          2.2469478,
          1.003103,
          1.4177593,
          1.7153276,
          0.64752054,
          1.2422833,
          2.1721117,
          2.0227053,
          1.0531148,
          1.8896848,
          1.5608422,
          2.2469478,
          0.93205696,
          2.2874174,
          2.1772437,
          1.7004337,
          1.3126947,
          0.4132018,
          1.6346699,
          1.1464466,
          0.8075079,
          3.0828972,
          0.97867644,
          2.5107007,
          1.2125543,
          1.8157248,
          2.8105123,
          0.9475262,
          1.5844008,
          1.4618207,
          1.5199993,
          0.2762948,
          0.38266838,
          2.6948237,
          1.510413,
          0.63081974
         ],
         "xaxis": "x",
         "y": [
          1.7510606,
          0.6946684,
          3.7121265,
          0.51738816,
          2.5135734,
          0.5490622,
          -0.25601408,
          0.3528951,
          0.40865448,
          0.2445683,
          1.1899112,
          0.39502606,
          0.95743775,
          0.46795753,
          0.87694347,
          1.1050316,
          2.2709184,
          1.4241272,
          2.9748983,
          0.9684932,
          -0.02081784,
          0.3739825,
          2.1372442,
          1.5907933,
          0.33628947,
          1.6896013,
          1.5291142,
          1.8365505,
          -0.080837585,
          1.4729383,
          1.3233128,
          1.2679255,
          3.291925,
          0.5091247,
          0.62478566,
          1.4109842,
          2.1506689,
          0.7718132,
          0.6989376,
          0.122613125,
          2.0363512,
          1.7708493,
          0.5483016,
          1.1316531,
          0.9286092,
          1.294438,
          1.545657,
          0.048673872,
          0.72112995,
          0.89600605,
          -0.18900475,
          1.5996324,
          1.6569449,
          -0.13897319,
          1.2625512,
          1.429164,
          0.0348511,
          0.5512811,
          0.8039656,
          0.70581156,
          0.16956136,
          1.6349651,
          1.5996324,
          1.0158235,
          0.9188433,
          1.1011786,
          1.4506582,
          2.02282,
          1.869385,
          1.1507155,
          0.83602375,
          0.83281535,
          2.0400448,
          3.2256322,
          2.4235234,
          1.3234885,
          2.8473403,
          1.8419873,
          0.96093065,
          1.081797,
          2.7520223,
          1.2996963,
          0.6946684,
          1.4495627,
          0.81738394,
          0.87694347,
          2.3495245,
          0.18413498,
          0.3448004,
          2.209681,
          0.3310565,
          0.35316762,
          2.176812,
          2.2574935,
          0.80477273,
          0.5193919,
          1.6333406,
          1.2679255,
          0.12848184,
          2.2130396,
          1.977092,
          1.0959387,
          1.4001505,
          1.5291142,
          2.2782805,
          0.8615468,
          0.5355054,
          1.5845802,
          0.7446121,
          1.3288438,
          1.745289,
          1.8468921,
          1.166917,
          0.8247368,
          1.4729383,
          1.4484048,
          2.0879107,
          0.9146365,
          1.0968213,
          1.0834309,
          0.8039656,
          1.4241272,
          2.41732,
          1.1798538,
          0.982175,
          1.0961859,
          1.7780609,
          0.5121296,
          0.07760191,
          1.6881961,
          -0.02081784,
          0.9684932,
          1.0213823,
          0.33628947,
          1.4109842,
          2.1489286,
          1.8030206,
          0.33377,
          1.1876601,
          0.052210495,
          0.7820485,
          1.4266031,
          0.2445683,
          0.89600605,
          1.5247731,
          1.4960233,
          1.9522833,
          1.4008485,
          2.5530975,
          0.47871265,
          0.3716942,
          0.66663486,
          0.7176744,
          0.51218283,
          0.19908798,
          1.1721822,
          0.32344693,
          1.4881225,
          1.6497424,
          1.1660594,
          1.6896013,
          0.008586195,
          2.0346014,
          0.35903656,
          0.75754243,
          2.33861,
          2.2144263,
          0.77767533,
          0.34785834,
          1.3233128,
          0.34590515,
          1.8365505,
          2.5925589,
          1.1697621,
          2.420766,
          1.3969234,
          1.0664188,
          0.72189736,
          -0.25601408,
          0.3739825,
          0.7777006,
          2.1437044,
          1.0934975,
          2.6388972,
          0.4181732,
          0.39502606,
          2.5594172,
          2.1506689,
          2.2709184,
          0.47562692,
          0.048673872,
          1.429164,
          0.9417339,
          0.97926044,
          3.4563026,
          0.50491786,
          0.54343385,
          0.46795753,
          1.294438,
          0.8351728,
          1.0343382,
          1.6327019,
          2.138296,
          2.1953106,
          0.39508864,
          1.3969234,
          1.1166192,
          1.2230809,
          3.2272854,
          1.5594983,
          2.420766,
          1.4375963,
          2.8176355,
          0.25364545,
          0.8351728,
          2.8176355,
          0.50491786,
          0.8724362,
          1.0934975,
          0.78214586,
          1.5066559,
          0.44647247,
          2.228612,
          1.1354878,
          -0.14308292,
          1.1697621,
          2.0987904,
          0.9286092,
          1.6393127,
          3.4819412,
          1.1549573,
          0.2944498,
          2.0119398,
          0.34590515,
          0.5258991,
          1.0733674,
          1.1899112,
          1.3007044,
          2.4381695,
          0.98684204,
          0.7631015,
          1.5269668,
          2.3821092,
          0.95743775,
          2.8464293,
          0.6989376,
          1.6226451,
          0.12338281,
          0.9333202,
          0.4509798,
          0.5483016,
          0.7240378,
          1.5317999,
          2.160241,
          0.51738816,
          1.0332865,
          1.2363459,
          1.1973102,
          0.69932586,
          1.87352,
          0.8485286,
          2.0631573,
          2.58715,
          -0.19746251,
          0.6763475,
          0.8264865,
          1.3631532,
          0.81905276,
          1.5249234,
          1.2230809,
          0.82760763,
          3.53664,
          1.255286,
          0.20920761,
          1.589901,
          0.9046486,
          1.277867,
          1.5932502,
          0.27516523,
          1.9016503,
          3.008403,
          2.223538,
          1.277867,
          2.0834923,
          1.4506582,
          1.1549573,
          0.6989376,
          3.4819412,
          0.7631015,
          0.122613125,
          1.5249234,
          0.95743775,
          1.166917,
          1.545657,
          0.9188433,
          1.0158235,
          2.0834935,
          0.3448004,
          1.745289,
          1.1316531,
          1.277867,
          0.9046486,
          1.6569449,
          1.255286,
          1.6349651,
          0.5355054,
          1.1899112,
          1.1660594,
          1.4960233,
          0.18413498,
          0.34590515,
          0.7176744,
          0.2944498,
          2.0119398,
          1.3007044,
          1.5247731,
          2.0631573,
          2.2144263,
          2.0987904,
          2.33861,
          2.5925589,
          0.75754243,
          1.4729383,
          1.8365505,
          0.5490622,
          1.1011786,
          0.7240378,
          0.008586195,
          0.9333202,
          0.12338281,
          1.6497424,
          1.869385,
          0.62478566,
          1.0834309,
          1.6226451,
          2.02282,
          2.8464293,
          2.3821092,
          2.0400448,
          0.5483016,
          2.160241,
          0.98684204,
          2.0346014,
          0.70581156,
          2.3495245,
          3.7121265,
          2.1437044,
          0.7777006,
          1.6333406,
          0.72189736,
          0.77767533,
          0.80477273,
          0.5193919,
          1.0213823,
          2.0363512,
          1.1507155,
          0.0348511,
          1.7780609,
          0.34785834,
          1.0664188,
          0.4181732,
          2.176812,
          -0.14308292,
          0.3310565,
          1.7510606,
          1.1354878,
          1.1050316,
          0.44647247,
          1.5066559,
          0.8724362,
          1.869385,
          1.5317999,
          2.2574935,
          2.6388972,
          2.209681,
          3.2256322,
          0.982175,
          0.82760763,
          2.223538,
          1.4495627,
          1.977092,
          2.41732,
          0.8264865,
          1.8468921,
          0.7446121,
          0.8485286,
          1.7708493,
          0.69932586,
          1.1973102,
          1.5845802,
          2.8473403,
          -0.18900475,
          0.72112995,
          0.35903656,
          0.54343385,
          0.8247368,
          1.0959387,
          0.97926044,
          2.2782805,
          0.9417339,
          2.2130396,
          0.5091247,
          2.4235234,
          2.5594172,
          1.2230809,
          2.02282,
          0.35316762,
          1.6327019,
          0.89600605,
          0.34785834,
          1.6881961,
          0.77767533,
          0.35903656,
          2.0346014,
          0.32344693,
          1.7780609,
          0.81738394,
          1.1660594,
          1.8419873,
          1.6497424,
          0.8039656,
          1.4960233,
          1.3234885,
          1.4881225,
          1.3288438,
          0.8615468,
          1.1721822,
          0.19908798,
          1.4001505,
          2.41732,
          1.6896013,
          2.3495245,
          1.3233128,
          0.51218283,
          0.982175,
          1.4484048,
          2.1489286,
          0.9146365,
          0.008586195,
          0.33628947,
          0.9684932,
          0.3716942,
          1.4266031,
          -0.02081784,
          0.5121296,
          1.0961859,
          0.75754243,
          2.33861,
          1.1798538,
          1.4241272,
          2.2144263,
          1.8030206,
          0.47871265,
          1.1876601,
          0.052210495,
          2.5530975,
          1.4008485,
          0.66663486,
          1.9522833,
          0.7820485,
          2.0879107,
          1.5247731,
          0.7176744,
          0.51218283,
          0.33377,
          0.66663486,
          1.4495627,
          0.12848184,
          0.3716942,
          2.8473403,
          0.47562692,
          1.1011786,
          2.4235234,
          2.0400448,
          0.3448004,
          1.4881225,
          1.166917,
          1.5291142,
          1.745289,
          0.83281535,
          0.5355054,
          1.0343382,
          0.83602375,
          3.2256322,
          2.228612,
          0.07760191,
          1.2679255,
          0.78214586,
          0.8247368,
          1.0959387,
          0.32344693,
          1.0968213,
          0.80477273,
          1.1507155,
          2.138296,
          2.2574935,
          1.4506582,
          0.5512811,
          3.4563026,
          0.83281535,
          0.19908798,
          0.47871265,
          0.07760191,
          1.2996963,
          2.5530975,
          0.2445683,
          0.6946684,
          1.4008485,
          1.9522833,
          2.7520223,
          2.0879107,
          1.0733674,
          1.0332865,
          1.9016503,
          1.4484048,
          1.0834309,
          0.81738394,
          0.87694347,
          1.2996963,
          2.7520223,
          1.081797,
          1.081797,
          0.96093065,
          0.96093065,
          1.1721822,
          1.5996324,
          1.0968213,
          0.83602375,
          0.25364545,
          1.4109842,
          0.44647247,
          2.4381695,
          3.7121265,
          0.7240378,
          0.5258991,
          -0.25601408,
          3.4819412,
          1.0213823,
          0.8724362,
          0.9333202,
          0.12338281,
          1.5066559,
          1.4375963,
          0.3739825,
          1.2363459,
          0.27516523,
          3.008403,
          1.5932502,
          1.6569449,
          -0.19746251,
          0.39502606,
          1.6226451,
          0.25364545,
          1.4375963,
          3.008403,
          1.5594983,
          2.1953106,
          1.1798538,
          0.39508864,
          2.0119398,
          0.4509798,
          1.0332865,
          1.1166192,
          1.9016503,
          0.052210495,
          0.72112995,
          1.1316531,
          0.51738816,
          1.2363459,
          1.1876601,
          1.7708493,
          2.0631573,
          0.7631015,
          3.53664,
          3.2272854,
          1.5269668,
          2.58715,
          1.8030206,
          -0.18900475,
          2.0834935,
          0.54343385,
          1.545657,
          0.5490622,
          2.160241,
          0.20920761,
          1.0343382,
          0.20920761,
          2.228612,
          0.98684204,
          1.589901,
          0.72189736,
          1.3007044,
          1.294438,
          0.5512811,
          2.1437044,
          1.4266031,
          2.6388972,
          1.6327019,
          2.138296,
          3.53664,
          0.9286092,
          0.78214586,
          0.9417339,
          2.5594172,
          0.7777006,
          1.0733674,
          1.1549573,
          0.97926044,
          1.0961859,
          1.1354878,
          0.46795753,
          -0.14308292,
          0.122613125,
          3.4563026,
          2.8464293,
          2.1506689,
          2.2709184,
          0.048673872,
          1.589901,
          0.27516523,
          0.4181732,
          2.3821092,
          0.6763475,
          0.47562692,
          1.429164,
          0.5121296,
          1.0664188,
          1.3631532,
          0.81905276,
          0.62478566,
          1.5932502,
          1.3969234,
          0.5091247,
          2.9748983,
          1.8468921,
          0.7446121,
          2.1372442,
          0.82760763,
          0.8615468,
          2.223538,
          0.16956136,
          0.6763475,
          1.5845802,
          2.5135734,
          -0.080837585,
          0.35316762,
          0.7718132,
          0.8264865,
          3.291925,
          1.5907933,
          0.40865448,
          2.2782805,
          0.7820485,
          2.9748983,
          1.3631532,
          0.40865448,
          1.4001505,
          0.70581156,
          0.9046486,
          1.0934975,
          0.3528951,
          1.8419873,
          1.5594983,
          2.58715,
          3.2272854,
          0.50491786,
          -0.13897319,
          1.1166192,
          1.3234885,
          0.39508864,
          1.2625512,
          1.255286,
          2.1953106,
          -0.19746251,
          0.9188433,
          1.0158235,
          0.4509798,
          1.6881961,
          1.6349651,
          0.18413498,
          1.3288438,
          1.87352,
          1.977092,
          2.209681,
          1.5907933,
          0.2944498,
          1.1973102,
          0.5193919,
          0.8351728,
          2.5925589,
          1.6393127,
          1.1697621,
          2.5135734,
          1.2625512,
          3.291925,
          1.87352,
          -0.13897319,
          0.3310565,
          2.1489286,
          0.3528951,
          0.33377,
          1.6393127,
          0.16956136,
          1.5249234,
          1.1050316,
          2.176812,
          2.0987904,
          2.4381695,
          2.420766,
          0.8485286,
          2.2130396,
          0.7718132,
          0.5258991,
          0.81905276,
          0.9146365,
          2.1372442,
          0.0348511,
          2.8176355,
          1.7510606,
          0.69932586,
          1.5317999,
          1.5269668,
          1.6333406,
          -0.080837585,
          0.12848184,
          2.0363512
         ],
         "yaxis": "y"
        },
        {
         "customdata": [
          [
           45
          ],
          [
           46
          ],
          [
           53
          ],
          [
           53
          ],
          [
           45
          ],
          [
           53
          ],
          [
           49
          ],
          [
           45
          ],
          [
           50
          ],
          [
           48
          ],
          [
           54
          ],
          [
           45
          ],
          [
           50
          ],
          [
           50
          ],
          [
           49
          ],
          [
           46
          ],
          [
           56
          ],
          [
           45
          ],
          [
           54
          ],
          [
           54
          ],
          [
           48
          ],
          [
           47
          ],
          [
           54
          ],
          [
           48
          ],
          [
           45
          ],
          [
           49
          ],
          [
           52
          ],
          [
           46
          ],
          [
           53
          ],
          [
           47
          ],
          [
           46
          ],
          [
           50
          ],
          [
           52
          ],
          [
           58
          ],
          [
           47
          ],
          [
           54
          ],
          [
           56
          ],
          [
           54
          ],
          [
           58
          ],
          [
           55
          ],
          [
           45
          ],
          [
           53
          ],
          [
           44
          ],
          [
           53
          ],
          [
           58
          ],
          [
           52
          ],
          [
           46
          ],
          [
           55
          ],
          [
           46
          ],
          [
           45
          ],
          [
           51
          ],
          [
           45
          ],
          [
           60
          ],
          [
           46
          ],
          [
           49
          ],
          [
           45
          ],
          [
           45
          ],
          [
           51
          ],
          [
           53
          ],
          [
           52
          ],
          [
           45
          ],
          [
           50
          ],
          [
           52
          ],
          [
           47
          ],
          [
           50
          ],
          [
           48
          ],
          [
           47
          ],
          [
           46
          ],
          [
           55
          ],
          [
           45
          ],
          [
           46
          ],
          [
           47
          ],
          [
           55
          ],
          [
           60
          ],
          [
           46
          ],
          [
           50
          ],
          [
           60
          ],
          [
           53
          ],
          [
           47
          ],
          [
           50
          ],
          [
           48
          ],
          [
           45
          ],
          [
           49
          ],
          [
           48
          ],
          [
           44
          ],
          [
           55
          ],
          [
           47
          ],
          [
           57
          ],
          [
           49
          ],
          [
           45
          ],
          [
           52
          ],
          [
           58
          ],
          [
           50
          ],
          [
           47
          ],
          [
           47
          ],
          [
           50
          ],
          [
           53
          ],
          [
           56
          ],
          [
           58
          ],
          [
           46
          ],
          [
           58
          ],
          [
           52
          ],
          [
           54
          ],
          [
           50
          ],
          [
           56
          ],
          [
           59
          ],
          [
           47
          ],
          [
           58
          ],
          [
           49
          ],
          [
           58
          ],
          [
           50
          ],
          [
           54
          ],
          [
           46
          ],
          [
           51
          ],
          [
           51
          ],
          [
           46
          ],
          [
           51
          ],
          [
           56
          ],
          [
           55
          ],
          [
           45
          ],
          [
           46
          ],
          [
           45
          ],
          [
           59
          ],
          [
           51
          ],
          [
           45
          ],
          [
           55
          ],
          [
           48
          ],
          [
           53
          ],
          [
           45
          ],
          [
           50
          ],
          [
           51
          ],
          [
           58
          ],
          [
           56
          ],
          [
           50
          ],
          [
           49
          ],
          [
           55
          ],
          [
           57
          ],
          [
           56
          ],
          [
           51
          ],
          [
           46
          ],
          [
           54
          ],
          [
           51
          ],
          [
           58
          ],
          [
           46
          ],
          [
           51
          ],
          [
           50
          ],
          [
           54
          ],
          [
           53
          ],
          [
           58
          ],
          [
           58
          ],
          [
           45
          ],
          [
           45
          ],
          [
           51
          ],
          [
           59
          ],
          [
           50
          ],
          [
           50
          ],
          [
           49
          ],
          [
           51
          ],
          [
           58
          ],
          [
           45
          ],
          [
           51
          ],
          [
           58
          ],
          [
           46
          ],
          [
           45
          ],
          [
           51
          ],
          [
           45
          ],
          [
           54
          ],
          [
           56
          ],
          [
           47
          ],
          [
           56
          ],
          [
           47
          ],
          [
           55
          ],
          [
           52
          ],
          [
           52
          ],
          [
           59
          ],
          [
           45
          ],
          [
           50
          ],
          [
           58
          ],
          [
           52
          ],
          [
           49
          ],
          [
           47
          ],
          [
           46
          ],
          [
           45
          ],
          [
           47
          ],
          [
           45
          ],
          [
           54
          ],
          [
           55
          ],
          [
           54
          ],
          [
           53
          ],
          [
           45
          ],
          [
           52
          ],
          [
           46
          ],
          [
           50
          ],
          [
           57
          ],
          [
           55
          ],
          [
           50
          ],
          [
           48
          ],
          [
           46
          ],
          [
           50
          ],
          [
           45
          ],
          [
           56
          ],
          [
           46
          ],
          [
           45
          ],
          [
           53
          ],
          [
           49
          ],
          [
           49
          ],
          [
           50
          ],
          [
           53
          ],
          [
           55
          ],
          [
           44
          ],
          [
           51
          ],
          [
           52
          ],
          [
           56
          ],
          [
           45
          ],
          [
           55
          ],
          [
           59
          ],
          [
           49
          ],
          [
           53
          ],
          [
           49
          ],
          [
           53
          ],
          [
           47
          ],
          [
           45
          ],
          [
           45
          ],
          [
           60
          ],
          [
           52
          ],
          [
           45
          ],
          [
           52
          ],
          [
           47
          ],
          [
           56
          ],
          [
           54
          ],
          [
           50
          ],
          [
           45
          ],
          [
           46
          ],
          [
           55
          ],
          [
           45
          ],
          [
           52
          ],
          [
           51
          ],
          [
           49
          ],
          [
           50
          ],
          [
           46
          ],
          [
           56
          ],
          [
           46
          ],
          [
           56
          ],
          [
           47
          ],
          [
           46
          ],
          [
           48
          ],
          [
           47
          ],
          [
           45
          ],
          [
           46
          ],
          [
           47
          ],
          [
           57
          ],
          [
           50
          ],
          [
           49
          ],
          [
           58
          ],
          [
           52
          ],
          [
           49
          ],
          [
           49
          ],
          [
           46
          ],
          [
           49
          ],
          [
           45
          ],
          [
           44
          ],
          [
           53
          ],
          [
           55
          ],
          [
           48
          ],
          [
           45
          ],
          [
           55
          ],
          [
           55
          ],
          [
           60
          ],
          [
           53
          ],
          [
           54
          ],
          [
           46
          ],
          [
           54
          ],
          [
           51
          ],
          [
           55
          ],
          [
           49
          ],
          [
           46
          ],
          [
           54
          ],
          [
           60
          ],
          [
           48
          ],
          [
           54
          ],
          [
           48
          ],
          [
           47
          ],
          [
           46
          ],
          [
           50
          ],
          [
           59
          ],
          [
           52
          ],
          [
           46
          ],
          [
           54
          ],
          [
           45
          ],
          [
           51
          ],
          [
           47
          ],
          [
           46
          ],
          [
           46
          ],
          [
           48
          ],
          [
           50
          ],
          [
           49
          ],
          [
           52
          ],
          [
           51
          ],
          [
           55
          ],
          [
           46
          ],
          [
           50
          ],
          [
           53
          ],
          [
           50
          ],
          [
           55
          ],
          [
           45
          ],
          [
           58
          ],
          [
           59
          ],
          [
           56
          ],
          [
           45
          ],
          [
           47
          ],
          [
           54
          ],
          [
           51
          ],
          [
           52
          ],
          [
           49
          ],
          [
           45
          ],
          [
           58
          ],
          [
           49
          ],
          [
           51
          ],
          [
           47
          ],
          [
           49
          ],
          [
           49
          ],
          [
           49
          ],
          [
           59
          ],
          [
           44
          ],
          [
           52
          ],
          [
           55
          ],
          [
           50
          ],
          [
           55
          ],
          [
           47
          ],
          [
           55
          ],
          [
           45
          ],
          [
           53
          ],
          [
           46
          ],
          [
           53
          ],
          [
           53
          ],
          [
           45
          ],
          [
           46
          ],
          [
           45
          ],
          [
           53
          ],
          [
           45
          ],
          [
           48
          ],
          [
           60
          ],
          [
           56
          ],
          [
           44
          ],
          [
           58
          ],
          [
           55
          ],
          [
           49
          ],
          [
           45
          ],
          [
           47
          ],
          [
           59
          ],
          [
           45
          ],
          [
           55
          ],
          [
           50
          ],
          [
           58
          ],
          [
           49
          ],
          [
           51
          ],
          [
           48
          ],
          [
           51
          ],
          [
           46
          ],
          [
           50
          ],
          [
           46
          ],
          [
           53
          ],
          [
           53
          ],
          [
           45
          ],
          [
           59
          ],
          [
           56
          ],
          [
           52
          ],
          [
           58
          ],
          [
           53
          ],
          [
           49
          ],
          [
           48
          ],
          [
           49
          ],
          [
           53
          ],
          [
           50
          ],
          [
           45
          ],
          [
           53
          ],
          [
           51
          ],
          [
           48
          ],
          [
           45
          ],
          [
           51
          ],
          [
           52
          ],
          [
           53
          ],
          [
           45
          ],
          [
           50
          ],
          [
           52
          ],
          [
           49
          ],
          [
           58
          ],
          [
           45
          ],
          [
           44
          ],
          [
           44
          ],
          [
           46
          ],
          [
           51
          ],
          [
           50
          ],
          [
           59
          ],
          [
           58
          ],
          [
           54
          ],
          [
           53
          ],
          [
           46
          ],
          [
           51
          ],
          [
           53
          ],
          [
           52
          ],
          [
           47
          ],
          [
           56
          ],
          [
           51
          ],
          [
           55
          ],
          [
           47
          ],
          [
           53
          ],
          [
           50
          ],
          [
           50
          ],
          [
           46
          ],
          [
           54
          ],
          [
           56
          ],
          [
           52
          ],
          [
           55
          ],
          [
           49
          ],
          [
           46
          ],
          [
           54
          ],
          [
           58
          ],
          [
           44
          ],
          [
           54
          ],
          [
           47
          ],
          [
           45
          ],
          [
           54
          ],
          [
           56
          ],
          [
           59
          ],
          [
           45
          ],
          [
           54
          ],
          [
           49
          ],
          [
           48
          ],
          [
           52
          ],
          [
           55
          ],
          [
           46
          ],
          [
           46
          ],
          [
           52
          ],
          [
           55
          ],
          [
           49
          ],
          [
           55
          ],
          [
           45
          ],
          [
           45
          ],
          [
           50
          ],
          [
           53
          ],
          [
           45
          ],
          [
           45
          ],
          [
           47
          ],
          [
           45
          ],
          [
           56
          ],
          [
           56
          ],
          [
           54
          ],
          [
           50
          ],
          [
           52
          ],
          [
           46
          ],
          [
           53
          ],
          [
           48
          ],
          [
           47
          ],
          [
           50
          ],
          [
           47
          ],
          [
           55
          ],
          [
           58
          ],
          [
           52
          ],
          [
           44
          ],
          [
           50
          ],
          [
           54
          ],
          [
           60
          ],
          [
           45
          ],
          [
           47
          ],
          [
           59
          ],
          [
           48
          ],
          [
           58
          ],
          [
           55
          ],
          [
           49
          ],
          [
           54
          ],
          [
           48
          ],
          [
           47
          ],
          [
           48
          ],
          [
           48
          ],
          [
           54
          ],
          [
           48
          ],
          [
           48
          ],
          [
           49
          ],
          [
           47
          ],
          [
           50
          ],
          [
           52
          ],
          [
           49
          ],
          [
           50
          ],
          [
           53
          ],
          [
           45
          ],
          [
           45
          ],
          [
           58
          ],
          [
           55
          ],
          [
           51
          ],
          [
           54
          ],
          [
           52
          ],
          [
           44
          ],
          [
           50
          ],
          [
           49
          ],
          [
           44
          ],
          [
           48
          ],
          [
           55
          ],
          [
           58
          ],
          [
           45
          ],
          [
           46
          ],
          [
           49
          ],
          [
           46
          ],
          [
           60
          ],
          [
           50
          ],
          [
           57
          ],
          [
           47
          ],
          [
           53
          ],
          [
           58
          ],
          [
           52
          ],
          [
           48
          ],
          [
           55
          ],
          [
           46
          ],
          [
           45
          ],
          [
           60
          ],
          [
           50
          ],
          [
           52
          ],
          [
           45
          ],
          [
           52
          ],
          [
           56
          ],
          [
           45
          ],
          [
           50
          ],
          [
           54
          ],
          [
           45
          ],
          [
           47
          ],
          [
           46
          ],
          [
           55
          ],
          [
           52
          ],
          [
           51
          ],
          [
           49
          ],
          [
           45
          ],
          [
           50
          ],
          [
           53
          ],
          [
           50
          ],
          [
           55
          ],
          [
           54
          ],
          [
           52
          ],
          [
           45
          ],
          [
           51
          ],
          [
           46
          ],
          [
           54
          ],
          [
           50
          ],
          [
           49
          ],
          [
           55
          ],
          [
           47
          ],
          [
           45
          ],
          [
           53
          ],
          [
           47
          ],
          [
           52
          ],
          [
           50
          ],
          [
           51
          ],
          [
           55
          ],
          [
           53
          ],
          [
           47
          ],
          [
           50
          ],
          [
           58
          ],
          [
           53
          ],
          [
           56
          ],
          [
           45
          ],
          [
           45
          ],
          [
           50
          ],
          [
           57
          ],
          [
           52
          ],
          [
           46
          ],
          [
           45
          ],
          [
           52
          ],
          [
           59
          ],
          [
           45
          ],
          [
           50
          ],
          [
           47
          ],
          [
           55
          ],
          [
           53
          ],
          [
           47
          ],
          [
           45
          ],
          [
           53
          ],
          [
           60
          ],
          [
           46
          ],
          [
           47
          ],
          [
           50
          ],
          [
           45
          ],
          [
           47
          ],
          [
           50
          ],
          [
           45
          ],
          [
           46
          ],
          [
           52
          ],
          [
           56
          ],
          [
           58
          ],
          [
           54
          ],
          [
           56
          ],
          [
           53
          ],
          [
           50
          ],
          [
           59
          ],
          [
           55
          ],
          [
           44
          ],
          [
           52
          ],
          [
           48
          ],
          [
           46
          ],
          [
           55
          ],
          [
           47
          ],
          [
           55
          ],
          [
           44
          ],
          [
           55
          ],
          [
           45
          ],
          [
           47
          ],
          [
           52
          ],
          [
           46
          ],
          [
           49
          ],
          [
           58
          ],
          [
           45
          ],
          [
           54
          ],
          [
           44
          ],
          [
           46
          ],
          [
           56
          ],
          [
           53
          ],
          [
           49
          ],
          [
           50
          ],
          [
           46
          ],
          [
           55
          ],
          [
           45
          ],
          [
           45
          ],
          [
           50
          ],
          [
           48
          ],
          [
           49
          ],
          [
           49
          ],
          [
           59
          ],
          [
           54
          ],
          [
           44
          ],
          [
           51
          ],
          [
           54
          ],
          [
           46
          ],
          [
           58
          ],
          [
           53
          ],
          [
           47
          ],
          [
           54
          ],
          [
           58
          ],
          [
           56
          ],
          [
           47
          ],
          [
           55
          ],
          [
           55
          ],
          [
           58
          ],
          [
           54
          ],
          [
           49
          ],
          [
           46
          ],
          [
           52
          ],
          [
           51
          ],
          [
           45
          ],
          [
           48
          ],
          [
           53
          ],
          [
           49
          ],
          [
           47
          ],
          [
           48
          ],
          [
           56
          ],
          [
           55
          ],
          [
           56
          ],
          [
           51
          ],
          [
           57
          ],
          [
           49
          ],
          [
           48
          ],
          [
           47
          ],
          [
           52
          ],
          [
           48
          ],
          [
           60
          ],
          [
           53
          ],
          [
           56
          ],
          [
           54
          ],
          [
           46
          ],
          [
           48
          ],
          [
           50
          ],
          [
           53
          ],
          [
           49
          ],
          [
           50
          ],
          [
           45
          ],
          [
           59
          ],
          [
           45
          ],
          [
           49
          ],
          [
           54
          ],
          [
           45
          ],
          [
           50
          ],
          [
           52
          ],
          [
           55
          ],
          [
           49
          ],
          [
           50
          ],
          [
           49
          ],
          [
           48
          ],
          [
           48
          ],
          [
           48
          ],
          [
           44
          ],
          [
           53
          ],
          [
           48
          ],
          [
           54
          ],
          [
           55
          ],
          [
           44
          ],
          [
           48
          ],
          [
           55
          ],
          [
           55
          ],
          [
           48
          ],
          [
           52
          ],
          [
           55
          ],
          [
           46
          ],
          [
           50
          ],
          [
           46
          ],
          [
           57
          ],
          [
           49
          ],
          [
           53
          ],
          [
           50
          ],
          [
           56
          ],
          [
           55
          ],
          [
           46
          ],
          [
           47
          ],
          [
           50
          ],
          [
           49
          ],
          [
           49
          ],
          [
           45
          ],
          [
           45
          ],
          [
           54
          ],
          [
           49
          ],
          [
           46
          ],
          [
           52
          ],
          [
           48
          ],
          [
           45
          ],
          [
           50
          ],
          [
           55
          ],
          [
           45
          ],
          [
           46
          ],
          [
           47
          ],
          [
           47
          ],
          [
           49
          ],
          [
           56
          ],
          [
           45
          ],
          [
           45
          ],
          [
           58
          ],
          [
           60
          ],
          [
           60
          ],
          [
           55
          ],
          [
           47
          ],
          [
           48
          ],
          [
           53
          ],
          [
           44
          ],
          [
           54
          ],
          [
           44
          ],
          [
           49
          ],
          [
           45
          ],
          [
           54
          ],
          [
           59
          ],
          [
           49
          ],
          [
           46
          ],
          [
           54
          ],
          [
           48
          ],
          [
           49
          ],
          [
           50
          ],
          [
           49
          ],
          [
           52
          ],
          [
           45
          ],
          [
           55
          ],
          [
           46
          ],
          [
           50
          ],
          [
           49
          ],
          [
           51
          ],
          [
           46
          ],
          [
           50
          ],
          [
           48
          ],
          [
           49
          ],
          [
           47
          ],
          [
           58
          ],
          [
           45
          ],
          [
           54
          ],
          [
           47
          ],
          [
           58
          ],
          [
           46
          ],
          [
           52
          ],
          [
           45
          ],
          [
           55
          ],
          [
           46
          ],
          [
           46
          ],
          [
           53
          ],
          [
           51
          ],
          [
           46
          ],
          [
           51
          ],
          [
           53
          ],
          [
           56
          ],
          [
           56
          ],
          [
           55
          ],
          [
           44
          ],
          [
           53
          ],
          [
           49
          ],
          [
           45
          ],
          [
           46
          ],
          [
           47
          ],
          [
           46
          ],
          [
           48
          ],
          [
           44
          ],
          [
           60
          ],
          [
           48
          ],
          [
           48
          ],
          [
           45
          ],
          [
           51
          ],
          [
           50
          ],
          [
           55
          ],
          [
           56
          ],
          [
           54
          ],
          [
           49
          ],
          [
           47
          ],
          [
           55
          ],
          [
           52
          ],
          [
           54
          ],
          [
           58
          ],
          [
           49
          ],
          [
           57
          ],
          [
           49
          ],
          [
           52
          ],
          [
           53
          ],
          [
           52
          ],
          [
           48
          ],
          [
           49
          ],
          [
           45
          ],
          [
           54
          ],
          [
           58
          ],
          [
           55
          ],
          [
           46
          ],
          [
           47
          ],
          [
           52
          ],
          [
           48
          ],
          [
           51
          ],
          [
           50
          ],
          [
           45
          ],
          [
           53
          ],
          [
           55
          ],
          [
           44
          ],
          [
           56
          ],
          [
           49
          ],
          [
           45
          ],
          [
           45
          ],
          [
           47
          ],
          [
           58
          ],
          [
           45
          ],
          [
           50
          ],
          [
           46
          ],
          [
           46
          ],
          [
           51
          ],
          [
           58
          ],
          [
           52
          ],
          [
           50
          ],
          [
           48
          ],
          [
           51
          ],
          [
           50
          ],
          [
           55
          ],
          [
           44
          ],
          [
           48
          ],
          [
           55
          ],
          [
           56
          ],
          [
           53
          ],
          [
           55
          ],
          [
           56
          ],
          [
           45
          ],
          [
           46
          ]
         ],
         "hovertemplate": "Cluster=Cluster 3<br>PCA1=%{x}<br>PCA2=%{y}<br>Feature=%{customdata[0]}<extra></extra>",
         "legendgroup": "Cluster 3",
         "marker": {
          "color": "#ab63fa",
          "opacity": 0.5,
          "symbol": "circle"
         },
         "mode": "markers",
         "name": "Cluster 3",
         "showlegend": true,
         "textposition": "top center",
         "type": "scattergl",
         "x": [
          -1.0853757,
          -0.35208324,
          -1.8808992,
          -1.8373282,
          -1.0374476,
          -1.6328447,
          -0.29860592,
          -1.160348,
          -1.1672256,
          -1.0269402,
          -1.3492355,
          -1.1825842,
          -1.3318942,
          -1.2008805,
          -0.2826799,
          -0.67135376,
          -2.0696168,
          -1.1525352,
          -1.6961513,
          -0.9563449,
          -0.37367496,
          -0.7158798,
          -1.9085976,
          -1.1187401,
          -0.3409117,
          -0.5601824,
          -1.7070124,
          -1.3294269,
          -1.910798,
          -0.80362284,
          -1.0154148,
          -1.2471559,
          -1.7023548,
          -2.2519705,
          -1.3324853,
          -1.8288176,
          -1.65464,
          -1.5535688,
          -2.1678336,
          -1.2722131,
          -0.8410773,
          -1.9079434,
          0.045571867,
          -1.556971,
          -1.9603451,
          -1.3922491,
          -1.0625918,
          -1.7277559,
          -0.8187442,
          -0.72268426,
          -0.64878345,
          -1.1556903,
          -2.422906,
          -1.0379516,
          -0.8680344,
          -0.7602455,
          -0.8364197,
          -1.461008,
          -1.8724855,
          -1.6372987,
          -1.2886573,
          -1.3443644,
          -0.6812897,
          -0.77267236,
          -1.3437635,
          -0.89232075,
          -0.93974483,
          -1.2676762,
          -1.9720545,
          -1.1037056,
          -0.18380861,
          -1.1630089,
          -1.9588329,
          -2.4123888,
          -0.98641753,
          -1.6406475,
          -1.9631563,
          -1.7922547,
          -1.0028478,
          -1.3248326,
          -1.5075741,
          -0.5327745,
          -1.2592723,
          -1.4936013,
          -0.37721756,
          -1.2606442,
          -1.3404483,
          -1.5840782,
          -1.2017287,
          -0.6897806,
          -1.7103179,
          -1.7139432,
          -1.2702936,
          -1.2770449,
          -0.25763255,
          -1.5689807,
          -1.4992769,
          -2.1472933,
          -2.2150102,
          -1.155293,
          -2.2854753,
          -1.4114804,
          -0.9563449,
          -1.5447913,
          -1.9564822,
          -1.9767753,
          -1.2770449,
          -1.9501283,
          -1.2023294,
          -2.1624246,
          -1.1816491,
          -1.5697951,
          -1.3681902,
          -1.6988459,
          -1.8312117,
          -0.22031832,
          -1.6986957,
          -2.056846,
          -1.258691,
          -0.73575556,
          -1.155293,
          -0.7800778,
          -2.3396168,
          -1.2143058,
          -0.5381834,
          -2.0353074,
          -0.89232075,
          -1.6933935,
          -1.2147366,
          -1.0667117,
          -1.7554882,
          -2.0127807,
          -1.9564822,
          -1.3323449,
          -0.813195,
          -1.258691,
          -2.22908,
          -2.056846,
          -1.6986957,
          -0.22031832,
          -1.8288176,
          -1.6988459,
          -1.8267772,
          -1.3681902,
          -0.863784,
          -0.7310643,
          -1.5697951,
          -1.6933935,
          -2.1624246,
          -2.1678336,
          -0.73575556,
          -1.0705014,
          -1.8312117,
          -1.9767753,
          -1.0667117,
          -1.1816491,
          -1.2023294,
          -1.7554882,
          -1.9501283,
          -1.2147366,
          -0.863784,
          -1.8267772,
          -1.2676762,
          -1.0571296,
          -1.4799389,
          -0.04462842,
          -1.3776319,
          -1.8413945,
          -1.0754161,
          -1.6327043,
          -0.8915162,
          -1.5446073,
          -0.8904307,
          -1.451145,
          -2.271706,
          -1.1525352,
          -1.0438744,
          -2.285325,
          -1.4672213,
          -1.385328,
          -1.0602413,
          -1.0681509,
          -0.729295,
          -1.1188369,
          -1.2584579,
          -1.9443561,
          -0.58634466,
          -1.2964996,
          -1.7075166,
          -0.40176094,
          -1.4271059,
          -1.1640072,
          -0.53709805,
          -2.22908,
          -1.9588329,
          -1.3323449,
          -1.1448826,
          -1.0735598,
          -1.253316,
          -0.77962714,
          -2.06541,
          -1.1659604,
          -1.0374476,
          -1.7467304,
          -1.3725572,
          -1.4619529,
          -1.5094837,
          -1.9049383,
          -1.9777637,
          0.027542466,
          -1.6808165,
          -1.612959,
          -2.0696168,
          -0.17128503,
          -1.3551484,
          -2.3759763,
          -1.0391635,
          -1.8990788,
          -0.5236729,
          -1.6224779,
          -1.0754161,
          -0.7800778,
          -0.77962714,
          -2.422906,
          -1.4114804,
          -0.8364197,
          -1.6372987,
          -1.0602413,
          -1.65464,
          -1.3492355,
          -0.50389385,
          -0.3409117,
          -1.2192973,
          -0.8069043,
          -1.160348,
          -1.451145,
          -1.4501903,
          -1.130212,
          -0.50389385,
          -1.2192973,
          -1.6327043,
          -0.98641753,
          -1.8413945,
          -1.1630089,
          -0.18380861,
          -0.35414317,
          -0.73045355,
          -1.0571296,
          -1.0625918,
          -1.1188369,
          -1.5840782,
          -1.2702936,
          -1.3094542,
          -2.285325,
          -0.6449304,
          -1.385328,
          -1.2770013,
          -1.2424351,
          -1.5545038,
          -0.9406898,
          -0.49410817,
          -0.22054155,
          -0.5690664,
          -0.20389815,
          -0.5327745,
          -0.8069043,
          -2.0247903,
          -2.159076,
          -1.7075166,
          -1.2964996,
          -0.35208324,
          -0.9563449,
          -1.4501903,
          -0.58634466,
          -1.130212,
          -0.67135376,
          -1.9443561,
          -2.4123888,
          -0.8810524,
          -1.858566,
          -0.35414317,
          -0.86988086,
          -1.0379516,
          -1.0438744,
          -2.271706,
          -0.8904307,
          -0.8187442,
          -1.3776319,
          -0.04462842,
          -1.4799389,
          -0.86988086,
          -1.1640072,
          -1.0735598,
          -1.1448826,
          -1.253316,
          -0.5236729,
          -1.612959,
          -1.6808165,
          -1.9777637,
          -1.0154148,
          -0.7310643,
          -1.6224779,
          -1.5094837,
          -2.0353074,
          -0.5381834,
          -2.2519705,
          -2.3396168,
          -2.06541,
          -0.17128503,
          -1.3324853,
          -1.858566,
          -1.461008,
          -1.4271059,
          -0.813195,
          -1.0705014,
          -2.0127807,
          -1.4619529,
          -1.2143058,
          -0.73045355,
          -1.0391635,
          -1.2017287,
          -1.3725572,
          -2.3759763,
          0.027542466,
          -1.4672213,
          -1.3551484,
          -0.53709805,
          -1.2722131,
          -0.8915162,
          -1.5446073,
          -0.40176094,
          -1.9049383,
          -1.0681509,
          -1.7467304,
          -1.910798,
          -1.2584579,
          -1.1659604,
          -0.729295,
          -1.8990788,
          -0.60414094,
          -1.5941153,
          -2.159076,
          -2.056846,
          -0.37721756,
          -2.2854753,
          -1.258691,
          -0.9535238,
          -0.7800778,
          -0.25763255,
          -2.3396168,
          -0.5381834,
          -2.0353074,
          -0.7310643,
          -2.2150102,
          -1.2592723,
          -1.6986957,
          -1.5075741,
          -0.64878345,
          -1.0735598,
          -1.253316,
          -1.1659604,
          -1.7467304,
          -1.9049383,
          -1.1037056,
          -2.3759763,
          -1.7856538,
          -1.7070124,
          -1.7139432,
          -1.6328447,
          -1.0391635,
          -1.1448826,
          -1.4619529,
          -1.8724855,
          -1.3437635,
          -1.2147366,
          -1.6933935,
          -0.64878345,
          -1.4785769,
          -0.73575556,
          -1.8312117,
          -1.2468119,
          -1.8724855,
          -1.2886573,
          -1.1816491,
          -1.3922491,
          -1.2023294,
          -1.9501283,
          -1.2886573,
          0.045571867,
          0.045571867,
          -1.3531656,
          -1.7554882,
          -1.0667117,
          -1.9767753,
          -2.1624246,
          -1.5697951,
          -1.9079434,
          -1.3681902,
          -1.6988459,
          -1.556971,
          -1.3922491,
          -0.77267236,
          -1.9564822,
          -0.863784,
          -1.7277559,
          -0.7158798,
          -1.7075166,
          -0.20490618,
          -1.2471559,
          -0.9374377,
          -1.9269276,
          -1.6686128,
          -1.7023548,
          -1.2427651,
          -1.385328,
          -0.3361572,
          -1.8510538,
          -2.285325,
          -0.3782693,
          -1.2964996,
          -1.0754161,
          -1.1525352,
          -1.9847718,
          -2.0696168,
          -2.07774,
          -1.0374476,
          -1.5535688,
          -0.9760606,
          -1.4785769,
          -1.2468119,
          -1.9588329,
          -1.3531656,
          -1.2676762,
          -0.6812897,
          -1.8212084,
          -0.5601824,
          -0.58634466,
          -0.77842516,
          -1.1825842,
          -1.2008805,
          -1.6161675,
          -1.0571296,
          -0.60414094,
          -0.91856027,
          -0.7602455,
          -1.8413945,
          -1.6327043,
          -0.25545186,
          -1.508432,
          -1.451145,
          -1.4240812,
          -0.40970013,
          -1.1504418,
          -1.0602413,
          -1.4922055,
          -1.1188369,
          -1.9576309,
          -1.9603451,
          -1.9310278,
          -0.31997424,
          -1.4354129,
          -1.9443561,
          -2.378584,
          -0.7518318,
          -0.80362284,
          -1.8338923,
          -1.0210807,
          -1.8267772,
          -1.7277559,
          -0.5601824,
          -0.25545186,
          -0.35414317,
          -0.73045355,
          -1.1504418,
          -1.0210807,
          -1.858566,
          -1.0269402,
          -1.5075741,
          -1.2592723,
          -0.86988086,
          -1.4922055,
          -1.4271059,
          -0.813195,
          -1.5447913,
          -1.8808992,
          -1.0853757,
          -1.0705014,
          -2.0127807,
          -1.9576309,
          -1.2143058,
          -1.6961513,
          -1.9310278,
          -0.31997424,
          -1.4354129,
          -1.3725572,
          0.027542466,
          -0.37367496,
          -1.3551484,
          -2.2150102,
          -0.7518318,
          -1.2192973,
          -1.3094542,
          -0.35208324,
          -2.4123888,
          -1.2702936,
          -1.5840782,
          -0.7158798,
          -1.6328447,
          -1.7139432,
          -1.7070124,
          -0.20389815,
          -0.5690664,
          -1.0625918,
          -1.1037056,
          -2.422906,
          -0.50389385,
          -1.4114804,
          -0.9406898,
          -1.6372987,
          -1.65464,
          -1.1825842,
          -1.2008805,
          -1.3492355,
          -0.60414094,
          -0.91856027,
          -1.2424351,
          -0.8069043,
          -0.6449304,
          -1.4501903,
          -1.130212,
          -0.8364197,
          -1.1672256,
          -1.8990788,
          -0.53709805,
          -1.2606442,
          -1.3776319,
          -0.6812897,
          -0.04462842,
          -1.4799389,
          -1.1640072,
          -1.5535688,
          -1.3437635,
          -0.5236729,
          -1.8212084,
          -0.77267236,
          -0.17128503,
          -1.556971,
          -1.3404483,
          -1.612959,
          -1.2471559,
          -1.6808165,
          -1.9777637,
          -1.6224779,
          -0.80362284,
          -1.5094837,
          -1.9603451,
          -1.9079434,
          -2.06541,
          -0.77962714,
          -0.7602455,
          -1.3323449,
          -2.22908,
          -1.7023548,
          -0.3361572,
          -0.6897806,
          -0.8904307,
          -1.8338923,
          -0.77842516,
          -1.3248326,
          -0.8915162,
          -1.5446073,
          -0.40970013,
          -1.0028478,
          -0.40176094,
          -1.7922547,
          -1.9631563,
          -1.0681509,
          -0.25763255,
          -1.6406475,
          -1.2584579,
          -0.93974483,
          -0.20490618,
          -0.729295,
          -0.9374377,
          -1.4672213,
          -2.1472933,
          -2.2854753,
          -1.9269276,
          -1.6686128,
          -1.4992769,
          -1.0438744,
          -2.271706,
          -1.2427651,
          -0.37721756,
          -1.7103179,
          -0.89232075,
          -1.155293,
          -1.2606442,
          -1.2770449,
          -1.1174607,
          -0.5750903,
          -1.6586434,
          -1.0264796,
          -1.4017483,
          -1.7568938,
          -1.2863066,
          -1.3976481,
          -2.280367,
          -1.0493169,
          -1.7341632,
          -0.5826025,
          -0.67135376,
          -2.0497844,
          -0.46529067,
          -1.1121826,
          -1.6376426,
          -1.328225,
          -1.6466236,
          -0.95541376,
          -1.0644916,
          -1.5447913,
          -0.72194296,
          -0.9760606,
          -1.3094542,
          -2.07774,
          -1.9847718,
          -0.3782693,
          -0.48531696,
          -1.8510538,
          -0.78133315,
          -2.4573557,
          -1.8808992,
          -0.81459075,
          -1.954122,
          -2.2408524,
          -1.8143506,
          -1.1015587,
          -1.6114664,
          -1.6114664,
          -2.2408524,
          -1.954122,
          -1.5602132,
          -0.78133315,
          -1.7298496,
          -0.9063034,
          -1.0264796,
          -1.5941153,
          -0.46529067,
          -1.1121826,
          -0.81459075,
          -1.0269402,
          -1.9701545,
          -1.6735176,
          -1.8143506,
          -1.4617593,
          -1.6057136,
          -1.146739,
          -1.4111168,
          -1.1015587,
          -0.38455573,
          -0.99899477,
          -2.378584,
          -1.8373282,
          -1.6686128,
          -1.9269276,
          -0.9374377,
          -0.20389815,
          -0.20490618,
          -0.40970013,
          -0.2826799,
          -1.3318942,
          -0.77842516,
          -1.8338923,
          -0.7518318,
          -0.29860592,
          -1.9085976,
          -1.0644916,
          -1.4354129,
          -1.9310278,
          -1.9576309,
          -1.2770013,
          -1.4922055,
          -1.5545038,
          -0.99899477,
          -1.0210807,
          -1.1504418,
          -0.49410817,
          -0.22054155,
          -0.8810524,
          -0.25545186,
          -2.0247903,
          -0.31997424,
          -1.4936013,
          -0.5690664,
          -1.2427651,
          -1.1187401,
          -0.6449304,
          -1.9720545,
          -1.4240812,
          -1.508432,
          -1.2424351,
          -1.6057136,
          -1.146739,
          -1.6161675,
          -1.5689807,
          -1.7856538,
          -1.6586434,
          -1.3294269,
          -1.4017483,
          -1.3443644,
          -1.3976481,
          -0.9535238,
          -1.1556903,
          -0.72268426,
          -1.7341632,
          -0.8680344,
          -1.3531656,
          -1.2468119,
          -1.4785769,
          -0.9406898,
          -1.6376426,
          -1.8212084,
          -0.8410773,
          -0.3361572,
          -0.81459075,
          -0.91856027,
          -1.5602132,
          -1.8143506,
          -0.3409117,
          -1.0493169,
          -2.280367,
          -2.378584,
          -2.159076,
          -2.0247903,
          -0.93974483,
          -0.8810524,
          -0.22054155,
          -0.49410817,
          -1.8510538,
          -0.3782693,
          -1.5545038,
          -1.160348,
          -1.9847718,
          -2.07774,
          -0.9760606,
          -1.2863066,
          -1.9085976,
          -0.72194296,
          -0.29860592,
          -1.3318942,
          -0.2826799,
          -1.7568938,
          -0.95541376,
          -1.6466236,
          -1.328225,
          -1.6406475,
          -1.2770013,
          -0.48531696,
          -1.4240812,
          -1.508432,
          -0.72194296,
          -0.9535238,
          -1.3404483,
          -2.1678336,
          -0.6897806,
          -1.8288176,
          -1.3324853,
          -2.2519705,
          -1.0154148,
          -1.7103179,
          -0.95541376,
          -1.6466236,
          -1.328225,
          -0.98641753,
          -1.4992769,
          -0.48531696,
          -1.0379516,
          -1.461008,
          -1.910798,
          -2.1472933,
          -1.7856538,
          -1.2722131,
          -0.5826025,
          -1.6161675,
          -1.2017287,
          -0.5327745,
          -0.18380861,
          -1.1630089,
          -0.8187442,
          -1.4936013,
          -0.5750903,
          -1.9631563,
          -0.37367496,
          -1.4111168,
          -1.0644916,
          -1.4617593,
          -1.6376426,
          -1.6735176,
          -1.9701545,
          -1.7341632,
          -1.3976481,
          -1.4017483,
          -1.6586434,
          -0.38455573,
          -1.6961513,
          -2.4573557,
          -1.146739,
          -1.6057136,
          -1.1121826,
          -1.7298496,
          -0.46529067,
          -1.7298496,
          -1.5941153,
          -1.5602132,
          -1.0264796,
          -1.954122,
          -2.2408524,
          -1.6114664,
          -0.78133315,
          -1.1015587,
          -0.38455573,
          -0.99899477,
          -0.9063034,
          -1.1672256,
          -0.8410773,
          -1.7922547,
          -1.1174607,
          -0.5826025,
          -2.0497844,
          -0.8680344,
          -0.72268426,
          -1.0493169,
          -1.0028478,
          -2.280367,
          -1.1556903,
          -1.3443644,
          -1.3294269,
          -1.2863066,
          -0.9063034,
          -2.4573557,
          -1.7568938,
          -1.5689807,
          -1.4111168,
          -1.4617593,
          -1.3248326,
          -1.9720545,
          -0.5750903,
          -1.1187401,
          -1.1174607,
          -2.0497844,
          -1.8373282,
          -1.6735176,
          -1.9701545,
          -1.0853757,
          -0.22031832
         ],
         "xaxis": "x",
         "y": [
          0.16529463,
          1.0534471,
          0.60864294,
          0.65221405,
          0.21322289,
          0.8566978,
          1.5715017,
          0.09032228,
          0.8577401,
          0.6883075,
          1.2951664,
          0.06808603,
          0.69307137,
          0.8240852,
          1.5874279,
          0.7341761,
          0.8845024,
          0.09813507,
          0.9482502,
          1.6880575,
          1.3415736,
          0.84450924,
          0.73580354,
          0.5965076,
          0.9097596,
          1.3099251,
          0.62767076,
          0.07610219,
          0.57874423,
          0.75676614,
          0.39011464,
          0.7778097,
          0.6323284,
          1.0118663,
          0.227903,
          0.81558365,
          1.2994796,
          1.0908328,
          1.0960037,
          1.5270479,
          0.40959334,
          0.5815989,
          1.1413844,
          0.93257165,
          1.3034922,
          0.9424345,
          0.3429376,
          1.0715045,
          0.58678555,
          0.5279865,
          1.5310421,
          0.094979934,
          1.1506491,
          0.36757782,
          1.0020726,
          0.49042526,
          0.41425094,
          0.7188165,
          0.61705667,
          0.69738454,
          -0.0379871,
          0.680601,
          1.6533947,
          0.7877166,
          0.68120205,
          0.8229272,
          0.6206439,
          0.13785294,
          0.8272057,
          0.14696473,
          1.2217219,
          0.39737958,
          0.84042734,
          1.1611662,
          0.41911197,
          0.3843175,
          1.6103994,
          0.6972877,
          0.55754095,
          0.7001329,
          0.20767312,
          0.7178965,
          0.6108342,
          0.2216459,
          0.7185945,
          1.5386168,
          0.21994004,
          1.5249006,
          0.668378,
          0.56089026,
          0.6243654,
          1.5498943,
          0.75467193,
          0.28334343,
          1.3027571,
          0.45598438,
          0.9902657,
          0.8068257,
          1.0488268,
          0.25023633,
          0.9783618,
          0.9232031,
          1.6880575,
          0.4801739,
          0.99763703,
          1.4419215,
          0.28334343,
          1.3137089,
          0.6677771,
          1.1014125,
          0.8433165,
          1.0746064,
          0.03733892,
          0.48097837,
          0.34861234,
          1.1852121,
          0.48112872,
          0.8972733,
          1.5405699,
          0.5149152,
          0.25023633,
          0.4705929,
          1.0790793,
          0.9655192,
          0.71248764,
          0.76395255,
          0.8229272,
          0.796149,
          0.03593356,
          0.9582541,
          0.42433596,
          1.2510567,
          0.99763703,
          0.69262064,
          1.0569121,
          1.5405699,
          0.8798978,
          0.8972733,
          0.48112872,
          1.1852121,
          0.81558365,
          0.48097837,
          1.4370602,
          0.03733892,
          1.3160414,
          1.2939018,
          1.0746064,
          0.796149,
          1.1014125,
          1.0960037,
          0.5149152,
          0.18016893,
          0.34861234,
          1.4419215,
          0.9582541,
          0.8433165,
          0.6677771,
          0.42433596,
          1.3137089,
          0.03593356,
          1.3160414,
          1.4370602,
          0.13785294,
          0.19354074,
          0.69988567,
          1.2060432,
          1.26677,
          1.1127248,
          0.4849725,
          1.3214154,
          0.6688726,
          1.2546533,
          1.4442534,
          0.8835384,
          1.1469901,
          0.09813507,
          0.98109144,
          0.97851187,
          0.86746216,
          0.4847784,
          0.50014734,
          0.33737856,
          0.5213758,
          0.44155163,
          -0.00778782,
          0.70004517,
          2.212917,
          1.3479024,
          0.78202593,
          0.8489103,
          0.90757763,
          0.2415221,
          1.4878684,
          0.8798978,
          0.84042734,
          0.69262064,
          0.570365,
          0.3319697,
          0.77164954,
          0.47104365,
          0.88870925,
          0.23956892,
          0.21322289,
          0.742812,
          0.49754924,
          0.4081533,
          0.51548153,
          0.5846038,
          0.8214964,
          1.1233549,
          0.49900782,
          0.72172433,
          0.8845024,
          1.0793865,
          1.4441124,
          1.04272,
          0.83094335,
          0.5904634,
          1.3464346,
          0.8670647,
          0.4849725,
          0.4705929,
          0.47104365,
          1.1506491,
          0.9232031,
          0.41425094,
          0.69738454,
          0.50014734,
          1.2994796,
          1.2951664,
          1.5210726,
          0.9097596,
          0.18623187,
          1.9923574,
          0.09032228,
          0.8835384,
          0.7296342,
          0.73989475,
          1.5210726,
          0.18623187,
          1.3214154,
          0.41911197,
          1.1127248,
          0.39737958,
          1.2217219,
          1.3611054,
          0.8299355,
          0.19354074,
          0.3429376,
          0.44155163,
          1.5249006,
          0.75467193,
          0.56065226,
          0.97851187,
          1.689754,
          0.4847784,
          0.5931052,
          0.16309412,
          0.3156023,
          0.30998078,
          0.6017037,
          2.2690027,
          2.2301955,
          1.5113508,
          0.7178965,
          1.9923574,
          0.77446973,
          1.4144797,
          0.78202593,
          1.3479024,
          1.0534471,
          1.6880575,
          0.7296342,
          2.212917,
          0.73989475,
          0.7341761,
          0.70004517,
          1.1611662,
          0.83419555,
          0.78583515,
          1.3611054,
          0.69050795,
          0.36757782,
          0.98109144,
          1.1469901,
          1.4442534,
          0.58678555,
          1.26677,
          1.2060432,
          0.69988567,
          0.69050795,
          0.2415221,
          0.3319697,
          0.570365,
          0.77164954,
          1.3464346,
          0.72172433,
          0.49900782,
          0.8214964,
          0.39011464,
          1.2939018,
          0.8670647,
          0.51548153,
          0.76395255,
          0.71248764,
          1.0118663,
          1.0790793,
          0.88870925,
          1.0793865,
          0.227903,
          0.78583515,
          0.7188165,
          0.90757763,
          1.0569121,
          0.18016893,
          1.2510567,
          0.4081533,
          0.9655192,
          0.8299355,
          0.83094335,
          0.668378,
          0.49754924,
          1.04272,
          1.1233549,
          0.86746216,
          1.4441124,
          1.4878684,
          1.5270479,
          0.6688726,
          1.2546533,
          0.8489103,
          0.5846038,
          0.33737856,
          0.742812,
          0.57874423,
          -0.00778782,
          0.23956892,
          0.5213758,
          0.5904634,
          0.64653,
          0.12113184,
          1.4144797,
          0.8972733,
          0.7185945,
          0.9783618,
          1.5405699,
          0.91658306,
          0.4705929,
          1.3027571,
          1.0790793,
          0.71248764,
          0.76395255,
          1.2939018,
          1.0488268,
          0.6108342,
          0.48112872,
          0.20767312,
          1.5310421,
          0.3319697,
          0.77164954,
          0.23956892,
          0.742812,
          0.5846038,
          0.14696473,
          1.04272,
          1.1684659,
          0.62767076,
          1.5498943,
          0.8566978,
          0.83094335,
          0.570365,
          0.4081533,
          0.61705667,
          0.68120205,
          0.03593356,
          0.796149,
          1.5310421,
          0.2366704,
          0.5149152,
          0.34861234,
          1.0878718,
          0.61705667,
          -0.0379871,
          0.8433165,
          0.9424345,
          0.6677771,
          1.3137089,
          -0.0379871,
          1.1413844,
          1.1413844,
          0.05236346,
          0.42433596,
          0.9582541,
          1.4419215,
          1.1014125,
          1.0746064,
          0.5815989,
          0.03733892,
          0.48097837,
          0.93257165,
          0.9424345,
          0.7877166,
          0.99763703,
          1.3160414,
          1.0715045,
          0.84450924,
          0.78202593,
          1.8200607,
          0.7778097,
          0.46809188,
          0.71747357,
          1.2855068,
          0.6323284,
          1.5564959,
          0.4847784,
          1.0693731,
          0.7933474,
          0.97851187,
          0.7175427,
          1.3479024,
          0.4849725,
          0.09813507,
          0.6596293,
          0.8845024,
          1.3409567,
          0.21322289,
          1.0908328,
          0.89404625,
          0.2366704,
          1.0878718,
          0.84042734,
          0.05236346,
          0.13785294,
          1.6533947,
          0.9780519,
          1.3099251,
          2.212917,
          0.4722456,
          0.06808603,
          0.8240852,
          0.87337506,
          0.19354074,
          0.64653,
          0.64182854,
          0.49042526,
          1.1127248,
          1.3214154,
          2.3889513,
          0.51653326,
          0.8835384,
          -0.018552281,
          2.079844,
          0.5648059,
          0.50014734,
          0.5327598,
          0.44155163,
          0.84162927,
          1.3034922,
          0.4036552,
          0.77583784,
          0.58955246,
          0.70004517,
          1.1949714,
          0.49883896,
          0.75676614,
          1.5848045,
          0.694167,
          1.4370602,
          1.0715045,
          1.3099251,
          2.3889513,
          1.3611054,
          0.8299355,
          0.5648059,
          0.694167,
          0.78583515,
          0.6883075,
          0.20767312,
          0.6108342,
          0.69050795,
          0.5327598,
          0.90757763,
          1.0569121,
          0.4801739,
          0.60864294,
          0.16529463,
          0.18016893,
          1.2510567,
          0.84162927,
          0.9655192,
          0.9482502,
          0.4036552,
          0.77583784,
          0.58955246,
          0.49754924,
          1.1233549,
          1.3415736,
          1.4441124,
          1.0488268,
          0.49883896,
          0.18623187,
          0.56065226,
          1.0534471,
          1.1611662,
          0.75467193,
          1.5249006,
          0.84450924,
          0.8566978,
          1.5498943,
          0.62767076,
          1.5113508,
          2.2301955,
          0.3429376,
          0.14696473,
          1.1506491,
          1.5210726,
          0.9232031,
          0.30998078,
          0.69738454,
          1.2994796,
          0.06808603,
          0.8240852,
          1.2951664,
          0.64653,
          0.64182854,
          0.16309412,
          1.9923574,
          1.689754,
          0.7296342,
          0.73989475,
          0.41425094,
          0.8577401,
          0.5904634,
          1.4878684,
          1.5386168,
          1.26677,
          1.6533947,
          1.2060432,
          0.69988567,
          0.2415221,
          1.0908328,
          0.68120205,
          1.3464346,
          0.9780519,
          0.7877166,
          1.0793865,
          0.93257165,
          0.21994004,
          0.72172433,
          0.7778097,
          0.49900782,
          0.8214964,
          0.8670647,
          0.75676614,
          0.51548153,
          1.3034922,
          0.5815989,
          0.88870925,
          0.47104365,
          0.49042526,
          0.69262064,
          0.8798978,
          0.6323284,
          1.0693731,
          0.56089026,
          1.4442534,
          1.5848045,
          0.4722456,
          0.7001329,
          0.6688726,
          1.2546533,
          2.079844,
          0.55754095,
          0.8489103,
          0.6972877,
          1.6103994,
          0.33737856,
          1.3027571,
          0.3843175,
          -0.00778782,
          0.6206439,
          1.8200607,
          0.5213758,
          0.46809188,
          0.86746216,
          0.8068257,
          0.9783618,
          0.71747357,
          1.2855068,
          0.9902657,
          0.98109144,
          1.1469901,
          1.5564959,
          0.7185945,
          0.6243654,
          0.8229272,
          0.25023633,
          1.5386168,
          0.28334343,
          1.6818005,
          0.5207215,
          1.1406173,
          0.2241908,
          0.15863994,
          0.57778937,
          0.11922254,
          0.47245827,
          0.9834701,
          0.20135348,
          0.9102382,
          0.5132093,
          0.7341761,
          0.9043348,
          2.0242534,
          0.75792414,
          0.38732243,
          0.07730413,
          1.1526369,
          0.29525676,
          0.18617873,
          0.4801739,
          0.99330527,
          0.89404625,
          0.56065226,
          1.3409567,
          0.6596293,
          0.7175427,
          1.6945088,
          0.7933474,
          0.6241966,
          0.80648106,
          0.60864294,
          0.74579823,
          0.6902792,
          1.0229845,
          1.139769,
          0.45882985,
          1.1877942,
          1.1877942,
          1.0229845,
          0.6902792,
          0.309893,
          0.6241966,
          0.60483354,
          1.2735218,
          0.2241908,
          0.12113184,
          2.0242534,
          0.75792414,
          0.74579823,
          0.6883075,
          0.98396474,
          1.1257429,
          1.139769,
          0.7180653,
          1.5032653,
          0.72336775,
          0.30413046,
          0.45882985,
          1.950129,
          0.7162531,
          1.1949714,
          0.65221405,
          1.2855068,
          0.71747357,
          0.46809188,
          1.5113508,
          1.8200607,
          2.079844,
          1.5874279,
          0.69307137,
          0.4722456,
          1.5848045,
          0.49883896,
          1.5715017,
          0.73580354,
          0.18617873,
          0.58955246,
          0.4036552,
          0.84162927,
          0.5931052,
          0.5327598,
          0.3156023,
          0.7162531,
          0.694167,
          0.5648059,
          0.6017037,
          2.2690027,
          0.83419555,
          2.3889513,
          0.77446973,
          0.77583784,
          0.2216459,
          2.2301955,
          1.5564959,
          0.5965076,
          1.689754,
          0.8272057,
          -0.018552281,
          0.51653326,
          0.16309412,
          1.5032653,
          0.72336775,
          0.87337506,
          0.45598438,
          1.1684659,
          1.1406173,
          0.07610219,
          0.15863994,
          0.680601,
          0.47245827,
          0.91658306,
          0.094979934,
          0.5279865,
          0.9102382,
          1.0020726,
          0.05236346,
          1.0878718,
          0.2366704,
          0.30998078,
          0.38732243,
          0.9780519,
          0.40959334,
          1.0693731,
          0.74579823,
          0.64182854,
          0.309893,
          1.139769,
          0.9097596,
          0.20135348,
          0.9834701,
          1.1949714,
          1.4144797,
          0.77446973,
          0.6206439,
          0.83419555,
          2.2690027,
          0.6017037,
          0.7933474,
          0.7175427,
          0.3156023,
          0.09032228,
          0.6596293,
          1.3409567,
          0.89404625,
          0.11922254,
          0.73580354,
          0.99330527,
          1.5715017,
          0.69307137,
          1.5874279,
          0.57778937,
          0.29525676,
          1.1526369,
          0.07730413,
          0.3843175,
          0.5931052,
          1.6945088,
          -0.018552281,
          0.51653326,
          0.99330527,
          0.91658306,
          0.21994004,
          1.0960037,
          0.56089026,
          0.81558365,
          0.227903,
          1.0118663,
          0.39011464,
          0.6243654,
          0.29525676,
          1.1526369,
          0.07730413,
          0.41911197,
          0.9902657,
          1.6945088,
          0.36757782,
          0.7188165,
          0.57874423,
          0.8068257,
          1.1684659,
          1.5270479,
          0.5132093,
          0.87337506,
          0.668378,
          0.7178965,
          1.2217219,
          0.39737958,
          0.58678555,
          0.2216459,
          0.5207215,
          1.6103994,
          1.3415736,
          0.30413046,
          0.18617873,
          0.7180653,
          0.38732243,
          1.1257429,
          0.98396474,
          0.9102382,
          0.47245827,
          0.15863994,
          1.1406173,
          1.950129,
          0.9482502,
          0.80648106,
          0.72336775,
          1.5032653,
          0.75792414,
          0.60483354,
          2.0242534,
          0.60483354,
          0.12113184,
          0.309893,
          0.2241908,
          0.6902792,
          1.0229845,
          1.1877942,
          0.6241966,
          0.45882985,
          1.950129,
          0.7162531,
          1.2735218,
          0.8577401,
          0.40959334,
          0.6972877,
          1.6818005,
          0.5132093,
          0.9043348,
          1.0020726,
          0.5279865,
          0.20135348,
          0.55754095,
          0.9834701,
          0.094979934,
          0.680601,
          0.07610219,
          0.11922254,
          1.2735218,
          0.80648106,
          0.57778937,
          0.45598438,
          0.30413046,
          0.7180653,
          0.7001329,
          0.8272057,
          0.5207215,
          0.5965076,
          1.6818005,
          0.9043348,
          0.65221405,
          1.1257429,
          0.98396474,
          0.16529463,
          1.1852121
         ],
         "yaxis": "y"
        }
       ],
       "layout": {
        "height": 600,
        "legend": {
         "title": {
          "text": "Cluster"
         },
         "tracegroupgap": 0
        },
        "margin": {
         "t": 60
        },
        "plot_bgcolor": "rgb(240,240,240)",
        "template": {
         "data": {
          "bar": [
           {
            "error_x": {
             "color": "#2a3f5f"
            },
            "error_y": {
             "color": "#2a3f5f"
            },
            "marker": {
             "line": {
              "color": "#E5ECF6",
              "width": 0.5
             },
             "pattern": {
              "fillmode": "overlay",
              "size": 10,
              "solidity": 0.2
             }
            },
            "type": "bar"
           }
          ],
          "barpolar": [
           {
            "marker": {
             "line": {
              "color": "#E5ECF6",
              "width": 0.5
             },
             "pattern": {
              "fillmode": "overlay",
              "size": 10,
              "solidity": 0.2
             }
            },
            "type": "barpolar"
           }
          ],
          "carpet": [
           {
            "aaxis": {
             "endlinecolor": "#2a3f5f",
             "gridcolor": "white",
             "linecolor": "white",
             "minorgridcolor": "white",
             "startlinecolor": "#2a3f5f"
            },
            "baxis": {
             "endlinecolor": "#2a3f5f",
             "gridcolor": "white",
             "linecolor": "white",
             "minorgridcolor": "white",
             "startlinecolor": "#2a3f5f"
            },
            "type": "carpet"
           }
          ],
          "choropleth": [
           {
            "colorbar": {
             "outlinewidth": 0,
             "ticks": ""
            },
            "type": "choropleth"
           }
          ],
          "contour": [
           {
            "colorbar": {
             "outlinewidth": 0,
             "ticks": ""
            },
            "colorscale": [
             [
              0,
              "#0d0887"
             ],
             [
              0.1111111111111111,
              "#46039f"
             ],
             [
              0.2222222222222222,
              "#7201a8"
             ],
             [
              0.3333333333333333,
              "#9c179e"
             ],
             [
              0.4444444444444444,
              "#bd3786"
             ],
             [
              0.5555555555555556,
              "#d8576b"
             ],
             [
              0.6666666666666666,
              "#ed7953"
             ],
             [
              0.7777777777777778,
              "#fb9f3a"
             ],
             [
              0.8888888888888888,
              "#fdca26"
             ],
             [
              1,
              "#f0f921"
             ]
            ],
            "type": "contour"
           }
          ],
          "contourcarpet": [
           {
            "colorbar": {
             "outlinewidth": 0,
             "ticks": ""
            },
            "type": "contourcarpet"
           }
          ],
          "heatmap": [
           {
            "colorbar": {
             "outlinewidth": 0,
             "ticks": ""
            },
            "colorscale": [
             [
              0,
              "#0d0887"
             ],
             [
              0.1111111111111111,
              "#46039f"
             ],
             [
              0.2222222222222222,
              "#7201a8"
             ],
             [
              0.3333333333333333,
              "#9c179e"
             ],
             [
              0.4444444444444444,
              "#bd3786"
             ],
             [
              0.5555555555555556,
              "#d8576b"
             ],
             [
              0.6666666666666666,
              "#ed7953"
             ],
             [
              0.7777777777777778,
              "#fb9f3a"
             ],
             [
              0.8888888888888888,
              "#fdca26"
             ],
             [
              1,
              "#f0f921"
             ]
            ],
            "type": "heatmap"
           }
          ],
          "heatmapgl": [
           {
            "colorbar": {
             "outlinewidth": 0,
             "ticks": ""
            },
            "colorscale": [
             [
              0,
              "#0d0887"
             ],
             [
              0.1111111111111111,
              "#46039f"
             ],
             [
              0.2222222222222222,
              "#7201a8"
             ],
             [
              0.3333333333333333,
              "#9c179e"
             ],
             [
              0.4444444444444444,
              "#bd3786"
             ],
             [
              0.5555555555555556,
              "#d8576b"
             ],
             [
              0.6666666666666666,
              "#ed7953"
             ],
             [
              0.7777777777777778,
              "#fb9f3a"
             ],
             [
              0.8888888888888888,
              "#fdca26"
             ],
             [
              1,
              "#f0f921"
             ]
            ],
            "type": "heatmapgl"
           }
          ],
          "histogram": [
           {
            "marker": {
             "pattern": {
              "fillmode": "overlay",
              "size": 10,
              "solidity": 0.2
             }
            },
            "type": "histogram"
           }
          ],
          "histogram2d": [
           {
            "colorbar": {
             "outlinewidth": 0,
             "ticks": ""
            },
            "colorscale": [
             [
              0,
              "#0d0887"
             ],
             [
              0.1111111111111111,
              "#46039f"
             ],
             [
              0.2222222222222222,
              "#7201a8"
             ],
             [
              0.3333333333333333,
              "#9c179e"
             ],
             [
              0.4444444444444444,
              "#bd3786"
             ],
             [
              0.5555555555555556,
              "#d8576b"
             ],
             [
              0.6666666666666666,
              "#ed7953"
             ],
             [
              0.7777777777777778,
              "#fb9f3a"
             ],
             [
              0.8888888888888888,
              "#fdca26"
             ],
             [
              1,
              "#f0f921"
             ]
            ],
            "type": "histogram2d"
           }
          ],
          "histogram2dcontour": [
           {
            "colorbar": {
             "outlinewidth": 0,
             "ticks": ""
            },
            "colorscale": [
             [
              0,
              "#0d0887"
             ],
             [
              0.1111111111111111,
              "#46039f"
             ],
             [
              0.2222222222222222,
              "#7201a8"
             ],
             [
              0.3333333333333333,
              "#9c179e"
             ],
             [
              0.4444444444444444,
              "#bd3786"
             ],
             [
              0.5555555555555556,
              "#d8576b"
             ],
             [
              0.6666666666666666,
              "#ed7953"
             ],
             [
              0.7777777777777778,
              "#fb9f3a"
             ],
             [
              0.8888888888888888,
              "#fdca26"
             ],
             [
              1,
              "#f0f921"
             ]
            ],
            "type": "histogram2dcontour"
           }
          ],
          "mesh3d": [
           {
            "colorbar": {
             "outlinewidth": 0,
             "ticks": ""
            },
            "type": "mesh3d"
           }
          ],
          "parcoords": [
           {
            "line": {
             "colorbar": {
              "outlinewidth": 0,
              "ticks": ""
             }
            },
            "type": "parcoords"
           }
          ],
          "pie": [
           {
            "automargin": true,
            "type": "pie"
           }
          ],
          "scatter": [
           {
            "fillpattern": {
             "fillmode": "overlay",
             "size": 10,
             "solidity": 0.2
            },
            "type": "scatter"
           }
          ],
          "scatter3d": [
           {
            "line": {
             "colorbar": {
              "outlinewidth": 0,
              "ticks": ""
             }
            },
            "marker": {
             "colorbar": {
              "outlinewidth": 0,
              "ticks": ""
             }
            },
            "type": "scatter3d"
           }
          ],
          "scattercarpet": [
           {
            "marker": {
             "colorbar": {
              "outlinewidth": 0,
              "ticks": ""
             }
            },
            "type": "scattercarpet"
           }
          ],
          "scattergeo": [
           {
            "marker": {
             "colorbar": {
              "outlinewidth": 0,
              "ticks": ""
             }
            },
            "type": "scattergeo"
           }
          ],
          "scattergl": [
           {
            "marker": {
             "colorbar": {
              "outlinewidth": 0,
              "ticks": ""
             }
            },
            "type": "scattergl"
           }
          ],
          "scattermapbox": [
           {
            "marker": {
             "colorbar": {
              "outlinewidth": 0,
              "ticks": ""
             }
            },
            "type": "scattermapbox"
           }
          ],
          "scatterpolar": [
           {
            "marker": {
             "colorbar": {
              "outlinewidth": 0,
              "ticks": ""
             }
            },
            "type": "scatterpolar"
           }
          ],
          "scatterpolargl": [
           {
            "marker": {
             "colorbar": {
              "outlinewidth": 0,
              "ticks": ""
             }
            },
            "type": "scatterpolargl"
           }
          ],
          "scatterternary": [
           {
            "marker": {
             "colorbar": {
              "outlinewidth": 0,
              "ticks": ""
             }
            },
            "type": "scatterternary"
           }
          ],
          "surface": [
           {
            "colorbar": {
             "outlinewidth": 0,
             "ticks": ""
            },
            "colorscale": [
             [
              0,
              "#0d0887"
             ],
             [
              0.1111111111111111,
              "#46039f"
             ],
             [
              0.2222222222222222,
              "#7201a8"
             ],
             [
              0.3333333333333333,
              "#9c179e"
             ],
             [
              0.4444444444444444,
              "#bd3786"
             ],
             [
              0.5555555555555556,
              "#d8576b"
             ],
             [
              0.6666666666666666,
              "#ed7953"
             ],
             [
              0.7777777777777778,
              "#fb9f3a"
             ],
             [
              0.8888888888888888,
              "#fdca26"
             ],
             [
              1,
              "#f0f921"
             ]
            ],
            "type": "surface"
           }
          ],
          "table": [
           {
            "cells": {
             "fill": {
              "color": "#EBF0F8"
             },
             "line": {
              "color": "white"
             }
            },
            "header": {
             "fill": {
              "color": "#C8D4E3"
             },
             "line": {
              "color": "white"
             }
            },
            "type": "table"
           }
          ]
         },
         "layout": {
          "annotationdefaults": {
           "arrowcolor": "#2a3f5f",
           "arrowhead": 0,
           "arrowwidth": 1
          },
          "autotypenumbers": "strict",
          "coloraxis": {
           "colorbar": {
            "outlinewidth": 0,
            "ticks": ""
           }
          },
          "colorscale": {
           "diverging": [
            [
             0,
             "#8e0152"
            ],
            [
             0.1,
             "#c51b7d"
            ],
            [
             0.2,
             "#de77ae"
            ],
            [
             0.3,
             "#f1b6da"
            ],
            [
             0.4,
             "#fde0ef"
            ],
            [
             0.5,
             "#f7f7f7"
            ],
            [
             0.6,
             "#e6f5d0"
            ],
            [
             0.7,
             "#b8e186"
            ],
            [
             0.8,
             "#7fbc41"
            ],
            [
             0.9,
             "#4d9221"
            ],
            [
             1,
             "#276419"
            ]
           ],
           "sequential": [
            [
             0,
             "#0d0887"
            ],
            [
             0.1111111111111111,
             "#46039f"
            ],
            [
             0.2222222222222222,
             "#7201a8"
            ],
            [
             0.3333333333333333,
             "#9c179e"
            ],
            [
             0.4444444444444444,
             "#bd3786"
            ],
            [
             0.5555555555555556,
             "#d8576b"
            ],
            [
             0.6666666666666666,
             "#ed7953"
            ],
            [
             0.7777777777777778,
             "#fb9f3a"
            ],
            [
             0.8888888888888888,
             "#fdca26"
            ],
            [
             1,
             "#f0f921"
            ]
           ],
           "sequentialminus": [
            [
             0,
             "#0d0887"
            ],
            [
             0.1111111111111111,
             "#46039f"
            ],
            [
             0.2222222222222222,
             "#7201a8"
            ],
            [
             0.3333333333333333,
             "#9c179e"
            ],
            [
             0.4444444444444444,
             "#bd3786"
            ],
            [
             0.5555555555555556,
             "#d8576b"
            ],
            [
             0.6666666666666666,
             "#ed7953"
            ],
            [
             0.7777777777777778,
             "#fb9f3a"
            ],
            [
             0.8888888888888888,
             "#fdca26"
            ],
            [
             1,
             "#f0f921"
            ]
           ]
          },
          "colorway": [
           "#636efa",
           "#EF553B",
           "#00cc96",
           "#ab63fa",
           "#FFA15A",
           "#19d3f3",
           "#FF6692",
           "#B6E880",
           "#FF97FF",
           "#FECB52"
          ],
          "font": {
           "color": "#2a3f5f"
          },
          "geo": {
           "bgcolor": "white",
           "lakecolor": "white",
           "landcolor": "#E5ECF6",
           "showlakes": true,
           "showland": true,
           "subunitcolor": "white"
          },
          "hoverlabel": {
           "align": "left"
          },
          "hovermode": "closest",
          "mapbox": {
           "style": "light"
          },
          "paper_bgcolor": "white",
          "plot_bgcolor": "#E5ECF6",
          "polar": {
           "angularaxis": {
            "gridcolor": "white",
            "linecolor": "white",
            "ticks": ""
           },
           "bgcolor": "#E5ECF6",
           "radialaxis": {
            "gridcolor": "white",
            "linecolor": "white",
            "ticks": ""
           }
          },
          "scene": {
           "xaxis": {
            "backgroundcolor": "#E5ECF6",
            "gridcolor": "white",
            "gridwidth": 2,
            "linecolor": "white",
            "showbackground": true,
            "ticks": "",
            "zerolinecolor": "white"
           },
           "yaxis": {
            "backgroundcolor": "#E5ECF6",
            "gridcolor": "white",
            "gridwidth": 2,
            "linecolor": "white",
            "showbackground": true,
            "ticks": "",
            "zerolinecolor": "white"
           },
           "zaxis": {
            "backgroundcolor": "#E5ECF6",
            "gridcolor": "white",
            "gridwidth": 2,
            "linecolor": "white",
            "showbackground": true,
            "ticks": "",
            "zerolinecolor": "white"
           }
          },
          "shapedefaults": {
           "line": {
            "color": "#2a3f5f"
           }
          },
          "ternary": {
           "aaxis": {
            "gridcolor": "white",
            "linecolor": "white",
            "ticks": ""
           },
           "baxis": {
            "gridcolor": "white",
            "linecolor": "white",
            "ticks": ""
           },
           "bgcolor": "#E5ECF6",
           "caxis": {
            "gridcolor": "white",
            "linecolor": "white",
            "ticks": ""
           }
          },
          "title": {
           "x": 0.05
          },
          "xaxis": {
           "automargin": true,
           "gridcolor": "white",
           "linecolor": "white",
           "ticks": "",
           "title": {
            "standoff": 15
           },
           "zerolinecolor": "white",
           "zerolinewidth": 2
          },
          "yaxis": {
           "automargin": true,
           "gridcolor": "white",
           "linecolor": "white",
           "ticks": "",
           "title": {
            "standoff": 15
           },
           "zerolinecolor": "white",
           "zerolinewidth": 2
          }
         }
        },
        "title": {
         "text": "2D Cluster PCA Plot"
        },
        "xaxis": {
         "anchor": "y",
         "domain": [
          0,
          1
         ],
         "title": {
          "text": "PCA1"
         }
        },
        "yaxis": {
         "anchor": "x",
         "domain": [
          0,
          1
         ],
         "title": {
          "text": "PCA2"
         }
        }
       }
      }
     },
     "metadata": {},
     "output_type": "display_data"
    }
   ],
   "source": [
    "plot_model(model, plot = 'cluster')"
   ]
  },
  {
   "cell_type": "code",
   "execution_count": 88,
   "metadata": {},
   "outputs": [
    {
     "data": {
      "text/html": [
       "<div>\n",
       "<style scoped>\n",
       "    .dataframe tbody tr th:only-of-type {\n",
       "        vertical-align: middle;\n",
       "    }\n",
       "\n",
       "    .dataframe tbody tr th {\n",
       "        vertical-align: top;\n",
       "    }\n",
       "\n",
       "    .dataframe thead th {\n",
       "        text-align: right;\n",
       "    }\n",
       "</style>\n",
       "<table border=\"1\" class=\"dataframe\">\n",
       "  <thead>\n",
       "    <tr style=\"text-align: right;\">\n",
       "      <th></th>\n",
       "      <th>Age</th>\n",
       "      <th>Attrition</th>\n",
       "      <th>DistanceFromHome</th>\n",
       "      <th>Education</th>\n",
       "      <th>EmployeeCount</th>\n",
       "      <th>EmployeeID</th>\n",
       "      <th>JobLevel</th>\n",
       "      <th>MonthlyIncome</th>\n",
       "      <th>NumCompaniesWorked</th>\n",
       "      <th>PercentSalaryHike</th>\n",
       "      <th>StandardHours</th>\n",
       "      <th>StockOptionLevel</th>\n",
       "      <th>TotalWorkingYears</th>\n",
       "      <th>TrainingTimesLastYear</th>\n",
       "      <th>YearsAtCompany</th>\n",
       "      <th>YearsSinceLastPromotion</th>\n",
       "      <th>YearsWithCurrManager</th>\n",
       "      <th>AvgDailyWorkedTime</th>\n",
       "      <th>EnvironmentSatisfaction</th>\n",
       "      <th>JobSatisfaction</th>\n",
       "      <th>WorkLifeBalance</th>\n",
       "      <th>JobInvolvement</th>\n",
       "      <th>PerformanceRating</th>\n",
       "      <th>BusinessTravel_Non-Travel</th>\n",
       "      <th>BusinessTravel_Travel_Frequently</th>\n",
       "      <th>BusinessTravel_Travel_Rarely</th>\n",
       "      <th>Department_Human Resources</th>\n",
       "      <th>Department_Research &amp; Development</th>\n",
       "      <th>Department_Sales</th>\n",
       "      <th>EducationField_Human Resources</th>\n",
       "      <th>EducationField_Life Sciences</th>\n",
       "      <th>EducationField_Marketing</th>\n",
       "      <th>EducationField_Medical</th>\n",
       "      <th>EducationField_Other</th>\n",
       "      <th>EducationField_Technical Degree</th>\n",
       "      <th>Gender_Female</th>\n",
       "      <th>Gender_Male</th>\n",
       "      <th>JobRole_Healthcare Representative</th>\n",
       "      <th>JobRole_Human Resources</th>\n",
       "      <th>JobRole_Laboratory Technician</th>\n",
       "      <th>JobRole_Manager</th>\n",
       "      <th>JobRole_Manufacturing Director</th>\n",
       "      <th>JobRole_Research Director</th>\n",
       "      <th>JobRole_Research Scientist</th>\n",
       "      <th>JobRole_Sales Executive</th>\n",
       "      <th>JobRole_Sales Representative</th>\n",
       "      <th>MaritalStatus_Divorced</th>\n",
       "      <th>MaritalStatus_Married</th>\n",
       "      <th>MaritalStatus_Single</th>\n",
       "      <th>Cluster</th>\n",
       "    </tr>\n",
       "  </thead>\n",
       "  <tbody>\n",
       "    <tr>\n",
       "      <th>0</th>\n",
       "      <td>51</td>\n",
       "      <td>0</td>\n",
       "      <td>6</td>\n",
       "      <td>2</td>\n",
       "      <td>1</td>\n",
       "      <td>1</td>\n",
       "      <td>1</td>\n",
       "      <td>1577.579986</td>\n",
       "      <td>1.0</td>\n",
       "      <td>11</td>\n",
       "      <td>8</td>\n",
       "      <td>0</td>\n",
       "      <td>1.0</td>\n",
       "      <td>6</td>\n",
       "      <td>1</td>\n",
       "      <td>0</td>\n",
       "      <td>0</td>\n",
       "      <td>7.373651</td>\n",
       "      <td>3.0</td>\n",
       "      <td>4.0</td>\n",
       "      <td>2.0</td>\n",
       "      <td>3</td>\n",
       "      <td>3</td>\n",
       "      <td>0</td>\n",
       "      <td>0</td>\n",
       "      <td>1</td>\n",
       "      <td>0</td>\n",
       "      <td>0</td>\n",
       "      <td>1</td>\n",
       "      <td>0</td>\n",
       "      <td>1</td>\n",
       "      <td>0</td>\n",
       "      <td>0</td>\n",
       "      <td>0</td>\n",
       "      <td>0</td>\n",
       "      <td>1</td>\n",
       "      <td>0</td>\n",
       "      <td>1</td>\n",
       "      <td>0</td>\n",
       "      <td>0</td>\n",
       "      <td>0</td>\n",
       "      <td>0</td>\n",
       "      <td>0</td>\n",
       "      <td>0</td>\n",
       "      <td>0</td>\n",
       "      <td>0</td>\n",
       "      <td>0</td>\n",
       "      <td>1</td>\n",
       "      <td>0</td>\n",
       "      <td>Cluster 2</td>\n",
       "    </tr>\n",
       "    <tr>\n",
       "      <th>1</th>\n",
       "      <td>31</td>\n",
       "      <td>1</td>\n",
       "      <td>10</td>\n",
       "      <td>1</td>\n",
       "      <td>1</td>\n",
       "      <td>2</td>\n",
       "      <td>1</td>\n",
       "      <td>503.848930</td>\n",
       "      <td>0.0</td>\n",
       "      <td>23</td>\n",
       "      <td>8</td>\n",
       "      <td>1</td>\n",
       "      <td>6.0</td>\n",
       "      <td>3</td>\n",
       "      <td>5</td>\n",
       "      <td>1</td>\n",
       "      <td>4</td>\n",
       "      <td>7.718969</td>\n",
       "      <td>3.0</td>\n",
       "      <td>2.0</td>\n",
       "      <td>4.0</td>\n",
       "      <td>2</td>\n",
       "      <td>4</td>\n",
       "      <td>0</td>\n",
       "      <td>1</td>\n",
       "      <td>0</td>\n",
       "      <td>0</td>\n",
       "      <td>1</td>\n",
       "      <td>0</td>\n",
       "      <td>0</td>\n",
       "      <td>1</td>\n",
       "      <td>0</td>\n",
       "      <td>0</td>\n",
       "      <td>0</td>\n",
       "      <td>0</td>\n",
       "      <td>1</td>\n",
       "      <td>0</td>\n",
       "      <td>0</td>\n",
       "      <td>0</td>\n",
       "      <td>0</td>\n",
       "      <td>0</td>\n",
       "      <td>0</td>\n",
       "      <td>0</td>\n",
       "      <td>1</td>\n",
       "      <td>0</td>\n",
       "      <td>0</td>\n",
       "      <td>0</td>\n",
       "      <td>0</td>\n",
       "      <td>1</td>\n",
       "      <td>Cluster 1</td>\n",
       "    </tr>\n",
       "    <tr>\n",
       "      <th>2</th>\n",
       "      <td>32</td>\n",
       "      <td>0</td>\n",
       "      <td>17</td>\n",
       "      <td>4</td>\n",
       "      <td>1</td>\n",
       "      <td>3</td>\n",
       "      <td>4</td>\n",
       "      <td>2324.753428</td>\n",
       "      <td>1.0</td>\n",
       "      <td>15</td>\n",
       "      <td>8</td>\n",
       "      <td>3</td>\n",
       "      <td>5.0</td>\n",
       "      <td>2</td>\n",
       "      <td>5</td>\n",
       "      <td>0</td>\n",
       "      <td>3</td>\n",
       "      <td>7.013240</td>\n",
       "      <td>2.0</td>\n",
       "      <td>2.0</td>\n",
       "      <td>1.0</td>\n",
       "      <td>3</td>\n",
       "      <td>3</td>\n",
       "      <td>0</td>\n",
       "      <td>1</td>\n",
       "      <td>0</td>\n",
       "      <td>0</td>\n",
       "      <td>1</td>\n",
       "      <td>0</td>\n",
       "      <td>0</td>\n",
       "      <td>0</td>\n",
       "      <td>0</td>\n",
       "      <td>0</td>\n",
       "      <td>1</td>\n",
       "      <td>0</td>\n",
       "      <td>0</td>\n",
       "      <td>1</td>\n",
       "      <td>0</td>\n",
       "      <td>0</td>\n",
       "      <td>0</td>\n",
       "      <td>0</td>\n",
       "      <td>0</td>\n",
       "      <td>0</td>\n",
       "      <td>0</td>\n",
       "      <td>1</td>\n",
       "      <td>0</td>\n",
       "      <td>0</td>\n",
       "      <td>1</td>\n",
       "      <td>0</td>\n",
       "      <td>Cluster 2</td>\n",
       "    </tr>\n",
       "    <tr>\n",
       "      <th>3</th>\n",
       "      <td>38</td>\n",
       "      <td>0</td>\n",
       "      <td>2</td>\n",
       "      <td>5</td>\n",
       "      <td>1</td>\n",
       "      <td>4</td>\n",
       "      <td>3</td>\n",
       "      <td>1000.841953</td>\n",
       "      <td>3.0</td>\n",
       "      <td>11</td>\n",
       "      <td>8</td>\n",
       "      <td>3</td>\n",
       "      <td>13.0</td>\n",
       "      <td>5</td>\n",
       "      <td>8</td>\n",
       "      <td>7</td>\n",
       "      <td>5</td>\n",
       "      <td>7.193678</td>\n",
       "      <td>4.0</td>\n",
       "      <td>4.0</td>\n",
       "      <td>3.0</td>\n",
       "      <td>2</td>\n",
       "      <td>3</td>\n",
       "      <td>1</td>\n",
       "      <td>0</td>\n",
       "      <td>0</td>\n",
       "      <td>0</td>\n",
       "      <td>1</td>\n",
       "      <td>0</td>\n",
       "      <td>0</td>\n",
       "      <td>1</td>\n",
       "      <td>0</td>\n",
       "      <td>0</td>\n",
       "      <td>0</td>\n",
       "      <td>0</td>\n",
       "      <td>0</td>\n",
       "      <td>1</td>\n",
       "      <td>0</td>\n",
       "      <td>1</td>\n",
       "      <td>0</td>\n",
       "      <td>0</td>\n",
       "      <td>0</td>\n",
       "      <td>0</td>\n",
       "      <td>0</td>\n",
       "      <td>0</td>\n",
       "      <td>0</td>\n",
       "      <td>0</td>\n",
       "      <td>1</td>\n",
       "      <td>0</td>\n",
       "      <td>Cluster 0</td>\n",
       "    </tr>\n",
       "    <tr>\n",
       "      <th>4</th>\n",
       "      <td>32</td>\n",
       "      <td>0</td>\n",
       "      <td>10</td>\n",
       "      <td>1</td>\n",
       "      <td>1</td>\n",
       "      <td>5</td>\n",
       "      <td>1</td>\n",
       "      <td>281.693529</td>\n",
       "      <td>4.0</td>\n",
       "      <td>12</td>\n",
       "      <td>8</td>\n",
       "      <td>2</td>\n",
       "      <td>9.0</td>\n",
       "      <td>2</td>\n",
       "      <td>6</td>\n",
       "      <td>0</td>\n",
       "      <td>4</td>\n",
       "      <td>8.006175</td>\n",
       "      <td>4.0</td>\n",
       "      <td>1.0</td>\n",
       "      <td>3.0</td>\n",
       "      <td>3</td>\n",
       "      <td>3</td>\n",
       "      <td>0</td>\n",
       "      <td>0</td>\n",
       "      <td>1</td>\n",
       "      <td>0</td>\n",
       "      <td>1</td>\n",
       "      <td>0</td>\n",
       "      <td>0</td>\n",
       "      <td>0</td>\n",
       "      <td>0</td>\n",
       "      <td>1</td>\n",
       "      <td>0</td>\n",
       "      <td>0</td>\n",
       "      <td>0</td>\n",
       "      <td>1</td>\n",
       "      <td>0</td>\n",
       "      <td>0</td>\n",
       "      <td>0</td>\n",
       "      <td>0</td>\n",
       "      <td>0</td>\n",
       "      <td>0</td>\n",
       "      <td>0</td>\n",
       "      <td>1</td>\n",
       "      <td>0</td>\n",
       "      <td>0</td>\n",
       "      <td>0</td>\n",
       "      <td>1</td>\n",
       "      <td>Cluster 1</td>\n",
       "    </tr>\n",
       "  </tbody>\n",
       "</table>\n",
       "</div>"
      ],
      "text/plain": [
       "   Age  Attrition  DistanceFromHome  Education  EmployeeCount  EmployeeID  \\\n",
       "0   51          0                 6          2              1           1   \n",
       "1   31          1                10          1              1           2   \n",
       "2   32          0                17          4              1           3   \n",
       "3   38          0                 2          5              1           4   \n",
       "4   32          0                10          1              1           5   \n",
       "\n",
       "   JobLevel  MonthlyIncome  NumCompaniesWorked  PercentSalaryHike  \\\n",
       "0         1    1577.579986                 1.0                 11   \n",
       "1         1     503.848930                 0.0                 23   \n",
       "2         4    2324.753428                 1.0                 15   \n",
       "3         3    1000.841953                 3.0                 11   \n",
       "4         1     281.693529                 4.0                 12   \n",
       "\n",
       "   StandardHours  StockOptionLevel  TotalWorkingYears  TrainingTimesLastYear  \\\n",
       "0              8                 0                1.0                      6   \n",
       "1              8                 1                6.0                      3   \n",
       "2              8                 3                5.0                      2   \n",
       "3              8                 3               13.0                      5   \n",
       "4              8                 2                9.0                      2   \n",
       "\n",
       "   YearsAtCompany  YearsSinceLastPromotion  YearsWithCurrManager  \\\n",
       "0               1                        0                     0   \n",
       "1               5                        1                     4   \n",
       "2               5                        0                     3   \n",
       "3               8                        7                     5   \n",
       "4               6                        0                     4   \n",
       "\n",
       "   AvgDailyWorkedTime  EnvironmentSatisfaction  JobSatisfaction  \\\n",
       "0            7.373651                      3.0              4.0   \n",
       "1            7.718969                      3.0              2.0   \n",
       "2            7.013240                      2.0              2.0   \n",
       "3            7.193678                      4.0              4.0   \n",
       "4            8.006175                      4.0              1.0   \n",
       "\n",
       "   WorkLifeBalance  JobInvolvement  PerformanceRating  \\\n",
       "0              2.0               3                  3   \n",
       "1              4.0               2                  4   \n",
       "2              1.0               3                  3   \n",
       "3              3.0               2                  3   \n",
       "4              3.0               3                  3   \n",
       "\n",
       "   BusinessTravel_Non-Travel  BusinessTravel_Travel_Frequently  \\\n",
       "0                          0                                 0   \n",
       "1                          0                                 1   \n",
       "2                          0                                 1   \n",
       "3                          1                                 0   \n",
       "4                          0                                 0   \n",
       "\n",
       "   BusinessTravel_Travel_Rarely  Department_Human Resources  \\\n",
       "0                             1                           0   \n",
       "1                             0                           0   \n",
       "2                             0                           0   \n",
       "3                             0                           0   \n",
       "4                             1                           0   \n",
       "\n",
       "   Department_Research & Development  Department_Sales  \\\n",
       "0                                  0                 1   \n",
       "1                                  1                 0   \n",
       "2                                  1                 0   \n",
       "3                                  1                 0   \n",
       "4                                  1                 0   \n",
       "\n",
       "   EducationField_Human Resources  EducationField_Life Sciences  \\\n",
       "0                               0                             1   \n",
       "1                               0                             1   \n",
       "2                               0                             0   \n",
       "3                               0                             1   \n",
       "4                               0                             0   \n",
       "\n",
       "   EducationField_Marketing  EducationField_Medical  EducationField_Other  \\\n",
       "0                         0                       0                     0   \n",
       "1                         0                       0                     0   \n",
       "2                         0                       0                     1   \n",
       "3                         0                       0                     0   \n",
       "4                         0                       1                     0   \n",
       "\n",
       "   EducationField_Technical Degree  Gender_Female  Gender_Male  \\\n",
       "0                                0              1            0   \n",
       "1                                0              1            0   \n",
       "2                                0              0            1   \n",
       "3                                0              0            1   \n",
       "4                                0              0            1   \n",
       "\n",
       "   JobRole_Healthcare Representative  JobRole_Human Resources  \\\n",
       "0                                  1                        0   \n",
       "1                                  0                        0   \n",
       "2                                  0                        0   \n",
       "3                                  0                        1   \n",
       "4                                  0                        0   \n",
       "\n",
       "   JobRole_Laboratory Technician  JobRole_Manager  \\\n",
       "0                              0                0   \n",
       "1                              0                0   \n",
       "2                              0                0   \n",
       "3                              0                0   \n",
       "4                              0                0   \n",
       "\n",
       "   JobRole_Manufacturing Director  JobRole_Research Director  \\\n",
       "0                               0                          0   \n",
       "1                               0                          0   \n",
       "2                               0                          0   \n",
       "3                               0                          0   \n",
       "4                               0                          0   \n",
       "\n",
       "   JobRole_Research Scientist  JobRole_Sales Executive  \\\n",
       "0                           0                        0   \n",
       "1                           1                        0   \n",
       "2                           0                        1   \n",
       "3                           0                        0   \n",
       "4                           0                        1   \n",
       "\n",
       "   JobRole_Sales Representative  MaritalStatus_Divorced  \\\n",
       "0                             0                       0   \n",
       "1                             0                       0   \n",
       "2                             0                       0   \n",
       "3                             0                       0   \n",
       "4                             0                       0   \n",
       "\n",
       "   MaritalStatus_Married  MaritalStatus_Single    Cluster  \n",
       "0                      1                     0  Cluster 2  \n",
       "1                      0                     1  Cluster 1  \n",
       "2                      1                     0  Cluster 2  \n",
       "3                      1                     0  Cluster 0  \n",
       "4                      0                     1  Cluster 1  "
      ]
     },
     "execution_count": 88,
     "metadata": {},
     "output_type": "execute_result"
    }
   ],
   "source": [
    "cluster_results = assign_model(model)\n",
    "clusters = cluster_results['Cluster']\n",
    "result = pd.concat([df_input,clusters], axis = 1)\n",
    "result.head()"
   ]
  },
  {
   "cell_type": "markdown",
   "metadata": {},
   "source": [
    "### Analyze Clusters"
   ]
  },
  {
   "cell_type": "code",
   "execution_count": 89,
   "metadata": {},
   "outputs": [
    {
     "data": {
      "text/html": [
       "<div>\n",
       "<style scoped>\n",
       "    .dataframe tbody tr th:only-of-type {\n",
       "        vertical-align: middle;\n",
       "    }\n",
       "\n",
       "    .dataframe tbody tr th {\n",
       "        vertical-align: top;\n",
       "    }\n",
       "\n",
       "    .dataframe thead th {\n",
       "        text-align: right;\n",
       "    }\n",
       "</style>\n",
       "<table border=\"1\" class=\"dataframe\">\n",
       "  <thead>\n",
       "    <tr style=\"text-align: right;\">\n",
       "      <th></th>\n",
       "      <th>Age</th>\n",
       "      <th>MonthlyIncome</th>\n",
       "    </tr>\n",
       "    <tr>\n",
       "      <th>Cluster</th>\n",
       "      <th></th>\n",
       "      <th></th>\n",
       "    </tr>\n",
       "  </thead>\n",
       "  <tbody>\n",
       "    <tr>\n",
       "      <th>Cluster 0</th>\n",
       "      <td>37.653465</td>\n",
       "      <td>544.260315</td>\n",
       "    </tr>\n",
       "    <tr>\n",
       "      <th>Cluster 1</th>\n",
       "      <td>27.780822</td>\n",
       "      <td>582.951050</td>\n",
       "    </tr>\n",
       "    <tr>\n",
       "      <th>Cluster 2</th>\n",
       "      <td>35.904959</td>\n",
       "      <td>1859.693481</td>\n",
       "    </tr>\n",
       "    <tr>\n",
       "      <th>Cluster 3</th>\n",
       "      <td>50.547368</td>\n",
       "      <td>594.928894</td>\n",
       "    </tr>\n",
       "  </tbody>\n",
       "</table>\n",
       "</div>"
      ],
      "text/plain": [
       "                 Age  MonthlyIncome\n",
       "Cluster                            \n",
       "Cluster 0  37.653465     544.260315\n",
       "Cluster 1  27.780822     582.951050\n",
       "Cluster 2  35.904959    1859.693481\n",
       "Cluster 3  50.547368     594.928894"
      ]
     },
     "execution_count": 89,
     "metadata": {},
     "output_type": "execute_result"
    }
   ],
   "source": [
    "pd.set_option('display.max_columns', None)\n",
    "grouped_avg = cluster_results.groupby('Cluster').mean()\n",
    "grouped_avg"
   ]
  },
  {
   "cell_type": "code",
   "execution_count": 90,
   "metadata": {},
   "outputs": [
    {
     "data": {
      "text/html": [
       "<div>\n",
       "<style scoped>\n",
       "    .dataframe tbody tr th:only-of-type {\n",
       "        vertical-align: middle;\n",
       "    }\n",
       "\n",
       "    .dataframe tbody tr th {\n",
       "        vertical-align: top;\n",
       "    }\n",
       "\n",
       "    .dataframe thead th {\n",
       "        text-align: right;\n",
       "    }\n",
       "</style>\n",
       "<table border=\"1\" class=\"dataframe\">\n",
       "  <thead>\n",
       "    <tr style=\"text-align: right;\">\n",
       "      <th></th>\n",
       "      <th>0</th>\n",
       "      <th>1</th>\n",
       "      <th>2</th>\n",
       "      <th>3</th>\n",
       "      <th>Row_Variance</th>\n",
       "    </tr>\n",
       "  </thead>\n",
       "  <tbody>\n",
       "    <tr>\n",
       "      <th>MonthlyIncome</th>\n",
       "      <td>0.000000</td>\n",
       "      <td>0.029413</td>\n",
       "      <td>1.000000</td>\n",
       "      <td>0.038519</td>\n",
       "      <td>0.179307</td>\n",
       "    </tr>\n",
       "    <tr>\n",
       "      <th>Age</th>\n",
       "      <td>0.433647</td>\n",
       "      <td>0.000000</td>\n",
       "      <td>0.356845</td>\n",
       "      <td>1.000000</td>\n",
       "      <td>0.128481</td>\n",
       "    </tr>\n",
       "  </tbody>\n",
       "</table>\n",
       "</div>"
      ],
      "text/plain": [
       "                      0         1         2         3  Row_Variance\n",
       "MonthlyIncome  0.000000  0.029413  1.000000  0.038519      0.179307\n",
       "Age            0.433647  0.000000  0.356845  1.000000      0.128481"
      ]
     },
     "execution_count": 90,
     "metadata": {},
     "output_type": "execute_result"
    }
   ],
   "source": [
    "from sklearn.preprocessing import MinMaxScaler, StandardScaler\n",
    "import numpy as np\n",
    "min_max_scaler = MinMaxScaler()\n",
    "df_minmax = min_max_scaler.fit_transform(grouped_avg)\n",
    "df_minmax = pd.DataFrame(df_minmax, columns=grouped_avg.columns)\n",
    "df_T = df_minmax.T\n",
    "df_T['Row_Variance'] = df_T.apply(np.var, axis=1)\n",
    "df_T = df_T.sort_values(by='Row_Variance', ascending=False)\n",
    "df_T"
   ]
  },
  {
   "cell_type": "markdown",
   "metadata": {},
   "source": [
    "## Classify"
   ]
  },
  {
   "cell_type": "code",
   "execution_count": 91,
   "metadata": {},
   "outputs": [
    {
     "data": {
      "text/html": [
       "<style type=\"text/css\">\n",
       "#T_97aec_row10_col1 {\n",
       "  background-color: lightgreen;\n",
       "}\n",
       "</style>\n",
       "<table id=\"T_97aec\">\n",
       "  <thead>\n",
       "    <tr>\n",
       "      <th class=\"blank level0\" >&nbsp;</th>\n",
       "      <th id=\"T_97aec_level0_col0\" class=\"col_heading level0 col0\" >Description</th>\n",
       "      <th id=\"T_97aec_level0_col1\" class=\"col_heading level0 col1\" >Value</th>\n",
       "    </tr>\n",
       "  </thead>\n",
       "  <tbody>\n",
       "    <tr>\n",
       "      <th id=\"T_97aec_level0_row0\" class=\"row_heading level0 row0\" >0</th>\n",
       "      <td id=\"T_97aec_row0_col0\" class=\"data row0 col0\" >Session id</td>\n",
       "      <td id=\"T_97aec_row0_col1\" class=\"data row0 col1\" >123</td>\n",
       "    </tr>\n",
       "    <tr>\n",
       "      <th id=\"T_97aec_level0_row1\" class=\"row_heading level0 row1\" >1</th>\n",
       "      <td id=\"T_97aec_row1_col0\" class=\"data row1 col0\" >Target</td>\n",
       "      <td id=\"T_97aec_row1_col1\" class=\"data row1 col1\" >Attrition</td>\n",
       "    </tr>\n",
       "    <tr>\n",
       "      <th id=\"T_97aec_level0_row2\" class=\"row_heading level0 row2\" >2</th>\n",
       "      <td id=\"T_97aec_row2_col0\" class=\"data row2 col0\" >Target type</td>\n",
       "      <td id=\"T_97aec_row2_col1\" class=\"data row2 col1\" >Binary</td>\n",
       "    </tr>\n",
       "    <tr>\n",
       "      <th id=\"T_97aec_level0_row3\" class=\"row_heading level0 row3\" >3</th>\n",
       "      <td id=\"T_97aec_row3_col0\" class=\"data row3 col0\" >Original data shape</td>\n",
       "      <td id=\"T_97aec_row3_col1\" class=\"data row3 col1\" >(4410, 50)</td>\n",
       "    </tr>\n",
       "    <tr>\n",
       "      <th id=\"T_97aec_level0_row4\" class=\"row_heading level0 row4\" >4</th>\n",
       "      <td id=\"T_97aec_row4_col0\" class=\"data row4 col0\" >Transformed data shape</td>\n",
       "      <td id=\"T_97aec_row4_col1\" class=\"data row4 col1\" >(4410, 53)</td>\n",
       "    </tr>\n",
       "    <tr>\n",
       "      <th id=\"T_97aec_level0_row5\" class=\"row_heading level0 row5\" >5</th>\n",
       "      <td id=\"T_97aec_row5_col0\" class=\"data row5 col0\" >Transformed train set shape</td>\n",
       "      <td id=\"T_97aec_row5_col1\" class=\"data row5 col1\" >(3087, 53)</td>\n",
       "    </tr>\n",
       "    <tr>\n",
       "      <th id=\"T_97aec_level0_row6\" class=\"row_heading level0 row6\" >6</th>\n",
       "      <td id=\"T_97aec_row6_col0\" class=\"data row6 col0\" >Transformed test set shape</td>\n",
       "      <td id=\"T_97aec_row6_col1\" class=\"data row6 col1\" >(1323, 53)</td>\n",
       "    </tr>\n",
       "    <tr>\n",
       "      <th id=\"T_97aec_level0_row7\" class=\"row_heading level0 row7\" >7</th>\n",
       "      <td id=\"T_97aec_row7_col0\" class=\"data row7 col0\" >Numeric features</td>\n",
       "      <td id=\"T_97aec_row7_col1\" class=\"data row7 col1\" >48</td>\n",
       "    </tr>\n",
       "    <tr>\n",
       "      <th id=\"T_97aec_level0_row8\" class=\"row_heading level0 row8\" >8</th>\n",
       "      <td id=\"T_97aec_row8_col0\" class=\"data row8 col0\" >Categorical features</td>\n",
       "      <td id=\"T_97aec_row8_col1\" class=\"data row8 col1\" >1</td>\n",
       "    </tr>\n",
       "    <tr>\n",
       "      <th id=\"T_97aec_level0_row9\" class=\"row_heading level0 row9\" >9</th>\n",
       "      <td id=\"T_97aec_row9_col0\" class=\"data row9 col0\" >Rows with missing values</td>\n",
       "      <td id=\"T_97aec_row9_col1\" class=\"data row9 col1\" >2.5%</td>\n",
       "    </tr>\n",
       "    <tr>\n",
       "      <th id=\"T_97aec_level0_row10\" class=\"row_heading level0 row10\" >10</th>\n",
       "      <td id=\"T_97aec_row10_col0\" class=\"data row10 col0\" >Preprocess</td>\n",
       "      <td id=\"T_97aec_row10_col1\" class=\"data row10 col1\" >True</td>\n",
       "    </tr>\n",
       "    <tr>\n",
       "      <th id=\"T_97aec_level0_row11\" class=\"row_heading level0 row11\" >11</th>\n",
       "      <td id=\"T_97aec_row11_col0\" class=\"data row11 col0\" >Imputation type</td>\n",
       "      <td id=\"T_97aec_row11_col1\" class=\"data row11 col1\" >simple</td>\n",
       "    </tr>\n",
       "    <tr>\n",
       "      <th id=\"T_97aec_level0_row12\" class=\"row_heading level0 row12\" >12</th>\n",
       "      <td id=\"T_97aec_row12_col0\" class=\"data row12 col0\" >Numeric imputation</td>\n",
       "      <td id=\"T_97aec_row12_col1\" class=\"data row12 col1\" >mean</td>\n",
       "    </tr>\n",
       "    <tr>\n",
       "      <th id=\"T_97aec_level0_row13\" class=\"row_heading level0 row13\" >13</th>\n",
       "      <td id=\"T_97aec_row13_col0\" class=\"data row13 col0\" >Categorical imputation</td>\n",
       "      <td id=\"T_97aec_row13_col1\" class=\"data row13 col1\" >mode</td>\n",
       "    </tr>\n",
       "    <tr>\n",
       "      <th id=\"T_97aec_level0_row14\" class=\"row_heading level0 row14\" >14</th>\n",
       "      <td id=\"T_97aec_row14_col0\" class=\"data row14 col0\" >Maximum one-hot encoding</td>\n",
       "      <td id=\"T_97aec_row14_col1\" class=\"data row14 col1\" >25</td>\n",
       "    </tr>\n",
       "    <tr>\n",
       "      <th id=\"T_97aec_level0_row15\" class=\"row_heading level0 row15\" >15</th>\n",
       "      <td id=\"T_97aec_row15_col0\" class=\"data row15 col0\" >Encoding method</td>\n",
       "      <td id=\"T_97aec_row15_col1\" class=\"data row15 col1\" >None</td>\n",
       "    </tr>\n",
       "    <tr>\n",
       "      <th id=\"T_97aec_level0_row16\" class=\"row_heading level0 row16\" >16</th>\n",
       "      <td id=\"T_97aec_row16_col0\" class=\"data row16 col0\" >Fold Generator</td>\n",
       "      <td id=\"T_97aec_row16_col1\" class=\"data row16 col1\" >StratifiedKFold</td>\n",
       "    </tr>\n",
       "    <tr>\n",
       "      <th id=\"T_97aec_level0_row17\" class=\"row_heading level0 row17\" >17</th>\n",
       "      <td id=\"T_97aec_row17_col0\" class=\"data row17 col0\" >Fold Number</td>\n",
       "      <td id=\"T_97aec_row17_col1\" class=\"data row17 col1\" >10</td>\n",
       "    </tr>\n",
       "    <tr>\n",
       "      <th id=\"T_97aec_level0_row18\" class=\"row_heading level0 row18\" >18</th>\n",
       "      <td id=\"T_97aec_row18_col0\" class=\"data row18 col0\" >CPU Jobs</td>\n",
       "      <td id=\"T_97aec_row18_col1\" class=\"data row18 col1\" >-1</td>\n",
       "    </tr>\n",
       "    <tr>\n",
       "      <th id=\"T_97aec_level0_row19\" class=\"row_heading level0 row19\" >19</th>\n",
       "      <td id=\"T_97aec_row19_col0\" class=\"data row19 col0\" >Use GPU</td>\n",
       "      <td id=\"T_97aec_row19_col1\" class=\"data row19 col1\" >False</td>\n",
       "    </tr>\n",
       "    <tr>\n",
       "      <th id=\"T_97aec_level0_row20\" class=\"row_heading level0 row20\" >20</th>\n",
       "      <td id=\"T_97aec_row20_col0\" class=\"data row20 col0\" >Log Experiment</td>\n",
       "      <td id=\"T_97aec_row20_col1\" class=\"data row20 col1\" >False</td>\n",
       "    </tr>\n",
       "    <tr>\n",
       "      <th id=\"T_97aec_level0_row21\" class=\"row_heading level0 row21\" >21</th>\n",
       "      <td id=\"T_97aec_row21_col0\" class=\"data row21 col0\" >Experiment Name</td>\n",
       "      <td id=\"T_97aec_row21_col1\" class=\"data row21 col1\" >clf-default-name</td>\n",
       "    </tr>\n",
       "    <tr>\n",
       "      <th id=\"T_97aec_level0_row22\" class=\"row_heading level0 row22\" >22</th>\n",
       "      <td id=\"T_97aec_row22_col0\" class=\"data row22 col0\" >USI</td>\n",
       "      <td id=\"T_97aec_row22_col1\" class=\"data row22 col1\" >5d10</td>\n",
       "    </tr>\n",
       "  </tbody>\n",
       "</table>\n"
      ],
      "text/plain": [
       "<pandas.io.formats.style.Styler at 0x1f5391f7970>"
      ]
     },
     "metadata": {},
     "output_type": "display_data"
    }
   ],
   "source": [
    "from pycaret.classification import *\n",
    "clf1 = setup(data = result, target = 'Attrition', session_id = 123)"
   ]
  },
  {
   "cell_type": "code",
   "execution_count": 92,
   "metadata": {},
   "outputs": [
    {
     "data": {
      "text/html": [],
      "text/plain": [
       "<IPython.core.display.HTML object>"
      ]
     },
     "metadata": {},
     "output_type": "display_data"
    },
    {
     "data": {
      "text/html": [
       "<style type=\"text/css\">\n",
       "#T_e3cb7 th {\n",
       "  text-align: left;\n",
       "}\n",
       "#T_e3cb7_row0_col0, #T_e3cb7_row0_col3, #T_e3cb7_row1_col0, #T_e3cb7_row1_col1, #T_e3cb7_row1_col2, #T_e3cb7_row1_col4, #T_e3cb7_row1_col5, #T_e3cb7_row1_col6, #T_e3cb7_row1_col7, #T_e3cb7_row2_col0, #T_e3cb7_row2_col1, #T_e3cb7_row2_col2, #T_e3cb7_row2_col3, #T_e3cb7_row2_col4, #T_e3cb7_row2_col5, #T_e3cb7_row2_col6, #T_e3cb7_row2_col7, #T_e3cb7_row3_col0, #T_e3cb7_row3_col1, #T_e3cb7_row3_col2, #T_e3cb7_row3_col3, #T_e3cb7_row3_col4, #T_e3cb7_row3_col5, #T_e3cb7_row3_col6, #T_e3cb7_row3_col7, #T_e3cb7_row4_col0, #T_e3cb7_row4_col1, #T_e3cb7_row4_col2, #T_e3cb7_row4_col3, #T_e3cb7_row4_col4, #T_e3cb7_row4_col5, #T_e3cb7_row4_col6, #T_e3cb7_row4_col7, #T_e3cb7_row5_col0, #T_e3cb7_row5_col1, #T_e3cb7_row5_col2, #T_e3cb7_row5_col3, #T_e3cb7_row5_col4, #T_e3cb7_row5_col5, #T_e3cb7_row5_col6, #T_e3cb7_row5_col7, #T_e3cb7_row6_col0, #T_e3cb7_row6_col1, #T_e3cb7_row6_col2, #T_e3cb7_row6_col3, #T_e3cb7_row6_col4, #T_e3cb7_row6_col5, #T_e3cb7_row6_col6, #T_e3cb7_row6_col7, #T_e3cb7_row7_col0, #T_e3cb7_row7_col1, #T_e3cb7_row7_col2, #T_e3cb7_row7_col3, #T_e3cb7_row7_col4, #T_e3cb7_row7_col5, #T_e3cb7_row7_col6, #T_e3cb7_row7_col7, #T_e3cb7_row8_col0, #T_e3cb7_row8_col1, #T_e3cb7_row8_col2, #T_e3cb7_row8_col3, #T_e3cb7_row8_col4, #T_e3cb7_row8_col5, #T_e3cb7_row8_col6, #T_e3cb7_row8_col7, #T_e3cb7_row9_col0, #T_e3cb7_row9_col1, #T_e3cb7_row9_col2, #T_e3cb7_row9_col3, #T_e3cb7_row9_col4, #T_e3cb7_row9_col5, #T_e3cb7_row9_col6, #T_e3cb7_row9_col7, #T_e3cb7_row10_col0, #T_e3cb7_row10_col1, #T_e3cb7_row10_col2, #T_e3cb7_row10_col3, #T_e3cb7_row10_col4, #T_e3cb7_row10_col5, #T_e3cb7_row10_col6, #T_e3cb7_row10_col7, #T_e3cb7_row11_col0, #T_e3cb7_row11_col1, #T_e3cb7_row11_col2, #T_e3cb7_row11_col3, #T_e3cb7_row11_col4, #T_e3cb7_row11_col5, #T_e3cb7_row11_col6, #T_e3cb7_row11_col7, #T_e3cb7_row12_col0, #T_e3cb7_row12_col1, #T_e3cb7_row12_col2, #T_e3cb7_row12_col3, #T_e3cb7_row12_col4, #T_e3cb7_row12_col5, #T_e3cb7_row12_col6, #T_e3cb7_row12_col7, #T_e3cb7_row13_col0, #T_e3cb7_row13_col1, #T_e3cb7_row13_col2, #T_e3cb7_row13_col3, #T_e3cb7_row13_col4, #T_e3cb7_row13_col5, #T_e3cb7_row13_col6, #T_e3cb7_row13_col7, #T_e3cb7_row14_col0, #T_e3cb7_row14_col1, #T_e3cb7_row14_col2, #T_e3cb7_row14_col3, #T_e3cb7_row14_col4, #T_e3cb7_row14_col5, #T_e3cb7_row14_col6, #T_e3cb7_row14_col7, #T_e3cb7_row15_col0, #T_e3cb7_row15_col1, #T_e3cb7_row15_col2, #T_e3cb7_row15_col3, #T_e3cb7_row15_col4, #T_e3cb7_row15_col5, #T_e3cb7_row15_col6, #T_e3cb7_row15_col7 {\n",
       "  text-align: left;\n",
       "}\n",
       "#T_e3cb7_row0_col1, #T_e3cb7_row0_col2, #T_e3cb7_row0_col4, #T_e3cb7_row0_col5, #T_e3cb7_row0_col6, #T_e3cb7_row0_col7, #T_e3cb7_row1_col3 {\n",
       "  text-align: left;\n",
       "  background-color: yellow;\n",
       "}\n",
       "#T_e3cb7_row0_col8, #T_e3cb7_row1_col8, #T_e3cb7_row2_col8, #T_e3cb7_row3_col8, #T_e3cb7_row4_col8, #T_e3cb7_row5_col8, #T_e3cb7_row6_col8, #T_e3cb7_row7_col8, #T_e3cb7_row8_col8, #T_e3cb7_row10_col8, #T_e3cb7_row11_col8, #T_e3cb7_row12_col8, #T_e3cb7_row13_col8, #T_e3cb7_row14_col8, #T_e3cb7_row15_col8 {\n",
       "  text-align: left;\n",
       "  background-color: lightgrey;\n",
       "}\n",
       "#T_e3cb7_row9_col8 {\n",
       "  text-align: left;\n",
       "  background-color: yellow;\n",
       "  background-color: lightgrey;\n",
       "}\n",
       "</style>\n",
       "<table id=\"T_e3cb7\">\n",
       "  <thead>\n",
       "    <tr>\n",
       "      <th class=\"blank level0\" >&nbsp;</th>\n",
       "      <th id=\"T_e3cb7_level0_col0\" class=\"col_heading level0 col0\" >Model</th>\n",
       "      <th id=\"T_e3cb7_level0_col1\" class=\"col_heading level0 col1\" >Accuracy</th>\n",
       "      <th id=\"T_e3cb7_level0_col2\" class=\"col_heading level0 col2\" >AUC</th>\n",
       "      <th id=\"T_e3cb7_level0_col3\" class=\"col_heading level0 col3\" >Recall</th>\n",
       "      <th id=\"T_e3cb7_level0_col4\" class=\"col_heading level0 col4\" >Prec.</th>\n",
       "      <th id=\"T_e3cb7_level0_col5\" class=\"col_heading level0 col5\" >F1</th>\n",
       "      <th id=\"T_e3cb7_level0_col6\" class=\"col_heading level0 col6\" >Kappa</th>\n",
       "      <th id=\"T_e3cb7_level0_col7\" class=\"col_heading level0 col7\" >MCC</th>\n",
       "      <th id=\"T_e3cb7_level0_col8\" class=\"col_heading level0 col8\" >TT (Sec)</th>\n",
       "    </tr>\n",
       "  </thead>\n",
       "  <tbody>\n",
       "    <tr>\n",
       "      <th id=\"T_e3cb7_level0_row0\" class=\"row_heading level0 row0\" >et</th>\n",
       "      <td id=\"T_e3cb7_row0_col0\" class=\"data row0 col0\" >Extra Trees Classifier</td>\n",
       "      <td id=\"T_e3cb7_row0_col1\" class=\"data row0 col1\" >0.9802</td>\n",
       "      <td id=\"T_e3cb7_row0_col2\" class=\"data row0 col2\" >0.9953</td>\n",
       "      <td id=\"T_e3cb7_row0_col3\" class=\"data row0 col3\" >0.8817</td>\n",
       "      <td id=\"T_e3cb7_row0_col4\" class=\"data row0 col4\" >0.9956</td>\n",
       "      <td id=\"T_e3cb7_row0_col5\" class=\"data row0 col5\" >0.9343</td>\n",
       "      <td id=\"T_e3cb7_row0_col6\" class=\"data row0 col6\" >0.9228</td>\n",
       "      <td id=\"T_e3cb7_row0_col7\" class=\"data row0 col7\" >0.9257</td>\n",
       "      <td id=\"T_e3cb7_row0_col8\" class=\"data row0 col8\" >0.6970</td>\n",
       "    </tr>\n",
       "    <tr>\n",
       "      <th id=\"T_e3cb7_level0_row1\" class=\"row_heading level0 row1\" >xgboost</th>\n",
       "      <td id=\"T_e3cb7_row1_col0\" class=\"data row1 col0\" >Extreme Gradient Boosting</td>\n",
       "      <td id=\"T_e3cb7_row1_col1\" class=\"data row1 col1\" >0.9767</td>\n",
       "      <td id=\"T_e3cb7_row1_col2\" class=\"data row1 col2\" >0.9825</td>\n",
       "      <td id=\"T_e3cb7_row1_col3\" class=\"data row1 col3\" >0.8877</td>\n",
       "      <td id=\"T_e3cb7_row1_col4\" class=\"data row1 col4\" >0.9655</td>\n",
       "      <td id=\"T_e3cb7_row1_col5\" class=\"data row1 col5\" >0.9243</td>\n",
       "      <td id=\"T_e3cb7_row1_col6\" class=\"data row1 col6\" >0.9105</td>\n",
       "      <td id=\"T_e3cb7_row1_col7\" class=\"data row1 col7\" >0.9121</td>\n",
       "      <td id=\"T_e3cb7_row1_col8\" class=\"data row1 col8\" >0.6630</td>\n",
       "    </tr>\n",
       "    <tr>\n",
       "      <th id=\"T_e3cb7_level0_row2\" class=\"row_heading level0 row2\" >rf</th>\n",
       "      <td id=\"T_e3cb7_row2_col0\" class=\"data row2 col0\" >Random Forest Classifier</td>\n",
       "      <td id=\"T_e3cb7_row2_col1\" class=\"data row2 col1\" >0.9754</td>\n",
       "      <td id=\"T_e3cb7_row2_col2\" class=\"data row2 col2\" >0.9905</td>\n",
       "      <td id=\"T_e3cb7_row2_col3\" class=\"data row2 col3\" >0.8535</td>\n",
       "      <td id=\"T_e3cb7_row2_col4\" class=\"data row2 col4\" >0.9929</td>\n",
       "      <td id=\"T_e3cb7_row2_col5\" class=\"data row2 col5\" >0.9173</td>\n",
       "      <td id=\"T_e3cb7_row2_col6\" class=\"data row2 col6\" >0.9030</td>\n",
       "      <td id=\"T_e3cb7_row2_col7\" class=\"data row2 col7\" >0.9069</td>\n",
       "      <td id=\"T_e3cb7_row2_col8\" class=\"data row2 col8\" >0.8420</td>\n",
       "    </tr>\n",
       "    <tr>\n",
       "      <th id=\"T_e3cb7_level0_row3\" class=\"row_heading level0 row3\" >lightgbm</th>\n",
       "      <td id=\"T_e3cb7_row3_col0\" class=\"data row3 col0\" >Light Gradient Boosting Machine</td>\n",
       "      <td id=\"T_e3cb7_row3_col1\" class=\"data row3 col1\" >0.9734</td>\n",
       "      <td id=\"T_e3cb7_row3_col2\" class=\"data row3 col2\" >0.9791</td>\n",
       "      <td id=\"T_e3cb7_row3_col3\" class=\"data row3 col3\" >0.8656</td>\n",
       "      <td id=\"T_e3cb7_row3_col4\" class=\"data row3 col4\" >0.9672</td>\n",
       "      <td id=\"T_e3cb7_row3_col5\" class=\"data row3 col5\" >0.9127</td>\n",
       "      <td id=\"T_e3cb7_row3_col6\" class=\"data row3 col6\" >0.8971</td>\n",
       "      <td id=\"T_e3cb7_row3_col7\" class=\"data row3 col7\" >0.8996</td>\n",
       "      <td id=\"T_e3cb7_row3_col8\" class=\"data row3 col8\" >0.6460</td>\n",
       "    </tr>\n",
       "    <tr>\n",
       "      <th id=\"T_e3cb7_level0_row4\" class=\"row_heading level0 row4\" >catboost</th>\n",
       "      <td id=\"T_e3cb7_row4_col0\" class=\"data row4 col0\" >CatBoost Classifier</td>\n",
       "      <td id=\"T_e3cb7_row4_col1\" class=\"data row4 col1\" >0.9657</td>\n",
       "      <td id=\"T_e3cb7_row4_col2\" class=\"data row4 col2\" >0.9775</td>\n",
       "      <td id=\"T_e3cb7_row4_col3\" class=\"data row4 col3\" >0.8053</td>\n",
       "      <td id=\"T_e3cb7_row4_col4\" class=\"data row4 col4\" >0.9781</td>\n",
       "      <td id=\"T_e3cb7_row4_col5\" class=\"data row4 col5\" >0.8827</td>\n",
       "      <td id=\"T_e3cb7_row4_col6\" class=\"data row4 col6\" >0.8629</td>\n",
       "      <td id=\"T_e3cb7_row4_col7\" class=\"data row4 col7\" >0.8689</td>\n",
       "      <td id=\"T_e3cb7_row4_col8\" class=\"data row4 col8\" >2.6740</td>\n",
       "    </tr>\n",
       "    <tr>\n",
       "      <th id=\"T_e3cb7_level0_row5\" class=\"row_heading level0 row5\" >dt</th>\n",
       "      <td id=\"T_e3cb7_row5_col0\" class=\"data row5 col0\" >Decision Tree Classifier</td>\n",
       "      <td id=\"T_e3cb7_row5_col1\" class=\"data row5 col1\" >0.9543</td>\n",
       "      <td id=\"T_e3cb7_row5_col2\" class=\"data row5 col2\" >0.9225</td>\n",
       "      <td id=\"T_e3cb7_row5_col3\" class=\"data row5 col3\" >0.8756</td>\n",
       "      <td id=\"T_e3cb7_row5_col4\" class=\"data row5 col4\" >0.8481</td>\n",
       "      <td id=\"T_e3cb7_row5_col5\" class=\"data row5 col5\" >0.8603</td>\n",
       "      <td id=\"T_e3cb7_row5_col6\" class=\"data row5 col6\" >0.8331</td>\n",
       "      <td id=\"T_e3cb7_row5_col7\" class=\"data row5 col7\" >0.8341</td>\n",
       "      <td id=\"T_e3cb7_row5_col8\" class=\"data row5 col8\" >0.5150</td>\n",
       "    </tr>\n",
       "    <tr>\n",
       "      <th id=\"T_e3cb7_level0_row6\" class=\"row_heading level0 row6\" >gbc</th>\n",
       "      <td id=\"T_e3cb7_row6_col0\" class=\"data row6 col0\" >Gradient Boosting Classifier</td>\n",
       "      <td id=\"T_e3cb7_row6_col1\" class=\"data row6 col1\" >0.8999</td>\n",
       "      <td id=\"T_e3cb7_row6_col2\" class=\"data row6 col2\" >0.9067</td>\n",
       "      <td id=\"T_e3cb7_row6_col3\" class=\"data row6 col3\" >0.4400</td>\n",
       "      <td id=\"T_e3cb7_row6_col4\" class=\"data row6 col4\" >0.8836</td>\n",
       "      <td id=\"T_e3cb7_row6_col5\" class=\"data row6 col5\" >0.5803</td>\n",
       "      <td id=\"T_e3cb7_row6_col6\" class=\"data row6 col6\" >0.5319</td>\n",
       "      <td id=\"T_e3cb7_row6_col7\" class=\"data row6 col7\" >0.5769</td>\n",
       "      <td id=\"T_e3cb7_row6_col8\" class=\"data row6 col8\" >0.8260</td>\n",
       "    </tr>\n",
       "    <tr>\n",
       "      <th id=\"T_e3cb7_level0_row7\" class=\"row_heading level0 row7\" >ada</th>\n",
       "      <td id=\"T_e3cb7_row7_col0\" class=\"data row7 col0\" >Ada Boost Classifier</td>\n",
       "      <td id=\"T_e3cb7_row7_col1\" class=\"data row7 col1\" >0.8633</td>\n",
       "      <td id=\"T_e3cb7_row7_col2\" class=\"data row7 col2\" >0.8393</td>\n",
       "      <td id=\"T_e3cb7_row7_col3\" class=\"data row7 col3\" >0.3414</td>\n",
       "      <td id=\"T_e3cb7_row7_col4\" class=\"data row7 col4\" >0.6507</td>\n",
       "      <td id=\"T_e3cb7_row7_col5\" class=\"data row7 col5\" >0.4432</td>\n",
       "      <td id=\"T_e3cb7_row7_col6\" class=\"data row7 col6\" >0.3747</td>\n",
       "      <td id=\"T_e3cb7_row7_col7\" class=\"data row7 col7\" >0.4020</td>\n",
       "      <td id=\"T_e3cb7_row7_col8\" class=\"data row7 col8\" >0.8330</td>\n",
       "    </tr>\n",
       "    <tr>\n",
       "      <th id=\"T_e3cb7_level0_row8\" class=\"row_heading level0 row8\" >lr</th>\n",
       "      <td id=\"T_e3cb7_row8_col0\" class=\"data row8 col0\" >Logistic Regression</td>\n",
       "      <td id=\"T_e3cb7_row8_col1\" class=\"data row8 col1\" >0.8588</td>\n",
       "      <td id=\"T_e3cb7_row8_col2\" class=\"data row8 col2\" >0.8086</td>\n",
       "      <td id=\"T_e3cb7_row8_col3\" class=\"data row8 col3\" >0.2611</td>\n",
       "      <td id=\"T_e3cb7_row8_col4\" class=\"data row8 col4\" >0.6606</td>\n",
       "      <td id=\"T_e3cb7_row8_col5\" class=\"data row8 col5\" >0.3724</td>\n",
       "      <td id=\"T_e3cb7_row8_col6\" class=\"data row8 col6\" >0.3096</td>\n",
       "      <td id=\"T_e3cb7_row8_col7\" class=\"data row8 col7\" >0.3529</td>\n",
       "      <td id=\"T_e3cb7_row8_col8\" class=\"data row8 col8\" >1.3610</td>\n",
       "    </tr>\n",
       "    <tr>\n",
       "      <th id=\"T_e3cb7_level0_row9\" class=\"row_heading level0 row9\" >lda</th>\n",
       "      <td id=\"T_e3cb7_row9_col0\" class=\"data row9 col0\" >Linear Discriminant Analysis</td>\n",
       "      <td id=\"T_e3cb7_row9_col1\" class=\"data row9 col1\" >0.8584</td>\n",
       "      <td id=\"T_e3cb7_row9_col2\" class=\"data row9 col2\" >0.8081</td>\n",
       "      <td id=\"T_e3cb7_row9_col3\" class=\"data row9 col3\" >0.2791</td>\n",
       "      <td id=\"T_e3cb7_row9_col4\" class=\"data row9 col4\" >0.6452</td>\n",
       "      <td id=\"T_e3cb7_row9_col5\" class=\"data row9 col5\" >0.3879</td>\n",
       "      <td id=\"T_e3cb7_row9_col6\" class=\"data row9 col6\" >0.3220</td>\n",
       "      <td id=\"T_e3cb7_row9_col7\" class=\"data row9 col7\" >0.3590</td>\n",
       "      <td id=\"T_e3cb7_row9_col8\" class=\"data row9 col8\" >0.4850</td>\n",
       "    </tr>\n",
       "    <tr>\n",
       "      <th id=\"T_e3cb7_level0_row10\" class=\"row_heading level0 row10\" >ridge</th>\n",
       "      <td id=\"T_e3cb7_row10_col0\" class=\"data row10 col0\" >Ridge Classifier</td>\n",
       "      <td id=\"T_e3cb7_row10_col1\" class=\"data row10 col1\" >0.8510</td>\n",
       "      <td id=\"T_e3cb7_row10_col2\" class=\"data row10 col2\" >0.0000</td>\n",
       "      <td id=\"T_e3cb7_row10_col3\" class=\"data row10 col3\" >0.1306</td>\n",
       "      <td id=\"T_e3cb7_row10_col4\" class=\"data row10 col4\" >0.7018</td>\n",
       "      <td id=\"T_e3cb7_row10_col5\" class=\"data row10 col5\" >0.2192</td>\n",
       "      <td id=\"T_e3cb7_row10_col6\" class=\"data row10 col6\" >0.1784</td>\n",
       "      <td id=\"T_e3cb7_row10_col7\" class=\"data row10 col7\" >0.2576</td>\n",
       "      <td id=\"T_e3cb7_row10_col8\" class=\"data row10 col8\" >0.5050</td>\n",
       "    </tr>\n",
       "    <tr>\n",
       "      <th id=\"T_e3cb7_level0_row11\" class=\"row_heading level0 row11\" >dummy</th>\n",
       "      <td id=\"T_e3cb7_row11_col0\" class=\"data row11 col0\" >Dummy Classifier</td>\n",
       "      <td id=\"T_e3cb7_row11_col1\" class=\"data row11 col1\" >0.8387</td>\n",
       "      <td id=\"T_e3cb7_row11_col2\" class=\"data row11 col2\" >0.5000</td>\n",
       "      <td id=\"T_e3cb7_row11_col3\" class=\"data row11 col3\" >0.0000</td>\n",
       "      <td id=\"T_e3cb7_row11_col4\" class=\"data row11 col4\" >0.0000</td>\n",
       "      <td id=\"T_e3cb7_row11_col5\" class=\"data row11 col5\" >0.0000</td>\n",
       "      <td id=\"T_e3cb7_row11_col6\" class=\"data row11 col6\" >0.0000</td>\n",
       "      <td id=\"T_e3cb7_row11_col7\" class=\"data row11 col7\" >0.0000</td>\n",
       "      <td id=\"T_e3cb7_row11_col8\" class=\"data row11 col8\" >0.7040</td>\n",
       "    </tr>\n",
       "    <tr>\n",
       "      <th id=\"T_e3cb7_level0_row12\" class=\"row_heading level0 row12\" >knn</th>\n",
       "      <td id=\"T_e3cb7_row12_col0\" class=\"data row12 col0\" >K Neighbors Classifier</td>\n",
       "      <td id=\"T_e3cb7_row12_col1\" class=\"data row12 col1\" >0.8212</td>\n",
       "      <td id=\"T_e3cb7_row12_col2\" class=\"data row12 col2\" >0.4742</td>\n",
       "      <td id=\"T_e3cb7_row12_col3\" class=\"data row12 col3\" >0.0080</td>\n",
       "      <td id=\"T_e3cb7_row12_col4\" class=\"data row12 col4\" >0.0674</td>\n",
       "      <td id=\"T_e3cb7_row12_col5\" class=\"data row12 col5\" >0.0139</td>\n",
       "      <td id=\"T_e3cb7_row12_col6\" class=\"data row12 col6\" >-0.0218</td>\n",
       "      <td id=\"T_e3cb7_row12_col7\" class=\"data row12 col7\" >-0.0356</td>\n",
       "      <td id=\"T_e3cb7_row12_col8\" class=\"data row12 col8\" >0.5670</td>\n",
       "    </tr>\n",
       "    <tr>\n",
       "      <th id=\"T_e3cb7_level0_row13\" class=\"row_heading level0 row13\" >nb</th>\n",
       "      <td id=\"T_e3cb7_row13_col0\" class=\"data row13 col0\" >Naive Bayes</td>\n",
       "      <td id=\"T_e3cb7_row13_col1\" class=\"data row13 col1\" >0.7930</td>\n",
       "      <td id=\"T_e3cb7_row13_col2\" class=\"data row13 col2\" >0.7364</td>\n",
       "      <td id=\"T_e3cb7_row13_col3\" class=\"data row13 col3\" >0.4940</td>\n",
       "      <td id=\"T_e3cb7_row13_col4\" class=\"data row13 col4\" >0.3904</td>\n",
       "      <td id=\"T_e3cb7_row13_col5\" class=\"data row13 col5\" >0.4353</td>\n",
       "      <td id=\"T_e3cb7_row13_col6\" class=\"data row13 col6\" >0.3110</td>\n",
       "      <td id=\"T_e3cb7_row13_col7\" class=\"data row13 col7\" >0.3147</td>\n",
       "      <td id=\"T_e3cb7_row13_col8\" class=\"data row13 col8\" >0.5010</td>\n",
       "    </tr>\n",
       "    <tr>\n",
       "      <th id=\"T_e3cb7_level0_row14\" class=\"row_heading level0 row14\" >svm</th>\n",
       "      <td id=\"T_e3cb7_row14_col0\" class=\"data row14 col0\" >SVM - Linear Kernel</td>\n",
       "      <td id=\"T_e3cb7_row14_col1\" class=\"data row14 col1\" >0.7743</td>\n",
       "      <td id=\"T_e3cb7_row14_col2\" class=\"data row14 col2\" >0.0000</td>\n",
       "      <td id=\"T_e3cb7_row14_col3\" class=\"data row14 col3\" >0.1640</td>\n",
       "      <td id=\"T_e3cb7_row14_col4\" class=\"data row14 col4\" >0.2326</td>\n",
       "      <td id=\"T_e3cb7_row14_col5\" class=\"data row14 col5\" >0.1023</td>\n",
       "      <td id=\"T_e3cb7_row14_col6\" class=\"data row14 col6\" >0.0396</td>\n",
       "      <td id=\"T_e3cb7_row14_col7\" class=\"data row14 col7\" >0.0628</td>\n",
       "      <td id=\"T_e3cb7_row14_col8\" class=\"data row14 col8\" >0.5320</td>\n",
       "    </tr>\n",
       "    <tr>\n",
       "      <th id=\"T_e3cb7_level0_row15\" class=\"row_heading level0 row15\" >qda</th>\n",
       "      <td id=\"T_e3cb7_row15_col0\" class=\"data row15 col0\" >Quadratic Discriminant Analysis</td>\n",
       "      <td id=\"T_e3cb7_row15_col1\" class=\"data row15 col1\" >0.7519</td>\n",
       "      <td id=\"T_e3cb7_row15_col2\" class=\"data row15 col2\" >0.7685</td>\n",
       "      <td id=\"T_e3cb7_row15_col3\" class=\"data row15 col3\" >0.5601</td>\n",
       "      <td id=\"T_e3cb7_row15_col4\" class=\"data row15 col4\" >0.4085</td>\n",
       "      <td id=\"T_e3cb7_row15_col5\" class=\"data row15 col5\" >0.4347</td>\n",
       "      <td id=\"T_e3cb7_row15_col6\" class=\"data row15 col6\" >0.3029</td>\n",
       "      <td id=\"T_e3cb7_row15_col7\" class=\"data row15 col7\" >0.3278</td>\n",
       "      <td id=\"T_e3cb7_row15_col8\" class=\"data row15 col8\" >0.5870</td>\n",
       "    </tr>\n",
       "  </tbody>\n",
       "</table>\n"
      ],
      "text/plain": [
       "<pandas.io.formats.style.Styler at 0x1f56771aaf0>"
      ]
     },
     "metadata": {},
     "output_type": "display_data"
    },
    {
     "data": {
      "text/html": [],
      "text/plain": [
       "<IPython.core.display.HTML object>"
      ]
     },
     "metadata": {},
     "output_type": "display_data"
    }
   ],
   "source": [
    "best = compare_models()"
   ]
  },
  {
   "cell_type": "code",
   "execution_count": 93,
   "metadata": {},
   "outputs": [
    {
     "data": {
      "text/html": [],
      "text/plain": [
       "<IPython.core.display.HTML object>"
      ]
     },
     "metadata": {},
     "output_type": "display_data"
    },
    {
     "data": {
      "text/html": [
       "<style type=\"text/css\">\n",
       "#T_78fcc_row10_col0, #T_78fcc_row10_col1, #T_78fcc_row10_col2, #T_78fcc_row10_col3, #T_78fcc_row10_col4, #T_78fcc_row10_col5, #T_78fcc_row10_col6 {\n",
       "  background: yellow;\n",
       "}\n",
       "</style>\n",
       "<table id=\"T_78fcc\">\n",
       "  <thead>\n",
       "    <tr>\n",
       "      <th class=\"blank level0\" >&nbsp;</th>\n",
       "      <th id=\"T_78fcc_level0_col0\" class=\"col_heading level0 col0\" >Accuracy</th>\n",
       "      <th id=\"T_78fcc_level0_col1\" class=\"col_heading level0 col1\" >AUC</th>\n",
       "      <th id=\"T_78fcc_level0_col2\" class=\"col_heading level0 col2\" >Recall</th>\n",
       "      <th id=\"T_78fcc_level0_col3\" class=\"col_heading level0 col3\" >Prec.</th>\n",
       "      <th id=\"T_78fcc_level0_col4\" class=\"col_heading level0 col4\" >F1</th>\n",
       "      <th id=\"T_78fcc_level0_col5\" class=\"col_heading level0 col5\" >Kappa</th>\n",
       "      <th id=\"T_78fcc_level0_col6\" class=\"col_heading level0 col6\" >MCC</th>\n",
       "    </tr>\n",
       "    <tr>\n",
       "      <th class=\"index_name level0\" >Fold</th>\n",
       "      <th class=\"blank col0\" >&nbsp;</th>\n",
       "      <th class=\"blank col1\" >&nbsp;</th>\n",
       "      <th class=\"blank col2\" >&nbsp;</th>\n",
       "      <th class=\"blank col3\" >&nbsp;</th>\n",
       "      <th class=\"blank col4\" >&nbsp;</th>\n",
       "      <th class=\"blank col5\" >&nbsp;</th>\n",
       "      <th class=\"blank col6\" >&nbsp;</th>\n",
       "    </tr>\n",
       "  </thead>\n",
       "  <tbody>\n",
       "    <tr>\n",
       "      <th id=\"T_78fcc_level0_row0\" class=\"row_heading level0 row0\" >0</th>\n",
       "      <td id=\"T_78fcc_row0_col0\" class=\"data row0 col0\" >0.9741</td>\n",
       "      <td id=\"T_78fcc_row0_col1\" class=\"data row0 col1\" >0.9962</td>\n",
       "      <td id=\"T_78fcc_row0_col2\" class=\"data row0 col2\" >0.8400</td>\n",
       "      <td id=\"T_78fcc_row0_col3\" class=\"data row0 col3\" >1.0000</td>\n",
       "      <td id=\"T_78fcc_row0_col4\" class=\"data row0 col4\" >0.9130</td>\n",
       "      <td id=\"T_78fcc_row0_col5\" class=\"data row0 col5\" >0.8980</td>\n",
       "      <td id=\"T_78fcc_row0_col6\" class=\"data row0 col6\" >0.9027</td>\n",
       "    </tr>\n",
       "    <tr>\n",
       "      <th id=\"T_78fcc_level0_row1\" class=\"row_heading level0 row1\" >1</th>\n",
       "      <td id=\"T_78fcc_row1_col0\" class=\"data row1 col0\" >0.9741</td>\n",
       "      <td id=\"T_78fcc_row1_col1\" class=\"data row1 col1\" >0.9911</td>\n",
       "      <td id=\"T_78fcc_row1_col2\" class=\"data row1 col2\" >0.8400</td>\n",
       "      <td id=\"T_78fcc_row1_col3\" class=\"data row1 col3\" >1.0000</td>\n",
       "      <td id=\"T_78fcc_row1_col4\" class=\"data row1 col4\" >0.9130</td>\n",
       "      <td id=\"T_78fcc_row1_col5\" class=\"data row1 col5\" >0.8980</td>\n",
       "      <td id=\"T_78fcc_row1_col6\" class=\"data row1 col6\" >0.9027</td>\n",
       "    </tr>\n",
       "    <tr>\n",
       "      <th id=\"T_78fcc_level0_row2\" class=\"row_heading level0 row2\" >2</th>\n",
       "      <td id=\"T_78fcc_row2_col0\" class=\"data row2 col0\" >0.9676</td>\n",
       "      <td id=\"T_78fcc_row2_col1\" class=\"data row2 col1\" >0.9974</td>\n",
       "      <td id=\"T_78fcc_row2_col2\" class=\"data row2 col2\" >0.8000</td>\n",
       "      <td id=\"T_78fcc_row2_col3\" class=\"data row2 col3\" >1.0000</td>\n",
       "      <td id=\"T_78fcc_row2_col4\" class=\"data row2 col4\" >0.8889</td>\n",
       "      <td id=\"T_78fcc_row2_col5\" class=\"data row2 col5\" >0.8702</td>\n",
       "      <td id=\"T_78fcc_row2_col6\" class=\"data row2 col6\" >0.8776</td>\n",
       "    </tr>\n",
       "    <tr>\n",
       "      <th id=\"T_78fcc_level0_row3\" class=\"row_heading level0 row3\" >3</th>\n",
       "      <td id=\"T_78fcc_row3_col0\" class=\"data row3 col0\" >0.9741</td>\n",
       "      <td id=\"T_78fcc_row3_col1\" class=\"data row3 col1\" >0.9928</td>\n",
       "      <td id=\"T_78fcc_row3_col2\" class=\"data row3 col2\" >0.8600</td>\n",
       "      <td id=\"T_78fcc_row3_col3\" class=\"data row3 col3\" >0.9773</td>\n",
       "      <td id=\"T_78fcc_row3_col4\" class=\"data row3 col4\" >0.9149</td>\n",
       "      <td id=\"T_78fcc_row3_col5\" class=\"data row3 col5\" >0.8997</td>\n",
       "      <td id=\"T_78fcc_row3_col6\" class=\"data row3 col6\" >0.9023</td>\n",
       "    </tr>\n",
       "    <tr>\n",
       "      <th id=\"T_78fcc_level0_row4\" class=\"row_heading level0 row4\" >4</th>\n",
       "      <td id=\"T_78fcc_row4_col0\" class=\"data row4 col0\" >0.9741</td>\n",
       "      <td id=\"T_78fcc_row4_col1\" class=\"data row4 col1\" >0.9913</td>\n",
       "      <td id=\"T_78fcc_row4_col2\" class=\"data row4 col2\" >0.8400</td>\n",
       "      <td id=\"T_78fcc_row4_col3\" class=\"data row4 col3\" >1.0000</td>\n",
       "      <td id=\"T_78fcc_row4_col4\" class=\"data row4 col4\" >0.9130</td>\n",
       "      <td id=\"T_78fcc_row4_col5\" class=\"data row4 col5\" >0.8980</td>\n",
       "      <td id=\"T_78fcc_row4_col6\" class=\"data row4 col6\" >0.9027</td>\n",
       "    </tr>\n",
       "    <tr>\n",
       "      <th id=\"T_78fcc_level0_row5\" class=\"row_heading level0 row5\" >5</th>\n",
       "      <td id=\"T_78fcc_row5_col0\" class=\"data row5 col0\" >0.9871</td>\n",
       "      <td id=\"T_78fcc_row5_col1\" class=\"data row5 col1\" >0.9963</td>\n",
       "      <td id=\"T_78fcc_row5_col2\" class=\"data row5 col2\" >0.9200</td>\n",
       "      <td id=\"T_78fcc_row5_col3\" class=\"data row5 col3\" >1.0000</td>\n",
       "      <td id=\"T_78fcc_row5_col4\" class=\"data row5 col4\" >0.9583</td>\n",
       "      <td id=\"T_78fcc_row5_col5\" class=\"data row5 col5\" >0.9507</td>\n",
       "      <td id=\"T_78fcc_row5_col6\" class=\"data row5 col6\" >0.9518</td>\n",
       "    </tr>\n",
       "    <tr>\n",
       "      <th id=\"T_78fcc_level0_row6\" class=\"row_heading level0 row6\" >6</th>\n",
       "      <td id=\"T_78fcc_row6_col0\" class=\"data row6 col0\" >0.9935</td>\n",
       "      <td id=\"T_78fcc_row6_col1\" class=\"data row6 col1\" >0.9972</td>\n",
       "      <td id=\"T_78fcc_row6_col2\" class=\"data row6 col2\" >0.9600</td>\n",
       "      <td id=\"T_78fcc_row6_col3\" class=\"data row6 col3\" >1.0000</td>\n",
       "      <td id=\"T_78fcc_row6_col4\" class=\"data row6 col4\" >0.9796</td>\n",
       "      <td id=\"T_78fcc_row6_col5\" class=\"data row6 col5\" >0.9757</td>\n",
       "      <td id=\"T_78fcc_row6_col6\" class=\"data row6 col6\" >0.9760</td>\n",
       "    </tr>\n",
       "    <tr>\n",
       "      <th id=\"T_78fcc_level0_row7\" class=\"row_heading level0 row7\" >7</th>\n",
       "      <td id=\"T_78fcc_row7_col0\" class=\"data row7 col0\" >0.9935</td>\n",
       "      <td id=\"T_78fcc_row7_col1\" class=\"data row7 col1\" >0.9969</td>\n",
       "      <td id=\"T_78fcc_row7_col2\" class=\"data row7 col2\" >0.9592</td>\n",
       "      <td id=\"T_78fcc_row7_col3\" class=\"data row7 col3\" >1.0000</td>\n",
       "      <td id=\"T_78fcc_row7_col4\" class=\"data row7 col4\" >0.9792</td>\n",
       "      <td id=\"T_78fcc_row7_col5\" class=\"data row7 col5\" >0.9753</td>\n",
       "      <td id=\"T_78fcc_row7_col6\" class=\"data row7 col6\" >0.9756</td>\n",
       "    </tr>\n",
       "    <tr>\n",
       "      <th id=\"T_78fcc_level0_row8\" class=\"row_heading level0 row8\" >8</th>\n",
       "      <td id=\"T_78fcc_row8_col0\" class=\"data row8 col0\" >0.9805</td>\n",
       "      <td id=\"T_78fcc_row8_col1\" class=\"data row8 col1\" >0.9980</td>\n",
       "      <td id=\"T_78fcc_row8_col2\" class=\"data row8 col2\" >0.8776</td>\n",
       "      <td id=\"T_78fcc_row8_col3\" class=\"data row8 col3\" >1.0000</td>\n",
       "      <td id=\"T_78fcc_row8_col4\" class=\"data row8 col4\" >0.9348</td>\n",
       "      <td id=\"T_78fcc_row8_col5\" class=\"data row8 col5\" >0.9234</td>\n",
       "      <td id=\"T_78fcc_row8_col6\" class=\"data row8 col6\" >0.9261</td>\n",
       "    </tr>\n",
       "    <tr>\n",
       "      <th id=\"T_78fcc_level0_row9\" class=\"row_heading level0 row9\" >9</th>\n",
       "      <td id=\"T_78fcc_row9_col0\" class=\"data row9 col0\" >0.9838</td>\n",
       "      <td id=\"T_78fcc_row9_col1\" class=\"data row9 col1\" >0.9959</td>\n",
       "      <td id=\"T_78fcc_row9_col2\" class=\"data row9 col2\" >0.9200</td>\n",
       "      <td id=\"T_78fcc_row9_col3\" class=\"data row9 col3\" >0.9787</td>\n",
       "      <td id=\"T_78fcc_row9_col4\" class=\"data row9 col4\" >0.9485</td>\n",
       "      <td id=\"T_78fcc_row9_col5\" class=\"data row9 col5\" >0.9388</td>\n",
       "      <td id=\"T_78fcc_row9_col6\" class=\"data row9 col6\" >0.9395</td>\n",
       "    </tr>\n",
       "    <tr>\n",
       "      <th id=\"T_78fcc_level0_row10\" class=\"row_heading level0 row10\" >Mean</th>\n",
       "      <td id=\"T_78fcc_row10_col0\" class=\"data row10 col0\" >0.9802</td>\n",
       "      <td id=\"T_78fcc_row10_col1\" class=\"data row10 col1\" >0.9953</td>\n",
       "      <td id=\"T_78fcc_row10_col2\" class=\"data row10 col2\" >0.8817</td>\n",
       "      <td id=\"T_78fcc_row10_col3\" class=\"data row10 col3\" >0.9956</td>\n",
       "      <td id=\"T_78fcc_row10_col4\" class=\"data row10 col4\" >0.9343</td>\n",
       "      <td id=\"T_78fcc_row10_col5\" class=\"data row10 col5\" >0.9228</td>\n",
       "      <td id=\"T_78fcc_row10_col6\" class=\"data row10 col6\" >0.9257</td>\n",
       "    </tr>\n",
       "    <tr>\n",
       "      <th id=\"T_78fcc_level0_row11\" class=\"row_heading level0 row11\" >Std</th>\n",
       "      <td id=\"T_78fcc_row11_col0\" class=\"data row11 col0\" >0.0085</td>\n",
       "      <td id=\"T_78fcc_row11_col1\" class=\"data row11 col1\" >0.0024</td>\n",
       "      <td id=\"T_78fcc_row11_col2\" class=\"data row11 col2\" >0.0524</td>\n",
       "      <td id=\"T_78fcc_row11_col3\" class=\"data row11 col3\" >0.0088</td>\n",
       "      <td id=\"T_78fcc_row11_col4\" class=\"data row11 col4\" >0.0294</td>\n",
       "      <td id=\"T_78fcc_row11_col5\" class=\"data row11 col5\" >0.0343</td>\n",
       "      <td id=\"T_78fcc_row11_col6\" class=\"data row11 col6\" >0.0322</td>\n",
       "    </tr>\n",
       "  </tbody>\n",
       "</table>\n"
      ],
      "text/plain": [
       "<pandas.io.formats.style.Styler at 0x1f5379d7880>"
      ]
     },
     "metadata": {},
     "output_type": "display_data"
    },
    {
     "data": {
      "text/html": [],
      "text/plain": [
       "<IPython.core.display.HTML object>"
      ]
     },
     "metadata": {},
     "output_type": "display_data"
    }
   ],
   "source": [
    "et = create_model('et')"
   ]
  },
  {
   "cell_type": "code",
   "execution_count": 94,
   "metadata": {},
   "outputs": [
    {
     "data": {
      "text/html": [],
      "text/plain": [
       "<IPython.core.display.HTML object>"
      ]
     },
     "metadata": {},
     "output_type": "display_data"
    },
    {
     "data": {
      "image/png": "[encoded data removed]",
      "text/plain": [
       "<Figure size 800x500 with 1 Axes>"
      ]
     },
     "metadata": {},
     "output_type": "display_data"
    }
   ],
   "source": [
    "plot_model(et, plot = 'feature')"
   ]
  },
  {
   "cell_type": "code",
   "execution_count": 102,
   "metadata": {},
   "outputs": [
    {
     "name": "stdout",
     "output_type": "stream",
     "text": [
      "Accuracy: 0.9965986394557823\n"
     ]
    },
    {
     "data": {
      "text/html": [
       "<div>\n",
       "<style scoped>\n",
       "    .dataframe tbody tr th:only-of-type {\n",
       "        vertical-align: middle;\n",
       "    }\n",
       "\n",
       "    .dataframe tbody tr th {\n",
       "        vertical-align: top;\n",
       "    }\n",
       "\n",
       "    .dataframe thead th {\n",
       "        text-align: right;\n",
       "    }\n",
       "</style>\n",
       "<table border=\"1\" class=\"dataframe\">\n",
       "  <thead>\n",
       "    <tr style=\"text-align: right;\">\n",
       "      <th></th>\n",
       "      <th>Feature</th>\n",
       "      <th>Importance</th>\n",
       "      <th>Cluster</th>\n",
       "    </tr>\n",
       "  </thead>\n",
       "  <tbody>\n",
       "    <tr>\n",
       "      <th>16</th>\n",
       "      <td>AvgDailyWorkedTime</td>\n",
       "      <td>0.059608</td>\n",
       "      <td>General</td>\n",
       "    </tr>\n",
       "    <tr>\n",
       "      <th>11</th>\n",
       "      <td>TotalWorkingYears</td>\n",
       "      <td>0.047694</td>\n",
       "      <td>General</td>\n",
       "    </tr>\n",
       "    <tr>\n",
       "      <th>0</th>\n",
       "      <td>Age</td>\n",
       "      <td>0.044704</td>\n",
       "      <td>General</td>\n",
       "    </tr>\n",
       "    <tr>\n",
       "      <th>15</th>\n",
       "      <td>YearsWithCurrManager</td>\n",
       "      <td>0.041016</td>\n",
       "      <td>General</td>\n",
       "    </tr>\n",
       "    <tr>\n",
       "      <th>13</th>\n",
       "      <td>YearsAtCompany</td>\n",
       "      <td>0.040549</td>\n",
       "      <td>General</td>\n",
       "    </tr>\n",
       "    <tr>\n",
       "      <th>18</th>\n",
       "      <td>JobSatisfaction</td>\n",
       "      <td>0.038254</td>\n",
       "      <td>General</td>\n",
       "    </tr>\n",
       "    <tr>\n",
       "      <th>1</th>\n",
       "      <td>DistanceFromHome</td>\n",
       "      <td>0.034503</td>\n",
       "      <td>General</td>\n",
       "    </tr>\n",
       "    <tr>\n",
       "      <th>17</th>\n",
       "      <td>EnvironmentSatisfaction</td>\n",
       "      <td>0.033882</td>\n",
       "      <td>General</td>\n",
       "    </tr>\n",
       "    <tr>\n",
       "      <th>6</th>\n",
       "      <td>MonthlyIncome</td>\n",
       "      <td>0.032405</td>\n",
       "      <td>General</td>\n",
       "    </tr>\n",
       "    <tr>\n",
       "      <th>14</th>\n",
       "      <td>YearsSinceLastPromotion</td>\n",
       "      <td>0.032258</td>\n",
       "      <td>General</td>\n",
       "    </tr>\n",
       "    <tr>\n",
       "      <th>7</th>\n",
       "      <td>NumCompaniesWorked</td>\n",
       "      <td>0.032172</td>\n",
       "      <td>General</td>\n",
       "    </tr>\n",
       "    <tr>\n",
       "      <th>19</th>\n",
       "      <td>WorkLifeBalance</td>\n",
       "      <td>0.031885</td>\n",
       "      <td>General</td>\n",
       "    </tr>\n",
       "    <tr>\n",
       "      <th>8</th>\n",
       "      <td>PercentSalaryHike</td>\n",
       "      <td>0.031664</td>\n",
       "      <td>General</td>\n",
       "    </tr>\n",
       "    <tr>\n",
       "      <th>12</th>\n",
       "      <td>TrainingTimesLastYear</td>\n",
       "      <td>0.030088</td>\n",
       "      <td>General</td>\n",
       "    </tr>\n",
       "    <tr>\n",
       "      <th>5</th>\n",
       "      <td>JobLevel</td>\n",
       "      <td>0.029932</td>\n",
       "      <td>General</td>\n",
       "    </tr>\n",
       "    <tr>\n",
       "      <th>10</th>\n",
       "      <td>StockOptionLevel</td>\n",
       "      <td>0.029285</td>\n",
       "      <td>General</td>\n",
       "    </tr>\n",
       "    <tr>\n",
       "      <th>2</th>\n",
       "      <td>Education</td>\n",
       "      <td>0.028936</td>\n",
       "      <td>General</td>\n",
       "    </tr>\n",
       "    <tr>\n",
       "      <th>20</th>\n",
       "      <td>JobInvolvement</td>\n",
       "      <td>0.028122</td>\n",
       "      <td>General</td>\n",
       "    </tr>\n",
       "    <tr>\n",
       "      <th>47</th>\n",
       "      <td>MaritalStatus_Single</td>\n",
       "      <td>0.027933</td>\n",
       "      <td>General</td>\n",
       "    </tr>\n",
       "    <tr>\n",
       "      <th>42</th>\n",
       "      <td>JobRole_Research Scientist</td>\n",
       "      <td>0.019568</td>\n",
       "      <td>General</td>\n",
       "    </tr>\n",
       "    <tr>\n",
       "      <th>29</th>\n",
       "      <td>EducationField_Life Sciences</td>\n",
       "      <td>0.018949</td>\n",
       "      <td>General</td>\n",
       "    </tr>\n",
       "    <tr>\n",
       "      <th>35</th>\n",
       "      <td>Gender_Male</td>\n",
       "      <td>0.017741</td>\n",
       "      <td>General</td>\n",
       "    </tr>\n",
       "    <tr>\n",
       "      <th>23</th>\n",
       "      <td>BusinessTravel_Travel_Frequently</td>\n",
       "      <td>0.017688</td>\n",
       "      <td>General</td>\n",
       "    </tr>\n",
       "    <tr>\n",
       "      <th>34</th>\n",
       "      <td>Gender_Female</td>\n",
       "      <td>0.017160</td>\n",
       "      <td>General</td>\n",
       "    </tr>\n",
       "    <tr>\n",
       "      <th>31</th>\n",
       "      <td>EducationField_Medical</td>\n",
       "      <td>0.016566</td>\n",
       "      <td>General</td>\n",
       "    </tr>\n",
       "    <tr>\n",
       "      <th>43</th>\n",
       "      <td>JobRole_Sales Executive</td>\n",
       "      <td>0.016370</td>\n",
       "      <td>General</td>\n",
       "    </tr>\n",
       "    <tr>\n",
       "      <th>38</th>\n",
       "      <td>JobRole_Laboratory Technician</td>\n",
       "      <td>0.015318</td>\n",
       "      <td>General</td>\n",
       "    </tr>\n",
       "    <tr>\n",
       "      <th>21</th>\n",
       "      <td>PerformanceRating</td>\n",
       "      <td>0.014743</td>\n",
       "      <td>General</td>\n",
       "    </tr>\n",
       "    <tr>\n",
       "      <th>46</th>\n",
       "      <td>MaritalStatus_Married</td>\n",
       "      <td>0.014123</td>\n",
       "      <td>General</td>\n",
       "    </tr>\n",
       "    <tr>\n",
       "      <th>26</th>\n",
       "      <td>Department_Research &amp; Development</td>\n",
       "      <td>0.013800</td>\n",
       "      <td>General</td>\n",
       "    </tr>\n",
       "    <tr>\n",
       "      <th>41</th>\n",
       "      <td>JobRole_Research Director</td>\n",
       "      <td>0.013574</td>\n",
       "      <td>General</td>\n",
       "    </tr>\n",
       "    <tr>\n",
       "      <th>27</th>\n",
       "      <td>Department_Sales</td>\n",
       "      <td>0.013003</td>\n",
       "      <td>General</td>\n",
       "    </tr>\n",
       "    <tr>\n",
       "      <th>24</th>\n",
       "      <td>BusinessTravel_Travel_Rarely</td>\n",
       "      <td>0.012137</td>\n",
       "      <td>General</td>\n",
       "    </tr>\n",
       "    <tr>\n",
       "      <th>45</th>\n",
       "      <td>MaritalStatus_Divorced</td>\n",
       "      <td>0.010826</td>\n",
       "      <td>General</td>\n",
       "    </tr>\n",
       "    <tr>\n",
       "      <th>25</th>\n",
       "      <td>Department_Human Resources</td>\n",
       "      <td>0.010340</td>\n",
       "      <td>General</td>\n",
       "    </tr>\n",
       "    <tr>\n",
       "      <th>40</th>\n",
       "      <td>JobRole_Manufacturing Director</td>\n",
       "      <td>0.009490</td>\n",
       "      <td>General</td>\n",
       "    </tr>\n",
       "    <tr>\n",
       "      <th>36</th>\n",
       "      <td>JobRole_Healthcare Representative</td>\n",
       "      <td>0.009440</td>\n",
       "      <td>General</td>\n",
       "    </tr>\n",
       "    <tr>\n",
       "      <th>30</th>\n",
       "      <td>EducationField_Marketing</td>\n",
       "      <td>0.009429</td>\n",
       "      <td>General</td>\n",
       "    </tr>\n",
       "    <tr>\n",
       "      <th>44</th>\n",
       "      <td>JobRole_Sales Representative</td>\n",
       "      <td>0.009013</td>\n",
       "      <td>General</td>\n",
       "    </tr>\n",
       "    <tr>\n",
       "      <th>33</th>\n",
       "      <td>EducationField_Technical Degree</td>\n",
       "      <td>0.007954</td>\n",
       "      <td>General</td>\n",
       "    </tr>\n",
       "    <tr>\n",
       "      <th>39</th>\n",
       "      <td>JobRole_Manager</td>\n",
       "      <td>0.007875</td>\n",
       "      <td>General</td>\n",
       "    </tr>\n",
       "    <tr>\n",
       "      <th>22</th>\n",
       "      <td>BusinessTravel_Non-Travel</td>\n",
       "      <td>0.007619</td>\n",
       "      <td>General</td>\n",
       "    </tr>\n",
       "    <tr>\n",
       "      <th>32</th>\n",
       "      <td>EducationField_Other</td>\n",
       "      <td>0.006922</td>\n",
       "      <td>General</td>\n",
       "    </tr>\n",
       "    <tr>\n",
       "      <th>28</th>\n",
       "      <td>EducationField_Human Resources</td>\n",
       "      <td>0.006580</td>\n",
       "      <td>General</td>\n",
       "    </tr>\n",
       "    <tr>\n",
       "      <th>37</th>\n",
       "      <td>JobRole_Human Resources</td>\n",
       "      <td>0.005787</td>\n",
       "      <td>General</td>\n",
       "    </tr>\n",
       "    <tr>\n",
       "      <th>4</th>\n",
       "      <td>EmployeeID</td>\n",
       "      <td>0.003100</td>\n",
       "      <td>General</td>\n",
       "    </tr>\n",
       "    <tr>\n",
       "      <th>3</th>\n",
       "      <td>EmployeeCount</td>\n",
       "      <td>0.000000</td>\n",
       "      <td>General</td>\n",
       "    </tr>\n",
       "    <tr>\n",
       "      <th>9</th>\n",
       "      <td>StandardHours</td>\n",
       "      <td>0.000000</td>\n",
       "      <td>General</td>\n",
       "    </tr>\n",
       "  </tbody>\n",
       "</table>\n",
       "</div>"
      ],
      "text/plain": [
       "                              Feature  Importance  Cluster\n",
       "16                 AvgDailyWorkedTime    0.059608  General\n",
       "11                  TotalWorkingYears    0.047694  General\n",
       "0                                 Age    0.044704  General\n",
       "15               YearsWithCurrManager    0.041016  General\n",
       "13                     YearsAtCompany    0.040549  General\n",
       "18                    JobSatisfaction    0.038254  General\n",
       "1                    DistanceFromHome    0.034503  General\n",
       "17            EnvironmentSatisfaction    0.033882  General\n",
       "6                       MonthlyIncome    0.032405  General\n",
       "14            YearsSinceLastPromotion    0.032258  General\n",
       "7                  NumCompaniesWorked    0.032172  General\n",
       "19                    WorkLifeBalance    0.031885  General\n",
       "8                   PercentSalaryHike    0.031664  General\n",
       "12              TrainingTimesLastYear    0.030088  General\n",
       "5                            JobLevel    0.029932  General\n",
       "10                   StockOptionLevel    0.029285  General\n",
       "2                           Education    0.028936  General\n",
       "20                     JobInvolvement    0.028122  General\n",
       "47               MaritalStatus_Single    0.027933  General\n",
       "42         JobRole_Research Scientist    0.019568  General\n",
       "29       EducationField_Life Sciences    0.018949  General\n",
       "35                        Gender_Male    0.017741  General\n",
       "23   BusinessTravel_Travel_Frequently    0.017688  General\n",
       "34                      Gender_Female    0.017160  General\n",
       "31             EducationField_Medical    0.016566  General\n",
       "43            JobRole_Sales Executive    0.016370  General\n",
       "38      JobRole_Laboratory Technician    0.015318  General\n",
       "21                  PerformanceRating    0.014743  General\n",
       "46              MaritalStatus_Married    0.014123  General\n",
       "26  Department_Research & Development    0.013800  General\n",
       "41          JobRole_Research Director    0.013574  General\n",
       "27                   Department_Sales    0.013003  General\n",
       "24       BusinessTravel_Travel_Rarely    0.012137  General\n",
       "45             MaritalStatus_Divorced    0.010826  General\n",
       "25         Department_Human Resources    0.010340  General\n",
       "40     JobRole_Manufacturing Director    0.009490  General\n",
       "36  JobRole_Healthcare Representative    0.009440  General\n",
       "30           EducationField_Marketing    0.009429  General\n",
       "44       JobRole_Sales Representative    0.009013  General\n",
       "33    EducationField_Technical Degree    0.007954  General\n",
       "39                    JobRole_Manager    0.007875  General\n",
       "22          BusinessTravel_Non-Travel    0.007619  General\n",
       "32               EducationField_Other    0.006922  General\n",
       "28     EducationField_Human Resources    0.006580  General\n",
       "37            JobRole_Human Resources    0.005787  General\n",
       "4                          EmployeeID    0.003100  General\n",
       "3                       EmployeeCount    0.000000  General\n",
       "9                       StandardHours    0.000000  General"
      ]
     },
     "execution_count": 102,
     "metadata": {},
     "output_type": "execute_result"
    }
   ],
   "source": [
    "result_general = result.drop('Cluster', axis = 1)\n",
    "\n",
    "X = result_general.drop('Attrition', axis = 1).fillna(0)\n",
    "y = result_general['Attrition']\n",
    "\n",
    "# Dividir los datos en conjunto de entrenamiento y prueba\n",
    "X_train, X_test, y_train, y_test = train_test_split(X, y, test_size=0.2, random_state=42)\n",
    "\n",
    "# Crear y entrenar el modelo ExtraTreeClassifier\n",
    "model = ExtraTreesClassifier(random_state=42)\n",
    "model.fit(X_train, y_train)\n",
    "\n",
    "# Realizar predicciones en el conjunto de prueba\n",
    "y_pred = model.predict(X_test)\n",
    "\n",
    "# Calcular la precisión del modelo\n",
    "accuracy = accuracy_score(y_test, y_pred)\n",
    "print(\"Accuracy:\", accuracy)\n",
    "\n",
    "\n",
    "### Feature Importance\n",
    "feature_names = X.columns\n",
    "feature_importance = model.feature_importances_\n",
    "\n",
    "# Crear un DataFrame con los nombres de las características y sus importancias\n",
    "feature_importance_df = pd.DataFrame({'Feature': feature_names, 'Importance': feature_importance})\n",
    "\n",
    "# Ordenar el DataFrame por importancia en orden descendente\n",
    "feature_importance_df = feature_importance_df.sort_values(by='Importance', ascending=False)\n",
    "feature_importance_df['Cluster'] = 'General'\n",
    "feature_importance_df"
   ]
  },
  {
   "cell_type": "markdown",
   "metadata": {},
   "source": [
    "## Final Model"
   ]
  },
  {
   "cell_type": "code",
   "execution_count": 95,
   "metadata": {},
   "outputs": [],
   "source": [
    "from sklearn.model_selection import train_test_split\n",
    "from sklearn.ensemble import ExtraTreesClassifier\n",
    "from sklearn.metrics import accuracy_score"
   ]
  },
  {
   "cell_type": "code",
   "execution_count": 96,
   "metadata": {},
   "outputs": [],
   "source": [
    "result_0 = result[result['Cluster'] == 'Cluster 0'].drop('Cluster', axis = 1)\n",
    "result_1 = result[result['Cluster'] == 'Cluster 1'].drop('Cluster', axis = 1)\n",
    "result_2 = result[result['Cluster'] == 'Cluster 2'].drop('Cluster', axis = 1)\n",
    "result_3 = result[result['Cluster'] == 'Cluster 3'].drop('Cluster', axis = 1)"
   ]
  },
  {
   "cell_type": "code",
   "execution_count": 97,
   "metadata": {},
   "outputs": [
    {
     "name": "stdout",
     "output_type": "stream",
     "text": [
      "Accuracy: 1.0\n"
     ]
    },
    {
     "data": {
      "text/html": [
       "<div>\n",
       "<style scoped>\n",
       "    .dataframe tbody tr th:only-of-type {\n",
       "        vertical-align: middle;\n",
       "    }\n",
       "\n",
       "    .dataframe tbody tr th {\n",
       "        vertical-align: top;\n",
       "    }\n",
       "\n",
       "    .dataframe thead th {\n",
       "        text-align: right;\n",
       "    }\n",
       "</style>\n",
       "<table border=\"1\" class=\"dataframe\">\n",
       "  <thead>\n",
       "    <tr style=\"text-align: right;\">\n",
       "      <th></th>\n",
       "      <th>Feature</th>\n",
       "      <th>Importance</th>\n",
       "      <th>Cluster</th>\n",
       "    </tr>\n",
       "  </thead>\n",
       "  <tbody>\n",
       "    <tr>\n",
       "      <th>16</th>\n",
       "      <td>AvgDailyWorkedTime</td>\n",
       "      <td>0.076145</td>\n",
       "      <td>Cluster 0</td>\n",
       "    </tr>\n",
       "    <tr>\n",
       "      <th>7</th>\n",
       "      <td>NumCompaniesWorked</td>\n",
       "      <td>0.041617</td>\n",
       "      <td>Cluster 0</td>\n",
       "    </tr>\n",
       "    <tr>\n",
       "      <th>14</th>\n",
       "      <td>YearsSinceLastPromotion</td>\n",
       "      <td>0.039553</td>\n",
       "      <td>Cluster 0</td>\n",
       "    </tr>\n",
       "    <tr>\n",
       "      <th>19</th>\n",
       "      <td>WorkLifeBalance</td>\n",
       "      <td>0.038546</td>\n",
       "      <td>Cluster 0</td>\n",
       "    </tr>\n",
       "    <tr>\n",
       "      <th>18</th>\n",
       "      <td>JobSatisfaction</td>\n",
       "      <td>0.035828</td>\n",
       "      <td>Cluster 0</td>\n",
       "    </tr>\n",
       "    <tr>\n",
       "      <th>17</th>\n",
       "      <td>EnvironmentSatisfaction</td>\n",
       "      <td>0.034798</td>\n",
       "      <td>Cluster 0</td>\n",
       "    </tr>\n",
       "    <tr>\n",
       "      <th>8</th>\n",
       "      <td>PercentSalaryHike</td>\n",
       "      <td>0.034363</td>\n",
       "      <td>Cluster 0</td>\n",
       "    </tr>\n",
       "    <tr>\n",
       "      <th>1</th>\n",
       "      <td>DistanceFromHome</td>\n",
       "      <td>0.034112</td>\n",
       "      <td>Cluster 0</td>\n",
       "    </tr>\n",
       "    <tr>\n",
       "      <th>0</th>\n",
       "      <td>Age</td>\n",
       "      <td>0.033392</td>\n",
       "      <td>Cluster 0</td>\n",
       "    </tr>\n",
       "    <tr>\n",
       "      <th>11</th>\n",
       "      <td>TotalWorkingYears</td>\n",
       "      <td>0.031573</td>\n",
       "      <td>Cluster 0</td>\n",
       "    </tr>\n",
       "    <tr>\n",
       "      <th>20</th>\n",
       "      <td>JobInvolvement</td>\n",
       "      <td>0.031297</td>\n",
       "      <td>Cluster 0</td>\n",
       "    </tr>\n",
       "    <tr>\n",
       "      <th>13</th>\n",
       "      <td>YearsAtCompany</td>\n",
       "      <td>0.030222</td>\n",
       "      <td>Cluster 0</td>\n",
       "    </tr>\n",
       "    <tr>\n",
       "      <th>15</th>\n",
       "      <td>YearsWithCurrManager</td>\n",
       "      <td>0.030151</td>\n",
       "      <td>Cluster 0</td>\n",
       "    </tr>\n",
       "    <tr>\n",
       "      <th>6</th>\n",
       "      <td>MonthlyIncome</td>\n",
       "      <td>0.029518</td>\n",
       "      <td>Cluster 0</td>\n",
       "    </tr>\n",
       "    <tr>\n",
       "      <th>47</th>\n",
       "      <td>MaritalStatus_Single</td>\n",
       "      <td>0.028564</td>\n",
       "      <td>Cluster 0</td>\n",
       "    </tr>\n",
       "    <tr>\n",
       "      <th>5</th>\n",
       "      <td>JobLevel</td>\n",
       "      <td>0.028043</td>\n",
       "      <td>Cluster 0</td>\n",
       "    </tr>\n",
       "    <tr>\n",
       "      <th>12</th>\n",
       "      <td>TrainingTimesLastYear</td>\n",
       "      <td>0.027813</td>\n",
       "      <td>Cluster 0</td>\n",
       "    </tr>\n",
       "    <tr>\n",
       "      <th>2</th>\n",
       "      <td>Education</td>\n",
       "      <td>0.025949</td>\n",
       "      <td>Cluster 0</td>\n",
       "    </tr>\n",
       "    <tr>\n",
       "      <th>10</th>\n",
       "      <td>StockOptionLevel</td>\n",
       "      <td>0.025821</td>\n",
       "      <td>Cluster 0</td>\n",
       "    </tr>\n",
       "    <tr>\n",
       "      <th>31</th>\n",
       "      <td>EducationField_Medical</td>\n",
       "      <td>0.020566</td>\n",
       "      <td>Cluster 0</td>\n",
       "    </tr>\n",
       "    <tr>\n",
       "      <th>35</th>\n",
       "      <td>Gender_Male</td>\n",
       "      <td>0.019576</td>\n",
       "      <td>Cluster 0</td>\n",
       "    </tr>\n",
       "    <tr>\n",
       "      <th>29</th>\n",
       "      <td>EducationField_Life Sciences</td>\n",
       "      <td>0.018757</td>\n",
       "      <td>Cluster 0</td>\n",
       "    </tr>\n",
       "    <tr>\n",
       "      <th>42</th>\n",
       "      <td>JobRole_Research Scientist</td>\n",
       "      <td>0.018167</td>\n",
       "      <td>Cluster 0</td>\n",
       "    </tr>\n",
       "    <tr>\n",
       "      <th>43</th>\n",
       "      <td>JobRole_Sales Executive</td>\n",
       "      <td>0.017588</td>\n",
       "      <td>Cluster 0</td>\n",
       "    </tr>\n",
       "    <tr>\n",
       "      <th>23</th>\n",
       "      <td>BusinessTravel_Travel_Frequently</td>\n",
       "      <td>0.017263</td>\n",
       "      <td>Cluster 0</td>\n",
       "    </tr>\n",
       "    <tr>\n",
       "      <th>46</th>\n",
       "      <td>MaritalStatus_Married</td>\n",
       "      <td>0.016846</td>\n",
       "      <td>Cluster 0</td>\n",
       "    </tr>\n",
       "    <tr>\n",
       "      <th>21</th>\n",
       "      <td>PerformanceRating</td>\n",
       "      <td>0.016735</td>\n",
       "      <td>Cluster 0</td>\n",
       "    </tr>\n",
       "    <tr>\n",
       "      <th>34</th>\n",
       "      <td>Gender_Female</td>\n",
       "      <td>0.016121</td>\n",
       "      <td>Cluster 0</td>\n",
       "    </tr>\n",
       "    <tr>\n",
       "      <th>41</th>\n",
       "      <td>JobRole_Research Director</td>\n",
       "      <td>0.015381</td>\n",
       "      <td>Cluster 0</td>\n",
       "    </tr>\n",
       "    <tr>\n",
       "      <th>24</th>\n",
       "      <td>BusinessTravel_Travel_Rarely</td>\n",
       "      <td>0.014833</td>\n",
       "      <td>Cluster 0</td>\n",
       "    </tr>\n",
       "    <tr>\n",
       "      <th>26</th>\n",
       "      <td>Department_Research &amp; Development</td>\n",
       "      <td>0.014597</td>\n",
       "      <td>Cluster 0</td>\n",
       "    </tr>\n",
       "    <tr>\n",
       "      <th>27</th>\n",
       "      <td>Department_Sales</td>\n",
       "      <td>0.014221</td>\n",
       "      <td>Cluster 0</td>\n",
       "    </tr>\n",
       "    <tr>\n",
       "      <th>38</th>\n",
       "      <td>JobRole_Laboratory Technician</td>\n",
       "      <td>0.013482</td>\n",
       "      <td>Cluster 0</td>\n",
       "    </tr>\n",
       "    <tr>\n",
       "      <th>30</th>\n",
       "      <td>EducationField_Marketing</td>\n",
       "      <td>0.012390</td>\n",
       "      <td>Cluster 0</td>\n",
       "    </tr>\n",
       "    <tr>\n",
       "      <th>45</th>\n",
       "      <td>MaritalStatus_Divorced</td>\n",
       "      <td>0.012237</td>\n",
       "      <td>Cluster 0</td>\n",
       "    </tr>\n",
       "    <tr>\n",
       "      <th>36</th>\n",
       "      <td>JobRole_Healthcare Representative</td>\n",
       "      <td>0.012082</td>\n",
       "      <td>Cluster 0</td>\n",
       "    </tr>\n",
       "    <tr>\n",
       "      <th>25</th>\n",
       "      <td>Department_Human Resources</td>\n",
       "      <td>0.010959</td>\n",
       "      <td>Cluster 0</td>\n",
       "    </tr>\n",
       "    <tr>\n",
       "      <th>28</th>\n",
       "      <td>EducationField_Human Resources</td>\n",
       "      <td>0.009295</td>\n",
       "      <td>Cluster 0</td>\n",
       "    </tr>\n",
       "    <tr>\n",
       "      <th>22</th>\n",
       "      <td>BusinessTravel_Non-Travel</td>\n",
       "      <td>0.008768</td>\n",
       "      <td>Cluster 0</td>\n",
       "    </tr>\n",
       "    <tr>\n",
       "      <th>44</th>\n",
       "      <td>JobRole_Sales Representative</td>\n",
       "      <td>0.008504</td>\n",
       "      <td>Cluster 0</td>\n",
       "    </tr>\n",
       "    <tr>\n",
       "      <th>40</th>\n",
       "      <td>JobRole_Manufacturing Director</td>\n",
       "      <td>0.007982</td>\n",
       "      <td>Cluster 0</td>\n",
       "    </tr>\n",
       "    <tr>\n",
       "      <th>33</th>\n",
       "      <td>EducationField_Technical Degree</td>\n",
       "      <td>0.007607</td>\n",
       "      <td>Cluster 0</td>\n",
       "    </tr>\n",
       "    <tr>\n",
       "      <th>37</th>\n",
       "      <td>JobRole_Human Resources</td>\n",
       "      <td>0.005649</td>\n",
       "      <td>Cluster 0</td>\n",
       "    </tr>\n",
       "    <tr>\n",
       "      <th>39</th>\n",
       "      <td>JobRole_Manager</td>\n",
       "      <td>0.005262</td>\n",
       "      <td>Cluster 0</td>\n",
       "    </tr>\n",
       "    <tr>\n",
       "      <th>32</th>\n",
       "      <td>EducationField_Other</td>\n",
       "      <td>0.004849</td>\n",
       "      <td>Cluster 0</td>\n",
       "    </tr>\n",
       "    <tr>\n",
       "      <th>4</th>\n",
       "      <td>EmployeeID</td>\n",
       "      <td>0.002975</td>\n",
       "      <td>Cluster 0</td>\n",
       "    </tr>\n",
       "    <tr>\n",
       "      <th>9</th>\n",
       "      <td>StandardHours</td>\n",
       "      <td>0.000000</td>\n",
       "      <td>Cluster 0</td>\n",
       "    </tr>\n",
       "    <tr>\n",
       "      <th>3</th>\n",
       "      <td>EmployeeCount</td>\n",
       "      <td>0.000000</td>\n",
       "      <td>Cluster 0</td>\n",
       "    </tr>\n",
       "  </tbody>\n",
       "</table>\n",
       "</div>"
      ],
      "text/plain": [
       "                              Feature  Importance    Cluster\n",
       "16                 AvgDailyWorkedTime    0.076145  Cluster 0\n",
       "7                  NumCompaniesWorked    0.041617  Cluster 0\n",
       "14            YearsSinceLastPromotion    0.039553  Cluster 0\n",
       "19                    WorkLifeBalance    0.038546  Cluster 0\n",
       "18                    JobSatisfaction    0.035828  Cluster 0\n",
       "17            EnvironmentSatisfaction    0.034798  Cluster 0\n",
       "8                   PercentSalaryHike    0.034363  Cluster 0\n",
       "1                    DistanceFromHome    0.034112  Cluster 0\n",
       "0                                 Age    0.033392  Cluster 0\n",
       "11                  TotalWorkingYears    0.031573  Cluster 0\n",
       "20                     JobInvolvement    0.031297  Cluster 0\n",
       "13                     YearsAtCompany    0.030222  Cluster 0\n",
       "15               YearsWithCurrManager    0.030151  Cluster 0\n",
       "6                       MonthlyIncome    0.029518  Cluster 0\n",
       "47               MaritalStatus_Single    0.028564  Cluster 0\n",
       "5                            JobLevel    0.028043  Cluster 0\n",
       "12              TrainingTimesLastYear    0.027813  Cluster 0\n",
       "2                           Education    0.025949  Cluster 0\n",
       "10                   StockOptionLevel    0.025821  Cluster 0\n",
       "31             EducationField_Medical    0.020566  Cluster 0\n",
       "35                        Gender_Male    0.019576  Cluster 0\n",
       "29       EducationField_Life Sciences    0.018757  Cluster 0\n",
       "42         JobRole_Research Scientist    0.018167  Cluster 0\n",
       "43            JobRole_Sales Executive    0.017588  Cluster 0\n",
       "23   BusinessTravel_Travel_Frequently    0.017263  Cluster 0\n",
       "46              MaritalStatus_Married    0.016846  Cluster 0\n",
       "21                  PerformanceRating    0.016735  Cluster 0\n",
       "34                      Gender_Female    0.016121  Cluster 0\n",
       "41          JobRole_Research Director    0.015381  Cluster 0\n",
       "24       BusinessTravel_Travel_Rarely    0.014833  Cluster 0\n",
       "26  Department_Research & Development    0.014597  Cluster 0\n",
       "27                   Department_Sales    0.014221  Cluster 0\n",
       "38      JobRole_Laboratory Technician    0.013482  Cluster 0\n",
       "30           EducationField_Marketing    0.012390  Cluster 0\n",
       "45             MaritalStatus_Divorced    0.012237  Cluster 0\n",
       "36  JobRole_Healthcare Representative    0.012082  Cluster 0\n",
       "25         Department_Human Resources    0.010959  Cluster 0\n",
       "28     EducationField_Human Resources    0.009295  Cluster 0\n",
       "22          BusinessTravel_Non-Travel    0.008768  Cluster 0\n",
       "44       JobRole_Sales Representative    0.008504  Cluster 0\n",
       "40     JobRole_Manufacturing Director    0.007982  Cluster 0\n",
       "33    EducationField_Technical Degree    0.007607  Cluster 0\n",
       "37            JobRole_Human Resources    0.005649  Cluster 0\n",
       "39                    JobRole_Manager    0.005262  Cluster 0\n",
       "32               EducationField_Other    0.004849  Cluster 0\n",
       "4                          EmployeeID    0.002975  Cluster 0\n",
       "9                       StandardHours    0.000000  Cluster 0\n",
       "3                       EmployeeCount    0.000000  Cluster 0"
      ]
     },
     "execution_count": 97,
     "metadata": {},
     "output_type": "execute_result"
    }
   ],
   "source": [
    "X = result_0.drop('Attrition', axis = 1).fillna(0)\n",
    "y = result_0['Attrition']\n",
    "\n",
    "# Dividir los datos en conjunto de entrenamiento y prueba\n",
    "X_train, X_test, y_train, y_test = train_test_split(X, y, test_size=0.2, random_state=42)\n",
    "\n",
    "# Crear y entrenar el modelo ExtraTreeClassifier\n",
    "model = ExtraTreesClassifier(random_state=42)\n",
    "model.fit(X_train, y_train)\n",
    "\n",
    "# Realizar predicciones en el conjunto de prueba\n",
    "y_pred = model.predict(X_test)\n",
    "\n",
    "# Calcular la precisión del modelo\n",
    "accuracy = accuracy_score(y_test, y_pred)\n",
    "print(\"Accuracy:\", accuracy)\n",
    "\n",
    "\n",
    "### Feature Importance\n",
    "feature_names = X.columns\n",
    "feature_importance = model.feature_importances_\n",
    "\n",
    "# Crear un DataFrame con los nombres de las características y sus importancias\n",
    "feature_importance_df = pd.DataFrame({'Feature': feature_names, 'Importance': feature_importance})\n",
    "\n",
    "# Ordenar el DataFrame por importancia en orden descendente\n",
    "feature_importance_df = feature_importance_df.sort_values(by='Importance', ascending=False)\n",
    "feature_importance_df['Cluster'] = 'Cluster 0'\n",
    "feature_importance_df"
   ]
  },
  {
   "cell_type": "code",
   "execution_count": 98,
   "metadata": {},
   "outputs": [
    {
     "name": "stdout",
     "output_type": "stream",
     "text": [
      "Accuracy: 1.0\n"
     ]
    },
    {
     "data": {
      "text/html": [
       "<div>\n",
       "<style scoped>\n",
       "    .dataframe tbody tr th:only-of-type {\n",
       "        vertical-align: middle;\n",
       "    }\n",
       "\n",
       "    .dataframe tbody tr th {\n",
       "        vertical-align: top;\n",
       "    }\n",
       "\n",
       "    .dataframe thead th {\n",
       "        text-align: right;\n",
       "    }\n",
       "</style>\n",
       "<table border=\"1\" class=\"dataframe\">\n",
       "  <thead>\n",
       "    <tr style=\"text-align: right;\">\n",
       "      <th></th>\n",
       "      <th>Feature</th>\n",
       "      <th>Importance</th>\n",
       "      <th>Cluster</th>\n",
       "    </tr>\n",
       "  </thead>\n",
       "  <tbody>\n",
       "    <tr>\n",
       "      <th>13</th>\n",
       "      <td>YearsAtCompany</td>\n",
       "      <td>0.058302</td>\n",
       "      <td>Cluster 1</td>\n",
       "    </tr>\n",
       "    <tr>\n",
       "      <th>11</th>\n",
       "      <td>TotalWorkingYears</td>\n",
       "      <td>0.049796</td>\n",
       "      <td>Cluster 1</td>\n",
       "    </tr>\n",
       "    <tr>\n",
       "      <th>15</th>\n",
       "      <td>YearsWithCurrManager</td>\n",
       "      <td>0.049205</td>\n",
       "      <td>Cluster 1</td>\n",
       "    </tr>\n",
       "    <tr>\n",
       "      <th>16</th>\n",
       "      <td>AvgDailyWorkedTime</td>\n",
       "      <td>0.048882</td>\n",
       "      <td>Cluster 1</td>\n",
       "    </tr>\n",
       "    <tr>\n",
       "      <th>47</th>\n",
       "      <td>MaritalStatus_Single</td>\n",
       "      <td>0.042423</td>\n",
       "      <td>Cluster 1</td>\n",
       "    </tr>\n",
       "    <tr>\n",
       "      <th>0</th>\n",
       "      <td>Age</td>\n",
       "      <td>0.038340</td>\n",
       "      <td>Cluster 1</td>\n",
       "    </tr>\n",
       "    <tr>\n",
       "      <th>17</th>\n",
       "      <td>EnvironmentSatisfaction</td>\n",
       "      <td>0.034316</td>\n",
       "      <td>Cluster 1</td>\n",
       "    </tr>\n",
       "    <tr>\n",
       "      <th>18</th>\n",
       "      <td>JobSatisfaction</td>\n",
       "      <td>0.034048</td>\n",
       "      <td>Cluster 1</td>\n",
       "    </tr>\n",
       "    <tr>\n",
       "      <th>6</th>\n",
       "      <td>MonthlyIncome</td>\n",
       "      <td>0.030730</td>\n",
       "      <td>Cluster 1</td>\n",
       "    </tr>\n",
       "    <tr>\n",
       "      <th>7</th>\n",
       "      <td>NumCompaniesWorked</td>\n",
       "      <td>0.029800</td>\n",
       "      <td>Cluster 1</td>\n",
       "    </tr>\n",
       "    <tr>\n",
       "      <th>1</th>\n",
       "      <td>DistanceFromHome</td>\n",
       "      <td>0.029799</td>\n",
       "      <td>Cluster 1</td>\n",
       "    </tr>\n",
       "    <tr>\n",
       "      <th>8</th>\n",
       "      <td>PercentSalaryHike</td>\n",
       "      <td>0.027210</td>\n",
       "      <td>Cluster 1</td>\n",
       "    </tr>\n",
       "    <tr>\n",
       "      <th>19</th>\n",
       "      <td>WorkLifeBalance</td>\n",
       "      <td>0.027024</td>\n",
       "      <td>Cluster 1</td>\n",
       "    </tr>\n",
       "    <tr>\n",
       "      <th>23</th>\n",
       "      <td>BusinessTravel_Travel_Frequently</td>\n",
       "      <td>0.026839</td>\n",
       "      <td>Cluster 1</td>\n",
       "    </tr>\n",
       "    <tr>\n",
       "      <th>12</th>\n",
       "      <td>TrainingTimesLastYear</td>\n",
       "      <td>0.026771</td>\n",
       "      <td>Cluster 1</td>\n",
       "    </tr>\n",
       "    <tr>\n",
       "      <th>14</th>\n",
       "      <td>YearsSinceLastPromotion</td>\n",
       "      <td>0.026396</td>\n",
       "      <td>Cluster 1</td>\n",
       "    </tr>\n",
       "    <tr>\n",
       "      <th>2</th>\n",
       "      <td>Education</td>\n",
       "      <td>0.026308</td>\n",
       "      <td>Cluster 1</td>\n",
       "    </tr>\n",
       "    <tr>\n",
       "      <th>20</th>\n",
       "      <td>JobInvolvement</td>\n",
       "      <td>0.025136</td>\n",
       "      <td>Cluster 1</td>\n",
       "    </tr>\n",
       "    <tr>\n",
       "      <th>5</th>\n",
       "      <td>JobLevel</td>\n",
       "      <td>0.025006</td>\n",
       "      <td>Cluster 1</td>\n",
       "    </tr>\n",
       "    <tr>\n",
       "      <th>10</th>\n",
       "      <td>StockOptionLevel</td>\n",
       "      <td>0.023443</td>\n",
       "      <td>Cluster 1</td>\n",
       "    </tr>\n",
       "    <tr>\n",
       "      <th>43</th>\n",
       "      <td>JobRole_Sales Executive</td>\n",
       "      <td>0.019299</td>\n",
       "      <td>Cluster 1</td>\n",
       "    </tr>\n",
       "    <tr>\n",
       "      <th>29</th>\n",
       "      <td>EducationField_Life Sciences</td>\n",
       "      <td>0.018770</td>\n",
       "      <td>Cluster 1</td>\n",
       "    </tr>\n",
       "    <tr>\n",
       "      <th>45</th>\n",
       "      <td>MaritalStatus_Divorced</td>\n",
       "      <td>0.018267</td>\n",
       "      <td>Cluster 1</td>\n",
       "    </tr>\n",
       "    <tr>\n",
       "      <th>31</th>\n",
       "      <td>EducationField_Medical</td>\n",
       "      <td>0.017780</td>\n",
       "      <td>Cluster 1</td>\n",
       "    </tr>\n",
       "    <tr>\n",
       "      <th>34</th>\n",
       "      <td>Gender_Female</td>\n",
       "      <td>0.017257</td>\n",
       "      <td>Cluster 1</td>\n",
       "    </tr>\n",
       "    <tr>\n",
       "      <th>35</th>\n",
       "      <td>Gender_Male</td>\n",
       "      <td>0.016591</td>\n",
       "      <td>Cluster 1</td>\n",
       "    </tr>\n",
       "    <tr>\n",
       "      <th>42</th>\n",
       "      <td>JobRole_Research Scientist</td>\n",
       "      <td>0.016439</td>\n",
       "      <td>Cluster 1</td>\n",
       "    </tr>\n",
       "    <tr>\n",
       "      <th>46</th>\n",
       "      <td>MaritalStatus_Married</td>\n",
       "      <td>0.016152</td>\n",
       "      <td>Cluster 1</td>\n",
       "    </tr>\n",
       "    <tr>\n",
       "      <th>24</th>\n",
       "      <td>BusinessTravel_Travel_Rarely</td>\n",
       "      <td>0.015621</td>\n",
       "      <td>Cluster 1</td>\n",
       "    </tr>\n",
       "    <tr>\n",
       "      <th>21</th>\n",
       "      <td>PerformanceRating</td>\n",
       "      <td>0.015594</td>\n",
       "      <td>Cluster 1</td>\n",
       "    </tr>\n",
       "    <tr>\n",
       "      <th>38</th>\n",
       "      <td>JobRole_Laboratory Technician</td>\n",
       "      <td>0.015335</td>\n",
       "      <td>Cluster 1</td>\n",
       "    </tr>\n",
       "    <tr>\n",
       "      <th>26</th>\n",
       "      <td>Department_Research &amp; Development</td>\n",
       "      <td>0.013933</td>\n",
       "      <td>Cluster 1</td>\n",
       "    </tr>\n",
       "    <tr>\n",
       "      <th>27</th>\n",
       "      <td>Department_Sales</td>\n",
       "      <td>0.013895</td>\n",
       "      <td>Cluster 1</td>\n",
       "    </tr>\n",
       "    <tr>\n",
       "      <th>25</th>\n",
       "      <td>Department_Human Resources</td>\n",
       "      <td>0.012451</td>\n",
       "      <td>Cluster 1</td>\n",
       "    </tr>\n",
       "    <tr>\n",
       "      <th>41</th>\n",
       "      <td>JobRole_Research Director</td>\n",
       "      <td>0.010090</td>\n",
       "      <td>Cluster 1</td>\n",
       "    </tr>\n",
       "    <tr>\n",
       "      <th>39</th>\n",
       "      <td>JobRole_Manager</td>\n",
       "      <td>0.009775</td>\n",
       "      <td>Cluster 1</td>\n",
       "    </tr>\n",
       "    <tr>\n",
       "      <th>22</th>\n",
       "      <td>BusinessTravel_Non-Travel</td>\n",
       "      <td>0.009605</td>\n",
       "      <td>Cluster 1</td>\n",
       "    </tr>\n",
       "    <tr>\n",
       "      <th>36</th>\n",
       "      <td>JobRole_Healthcare Representative</td>\n",
       "      <td>0.009474</td>\n",
       "      <td>Cluster 1</td>\n",
       "    </tr>\n",
       "    <tr>\n",
       "      <th>30</th>\n",
       "      <td>EducationField_Marketing</td>\n",
       "      <td>0.008878</td>\n",
       "      <td>Cluster 1</td>\n",
       "    </tr>\n",
       "    <tr>\n",
       "      <th>44</th>\n",
       "      <td>JobRole_Sales Representative</td>\n",
       "      <td>0.008729</td>\n",
       "      <td>Cluster 1</td>\n",
       "    </tr>\n",
       "    <tr>\n",
       "      <th>33</th>\n",
       "      <td>EducationField_Technical Degree</td>\n",
       "      <td>0.008002</td>\n",
       "      <td>Cluster 1</td>\n",
       "    </tr>\n",
       "    <tr>\n",
       "      <th>40</th>\n",
       "      <td>JobRole_Manufacturing Director</td>\n",
       "      <td>0.007083</td>\n",
       "      <td>Cluster 1</td>\n",
       "    </tr>\n",
       "    <tr>\n",
       "      <th>28</th>\n",
       "      <td>EducationField_Human Resources</td>\n",
       "      <td>0.006833</td>\n",
       "      <td>Cluster 1</td>\n",
       "    </tr>\n",
       "    <tr>\n",
       "      <th>37</th>\n",
       "      <td>JobRole_Human Resources</td>\n",
       "      <td>0.006804</td>\n",
       "      <td>Cluster 1</td>\n",
       "    </tr>\n",
       "    <tr>\n",
       "      <th>32</th>\n",
       "      <td>EducationField_Other</td>\n",
       "      <td>0.005434</td>\n",
       "      <td>Cluster 1</td>\n",
       "    </tr>\n",
       "    <tr>\n",
       "      <th>4</th>\n",
       "      <td>EmployeeID</td>\n",
       "      <td>0.002136</td>\n",
       "      <td>Cluster 1</td>\n",
       "    </tr>\n",
       "    <tr>\n",
       "      <th>3</th>\n",
       "      <td>EmployeeCount</td>\n",
       "      <td>0.000000</td>\n",
       "      <td>Cluster 1</td>\n",
       "    </tr>\n",
       "    <tr>\n",
       "      <th>9</th>\n",
       "      <td>StandardHours</td>\n",
       "      <td>0.000000</td>\n",
       "      <td>Cluster 1</td>\n",
       "    </tr>\n",
       "  </tbody>\n",
       "</table>\n",
       "</div>"
      ],
      "text/plain": [
       "                              Feature  Importance    Cluster\n",
       "13                     YearsAtCompany    0.058302  Cluster 1\n",
       "11                  TotalWorkingYears    0.049796  Cluster 1\n",
       "15               YearsWithCurrManager    0.049205  Cluster 1\n",
       "16                 AvgDailyWorkedTime    0.048882  Cluster 1\n",
       "47               MaritalStatus_Single    0.042423  Cluster 1\n",
       "0                                 Age    0.038340  Cluster 1\n",
       "17            EnvironmentSatisfaction    0.034316  Cluster 1\n",
       "18                    JobSatisfaction    0.034048  Cluster 1\n",
       "6                       MonthlyIncome    0.030730  Cluster 1\n",
       "7                  NumCompaniesWorked    0.029800  Cluster 1\n",
       "1                    DistanceFromHome    0.029799  Cluster 1\n",
       "8                   PercentSalaryHike    0.027210  Cluster 1\n",
       "19                    WorkLifeBalance    0.027024  Cluster 1\n",
       "23   BusinessTravel_Travel_Frequently    0.026839  Cluster 1\n",
       "12              TrainingTimesLastYear    0.026771  Cluster 1\n",
       "14            YearsSinceLastPromotion    0.026396  Cluster 1\n",
       "2                           Education    0.026308  Cluster 1\n",
       "20                     JobInvolvement    0.025136  Cluster 1\n",
       "5                            JobLevel    0.025006  Cluster 1\n",
       "10                   StockOptionLevel    0.023443  Cluster 1\n",
       "43            JobRole_Sales Executive    0.019299  Cluster 1\n",
       "29       EducationField_Life Sciences    0.018770  Cluster 1\n",
       "45             MaritalStatus_Divorced    0.018267  Cluster 1\n",
       "31             EducationField_Medical    0.017780  Cluster 1\n",
       "34                      Gender_Female    0.017257  Cluster 1\n",
       "35                        Gender_Male    0.016591  Cluster 1\n",
       "42         JobRole_Research Scientist    0.016439  Cluster 1\n",
       "46              MaritalStatus_Married    0.016152  Cluster 1\n",
       "24       BusinessTravel_Travel_Rarely    0.015621  Cluster 1\n",
       "21                  PerformanceRating    0.015594  Cluster 1\n",
       "38      JobRole_Laboratory Technician    0.015335  Cluster 1\n",
       "26  Department_Research & Development    0.013933  Cluster 1\n",
       "27                   Department_Sales    0.013895  Cluster 1\n",
       "25         Department_Human Resources    0.012451  Cluster 1\n",
       "41          JobRole_Research Director    0.010090  Cluster 1\n",
       "39                    JobRole_Manager    0.009775  Cluster 1\n",
       "22          BusinessTravel_Non-Travel    0.009605  Cluster 1\n",
       "36  JobRole_Healthcare Representative    0.009474  Cluster 1\n",
       "30           EducationField_Marketing    0.008878  Cluster 1\n",
       "44       JobRole_Sales Representative    0.008729  Cluster 1\n",
       "33    EducationField_Technical Degree    0.008002  Cluster 1\n",
       "40     JobRole_Manufacturing Director    0.007083  Cluster 1\n",
       "28     EducationField_Human Resources    0.006833  Cluster 1\n",
       "37            JobRole_Human Resources    0.006804  Cluster 1\n",
       "32               EducationField_Other    0.005434  Cluster 1\n",
       "4                          EmployeeID    0.002136  Cluster 1\n",
       "3                       EmployeeCount    0.000000  Cluster 1\n",
       "9                       StandardHours    0.000000  Cluster 1"
      ]
     },
     "execution_count": 98,
     "metadata": {},
     "output_type": "execute_result"
    }
   ],
   "source": [
    "X = result_1.drop('Attrition', axis = 1).fillna(0)\n",
    "y = result_1['Attrition']\n",
    "\n",
    "# Dividir los datos en conjunto de entrenamiento y prueba\n",
    "X_train, X_test, y_train, y_test = train_test_split(X, y, test_size=0.2, random_state=42)\n",
    "\n",
    "# Crear y entrenar el modelo ExtraTreeClassifier\n",
    "model = ExtraTreesClassifier(random_state=42)\n",
    "model.fit(X_train, y_train)\n",
    "\n",
    "# Realizar predicciones en el conjunto de prueba\n",
    "y_pred = model.predict(X_test)\n",
    "\n",
    "# Calcular la precisión del modelo\n",
    "accuracy = accuracy_score(y_test, y_pred)\n",
    "print(\"Accuracy:\", accuracy)\n",
    "\n",
    "\n",
    "### Feature Importance\n",
    "feature_names = X.columns\n",
    "feature_importance = model.feature_importances_\n",
    "\n",
    "# Crear un DataFrame con los nombres de las características y sus importancias\n",
    "feature_importance_df = pd.DataFrame({'Feature': feature_names, 'Importance': feature_importance})\n",
    "\n",
    "# Ordenar el DataFrame por importancia en orden descendente\n",
    "feature_importance_df = feature_importance_df.sort_values(by='Importance', ascending=False)\n",
    "feature_importance_df['Cluster'] = 'Cluster 1'\n",
    "feature_importance_df"
   ]
  },
  {
   "cell_type": "code",
   "execution_count": 99,
   "metadata": {},
   "outputs": [
    {
     "name": "stdout",
     "output_type": "stream",
     "text": [
      "Accuracy: 0.9794520547945206\n"
     ]
    },
    {
     "data": {
      "text/html": [
       "<div>\n",
       "<style scoped>\n",
       "    .dataframe tbody tr th:only-of-type {\n",
       "        vertical-align: middle;\n",
       "    }\n",
       "\n",
       "    .dataframe tbody tr th {\n",
       "        vertical-align: top;\n",
       "    }\n",
       "\n",
       "    .dataframe thead th {\n",
       "        text-align: right;\n",
       "    }\n",
       "</style>\n",
       "<table border=\"1\" class=\"dataframe\">\n",
       "  <thead>\n",
       "    <tr style=\"text-align: right;\">\n",
       "      <th></th>\n",
       "      <th>Feature</th>\n",
       "      <th>Importance</th>\n",
       "      <th>Cluster</th>\n",
       "    </tr>\n",
       "  </thead>\n",
       "  <tbody>\n",
       "    <tr>\n",
       "      <th>16</th>\n",
       "      <td>AvgDailyWorkedTime</td>\n",
       "      <td>0.057130</td>\n",
       "      <td>Cluster 2</td>\n",
       "    </tr>\n",
       "    <tr>\n",
       "      <th>10</th>\n",
       "      <td>StockOptionLevel</td>\n",
       "      <td>0.040873</td>\n",
       "      <td>Cluster 2</td>\n",
       "    </tr>\n",
       "    <tr>\n",
       "      <th>0</th>\n",
       "      <td>Age</td>\n",
       "      <td>0.040579</td>\n",
       "      <td>Cluster 2</td>\n",
       "    </tr>\n",
       "    <tr>\n",
       "      <th>11</th>\n",
       "      <td>TotalWorkingYears</td>\n",
       "      <td>0.038970</td>\n",
       "      <td>Cluster 2</td>\n",
       "    </tr>\n",
       "    <tr>\n",
       "      <th>13</th>\n",
       "      <td>YearsAtCompany</td>\n",
       "      <td>0.038244</td>\n",
       "      <td>Cluster 2</td>\n",
       "    </tr>\n",
       "    <tr>\n",
       "      <th>19</th>\n",
       "      <td>WorkLifeBalance</td>\n",
       "      <td>0.036833</td>\n",
       "      <td>Cluster 2</td>\n",
       "    </tr>\n",
       "    <tr>\n",
       "      <th>15</th>\n",
       "      <td>YearsWithCurrManager</td>\n",
       "      <td>0.036098</td>\n",
       "      <td>Cluster 2</td>\n",
       "    </tr>\n",
       "    <tr>\n",
       "      <th>18</th>\n",
       "      <td>JobSatisfaction</td>\n",
       "      <td>0.035343</td>\n",
       "      <td>Cluster 2</td>\n",
       "    </tr>\n",
       "    <tr>\n",
       "      <th>1</th>\n",
       "      <td>DistanceFromHome</td>\n",
       "      <td>0.034451</td>\n",
       "      <td>Cluster 2</td>\n",
       "    </tr>\n",
       "    <tr>\n",
       "      <th>20</th>\n",
       "      <td>JobInvolvement</td>\n",
       "      <td>0.034147</td>\n",
       "      <td>Cluster 2</td>\n",
       "    </tr>\n",
       "    <tr>\n",
       "      <th>6</th>\n",
       "      <td>MonthlyIncome</td>\n",
       "      <td>0.033053</td>\n",
       "      <td>Cluster 2</td>\n",
       "    </tr>\n",
       "    <tr>\n",
       "      <th>7</th>\n",
       "      <td>NumCompaniesWorked</td>\n",
       "      <td>0.032683</td>\n",
       "      <td>Cluster 2</td>\n",
       "    </tr>\n",
       "    <tr>\n",
       "      <th>17</th>\n",
       "      <td>EnvironmentSatisfaction</td>\n",
       "      <td>0.032153</td>\n",
       "      <td>Cluster 2</td>\n",
       "    </tr>\n",
       "    <tr>\n",
       "      <th>14</th>\n",
       "      <td>YearsSinceLastPromotion</td>\n",
       "      <td>0.031460</td>\n",
       "      <td>Cluster 2</td>\n",
       "    </tr>\n",
       "    <tr>\n",
       "      <th>2</th>\n",
       "      <td>Education</td>\n",
       "      <td>0.029157</td>\n",
       "      <td>Cluster 2</td>\n",
       "    </tr>\n",
       "    <tr>\n",
       "      <th>8</th>\n",
       "      <td>PercentSalaryHike</td>\n",
       "      <td>0.028625</td>\n",
       "      <td>Cluster 2</td>\n",
       "    </tr>\n",
       "    <tr>\n",
       "      <th>12</th>\n",
       "      <td>TrainingTimesLastYear</td>\n",
       "      <td>0.027794</td>\n",
       "      <td>Cluster 2</td>\n",
       "    </tr>\n",
       "    <tr>\n",
       "      <th>47</th>\n",
       "      <td>MaritalStatus_Single</td>\n",
       "      <td>0.027647</td>\n",
       "      <td>Cluster 2</td>\n",
       "    </tr>\n",
       "    <tr>\n",
       "      <th>5</th>\n",
       "      <td>JobLevel</td>\n",
       "      <td>0.025053</td>\n",
       "      <td>Cluster 2</td>\n",
       "    </tr>\n",
       "    <tr>\n",
       "      <th>42</th>\n",
       "      <td>JobRole_Research Scientist</td>\n",
       "      <td>0.022554</td>\n",
       "      <td>Cluster 2</td>\n",
       "    </tr>\n",
       "    <tr>\n",
       "      <th>35</th>\n",
       "      <td>Gender_Male</td>\n",
       "      <td>0.020584</td>\n",
       "      <td>Cluster 2</td>\n",
       "    </tr>\n",
       "    <tr>\n",
       "      <th>23</th>\n",
       "      <td>BusinessTravel_Travel_Frequently</td>\n",
       "      <td>0.019393</td>\n",
       "      <td>Cluster 2</td>\n",
       "    </tr>\n",
       "    <tr>\n",
       "      <th>38</th>\n",
       "      <td>JobRole_Laboratory Technician</td>\n",
       "      <td>0.019282</td>\n",
       "      <td>Cluster 2</td>\n",
       "    </tr>\n",
       "    <tr>\n",
       "      <th>26</th>\n",
       "      <td>Department_Research &amp; Development</td>\n",
       "      <td>0.019155</td>\n",
       "      <td>Cluster 2</td>\n",
       "    </tr>\n",
       "    <tr>\n",
       "      <th>46</th>\n",
       "      <td>MaritalStatus_Married</td>\n",
       "      <td>0.019123</td>\n",
       "      <td>Cluster 2</td>\n",
       "    </tr>\n",
       "    <tr>\n",
       "      <th>43</th>\n",
       "      <td>JobRole_Sales Executive</td>\n",
       "      <td>0.018809</td>\n",
       "      <td>Cluster 2</td>\n",
       "    </tr>\n",
       "    <tr>\n",
       "      <th>24</th>\n",
       "      <td>BusinessTravel_Travel_Rarely</td>\n",
       "      <td>0.018284</td>\n",
       "      <td>Cluster 2</td>\n",
       "    </tr>\n",
       "    <tr>\n",
       "      <th>29</th>\n",
       "      <td>EducationField_Life Sciences</td>\n",
       "      <td>0.017277</td>\n",
       "      <td>Cluster 2</td>\n",
       "    </tr>\n",
       "    <tr>\n",
       "      <th>27</th>\n",
       "      <td>Department_Sales</td>\n",
       "      <td>0.016062</td>\n",
       "      <td>Cluster 2</td>\n",
       "    </tr>\n",
       "    <tr>\n",
       "      <th>44</th>\n",
       "      <td>JobRole_Sales Representative</td>\n",
       "      <td>0.015171</td>\n",
       "      <td>Cluster 2</td>\n",
       "    </tr>\n",
       "    <tr>\n",
       "      <th>41</th>\n",
       "      <td>JobRole_Research Director</td>\n",
       "      <td>0.014566</td>\n",
       "      <td>Cluster 2</td>\n",
       "    </tr>\n",
       "    <tr>\n",
       "      <th>34</th>\n",
       "      <td>Gender_Female</td>\n",
       "      <td>0.014459</td>\n",
       "      <td>Cluster 2</td>\n",
       "    </tr>\n",
       "    <tr>\n",
       "      <th>31</th>\n",
       "      <td>EducationField_Medical</td>\n",
       "      <td>0.014032</td>\n",
       "      <td>Cluster 2</td>\n",
       "    </tr>\n",
       "    <tr>\n",
       "      <th>21</th>\n",
       "      <td>PerformanceRating</td>\n",
       "      <td>0.013841</td>\n",
       "      <td>Cluster 2</td>\n",
       "    </tr>\n",
       "    <tr>\n",
       "      <th>45</th>\n",
       "      <td>MaritalStatus_Divorced</td>\n",
       "      <td>0.012770</td>\n",
       "      <td>Cluster 2</td>\n",
       "    </tr>\n",
       "    <tr>\n",
       "      <th>39</th>\n",
       "      <td>JobRole_Manager</td>\n",
       "      <td>0.011759</td>\n",
       "      <td>Cluster 2</td>\n",
       "    </tr>\n",
       "    <tr>\n",
       "      <th>32</th>\n",
       "      <td>EducationField_Other</td>\n",
       "      <td>0.010059</td>\n",
       "      <td>Cluster 2</td>\n",
       "    </tr>\n",
       "    <tr>\n",
       "      <th>22</th>\n",
       "      <td>BusinessTravel_Non-Travel</td>\n",
       "      <td>0.008352</td>\n",
       "      <td>Cluster 2</td>\n",
       "    </tr>\n",
       "    <tr>\n",
       "      <th>40</th>\n",
       "      <td>JobRole_Manufacturing Director</td>\n",
       "      <td>0.007000</td>\n",
       "      <td>Cluster 2</td>\n",
       "    </tr>\n",
       "    <tr>\n",
       "      <th>28</th>\n",
       "      <td>EducationField_Human Resources</td>\n",
       "      <td>0.005972</td>\n",
       "      <td>Cluster 2</td>\n",
       "    </tr>\n",
       "    <tr>\n",
       "      <th>33</th>\n",
       "      <td>EducationField_Technical Degree</td>\n",
       "      <td>0.005773</td>\n",
       "      <td>Cluster 2</td>\n",
       "    </tr>\n",
       "    <tr>\n",
       "      <th>36</th>\n",
       "      <td>JobRole_Healthcare Representative</td>\n",
       "      <td>0.004915</td>\n",
       "      <td>Cluster 2</td>\n",
       "    </tr>\n",
       "    <tr>\n",
       "      <th>30</th>\n",
       "      <td>EducationField_Marketing</td>\n",
       "      <td>0.004882</td>\n",
       "      <td>Cluster 2</td>\n",
       "    </tr>\n",
       "    <tr>\n",
       "      <th>25</th>\n",
       "      <td>Department_Human Resources</td>\n",
       "      <td>0.003611</td>\n",
       "      <td>Cluster 2</td>\n",
       "    </tr>\n",
       "    <tr>\n",
       "      <th>4</th>\n",
       "      <td>EmployeeID</td>\n",
       "      <td>0.001784</td>\n",
       "      <td>Cluster 2</td>\n",
       "    </tr>\n",
       "    <tr>\n",
       "      <th>37</th>\n",
       "      <td>JobRole_Human Resources</td>\n",
       "      <td>0.000240</td>\n",
       "      <td>Cluster 2</td>\n",
       "    </tr>\n",
       "    <tr>\n",
       "      <th>3</th>\n",
       "      <td>EmployeeCount</td>\n",
       "      <td>0.000000</td>\n",
       "      <td>Cluster 2</td>\n",
       "    </tr>\n",
       "    <tr>\n",
       "      <th>9</th>\n",
       "      <td>StandardHours</td>\n",
       "      <td>0.000000</td>\n",
       "      <td>Cluster 2</td>\n",
       "    </tr>\n",
       "  </tbody>\n",
       "</table>\n",
       "</div>"
      ],
      "text/plain": [
       "                              Feature  Importance    Cluster\n",
       "16                 AvgDailyWorkedTime    0.057130  Cluster 2\n",
       "10                   StockOptionLevel    0.040873  Cluster 2\n",
       "0                                 Age    0.040579  Cluster 2\n",
       "11                  TotalWorkingYears    0.038970  Cluster 2\n",
       "13                     YearsAtCompany    0.038244  Cluster 2\n",
       "19                    WorkLifeBalance    0.036833  Cluster 2\n",
       "15               YearsWithCurrManager    0.036098  Cluster 2\n",
       "18                    JobSatisfaction    0.035343  Cluster 2\n",
       "1                    DistanceFromHome    0.034451  Cluster 2\n",
       "20                     JobInvolvement    0.034147  Cluster 2\n",
       "6                       MonthlyIncome    0.033053  Cluster 2\n",
       "7                  NumCompaniesWorked    0.032683  Cluster 2\n",
       "17            EnvironmentSatisfaction    0.032153  Cluster 2\n",
       "14            YearsSinceLastPromotion    0.031460  Cluster 2\n",
       "2                           Education    0.029157  Cluster 2\n",
       "8                   PercentSalaryHike    0.028625  Cluster 2\n",
       "12              TrainingTimesLastYear    0.027794  Cluster 2\n",
       "47               MaritalStatus_Single    0.027647  Cluster 2\n",
       "5                            JobLevel    0.025053  Cluster 2\n",
       "42         JobRole_Research Scientist    0.022554  Cluster 2\n",
       "35                        Gender_Male    0.020584  Cluster 2\n",
       "23   BusinessTravel_Travel_Frequently    0.019393  Cluster 2\n",
       "38      JobRole_Laboratory Technician    0.019282  Cluster 2\n",
       "26  Department_Research & Development    0.019155  Cluster 2\n",
       "46              MaritalStatus_Married    0.019123  Cluster 2\n",
       "43            JobRole_Sales Executive    0.018809  Cluster 2\n",
       "24       BusinessTravel_Travel_Rarely    0.018284  Cluster 2\n",
       "29       EducationField_Life Sciences    0.017277  Cluster 2\n",
       "27                   Department_Sales    0.016062  Cluster 2\n",
       "44       JobRole_Sales Representative    0.015171  Cluster 2\n",
       "41          JobRole_Research Director    0.014566  Cluster 2\n",
       "34                      Gender_Female    0.014459  Cluster 2\n",
       "31             EducationField_Medical    0.014032  Cluster 2\n",
       "21                  PerformanceRating    0.013841  Cluster 2\n",
       "45             MaritalStatus_Divorced    0.012770  Cluster 2\n",
       "39                    JobRole_Manager    0.011759  Cluster 2\n",
       "32               EducationField_Other    0.010059  Cluster 2\n",
       "22          BusinessTravel_Non-Travel    0.008352  Cluster 2\n",
       "40     JobRole_Manufacturing Director    0.007000  Cluster 2\n",
       "28     EducationField_Human Resources    0.005972  Cluster 2\n",
       "33    EducationField_Technical Degree    0.005773  Cluster 2\n",
       "36  JobRole_Healthcare Representative    0.004915  Cluster 2\n",
       "30           EducationField_Marketing    0.004882  Cluster 2\n",
       "25         Department_Human Resources    0.003611  Cluster 2\n",
       "4                          EmployeeID    0.001784  Cluster 2\n",
       "37            JobRole_Human Resources    0.000240  Cluster 2\n",
       "3                       EmployeeCount    0.000000  Cluster 2\n",
       "9                       StandardHours    0.000000  Cluster 2"
      ]
     },
     "execution_count": 99,
     "metadata": {},
     "output_type": "execute_result"
    }
   ],
   "source": [
    "X = result_2.drop('Attrition', axis = 1).fillna(0)\n",
    "y = result_2['Attrition']\n",
    "\n",
    "# Dividir los datos en conjunto de entrenamiento y prueba\n",
    "X_train, X_test, y_train, y_test = train_test_split(X, y, test_size=0.2, random_state=42)\n",
    "\n",
    "# Crear y entrenar el modelo ExtraTreeClassifier\n",
    "model = ExtraTreesClassifier(random_state=42)\n",
    "model.fit(X_train, y_train)\n",
    "\n",
    "# Realizar predicciones en el conjunto de prueba\n",
    "y_pred = model.predict(X_test)\n",
    "\n",
    "# Calcular la precisión del modelo\n",
    "accuracy = accuracy_score(y_test, y_pred)\n",
    "print(\"Accuracy:\", accuracy)\n",
    "\n",
    "\n",
    "### Feature Importance\n",
    "feature_names = X.columns\n",
    "feature_importance = model.feature_importances_\n",
    "\n",
    "# Crear un DataFrame con los nombres de las características y sus importancias\n",
    "feature_importance_df = pd.DataFrame({'Feature': feature_names, 'Importance': feature_importance})\n",
    "\n",
    "# Ordenar el DataFrame por importancia en orden descendente\n",
    "feature_importance_df = feature_importance_df.sort_values(by='Importance', ascending=False)\n",
    "feature_importance_df['Cluster'] = 'Cluster 2'\n",
    "feature_importance_df"
   ]
  },
  {
   "cell_type": "code",
   "execution_count": 100,
   "metadata": {},
   "outputs": [
    {
     "name": "stdout",
     "output_type": "stream",
     "text": [
      "Accuracy: 1.0\n"
     ]
    },
    {
     "data": {
      "text/html": [
       "<div>\n",
       "<style scoped>\n",
       "    .dataframe tbody tr th:only-of-type {\n",
       "        vertical-align: middle;\n",
       "    }\n",
       "\n",
       "    .dataframe tbody tr th {\n",
       "        vertical-align: top;\n",
       "    }\n",
       "\n",
       "    .dataframe thead th {\n",
       "        text-align: right;\n",
       "    }\n",
       "</style>\n",
       "<table border=\"1\" class=\"dataframe\">\n",
       "  <thead>\n",
       "    <tr style=\"text-align: right;\">\n",
       "      <th></th>\n",
       "      <th>Feature</th>\n",
       "      <th>Importance</th>\n",
       "      <th>Cluster</th>\n",
       "    </tr>\n",
       "  </thead>\n",
       "  <tbody>\n",
       "    <tr>\n",
       "      <th>11</th>\n",
       "      <td>TotalWorkingYears</td>\n",
       "      <td>0.047007</td>\n",
       "      <td>Cluster 3</td>\n",
       "    </tr>\n",
       "    <tr>\n",
       "      <th>20</th>\n",
       "      <td>JobInvolvement</td>\n",
       "      <td>0.045287</td>\n",
       "      <td>Cluster 3</td>\n",
       "    </tr>\n",
       "    <tr>\n",
       "      <th>0</th>\n",
       "      <td>Age</td>\n",
       "      <td>0.038702</td>\n",
       "      <td>Cluster 3</td>\n",
       "    </tr>\n",
       "    <tr>\n",
       "      <th>16</th>\n",
       "      <td>AvgDailyWorkedTime</td>\n",
       "      <td>0.038257</td>\n",
       "      <td>Cluster 3</td>\n",
       "    </tr>\n",
       "    <tr>\n",
       "      <th>14</th>\n",
       "      <td>YearsSinceLastPromotion</td>\n",
       "      <td>0.037789</td>\n",
       "      <td>Cluster 3</td>\n",
       "    </tr>\n",
       "    <tr>\n",
       "      <th>7</th>\n",
       "      <td>NumCompaniesWorked</td>\n",
       "      <td>0.036020</td>\n",
       "      <td>Cluster 3</td>\n",
       "    </tr>\n",
       "    <tr>\n",
       "      <th>1</th>\n",
       "      <td>DistanceFromHome</td>\n",
       "      <td>0.035111</td>\n",
       "      <td>Cluster 3</td>\n",
       "    </tr>\n",
       "    <tr>\n",
       "      <th>13</th>\n",
       "      <td>YearsAtCompany</td>\n",
       "      <td>0.034122</td>\n",
       "      <td>Cluster 3</td>\n",
       "    </tr>\n",
       "    <tr>\n",
       "      <th>17</th>\n",
       "      <td>EnvironmentSatisfaction</td>\n",
       "      <td>0.034051</td>\n",
       "      <td>Cluster 3</td>\n",
       "    </tr>\n",
       "    <tr>\n",
       "      <th>2</th>\n",
       "      <td>Education</td>\n",
       "      <td>0.033761</td>\n",
       "      <td>Cluster 3</td>\n",
       "    </tr>\n",
       "    <tr>\n",
       "      <th>5</th>\n",
       "      <td>JobLevel</td>\n",
       "      <td>0.033662</td>\n",
       "      <td>Cluster 3</td>\n",
       "    </tr>\n",
       "    <tr>\n",
       "      <th>8</th>\n",
       "      <td>PercentSalaryHike</td>\n",
       "      <td>0.032883</td>\n",
       "      <td>Cluster 3</td>\n",
       "    </tr>\n",
       "    <tr>\n",
       "      <th>6</th>\n",
       "      <td>MonthlyIncome</td>\n",
       "      <td>0.031920</td>\n",
       "      <td>Cluster 3</td>\n",
       "    </tr>\n",
       "    <tr>\n",
       "      <th>12</th>\n",
       "      <td>TrainingTimesLastYear</td>\n",
       "      <td>0.029776</td>\n",
       "      <td>Cluster 3</td>\n",
       "    </tr>\n",
       "    <tr>\n",
       "      <th>15</th>\n",
       "      <td>YearsWithCurrManager</td>\n",
       "      <td>0.027947</td>\n",
       "      <td>Cluster 3</td>\n",
       "    </tr>\n",
       "    <tr>\n",
       "      <th>18</th>\n",
       "      <td>JobSatisfaction</td>\n",
       "      <td>0.027882</td>\n",
       "      <td>Cluster 3</td>\n",
       "    </tr>\n",
       "    <tr>\n",
       "      <th>10</th>\n",
       "      <td>StockOptionLevel</td>\n",
       "      <td>0.026175</td>\n",
       "      <td>Cluster 3</td>\n",
       "    </tr>\n",
       "    <tr>\n",
       "      <th>19</th>\n",
       "      <td>WorkLifeBalance</td>\n",
       "      <td>0.021899</td>\n",
       "      <td>Cluster 3</td>\n",
       "    </tr>\n",
       "    <tr>\n",
       "      <th>25</th>\n",
       "      <td>Department_Human Resources</td>\n",
       "      <td>0.021578</td>\n",
       "      <td>Cluster 3</td>\n",
       "    </tr>\n",
       "    <tr>\n",
       "      <th>31</th>\n",
       "      <td>EducationField_Medical</td>\n",
       "      <td>0.019693</td>\n",
       "      <td>Cluster 3</td>\n",
       "    </tr>\n",
       "    <tr>\n",
       "      <th>42</th>\n",
       "      <td>JobRole_Research Scientist</td>\n",
       "      <td>0.019609</td>\n",
       "      <td>Cluster 3</td>\n",
       "    </tr>\n",
       "    <tr>\n",
       "      <th>23</th>\n",
       "      <td>BusinessTravel_Travel_Frequently</td>\n",
       "      <td>0.019433</td>\n",
       "      <td>Cluster 3</td>\n",
       "    </tr>\n",
       "    <tr>\n",
       "      <th>43</th>\n",
       "      <td>JobRole_Sales Executive</td>\n",
       "      <td>0.018759</td>\n",
       "      <td>Cluster 3</td>\n",
       "    </tr>\n",
       "    <tr>\n",
       "      <th>36</th>\n",
       "      <td>JobRole_Healthcare Representative</td>\n",
       "      <td>0.018387</td>\n",
       "      <td>Cluster 3</td>\n",
       "    </tr>\n",
       "    <tr>\n",
       "      <th>47</th>\n",
       "      <td>MaritalStatus_Single</td>\n",
       "      <td>0.017185</td>\n",
       "      <td>Cluster 3</td>\n",
       "    </tr>\n",
       "    <tr>\n",
       "      <th>34</th>\n",
       "      <td>Gender_Female</td>\n",
       "      <td>0.017178</td>\n",
       "      <td>Cluster 3</td>\n",
       "    </tr>\n",
       "    <tr>\n",
       "      <th>38</th>\n",
       "      <td>JobRole_Laboratory Technician</td>\n",
       "      <td>0.016854</td>\n",
       "      <td>Cluster 3</td>\n",
       "    </tr>\n",
       "    <tr>\n",
       "      <th>41</th>\n",
       "      <td>JobRole_Research Director</td>\n",
       "      <td>0.016785</td>\n",
       "      <td>Cluster 3</td>\n",
       "    </tr>\n",
       "    <tr>\n",
       "      <th>26</th>\n",
       "      <td>Department_Research &amp; Development</td>\n",
       "      <td>0.016571</td>\n",
       "      <td>Cluster 3</td>\n",
       "    </tr>\n",
       "    <tr>\n",
       "      <th>35</th>\n",
       "      <td>Gender_Male</td>\n",
       "      <td>0.015732</td>\n",
       "      <td>Cluster 3</td>\n",
       "    </tr>\n",
       "    <tr>\n",
       "      <th>29</th>\n",
       "      <td>EducationField_Life Sciences</td>\n",
       "      <td>0.015622</td>\n",
       "      <td>Cluster 3</td>\n",
       "    </tr>\n",
       "    <tr>\n",
       "      <th>46</th>\n",
       "      <td>MaritalStatus_Married</td>\n",
       "      <td>0.015190</td>\n",
       "      <td>Cluster 3</td>\n",
       "    </tr>\n",
       "    <tr>\n",
       "      <th>24</th>\n",
       "      <td>BusinessTravel_Travel_Rarely</td>\n",
       "      <td>0.015023</td>\n",
       "      <td>Cluster 3</td>\n",
       "    </tr>\n",
       "    <tr>\n",
       "      <th>21</th>\n",
       "      <td>PerformanceRating</td>\n",
       "      <td>0.014296</td>\n",
       "      <td>Cluster 3</td>\n",
       "    </tr>\n",
       "    <tr>\n",
       "      <th>27</th>\n",
       "      <td>Department_Sales</td>\n",
       "      <td>0.013761</td>\n",
       "      <td>Cluster 3</td>\n",
       "    </tr>\n",
       "    <tr>\n",
       "      <th>45</th>\n",
       "      <td>MaritalStatus_Divorced</td>\n",
       "      <td>0.013397</td>\n",
       "      <td>Cluster 3</td>\n",
       "    </tr>\n",
       "    <tr>\n",
       "      <th>33</th>\n",
       "      <td>EducationField_Technical Degree</td>\n",
       "      <td>0.012420</td>\n",
       "      <td>Cluster 3</td>\n",
       "    </tr>\n",
       "    <tr>\n",
       "      <th>39</th>\n",
       "      <td>JobRole_Manager</td>\n",
       "      <td>0.011302</td>\n",
       "      <td>Cluster 3</td>\n",
       "    </tr>\n",
       "    <tr>\n",
       "      <th>32</th>\n",
       "      <td>EducationField_Other</td>\n",
       "      <td>0.010225</td>\n",
       "      <td>Cluster 3</td>\n",
       "    </tr>\n",
       "    <tr>\n",
       "      <th>37</th>\n",
       "      <td>JobRole_Human Resources</td>\n",
       "      <td>0.009872</td>\n",
       "      <td>Cluster 3</td>\n",
       "    </tr>\n",
       "    <tr>\n",
       "      <th>28</th>\n",
       "      <td>EducationField_Human Resources</td>\n",
       "      <td>0.009594</td>\n",
       "      <td>Cluster 3</td>\n",
       "    </tr>\n",
       "    <tr>\n",
       "      <th>44</th>\n",
       "      <td>JobRole_Sales Representative</td>\n",
       "      <td>0.008889</td>\n",
       "      <td>Cluster 3</td>\n",
       "    </tr>\n",
       "    <tr>\n",
       "      <th>40</th>\n",
       "      <td>JobRole_Manufacturing Director</td>\n",
       "      <td>0.008629</td>\n",
       "      <td>Cluster 3</td>\n",
       "    </tr>\n",
       "    <tr>\n",
       "      <th>30</th>\n",
       "      <td>EducationField_Marketing</td>\n",
       "      <td>0.005245</td>\n",
       "      <td>Cluster 3</td>\n",
       "    </tr>\n",
       "    <tr>\n",
       "      <th>22</th>\n",
       "      <td>BusinessTravel_Non-Travel</td>\n",
       "      <td>0.004182</td>\n",
       "      <td>Cluster 3</td>\n",
       "    </tr>\n",
       "    <tr>\n",
       "      <th>4</th>\n",
       "      <td>EmployeeID</td>\n",
       "      <td>0.002337</td>\n",
       "      <td>Cluster 3</td>\n",
       "    </tr>\n",
       "    <tr>\n",
       "      <th>3</th>\n",
       "      <td>EmployeeCount</td>\n",
       "      <td>0.000000</td>\n",
       "      <td>Cluster 3</td>\n",
       "    </tr>\n",
       "    <tr>\n",
       "      <th>9</th>\n",
       "      <td>StandardHours</td>\n",
       "      <td>0.000000</td>\n",
       "      <td>Cluster 3</td>\n",
       "    </tr>\n",
       "  </tbody>\n",
       "</table>\n",
       "</div>"
      ],
      "text/plain": [
       "                              Feature  Importance    Cluster\n",
       "11                  TotalWorkingYears    0.047007  Cluster 3\n",
       "20                     JobInvolvement    0.045287  Cluster 3\n",
       "0                                 Age    0.038702  Cluster 3\n",
       "16                 AvgDailyWorkedTime    0.038257  Cluster 3\n",
       "14            YearsSinceLastPromotion    0.037789  Cluster 3\n",
       "7                  NumCompaniesWorked    0.036020  Cluster 3\n",
       "1                    DistanceFromHome    0.035111  Cluster 3\n",
       "13                     YearsAtCompany    0.034122  Cluster 3\n",
       "17            EnvironmentSatisfaction    0.034051  Cluster 3\n",
       "2                           Education    0.033761  Cluster 3\n",
       "5                            JobLevel    0.033662  Cluster 3\n",
       "8                   PercentSalaryHike    0.032883  Cluster 3\n",
       "6                       MonthlyIncome    0.031920  Cluster 3\n",
       "12              TrainingTimesLastYear    0.029776  Cluster 3\n",
       "15               YearsWithCurrManager    0.027947  Cluster 3\n",
       "18                    JobSatisfaction    0.027882  Cluster 3\n",
       "10                   StockOptionLevel    0.026175  Cluster 3\n",
       "19                    WorkLifeBalance    0.021899  Cluster 3\n",
       "25         Department_Human Resources    0.021578  Cluster 3\n",
       "31             EducationField_Medical    0.019693  Cluster 3\n",
       "42         JobRole_Research Scientist    0.019609  Cluster 3\n",
       "23   BusinessTravel_Travel_Frequently    0.019433  Cluster 3\n",
       "43            JobRole_Sales Executive    0.018759  Cluster 3\n",
       "36  JobRole_Healthcare Representative    0.018387  Cluster 3\n",
       "47               MaritalStatus_Single    0.017185  Cluster 3\n",
       "34                      Gender_Female    0.017178  Cluster 3\n",
       "38      JobRole_Laboratory Technician    0.016854  Cluster 3\n",
       "41          JobRole_Research Director    0.016785  Cluster 3\n",
       "26  Department_Research & Development    0.016571  Cluster 3\n",
       "35                        Gender_Male    0.015732  Cluster 3\n",
       "29       EducationField_Life Sciences    0.015622  Cluster 3\n",
       "46              MaritalStatus_Married    0.015190  Cluster 3\n",
       "24       BusinessTravel_Travel_Rarely    0.015023  Cluster 3\n",
       "21                  PerformanceRating    0.014296  Cluster 3\n",
       "27                   Department_Sales    0.013761  Cluster 3\n",
       "45             MaritalStatus_Divorced    0.013397  Cluster 3\n",
       "33    EducationField_Technical Degree    0.012420  Cluster 3\n",
       "39                    JobRole_Manager    0.011302  Cluster 3\n",
       "32               EducationField_Other    0.010225  Cluster 3\n",
       "37            JobRole_Human Resources    0.009872  Cluster 3\n",
       "28     EducationField_Human Resources    0.009594  Cluster 3\n",
       "44       JobRole_Sales Representative    0.008889  Cluster 3\n",
       "40     JobRole_Manufacturing Director    0.008629  Cluster 3\n",
       "30           EducationField_Marketing    0.005245  Cluster 3\n",
       "22          BusinessTravel_Non-Travel    0.004182  Cluster 3\n",
       "4                          EmployeeID    0.002337  Cluster 3\n",
       "3                       EmployeeCount    0.000000  Cluster 3\n",
       "9                       StandardHours    0.000000  Cluster 3"
      ]
     },
     "execution_count": 100,
     "metadata": {},
     "output_type": "execute_result"
    }
   ],
   "source": [
    "X = result_3.drop('Attrition', axis = 1).fillna(0)\n",
    "y = result_3['Attrition']\n",
    "\n",
    "# Dividir los datos en conjunto de entrenamiento y prueba\n",
    "X_train, X_test, y_train, y_test = train_test_split(X, y, test_size=0.2, random_state=42)\n",
    "\n",
    "# Crear y entrenar el modelo ExtraTreeClassifier\n",
    "model = ExtraTreesClassifier(random_state=42)\n",
    "model.fit(X_train, y_train)\n",
    "\n",
    "# Realizar predicciones en el conjunto de prueba\n",
    "y_pred = model.predict(X_test)\n",
    "\n",
    "# Calcular la precisión del modelo\n",
    "accuracy = accuracy_score(y_test, y_pred)\n",
    "print(\"Accuracy:\", accuracy)\n",
    "\n",
    "\n",
    "### Feature Importance\n",
    "feature_names = X.columns\n",
    "feature_importance = model.feature_importances_\n",
    "\n",
    "# Crear un DataFrame con los nombres de las características y sus importancias\n",
    "feature_importance_df = pd.DataFrame({'Feature': feature_names, 'Importance': feature_importance})\n",
    "\n",
    "# Ordenar el DataFrame por importancia en orden descendente\n",
    "feature_importance_df = feature_importance_df.sort_values(by='Importance', ascending=False)\n",
    "feature_importance_df['Cluster'] = 'Cluster 3'\n",
    "feature_importance_df"
   ]
  },
  {
   "cell_type": "code",
   "execution_count": 110,
   "metadata": {},
   "outputs": [
    {
     "data": {
      "image/png": "[encoded data removed]",
      "text/plain": [
       "<Figure size 800x550 with 1 Axes>"
      ]
     },
     "metadata": {},
     "output_type": "display_data"
    }
   ],
   "source": [
    "import matplotlib.pyplot as plt\n",
    "plt.hist(result['Age'])\n",
    "plt.show()"
   ]
  },
  {
   "cell_type": "code",
   "execution_count": 24,
   "metadata": {},
   "outputs": [],
   "source": [
    "from sklearn.tree import plot_tree\n",
    "import matplotlib.pyplot as plt"
   ]
  },
  {
   "cell_type": "code",
   "execution_count": 25,
   "metadata": {},
   "outputs": [
    {
     "data": {
      "image/png": "[encoded data removed]",
      "text/plain": [
       "<Figure size 1500x1000 with 1 Axes>"
      ]
     },
     "metadata": {},
     "output_type": "display_data"
    }
   ],
   "source": [
    "plt.figure(figsize=(15, 10))\n",
    "plot_tree(model.estimators_[0], filled=True, feature_names=X.columns, class_names='Attrition')\n",
    "plt.show()"
   ]
  },
  {
   "cell_type": "code",
   "execution_count": null,
   "metadata": {},
   "outputs": [],
   "source": []
  }
 ],
 "metadata": {
  "kernelspec": {
   "display_name": "Python 3.9.17 ('HR_POC')",
   "language": "python",
   "name": "python3"
  },
  "language_info": {
   "codemirror_mode": {
    "name": "ipython",
    "version": 3
   },
   "file_extension": ".py",
   "mimetype": "text/x-python",
   "name": "python",
   "nbconvert_exporter": "python",
   "pygments_lexer": "ipython3",
   "version": "3.10.6"
  },
  "orig_nbformat": 4,
  "vscode": {
   "interpreter": {
    "hash": "18222765d2d32372f2af5a2b251b07061e8e6660a627e483706557feed7548a6"
   }
  }
 },
 "nbformat": 4,
 "nbformat_minor": 2
}
